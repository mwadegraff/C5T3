{
 "cells": [
  {
   "cell_type": "code",
   "execution_count": 4,
   "metadata": {},
   "outputs": [
    {
     "name": "stdout",
     "output_type": "stream",
     "text": [
      "/Users/degraff/Documents/iC Data Program/C5/C5T3\n"
     ]
    }
   ],
   "source": [
    "cd /Users/degraff/Documents/iC\\ Data\\ Program/C5/C5T3"
   ]
  },
  {
   "cell_type": "code",
   "execution_count": 5,
   "metadata": {
    "collapsed": true
   },
   "outputs": [],
   "source": [
    "import pandas as pd\n",
    "import numpy as np\n",
    "import matplotlib.pyplot as plt\n",
    "import seaborn as sns"
   ]
  },
  {
   "cell_type": "code",
   "execution_count": 6,
   "metadata": {},
   "outputs": [],
   "source": [
    "credit = pd.read_csv('default of credit card clients.csv', header = 1)"
   ]
  },
  {
   "cell_type": "code",
   "execution_count": 3,
   "metadata": {},
   "outputs": [
    {
     "name": "stdout",
     "output_type": "stream",
     "text": [
      "<class 'pandas.core.frame.DataFrame'>\n",
      "RangeIndex: 30000 entries, 0 to 29999\n",
      "Data columns (total 25 columns):\n",
      "ID                            30000 non-null int64\n",
      "LIMIT_BAL                     30000 non-null int64\n",
      "SEX                           30000 non-null int64\n",
      "EDUCATION                     30000 non-null int64\n",
      "MARRIAGE                      30000 non-null int64\n",
      "AGE                           30000 non-null int64\n",
      "PAY_0                         30000 non-null int64\n",
      "PAY_2                         30000 non-null int64\n",
      "PAY_3                         30000 non-null int64\n",
      "PAY_4                         30000 non-null int64\n",
      "PAY_5                         30000 non-null int64\n",
      "PAY_6                         30000 non-null int64\n",
      "BILL_AMT1                     30000 non-null int64\n",
      "BILL_AMT2                     30000 non-null int64\n",
      "BILL_AMT3                     30000 non-null int64\n",
      "BILL_AMT4                     30000 non-null int64\n",
      "BILL_AMT5                     30000 non-null int64\n",
      "BILL_AMT6                     30000 non-null int64\n",
      "PAY_AMT1                      30000 non-null int64\n",
      "PAY_AMT2                      30000 non-null int64\n",
      "PAY_AMT3                      30000 non-null int64\n",
      "PAY_AMT4                      30000 non-null int64\n",
      "PAY_AMT5                      30000 non-null int64\n",
      "PAY_AMT6                      30000 non-null int64\n",
      "default payment next month    30000 non-null int64\n",
      "dtypes: int64(25)\n",
      "memory usage: 5.7 MB\n"
     ]
    }
   ],
   "source": [
    "credit.info()"
   ]
  },
  {
   "cell_type": "code",
   "execution_count": 4,
   "metadata": {},
   "outputs": [
    {
     "data": {
      "text/html": [
       "<div>\n",
       "<style scoped>\n",
       "    .dataframe tbody tr th:only-of-type {\n",
       "        vertical-align: middle;\n",
       "    }\n",
       "\n",
       "    .dataframe tbody tr th {\n",
       "        vertical-align: top;\n",
       "    }\n",
       "\n",
       "    .dataframe thead th {\n",
       "        text-align: right;\n",
       "    }\n",
       "</style>\n",
       "<table border=\"1\" class=\"dataframe\">\n",
       "  <thead>\n",
       "    <tr style=\"text-align: right;\">\n",
       "      <th></th>\n",
       "      <th>ID</th>\n",
       "      <th>LIMIT_BAL</th>\n",
       "      <th>SEX</th>\n",
       "      <th>EDUCATION</th>\n",
       "      <th>MARRIAGE</th>\n",
       "      <th>AGE</th>\n",
       "      <th>PAY_0</th>\n",
       "      <th>PAY_2</th>\n",
       "      <th>PAY_3</th>\n",
       "      <th>PAY_4</th>\n",
       "      <th>...</th>\n",
       "      <th>BILL_AMT4</th>\n",
       "      <th>BILL_AMT5</th>\n",
       "      <th>BILL_AMT6</th>\n",
       "      <th>PAY_AMT1</th>\n",
       "      <th>PAY_AMT2</th>\n",
       "      <th>PAY_AMT3</th>\n",
       "      <th>PAY_AMT4</th>\n",
       "      <th>PAY_AMT5</th>\n",
       "      <th>PAY_AMT6</th>\n",
       "      <th>default payment next month</th>\n",
       "    </tr>\n",
       "  </thead>\n",
       "  <tbody>\n",
       "    <tr>\n",
       "      <th>0</th>\n",
       "      <td>1</td>\n",
       "      <td>20000</td>\n",
       "      <td>2</td>\n",
       "      <td>2</td>\n",
       "      <td>1</td>\n",
       "      <td>24</td>\n",
       "      <td>2</td>\n",
       "      <td>2</td>\n",
       "      <td>-1</td>\n",
       "      <td>-1</td>\n",
       "      <td>...</td>\n",
       "      <td>0</td>\n",
       "      <td>0</td>\n",
       "      <td>0</td>\n",
       "      <td>0</td>\n",
       "      <td>689</td>\n",
       "      <td>0</td>\n",
       "      <td>0</td>\n",
       "      <td>0</td>\n",
       "      <td>0</td>\n",
       "      <td>1</td>\n",
       "    </tr>\n",
       "    <tr>\n",
       "      <th>1</th>\n",
       "      <td>2</td>\n",
       "      <td>120000</td>\n",
       "      <td>2</td>\n",
       "      <td>2</td>\n",
       "      <td>2</td>\n",
       "      <td>26</td>\n",
       "      <td>-1</td>\n",
       "      <td>2</td>\n",
       "      <td>0</td>\n",
       "      <td>0</td>\n",
       "      <td>...</td>\n",
       "      <td>3272</td>\n",
       "      <td>3455</td>\n",
       "      <td>3261</td>\n",
       "      <td>0</td>\n",
       "      <td>1000</td>\n",
       "      <td>1000</td>\n",
       "      <td>1000</td>\n",
       "      <td>0</td>\n",
       "      <td>2000</td>\n",
       "      <td>1</td>\n",
       "    </tr>\n",
       "    <tr>\n",
       "      <th>2</th>\n",
       "      <td>3</td>\n",
       "      <td>90000</td>\n",
       "      <td>2</td>\n",
       "      <td>2</td>\n",
       "      <td>2</td>\n",
       "      <td>34</td>\n",
       "      <td>0</td>\n",
       "      <td>0</td>\n",
       "      <td>0</td>\n",
       "      <td>0</td>\n",
       "      <td>...</td>\n",
       "      <td>14331</td>\n",
       "      <td>14948</td>\n",
       "      <td>15549</td>\n",
       "      <td>1518</td>\n",
       "      <td>1500</td>\n",
       "      <td>1000</td>\n",
       "      <td>1000</td>\n",
       "      <td>1000</td>\n",
       "      <td>5000</td>\n",
       "      <td>0</td>\n",
       "    </tr>\n",
       "    <tr>\n",
       "      <th>3</th>\n",
       "      <td>4</td>\n",
       "      <td>50000</td>\n",
       "      <td>2</td>\n",
       "      <td>2</td>\n",
       "      <td>1</td>\n",
       "      <td>37</td>\n",
       "      <td>0</td>\n",
       "      <td>0</td>\n",
       "      <td>0</td>\n",
       "      <td>0</td>\n",
       "      <td>...</td>\n",
       "      <td>28314</td>\n",
       "      <td>28959</td>\n",
       "      <td>29547</td>\n",
       "      <td>2000</td>\n",
       "      <td>2019</td>\n",
       "      <td>1200</td>\n",
       "      <td>1100</td>\n",
       "      <td>1069</td>\n",
       "      <td>1000</td>\n",
       "      <td>0</td>\n",
       "    </tr>\n",
       "    <tr>\n",
       "      <th>4</th>\n",
       "      <td>5</td>\n",
       "      <td>50000</td>\n",
       "      <td>1</td>\n",
       "      <td>2</td>\n",
       "      <td>1</td>\n",
       "      <td>57</td>\n",
       "      <td>-1</td>\n",
       "      <td>0</td>\n",
       "      <td>-1</td>\n",
       "      <td>0</td>\n",
       "      <td>...</td>\n",
       "      <td>20940</td>\n",
       "      <td>19146</td>\n",
       "      <td>19131</td>\n",
       "      <td>2000</td>\n",
       "      <td>36681</td>\n",
       "      <td>10000</td>\n",
       "      <td>9000</td>\n",
       "      <td>689</td>\n",
       "      <td>679</td>\n",
       "      <td>0</td>\n",
       "    </tr>\n",
       "  </tbody>\n",
       "</table>\n",
       "<p>5 rows × 25 columns</p>\n",
       "</div>"
      ],
      "text/plain": [
       "   ID  LIMIT_BAL  SEX  EDUCATION  MARRIAGE  AGE  PAY_0  PAY_2  PAY_3  PAY_4  \\\n",
       "0   1      20000    2          2         1   24      2      2     -1     -1   \n",
       "1   2     120000    2          2         2   26     -1      2      0      0   \n",
       "2   3      90000    2          2         2   34      0      0      0      0   \n",
       "3   4      50000    2          2         1   37      0      0      0      0   \n",
       "4   5      50000    1          2         1   57     -1      0     -1      0   \n",
       "\n",
       "              ...              BILL_AMT4  BILL_AMT5  BILL_AMT6  PAY_AMT1  \\\n",
       "0             ...                      0          0          0         0   \n",
       "1             ...                   3272       3455       3261         0   \n",
       "2             ...                  14331      14948      15549      1518   \n",
       "3             ...                  28314      28959      29547      2000   \n",
       "4             ...                  20940      19146      19131      2000   \n",
       "\n",
       "   PAY_AMT2  PAY_AMT3  PAY_AMT4  PAY_AMT5  PAY_AMT6  \\\n",
       "0       689         0         0         0         0   \n",
       "1      1000      1000      1000         0      2000   \n",
       "2      1500      1000      1000      1000      5000   \n",
       "3      2019      1200      1100      1069      1000   \n",
       "4     36681     10000      9000       689       679   \n",
       "\n",
       "   default payment next month  \n",
       "0                           1  \n",
       "1                           1  \n",
       "2                           0  \n",
       "3                           0  \n",
       "4                           0  \n",
       "\n",
       "[5 rows x 25 columns]"
      ]
     },
     "execution_count": 4,
     "metadata": {},
     "output_type": "execute_result"
    }
   ],
   "source": [
    "credit.head()"
   ]
  },
  {
   "cell_type": "code",
   "execution_count": 5,
   "metadata": {},
   "outputs": [
    {
     "data": {
      "text/html": [
       "<div>\n",
       "<style scoped>\n",
       "    .dataframe tbody tr th:only-of-type {\n",
       "        vertical-align: middle;\n",
       "    }\n",
       "\n",
       "    .dataframe tbody tr th {\n",
       "        vertical-align: top;\n",
       "    }\n",
       "\n",
       "    .dataframe thead th {\n",
       "        text-align: right;\n",
       "    }\n",
       "</style>\n",
       "<table border=\"1\" class=\"dataframe\">\n",
       "  <thead>\n",
       "    <tr style=\"text-align: right;\">\n",
       "      <th></th>\n",
       "      <th>ID</th>\n",
       "      <th>LIMIT_BAL</th>\n",
       "      <th>SEX</th>\n",
       "      <th>EDUCATION</th>\n",
       "      <th>MARRIAGE</th>\n",
       "      <th>AGE</th>\n",
       "      <th>PAY_0</th>\n",
       "      <th>PAY_2</th>\n",
       "      <th>PAY_3</th>\n",
       "      <th>PAY_4</th>\n",
       "      <th>...</th>\n",
       "      <th>BILL_AMT4</th>\n",
       "      <th>BILL_AMT5</th>\n",
       "      <th>BILL_AMT6</th>\n",
       "      <th>PAY_AMT1</th>\n",
       "      <th>PAY_AMT2</th>\n",
       "      <th>PAY_AMT3</th>\n",
       "      <th>PAY_AMT4</th>\n",
       "      <th>PAY_AMT5</th>\n",
       "      <th>PAY_AMT6</th>\n",
       "      <th>default payment next month</th>\n",
       "    </tr>\n",
       "  </thead>\n",
       "  <tbody>\n",
       "    <tr>\n",
       "      <th>29995</th>\n",
       "      <td>29996</td>\n",
       "      <td>220000</td>\n",
       "      <td>1</td>\n",
       "      <td>3</td>\n",
       "      <td>1</td>\n",
       "      <td>39</td>\n",
       "      <td>0</td>\n",
       "      <td>0</td>\n",
       "      <td>0</td>\n",
       "      <td>0</td>\n",
       "      <td>...</td>\n",
       "      <td>88004</td>\n",
       "      <td>31237</td>\n",
       "      <td>15980</td>\n",
       "      <td>8500</td>\n",
       "      <td>20000</td>\n",
       "      <td>5003</td>\n",
       "      <td>3047</td>\n",
       "      <td>5000</td>\n",
       "      <td>1000</td>\n",
       "      <td>0</td>\n",
       "    </tr>\n",
       "    <tr>\n",
       "      <th>29996</th>\n",
       "      <td>29997</td>\n",
       "      <td>150000</td>\n",
       "      <td>1</td>\n",
       "      <td>3</td>\n",
       "      <td>2</td>\n",
       "      <td>43</td>\n",
       "      <td>-1</td>\n",
       "      <td>-1</td>\n",
       "      <td>-1</td>\n",
       "      <td>-1</td>\n",
       "      <td>...</td>\n",
       "      <td>8979</td>\n",
       "      <td>5190</td>\n",
       "      <td>0</td>\n",
       "      <td>1837</td>\n",
       "      <td>3526</td>\n",
       "      <td>8998</td>\n",
       "      <td>129</td>\n",
       "      <td>0</td>\n",
       "      <td>0</td>\n",
       "      <td>0</td>\n",
       "    </tr>\n",
       "    <tr>\n",
       "      <th>29997</th>\n",
       "      <td>29998</td>\n",
       "      <td>30000</td>\n",
       "      <td>1</td>\n",
       "      <td>2</td>\n",
       "      <td>2</td>\n",
       "      <td>37</td>\n",
       "      <td>4</td>\n",
       "      <td>3</td>\n",
       "      <td>2</td>\n",
       "      <td>-1</td>\n",
       "      <td>...</td>\n",
       "      <td>20878</td>\n",
       "      <td>20582</td>\n",
       "      <td>19357</td>\n",
       "      <td>0</td>\n",
       "      <td>0</td>\n",
       "      <td>22000</td>\n",
       "      <td>4200</td>\n",
       "      <td>2000</td>\n",
       "      <td>3100</td>\n",
       "      <td>1</td>\n",
       "    </tr>\n",
       "    <tr>\n",
       "      <th>29998</th>\n",
       "      <td>29999</td>\n",
       "      <td>80000</td>\n",
       "      <td>1</td>\n",
       "      <td>3</td>\n",
       "      <td>1</td>\n",
       "      <td>41</td>\n",
       "      <td>1</td>\n",
       "      <td>-1</td>\n",
       "      <td>0</td>\n",
       "      <td>0</td>\n",
       "      <td>...</td>\n",
       "      <td>52774</td>\n",
       "      <td>11855</td>\n",
       "      <td>48944</td>\n",
       "      <td>85900</td>\n",
       "      <td>3409</td>\n",
       "      <td>1178</td>\n",
       "      <td>1926</td>\n",
       "      <td>52964</td>\n",
       "      <td>1804</td>\n",
       "      <td>1</td>\n",
       "    </tr>\n",
       "    <tr>\n",
       "      <th>29999</th>\n",
       "      <td>30000</td>\n",
       "      <td>50000</td>\n",
       "      <td>1</td>\n",
       "      <td>2</td>\n",
       "      <td>1</td>\n",
       "      <td>46</td>\n",
       "      <td>0</td>\n",
       "      <td>0</td>\n",
       "      <td>0</td>\n",
       "      <td>0</td>\n",
       "      <td>...</td>\n",
       "      <td>36535</td>\n",
       "      <td>32428</td>\n",
       "      <td>15313</td>\n",
       "      <td>2078</td>\n",
       "      <td>1800</td>\n",
       "      <td>1430</td>\n",
       "      <td>1000</td>\n",
       "      <td>1000</td>\n",
       "      <td>1000</td>\n",
       "      <td>1</td>\n",
       "    </tr>\n",
       "  </tbody>\n",
       "</table>\n",
       "<p>5 rows × 25 columns</p>\n",
       "</div>"
      ],
      "text/plain": [
       "          ID  LIMIT_BAL  SEX  EDUCATION  MARRIAGE  AGE  PAY_0  PAY_2  PAY_3  \\\n",
       "29995  29996     220000    1          3         1   39      0      0      0   \n",
       "29996  29997     150000    1          3         2   43     -1     -1     -1   \n",
       "29997  29998      30000    1          2         2   37      4      3      2   \n",
       "29998  29999      80000    1          3         1   41      1     -1      0   \n",
       "29999  30000      50000    1          2         1   46      0      0      0   \n",
       "\n",
       "       PAY_4             ...              BILL_AMT4  BILL_AMT5  BILL_AMT6  \\\n",
       "29995      0             ...                  88004      31237      15980   \n",
       "29996     -1             ...                   8979       5190          0   \n",
       "29997     -1             ...                  20878      20582      19357   \n",
       "29998      0             ...                  52774      11855      48944   \n",
       "29999      0             ...                  36535      32428      15313   \n",
       "\n",
       "       PAY_AMT1  PAY_AMT2  PAY_AMT3  PAY_AMT4  PAY_AMT5  PAY_AMT6  \\\n",
       "29995      8500     20000      5003      3047      5000      1000   \n",
       "29996      1837      3526      8998       129         0         0   \n",
       "29997         0         0     22000      4200      2000      3100   \n",
       "29998     85900      3409      1178      1926     52964      1804   \n",
       "29999      2078      1800      1430      1000      1000      1000   \n",
       "\n",
       "       default payment next month  \n",
       "29995                           0  \n",
       "29996                           0  \n",
       "29997                           1  \n",
       "29998                           1  \n",
       "29999                           1  \n",
       "\n",
       "[5 rows x 25 columns]"
      ]
     },
     "execution_count": 5,
     "metadata": {},
     "output_type": "execute_result"
    }
   ],
   "source": [
    "credit.tail()"
   ]
  },
  {
   "cell_type": "code",
   "execution_count": 7,
   "metadata": {},
   "outputs": [
    {
     "data": {
      "text/html": [
       "<div>\n",
       "<style scoped>\n",
       "    .dataframe tbody tr th:only-of-type {\n",
       "        vertical-align: middle;\n",
       "    }\n",
       "\n",
       "    .dataframe tbody tr th {\n",
       "        vertical-align: top;\n",
       "    }\n",
       "\n",
       "    .dataframe thead th {\n",
       "        text-align: right;\n",
       "    }\n",
       "</style>\n",
       "<table border=\"1\" class=\"dataframe\">\n",
       "  <thead>\n",
       "    <tr style=\"text-align: right;\">\n",
       "      <th></th>\n",
       "      <th>ID</th>\n",
       "      <th>LIMIT_BAL</th>\n",
       "      <th>SEX</th>\n",
       "      <th>EDUCATION</th>\n",
       "      <th>MARRIAGE</th>\n",
       "      <th>AGE</th>\n",
       "      <th>PAY_0</th>\n",
       "      <th>PAY_2</th>\n",
       "      <th>PAY_3</th>\n",
       "      <th>PAY_4</th>\n",
       "      <th>...</th>\n",
       "      <th>BILL_AMT4</th>\n",
       "      <th>BILL_AMT5</th>\n",
       "      <th>BILL_AMT6</th>\n",
       "      <th>PAY_AMT1</th>\n",
       "      <th>PAY_AMT2</th>\n",
       "      <th>PAY_AMT3</th>\n",
       "      <th>PAY_AMT4</th>\n",
       "      <th>PAY_AMT5</th>\n",
       "      <th>PAY_AMT6</th>\n",
       "      <th>default payment next month</th>\n",
       "    </tr>\n",
       "  </thead>\n",
       "  <tbody>\n",
       "    <tr>\n",
       "      <th>count</th>\n",
       "      <td>30000.000000</td>\n",
       "      <td>30000.000000</td>\n",
       "      <td>30000.000000</td>\n",
       "      <td>30000.000000</td>\n",
       "      <td>30000.000000</td>\n",
       "      <td>30000.000000</td>\n",
       "      <td>30000.000000</td>\n",
       "      <td>30000.000000</td>\n",
       "      <td>30000.000000</td>\n",
       "      <td>30000.000000</td>\n",
       "      <td>...</td>\n",
       "      <td>30000.000000</td>\n",
       "      <td>30000.000000</td>\n",
       "      <td>30000.000000</td>\n",
       "      <td>30000.000000</td>\n",
       "      <td>3.000000e+04</td>\n",
       "      <td>30000.00000</td>\n",
       "      <td>30000.000000</td>\n",
       "      <td>30000.000000</td>\n",
       "      <td>30000.000000</td>\n",
       "      <td>30000.000000</td>\n",
       "    </tr>\n",
       "    <tr>\n",
       "      <th>mean</th>\n",
       "      <td>15000.500000</td>\n",
       "      <td>167484.322667</td>\n",
       "      <td>1.603733</td>\n",
       "      <td>1.853133</td>\n",
       "      <td>1.551867</td>\n",
       "      <td>35.485500</td>\n",
       "      <td>-0.016700</td>\n",
       "      <td>-0.133767</td>\n",
       "      <td>-0.166200</td>\n",
       "      <td>-0.220667</td>\n",
       "      <td>...</td>\n",
       "      <td>43262.948967</td>\n",
       "      <td>40311.400967</td>\n",
       "      <td>38871.760400</td>\n",
       "      <td>5663.580500</td>\n",
       "      <td>5.921163e+03</td>\n",
       "      <td>5225.68150</td>\n",
       "      <td>4826.076867</td>\n",
       "      <td>4799.387633</td>\n",
       "      <td>5215.502567</td>\n",
       "      <td>0.221200</td>\n",
       "    </tr>\n",
       "    <tr>\n",
       "      <th>std</th>\n",
       "      <td>8660.398374</td>\n",
       "      <td>129747.661567</td>\n",
       "      <td>0.489129</td>\n",
       "      <td>0.790349</td>\n",
       "      <td>0.521970</td>\n",
       "      <td>9.217904</td>\n",
       "      <td>1.123802</td>\n",
       "      <td>1.197186</td>\n",
       "      <td>1.196868</td>\n",
       "      <td>1.169139</td>\n",
       "      <td>...</td>\n",
       "      <td>64332.856134</td>\n",
       "      <td>60797.155770</td>\n",
       "      <td>59554.107537</td>\n",
       "      <td>16563.280354</td>\n",
       "      <td>2.304087e+04</td>\n",
       "      <td>17606.96147</td>\n",
       "      <td>15666.159744</td>\n",
       "      <td>15278.305679</td>\n",
       "      <td>17777.465775</td>\n",
       "      <td>0.415062</td>\n",
       "    </tr>\n",
       "    <tr>\n",
       "      <th>min</th>\n",
       "      <td>1.000000</td>\n",
       "      <td>10000.000000</td>\n",
       "      <td>1.000000</td>\n",
       "      <td>0.000000</td>\n",
       "      <td>0.000000</td>\n",
       "      <td>21.000000</td>\n",
       "      <td>-2.000000</td>\n",
       "      <td>-2.000000</td>\n",
       "      <td>-2.000000</td>\n",
       "      <td>-2.000000</td>\n",
       "      <td>...</td>\n",
       "      <td>-170000.000000</td>\n",
       "      <td>-81334.000000</td>\n",
       "      <td>-339603.000000</td>\n",
       "      <td>0.000000</td>\n",
       "      <td>0.000000e+00</td>\n",
       "      <td>0.00000</td>\n",
       "      <td>0.000000</td>\n",
       "      <td>0.000000</td>\n",
       "      <td>0.000000</td>\n",
       "      <td>0.000000</td>\n",
       "    </tr>\n",
       "    <tr>\n",
       "      <th>25%</th>\n",
       "      <td>7500.750000</td>\n",
       "      <td>50000.000000</td>\n",
       "      <td>1.000000</td>\n",
       "      <td>1.000000</td>\n",
       "      <td>1.000000</td>\n",
       "      <td>28.000000</td>\n",
       "      <td>-1.000000</td>\n",
       "      <td>-1.000000</td>\n",
       "      <td>-1.000000</td>\n",
       "      <td>-1.000000</td>\n",
       "      <td>...</td>\n",
       "      <td>2326.750000</td>\n",
       "      <td>1763.000000</td>\n",
       "      <td>1256.000000</td>\n",
       "      <td>1000.000000</td>\n",
       "      <td>8.330000e+02</td>\n",
       "      <td>390.00000</td>\n",
       "      <td>296.000000</td>\n",
       "      <td>252.500000</td>\n",
       "      <td>117.750000</td>\n",
       "      <td>0.000000</td>\n",
       "    </tr>\n",
       "    <tr>\n",
       "      <th>50%</th>\n",
       "      <td>15000.500000</td>\n",
       "      <td>140000.000000</td>\n",
       "      <td>2.000000</td>\n",
       "      <td>2.000000</td>\n",
       "      <td>2.000000</td>\n",
       "      <td>34.000000</td>\n",
       "      <td>0.000000</td>\n",
       "      <td>0.000000</td>\n",
       "      <td>0.000000</td>\n",
       "      <td>0.000000</td>\n",
       "      <td>...</td>\n",
       "      <td>19052.000000</td>\n",
       "      <td>18104.500000</td>\n",
       "      <td>17071.000000</td>\n",
       "      <td>2100.000000</td>\n",
       "      <td>2.009000e+03</td>\n",
       "      <td>1800.00000</td>\n",
       "      <td>1500.000000</td>\n",
       "      <td>1500.000000</td>\n",
       "      <td>1500.000000</td>\n",
       "      <td>0.000000</td>\n",
       "    </tr>\n",
       "    <tr>\n",
       "      <th>75%</th>\n",
       "      <td>22500.250000</td>\n",
       "      <td>240000.000000</td>\n",
       "      <td>2.000000</td>\n",
       "      <td>2.000000</td>\n",
       "      <td>2.000000</td>\n",
       "      <td>41.000000</td>\n",
       "      <td>0.000000</td>\n",
       "      <td>0.000000</td>\n",
       "      <td>0.000000</td>\n",
       "      <td>0.000000</td>\n",
       "      <td>...</td>\n",
       "      <td>54506.000000</td>\n",
       "      <td>50190.500000</td>\n",
       "      <td>49198.250000</td>\n",
       "      <td>5006.000000</td>\n",
       "      <td>5.000000e+03</td>\n",
       "      <td>4505.00000</td>\n",
       "      <td>4013.250000</td>\n",
       "      <td>4031.500000</td>\n",
       "      <td>4000.000000</td>\n",
       "      <td>0.000000</td>\n",
       "    </tr>\n",
       "    <tr>\n",
       "      <th>max</th>\n",
       "      <td>30000.000000</td>\n",
       "      <td>1000000.000000</td>\n",
       "      <td>2.000000</td>\n",
       "      <td>6.000000</td>\n",
       "      <td>3.000000</td>\n",
       "      <td>79.000000</td>\n",
       "      <td>8.000000</td>\n",
       "      <td>8.000000</td>\n",
       "      <td>8.000000</td>\n",
       "      <td>8.000000</td>\n",
       "      <td>...</td>\n",
       "      <td>891586.000000</td>\n",
       "      <td>927171.000000</td>\n",
       "      <td>961664.000000</td>\n",
       "      <td>873552.000000</td>\n",
       "      <td>1.684259e+06</td>\n",
       "      <td>896040.00000</td>\n",
       "      <td>621000.000000</td>\n",
       "      <td>426529.000000</td>\n",
       "      <td>528666.000000</td>\n",
       "      <td>1.000000</td>\n",
       "    </tr>\n",
       "  </tbody>\n",
       "</table>\n",
       "<p>8 rows × 25 columns</p>\n",
       "</div>"
      ],
      "text/plain": [
       "                 ID       LIMIT_BAL           SEX     EDUCATION      MARRIAGE  \\\n",
       "count  30000.000000    30000.000000  30000.000000  30000.000000  30000.000000   \n",
       "mean   15000.500000   167484.322667      1.603733      1.853133      1.551867   \n",
       "std     8660.398374   129747.661567      0.489129      0.790349      0.521970   \n",
       "min        1.000000    10000.000000      1.000000      0.000000      0.000000   \n",
       "25%     7500.750000    50000.000000      1.000000      1.000000      1.000000   \n",
       "50%    15000.500000   140000.000000      2.000000      2.000000      2.000000   \n",
       "75%    22500.250000   240000.000000      2.000000      2.000000      2.000000   \n",
       "max    30000.000000  1000000.000000      2.000000      6.000000      3.000000   \n",
       "\n",
       "                AGE         PAY_0         PAY_2         PAY_3         PAY_4  \\\n",
       "count  30000.000000  30000.000000  30000.000000  30000.000000  30000.000000   \n",
       "mean      35.485500     -0.016700     -0.133767     -0.166200     -0.220667   \n",
       "std        9.217904      1.123802      1.197186      1.196868      1.169139   \n",
       "min       21.000000     -2.000000     -2.000000     -2.000000     -2.000000   \n",
       "25%       28.000000     -1.000000     -1.000000     -1.000000     -1.000000   \n",
       "50%       34.000000      0.000000      0.000000      0.000000      0.000000   \n",
       "75%       41.000000      0.000000      0.000000      0.000000      0.000000   \n",
       "max       79.000000      8.000000      8.000000      8.000000      8.000000   \n",
       "\n",
       "                  ...                  BILL_AMT4      BILL_AMT5  \\\n",
       "count             ...               30000.000000   30000.000000   \n",
       "mean              ...               43262.948967   40311.400967   \n",
       "std               ...               64332.856134   60797.155770   \n",
       "min               ...             -170000.000000  -81334.000000   \n",
       "25%               ...                2326.750000    1763.000000   \n",
       "50%               ...               19052.000000   18104.500000   \n",
       "75%               ...               54506.000000   50190.500000   \n",
       "max               ...              891586.000000  927171.000000   \n",
       "\n",
       "           BILL_AMT6       PAY_AMT1      PAY_AMT2      PAY_AMT3  \\\n",
       "count   30000.000000   30000.000000  3.000000e+04   30000.00000   \n",
       "mean    38871.760400    5663.580500  5.921163e+03    5225.68150   \n",
       "std     59554.107537   16563.280354  2.304087e+04   17606.96147   \n",
       "min   -339603.000000       0.000000  0.000000e+00       0.00000   \n",
       "25%      1256.000000    1000.000000  8.330000e+02     390.00000   \n",
       "50%     17071.000000    2100.000000  2.009000e+03    1800.00000   \n",
       "75%     49198.250000    5006.000000  5.000000e+03    4505.00000   \n",
       "max    961664.000000  873552.000000  1.684259e+06  896040.00000   \n",
       "\n",
       "            PAY_AMT4       PAY_AMT5       PAY_AMT6  default payment next month  \n",
       "count   30000.000000   30000.000000   30000.000000                30000.000000  \n",
       "mean     4826.076867    4799.387633    5215.502567                    0.221200  \n",
       "std     15666.159744   15278.305679   17777.465775                    0.415062  \n",
       "min         0.000000       0.000000       0.000000                    0.000000  \n",
       "25%       296.000000     252.500000     117.750000                    0.000000  \n",
       "50%      1500.000000    1500.000000    1500.000000                    0.000000  \n",
       "75%      4013.250000    4031.500000    4000.000000                    0.000000  \n",
       "max    621000.000000  426529.000000  528666.000000                    1.000000  \n",
       "\n",
       "[8 rows x 25 columns]"
      ]
     },
     "execution_count": 7,
     "metadata": {},
     "output_type": "execute_result"
    }
   ],
   "source": [
    "credit.describe()"
   ]
  },
  {
   "cell_type": "markdown",
   "metadata": {},
   "source": [
    "Data pre-processing:\n",
    "1. Data cleaning: a. no missing data identified, but some anomalous data is a case (undocumented negative payment status: -2, and 0s); b. colums reordering may improve data readability\n",
    "2. Data reduction: remove ID column\n",
    "2. Data transformation: convert numerical variables: PAY_0:6; SEX, EDUCATION and MARRIAGE into categorical\n",
    "4. Data discretization: AGE\n",
    "5. Text cleaning: rename some columns for better readability: PAY_0:6.; BILL_AMT1:6; PAY_AMT1:6; and \"default payment next mounth\""
   ]
  },
  {
   "cell_type": "markdown",
   "metadata": {},
   "source": [
    "\n",
    "Anomalous data\n",
    "1. Repayment status (PAY_0:6): -1 = pay duly, 1 = payment delay for one month, 2 = payment delay for two months, ... 8 = payment delay for eight months, 9 = payment delay for nine months and above; undocumented data present: -2 and 0 \n",
    "3. EDUCATION and MARRIAGE - levels are misslabelled, undocumented data present: \"0\"\n"
   ]
  },
  {
   "cell_type": "code",
   "execution_count": 8,
   "metadata": {},
   "outputs": [
    {
     "name": "stdout",
     "output_type": "stream",
     "text": [
      "<class 'pandas.core.frame.DataFrame'>\n",
      "RangeIndex: 30000 entries, 0 to 29999\n",
      "Data columns (total 24 columns):\n",
      "LIMIT_BAL                     30000 non-null int64\n",
      "SEX                           30000 non-null int64\n",
      "EDUCATION                     30000 non-null int64\n",
      "MARRIAGE                      30000 non-null int64\n",
      "AGE                           30000 non-null int64\n",
      "PAY_0                         30000 non-null int64\n",
      "PAY_2                         30000 non-null int64\n",
      "PAY_3                         30000 non-null int64\n",
      "PAY_4                         30000 non-null int64\n",
      "PAY_5                         30000 non-null int64\n",
      "PAY_6                         30000 non-null int64\n",
      "BILL_AMT1                     30000 non-null int64\n",
      "BILL_AMT2                     30000 non-null int64\n",
      "BILL_AMT3                     30000 non-null int64\n",
      "BILL_AMT4                     30000 non-null int64\n",
      "BILL_AMT5                     30000 non-null int64\n",
      "BILL_AMT6                     30000 non-null int64\n",
      "PAY_AMT1                      30000 non-null int64\n",
      "PAY_AMT2                      30000 non-null int64\n",
      "PAY_AMT3                      30000 non-null int64\n",
      "PAY_AMT4                      30000 non-null int64\n",
      "PAY_AMT5                      30000 non-null int64\n",
      "PAY_AMT6                      30000 non-null int64\n",
      "default payment next month    30000 non-null int64\n",
      "dtypes: int64(24)\n",
      "memory usage: 5.5 MB\n"
     ]
    }
   ],
   "source": [
    "# removing ID variable\n",
    "\n",
    "del credit['ID']\n",
    "credit.info()"
   ]
  },
  {
   "cell_type": "code",
   "execution_count": 7,
   "metadata": {},
   "outputs": [
    {
     "name": "stdout",
     "output_type": "stream",
     "text": [
      "<class 'pandas.core.frame.DataFrame'>\n",
      "RangeIndex: 30000 entries, 0 to 29999\n",
      "Data columns (total 25 columns):\n",
      "ID                            30000 non-null int64\n",
      "LIMIT_BAL                     30000 non-null int64\n",
      "SEX                           30000 non-null category\n",
      "EDUCATION                     30000 non-null category\n",
      "MARRIAGE                      30000 non-null int64\n",
      "AGE                           30000 non-null int64\n",
      "PAY_0                         30000 non-null category\n",
      "PAY_2                         30000 non-null category\n",
      "PAY_3                         30000 non-null category\n",
      "PAY_4                         30000 non-null category\n",
      "PAY_5                         30000 non-null category\n",
      "PAY_6                         30000 non-null category\n",
      "BILL_AMT1                     30000 non-null int64\n",
      "BILL_AMT2                     30000 non-null int64\n",
      "BILL_AMT3                     30000 non-null int64\n",
      "BILL_AMT4                     30000 non-null int64\n",
      "BILL_AMT5                     30000 non-null int64\n",
      "BILL_AMT6                     30000 non-null int64\n",
      "PAY_AMT1                      30000 non-null int64\n",
      "PAY_AMT2                      30000 non-null int64\n",
      "PAY_AMT3                      30000 non-null int64\n",
      "PAY_AMT4                      30000 non-null int64\n",
      "PAY_AMT5                      30000 non-null int64\n",
      "PAY_AMT6                      30000 non-null int64\n",
      "default payment next month    30000 non-null int64\n",
      "dtypes: category(8), int64(17)\n",
      "memory usage: 4.1 MB\n"
     ]
    }
   ],
   "source": [
    "# converting numerical variables into categorical: SEX, EDUCATION and repaymant status (PAY_0:6)\n",
    "# MARRIAGE requires some additional preprocessing, will be categorized later\n",
    "\n",
    "credit['SEX'] = credit['SEX'].astype('category')\n",
    "credit['EDUCATION'] = credit['EDUCATION'].astype('category')\n",
    "\n",
    "\n",
    "credit.PAY_0 = credit.PAY_0.astype('category')\n",
    "credit.PAY_2 = credit.PAY_2.astype('category')\n",
    "credit.PAY_3 = credit.PAY_3.astype('category')\n",
    "credit.PAY_4 = credit.PAY_4.astype('category')\n",
    "credit.PAY_5 = credit.PAY_5.astype('category')\n",
    "credit.PAY_6 = credit.PAY_6.astype('category')\n",
    "\n",
    "credit.info()\n"
   ]
  },
  {
   "cell_type": "code",
   "execution_count": 11,
   "metadata": {},
   "outputs": [
    {
     "data": {
      "text/plain": [
       " 0    14737\n",
       "-1     5686\n",
       " 1     3688\n",
       "-2     2759\n",
       " 2     2667\n",
       " 3      322\n",
       " 4       76\n",
       " 5       26\n",
       " 8       19\n",
       " 6       11\n",
       " 7        9\n",
       "Name: PAY_0, dtype: int64"
      ]
     },
     "execution_count": 11,
     "metadata": {},
     "output_type": "execute_result"
    }
   ],
   "source": [
    "# repaymnet status PAY_0\n",
    "# checking the levels (labels)\n",
    "credit.PAY_0.value_counts()"
   ]
  },
  {
   "cell_type": "code",
   "execution_count": 12,
   "metadata": {},
   "outputs": [
    {
     "data": {
      "text/html": [
       "<div>\n",
       "<style scoped>\n",
       "    .dataframe tbody tr th:only-of-type {\n",
       "        vertical-align: middle;\n",
       "    }\n",
       "\n",
       "    .dataframe tbody tr th {\n",
       "        vertical-align: top;\n",
       "    }\n",
       "\n",
       "    .dataframe thead th {\n",
       "        text-align: right;\n",
       "    }\n",
       "</style>\n",
       "<table border=\"1\" class=\"dataframe\">\n",
       "  <thead>\n",
       "    <tr style=\"text-align: right;\">\n",
       "      <th></th>\n",
       "      <th>PAY_0</th>\n",
       "      <th>PAY_2</th>\n",
       "      <th>PAY_3</th>\n",
       "      <th>PAY_4</th>\n",
       "      <th>PAY_5</th>\n",
       "      <th>PAY_6</th>\n",
       "    </tr>\n",
       "  </thead>\n",
       "  <tbody>\n",
       "    <tr>\n",
       "      <th>count</th>\n",
       "      <td>30000</td>\n",
       "      <td>30000</td>\n",
       "      <td>30000</td>\n",
       "      <td>30000</td>\n",
       "      <td>30000</td>\n",
       "      <td>30000</td>\n",
       "    </tr>\n",
       "    <tr>\n",
       "      <th>unique</th>\n",
       "      <td>9</td>\n",
       "      <td>9</td>\n",
       "      <td>9</td>\n",
       "      <td>9</td>\n",
       "      <td>8</td>\n",
       "      <td>8</td>\n",
       "    </tr>\n",
       "    <tr>\n",
       "      <th>top</th>\n",
       "      <td>0</td>\n",
       "      <td>0</td>\n",
       "      <td>0</td>\n",
       "      <td>0</td>\n",
       "      <td>0</td>\n",
       "      <td>0</td>\n",
       "    </tr>\n",
       "    <tr>\n",
       "      <th>freq</th>\n",
       "      <td>23182</td>\n",
       "      <td>25562</td>\n",
       "      <td>25787</td>\n",
       "      <td>26490</td>\n",
       "      <td>27032</td>\n",
       "      <td>26921</td>\n",
       "    </tr>\n",
       "  </tbody>\n",
       "</table>\n",
       "</div>"
      ],
      "text/plain": [
       "        PAY_0  PAY_2  PAY_3  PAY_4  PAY_5  PAY_6\n",
       "count   30000  30000  30000  30000  30000  30000\n",
       "unique      9      9      9      9      8      8\n",
       "top         0      0      0      0      0      0\n",
       "freq    23182  25562  25787  26490  27032  26921"
      ]
     },
     "execution_count": 12,
     "metadata": {},
     "output_type": "execute_result"
    }
   ],
   "source": [
    "# shifting negative and undocumented values (-2, -1) into 0 - 'pay duly'\n",
    "\n",
    "fil = (credit.PAY_0 == -2) | (credit.PAY_0 == -1)\n",
    "credit.loc[fil, 'PAY_0'] = 0\n",
    "fil = (credit.PAY_2 == -2) | (credit.PAY_2 == -1)\n",
    "credit.loc[fil, 'PAY_2'] = 0\n",
    "fil = (credit.PAY_3 == -2) | (credit.PAY_3 == -1)\n",
    "credit.loc[fil, 'PAY_3'] = 0\n",
    "fil = (credit.PAY_4 == -2) | (credit.PAY_4 == -1)\n",
    "credit.loc[fil, 'PAY_4'] = 0\n",
    "fil = (credit.PAY_5 == -2) | (credit.PAY_5 == -1)\n",
    "credit.loc[fil, 'PAY_5'] = 0\n",
    "fil = (credit.PAY_6 == -2) | (credit.PAY_6 == -1)\n",
    "credit.loc[fil, 'PAY_6'] = 0\n",
    "credit[['PAY_0', 'PAY_2', 'PAY_3', 'PAY_4', 'PAY_5', 'PAY_6']].describe()"
   ]
  },
  {
   "cell_type": "code",
   "execution_count": 13,
   "metadata": {
    "collapsed": true
   },
   "outputs": [],
   "source": [
    "# renaming the columns \n",
    "\n",
    "credit = credit.rename(columns = {\"PAY_6\": \"status_Apr\", 'PAY_5': 'status_May', 'PAY_4': 'status_Jun', 'PAY_3':'status_Jul', \n",
    "                                  'PAY_2':'status_Aug', 'PAY_0': 'status_Sep', \n",
    "                                  'BILL_AMT6': 'bill_Apr', 'BILL_AMT5': 'bill_May', \n",
    "                                  'BILL_AMT4': 'bill_Jun', 'BILL_AMT3': 'bill_Jul', 'BILL_AMT2': 'bill_Aug', \n",
    "                                  'BILL_AMT1': 'bill_Sep',\n",
    "                                  'PAY_AMT6': 'prev_pay_Apr', 'PAY_AMT5': 'prev_pay_May', 'PAY_AMT4': 'prev_pay_Jun', \n",
    "                                  'PAY_AMT3': 'prev_pay_Jul', 'PAY_AMT2': 'prev_pay_Aug', 'PAY_AMT1': 'prev_pay_Sep', \n",
    "                                  'default payment next month': 'default_pay'})"
   ]
  },
  {
   "cell_type": "code",
   "execution_count": 15,
   "metadata": {},
   "outputs": [
    {
     "name": "stdout",
     "output_type": "stream",
     "text": [
      "<class 'pandas.core.frame.DataFrame'>\n",
      "RangeIndex: 30000 entries, 0 to 29999\n",
      "Data columns (total 24 columns):\n",
      "LIMIT_BAL       30000 non-null int64\n",
      "SEX             30000 non-null category\n",
      "EDUCATION       30000 non-null category\n",
      "MARRIAGE        30000 non-null int64\n",
      "AGE             30000 non-null int64\n",
      "status_Sep      30000 non-null category\n",
      "status_Aug      30000 non-null category\n",
      "status_Jul      30000 non-null category\n",
      "status_Jun      30000 non-null category\n",
      "status_May      30000 non-null category\n",
      "status_Apr      30000 non-null category\n",
      "bill_Sep        30000 non-null int64\n",
      "bill_Aug        30000 non-null int64\n",
      "bill_Jul        30000 non-null int64\n",
      "bill_Jun        30000 non-null int64\n",
      "bill_May        30000 non-null int64\n",
      "bill_Apr        30000 non-null int64\n",
      "prev_pay_Sep    30000 non-null int64\n",
      "prev_pay_Aug    30000 non-null int64\n",
      "prev_pay_Jul    30000 non-null int64\n",
      "prev_pay_Jun    30000 non-null int64\n",
      "prev_pay_May    30000 non-null int64\n",
      "prev_pay_Apr    30000 non-null int64\n",
      "default_pay     30000 non-null int64\n",
      "dtypes: category(8), int64(16)\n",
      "memory usage: 3.9 MB\n"
     ]
    }
   ],
   "source": [
    "credit.info()"
   ]
  },
  {
   "cell_type": "code",
   "execution_count": 16,
   "metadata": {
    "collapsed": true
   },
   "outputs": [],
   "source": [
    "# reordering the columns \n",
    "\n",
    "credit = credit[['LIMIT_BAL', 'SEX', 'EDUCATION', 'MARRIAGE', 'AGE', 'status_Apr', 'status_May', 'status_Jun', 'status_Jul', 'status_Aug', 'status_Sep', \n",
    "                 'bill_Apr', 'bill_May', 'bill_Jun', 'bill_Jul', 'bill_Aug', 'bill_Sep',\n",
    "                 'prev_pay_Apr', 'prev_pay_May', 'prev_pay_Jun', 'prev_pay_Jul', 'prev_pay_Aug', 'prev_pay_Sep',\n",
    "                 'default_pay']]"
   ]
  },
  {
   "cell_type": "code",
   "execution_count": 17,
   "metadata": {},
   "outputs": [
    {
     "name": "stdout",
     "output_type": "stream",
     "text": [
      "<class 'pandas.core.frame.DataFrame'>\n",
      "RangeIndex: 30000 entries, 0 to 29999\n",
      "Data columns (total 24 columns):\n",
      "LIMIT_BAL       30000 non-null int64\n",
      "SEX             30000 non-null category\n",
      "EDUCATION       30000 non-null category\n",
      "MARRIAGE        30000 non-null int64\n",
      "AGE             30000 non-null int64\n",
      "status_Apr      30000 non-null category\n",
      "status_May      30000 non-null category\n",
      "status_Jun      30000 non-null category\n",
      "status_Jul      30000 non-null category\n",
      "status_Aug      30000 non-null category\n",
      "status_Sep      30000 non-null category\n",
      "bill_Apr        30000 non-null int64\n",
      "bill_May        30000 non-null int64\n",
      "bill_Jun        30000 non-null int64\n",
      "bill_Jul        30000 non-null int64\n",
      "bill_Aug        30000 non-null int64\n",
      "bill_Sep        30000 non-null int64\n",
      "prev_pay_Apr    30000 non-null int64\n",
      "prev_pay_May    30000 non-null int64\n",
      "prev_pay_Jun    30000 non-null int64\n",
      "prev_pay_Jul    30000 non-null int64\n",
      "prev_pay_Aug    30000 non-null int64\n",
      "prev_pay_Sep    30000 non-null int64\n",
      "default_pay     30000 non-null int64\n",
      "dtypes: category(8), int64(16)\n",
      "memory usage: 3.9 MB\n"
     ]
    }
   ],
   "source": [
    "credit.info()"
   ]
  },
  {
   "cell_type": "code",
   "execution_count": 19,
   "metadata": {},
   "outputs": [
    {
     "data": {
      "text/plain": [
       "2    18112\n",
       "1    11888\n",
       "Name: SEX, dtype: int64"
      ]
     },
     "execution_count": 19,
     "metadata": {},
     "output_type": "execute_result"
    }
   ],
   "source": [
    "# SEX, gender\n",
    "# 1: male, 2: female\n",
    "\n",
    "credit.SEX.value_counts()"
   ]
  },
  {
   "cell_type": "code",
   "execution_count": 20,
   "metadata": {},
   "outputs": [
    {
     "data": {
      "text/plain": [
       "2    15964\n",
       "1    13659\n",
       "3      323\n",
       "0       54\n",
       "Name: MARRIAGE, dtype: int64"
      ]
     },
     "execution_count": 20,
     "metadata": {},
     "output_type": "execute_result"
    }
   ],
   "source": [
    "# MARRIAGE\n",
    "# 0: undocumented, 3: other (divorced)\n",
    "\n",
    "credit.MARRIAGE.value_counts()"
   ]
  },
  {
   "cell_type": "code",
   "execution_count": 21,
   "metadata": {
    "collapsed": true
   },
   "outputs": [],
   "source": [
    "# adressing 0s in MARRIAGE\n",
    "\n",
    "# category 0 is probably a missing data (NAs)\n",
    "# one solution is to remove 0s, as they are numarically not relevant (between 1-5%)\n",
    "# shifting is not a good solution in this case\n"
   ]
  },
  {
   "cell_type": "code",
   "execution_count": 22,
   "metadata": {
    "collapsed": true
   },
   "outputs": [],
   "source": [
    "# removing 0s\n",
    "\n",
    "credit = credit[credit.MARRIAGE != 0]"
   ]
  },
  {
   "cell_type": "code",
   "execution_count": 23,
   "metadata": {},
   "outputs": [
    {
     "data": {
      "text/plain": [
       "2    15964\n",
       "1    13659\n",
       "3      323\n",
       "Name: MARRIAGE, dtype: int64"
      ]
     },
     "execution_count": 23,
     "metadata": {},
     "output_type": "execute_result"
    }
   ],
   "source": [
    "credit.MARRIAGE.value_counts()"
   ]
  },
  {
   "cell_type": "code",
   "execution_count": 24,
   "metadata": {
    "collapsed": true
   },
   "outputs": [],
   "source": [
    "# categorize MARRIAGE\n",
    "\n",
    "credit['MARRIAGE'] = credit.iloc[:,3].astype('category') "
   ]
  },
  {
   "cell_type": "code",
   "execution_count": 25,
   "metadata": {},
   "outputs": [
    {
     "name": "stdout",
     "output_type": "stream",
     "text": [
      "<class 'pandas.core.frame.DataFrame'>\n",
      "Int64Index: 29946 entries, 0 to 29999\n",
      "Data columns (total 24 columns):\n",
      "LIMIT_BAL       29946 non-null int64\n",
      "SEX             29946 non-null category\n",
      "EDUCATION       29946 non-null category\n",
      "MARRIAGE        29946 non-null category\n",
      "AGE             29946 non-null int64\n",
      "status_Apr      29946 non-null category\n",
      "status_May      29946 non-null category\n",
      "status_Jun      29946 non-null category\n",
      "status_Jul      29946 non-null category\n",
      "status_Aug      29946 non-null category\n",
      "status_Sep      29946 non-null category\n",
      "bill_Apr        29946 non-null int64\n",
      "bill_May        29946 non-null int64\n",
      "bill_Jun        29946 non-null int64\n",
      "bill_Jul        29946 non-null int64\n",
      "bill_Aug        29946 non-null int64\n",
      "bill_Sep        29946 non-null int64\n",
      "prev_pay_Apr    29946 non-null int64\n",
      "prev_pay_May    29946 non-null int64\n",
      "prev_pay_Jun    29946 non-null int64\n",
      "prev_pay_Jul    29946 non-null int64\n",
      "prev_pay_Aug    29946 non-null int64\n",
      "prev_pay_Sep    29946 non-null int64\n",
      "default_pay     29946 non-null int64\n",
      "dtypes: category(9), int64(15)\n",
      "memory usage: 3.9 MB\n"
     ]
    }
   ],
   "source": [
    "credit.info()"
   ]
  },
  {
   "cell_type": "code",
   "execution_count": 22,
   "metadata": {},
   "outputs": [
    {
     "data": {
      "text/plain": [
       "2    14024\n",
       "1    10581\n",
       "3     4873\n",
       "5      280\n",
       "4      123\n",
       "6       51\n",
       "0       14\n",
       "Name: EDUCATION, dtype: int64"
      ]
     },
     "execution_count": 22,
     "metadata": {},
     "output_type": "execute_result"
    }
   ],
   "source": [
    "# EDUCATION\n",
    "# 1 = graduate school, 2 = university, 3 = high school, 4 = others, 5 = unknown, 6 = unknown)\n",
    "\n",
    "credit.EDUCATION.value_counts()"
   ]
  },
  {
   "cell_type": "code",
   "execution_count": 26,
   "metadata": {},
   "outputs": [
    {
     "data": {
      "text/plain": [
       "2    14024\n",
       "1    10581\n",
       "3     4873\n",
       "4      468\n",
       "6        0\n",
       "5        0\n",
       "0        0\n",
       "Name: EDUCATION, dtype: int64"
      ]
     },
     "execution_count": 26,
     "metadata": {},
     "output_type": "execute_result"
    }
   ],
   "source": [
    "# EDUCATION: adressing mislabelled levels  \n",
    "\n",
    "edu_lab = (credit.EDUCATION == 5) | (credit.EDUCATION == 6) | (credit.EDUCATION == 0)\n",
    "credit.loc[edu_lab, 'EDUCATION'] = 4\n",
    "credit.EDUCATION.value_counts()"
   ]
  },
  {
   "cell_type": "code",
   "execution_count": 28,
   "metadata": {
    "collapsed": true
   },
   "outputs": [],
   "source": [
    "# drop unused levels\n",
    "\n",
    "credit.EDUCATION = credit.EDUCATION.cat.remove_unused_categories()"
   ]
  },
  {
   "cell_type": "code",
   "execution_count": 30,
   "metadata": {},
   "outputs": [
    {
     "data": {
      "text/plain": [
       "2    14024\n",
       "1    10581\n",
       "3     4873\n",
       "4      468\n",
       "Name: EDUCATION, dtype: int64"
      ]
     },
     "execution_count": 30,
     "metadata": {},
     "output_type": "execute_result"
    }
   ],
   "source": [
    "# check\n",
    "\n",
    "credit.EDUCATION.value_counts()"
   ]
  },
  {
   "cell_type": "code",
   "execution_count": 36,
   "metadata": {
    "collapsed": true
   },
   "outputs": [],
   "source": [
    "# discretizing AGE\n",
    "\n",
    "credit['AGE_bin'] = pd.cut(credit['AGE'], 6, labels = [1,2,3,4,5,6])"
   ]
  },
  {
   "cell_type": "code",
   "execution_count": 37,
   "metadata": {},
   "outputs": [
    {
     "data": {
      "text/plain": [
       "1    11001\n",
       "2    10691\n",
       "3     5990\n",
       "4     1925\n",
       "5      314\n",
       "6       25\n",
       "Name: AGE_bin, dtype: int64"
      ]
     },
     "execution_count": 37,
     "metadata": {},
     "output_type": "execute_result"
    }
   ],
   "source": [
    "# result\n",
    "#(20.942, 30.667]    11001\n",
    "#(30.667, 40.333]    10691\n",
    "#(40.333, 50.0]       5990\n",
    "#(50.0, 59.667]       1925\n",
    "#(59.667, 69.333]      314\n",
    "#(69.333, 79.0]         25\n",
    "\n",
    "credit.AGE_bin.value_counts()"
   ]
  },
  {
   "cell_type": "code",
   "execution_count": null,
   "metadata": {
    "collapsed": true
   },
   "outputs": [],
   "source": [
    "# other ways of discretization\n",
    "# 1 method gives a control over bins  \n",
    "#df['AgeBin'] = 0 #creates a column of 0\n",
    "#df.loc[((df['AGE'] > 20) & (df['AGE'] < 30)) , 'AgeBin'] = 1\n",
    "#df.loc[((df['AGE'] >= 30) & (df['AGE'] < 40)) , 'AgeBin'] = 2\n",
    "#df.loc[((df['AGE'] >= 40) & (df['AGE'] < 50)) , 'AgeBin'] = 3\n",
    "#df.loc[((df['AGE'] >= 50) & (df['AGE'] < 60)) , 'AgeBin'] = 4\n",
    "#df.loc[((df['AGE'] >= 60) & (df['AGE'] < 70)) , 'AgeBin'] = 5\n",
    "#df.loc[((df['AGE'] >= 70) & (df['AGE'] < 81)) , 'AgeBin'] = 6\n",
    "#df.AgeBin.hist()\n",
    "\n",
    "#2. \n",
    "#bins = [20, 29, 39, 49, 59, 69, 81]\n",
    "#bins_names = [1, 2, 3, 4, 5, 6]\n",
    "#df['AgeBin2'] = pd.cut(df['AGE'], bins, labels=bins_names)\n",
    "#df.AgeBin2.hist()\n",
    "\n",
    "#or\n",
    "\n",
    "#df['AgeBin3'] = pd.cut(df['AGE'], 6, labels=bins_names)\n",
    "#df.AgeBin3.hist()\n",
    "\n",
    "#3. quantile-based discretization \n",
    "#df['AgeBin4'] = pd.qcut(df['AGE'], 6)\n",
    "#df.AgeBin4.value_counts()\n",
    "\n",
    "#(with labels)\n",
    "#df['AgeBin4'] = pd.qcut(df['AGE'], 6, labels=bins_names)\n",
    "#df.AgeBin4.hist()\n"
   ]
  },
  {
   "cell_type": "code",
   "execution_count": 38,
   "metadata": {},
   "outputs": [
    {
     "name": "stdout",
     "output_type": "stream",
     "text": [
      "<class 'pandas.core.frame.DataFrame'>\n",
      "Int64Index: 29946 entries, 0 to 29999\n",
      "Data columns (total 25 columns):\n",
      "LIMIT_BAL       29946 non-null int64\n",
      "SEX             29946 non-null category\n",
      "EDUCATION       29946 non-null category\n",
      "MARRIAGE        29946 non-null category\n",
      "AGE             29946 non-null int64\n",
      "status_Apr      29946 non-null category\n",
      "status_May      29946 non-null category\n",
      "status_Jun      29946 non-null category\n",
      "status_Jul      29946 non-null category\n",
      "status_Aug      29946 non-null category\n",
      "status_Sep      29946 non-null category\n",
      "bill_Apr        29946 non-null int64\n",
      "bill_May        29946 non-null int64\n",
      "bill_Jun        29946 non-null int64\n",
      "bill_Jul        29946 non-null int64\n",
      "bill_Aug        29946 non-null int64\n",
      "bill_Sep        29946 non-null int64\n",
      "prev_pay_Apr    29946 non-null int64\n",
      "prev_pay_May    29946 non-null int64\n",
      "prev_pay_Jun    29946 non-null int64\n",
      "prev_pay_Jul    29946 non-null int64\n",
      "prev_pay_Aug    29946 non-null int64\n",
      "prev_pay_Sep    29946 non-null int64\n",
      "default_pay     29946 non-null int64\n",
      "AGE_bin         29946 non-null category\n",
      "dtypes: category(10), int64(15)\n",
      "memory usage: 3.9 MB\n"
     ]
    }
   ],
   "source": [
    "credit.info()"
   ]
  },
  {
   "cell_type": "code",
   "execution_count": 39,
   "metadata": {
    "collapsed": true
   },
   "outputs": [],
   "source": [
    "# reordering the columns \n",
    "\n",
    "credit = credit[['LIMIT_BAL', 'SEX', 'EDUCATION', 'MARRIAGE', 'AGE', 'AGE_bin', 'status_Apr', 'status_May', 'status_Jun', 'status_Jul', 'status_Aug', 'status_Sep', \n",
    "                 'bill_Apr', 'bill_May', 'bill_Jun', 'bill_Jul', 'bill_Aug', 'bill_Sep',\n",
    "                 'prev_pay_Apr', 'prev_pay_May', 'prev_pay_Jun', 'prev_pay_Jul', 'prev_pay_Aug', 'prev_pay_Sep',\n",
    "                 'default_pay']]"
   ]
  },
  {
   "cell_type": "code",
   "execution_count": 40,
   "metadata": {},
   "outputs": [
    {
     "name": "stdout",
     "output_type": "stream",
     "text": [
      "<class 'pandas.core.frame.DataFrame'>\n",
      "Int64Index: 29946 entries, 0 to 29999\n",
      "Data columns (total 25 columns):\n",
      "LIMIT_BAL       29946 non-null int64\n",
      "SEX             29946 non-null category\n",
      "EDUCATION       29946 non-null category\n",
      "MARRIAGE        29946 non-null category\n",
      "AGE             29946 non-null int64\n",
      "AGE_bin         29946 non-null category\n",
      "status_Apr      29946 non-null category\n",
      "status_May      29946 non-null category\n",
      "status_Jun      29946 non-null category\n",
      "status_Jul      29946 non-null category\n",
      "status_Aug      29946 non-null category\n",
      "status_Sep      29946 non-null category\n",
      "bill_Apr        29946 non-null int64\n",
      "bill_May        29946 non-null int64\n",
      "bill_Jun        29946 non-null int64\n",
      "bill_Jul        29946 non-null int64\n",
      "bill_Aug        29946 non-null int64\n",
      "bill_Sep        29946 non-null int64\n",
      "prev_pay_Apr    29946 non-null int64\n",
      "prev_pay_May    29946 non-null int64\n",
      "prev_pay_Jun    29946 non-null int64\n",
      "prev_pay_Jul    29946 non-null int64\n",
      "prev_pay_Aug    29946 non-null int64\n",
      "prev_pay_Sep    29946 non-null int64\n",
      "default_pay     29946 non-null int64\n",
      "dtypes: category(10), int64(15)\n",
      "memory usage: 3.9 MB\n"
     ]
    }
   ],
   "source": [
    "credit.info()"
   ]
  },
  {
   "cell_type": "markdown",
   "metadata": {},
   "source": [
    "\n",
    "Explanatory analysis\n",
    "\n",
    "Categorical data\n"
   ]
  },
  {
   "cell_type": "markdown",
   "metadata": {},
   "source": [
    "Gender vs default payment \n",
    "\n",
    "1. male\n",
    "2. female"
   ]
  },
  {
   "cell_type": "code",
   "execution_count": 41,
   "metadata": {},
   "outputs": [
    {
     "data": {
      "text/html": [
       "<div>\n",
       "<style scoped>\n",
       "    .dataframe tbody tr th:only-of-type {\n",
       "        vertical-align: middle;\n",
       "    }\n",
       "\n",
       "    .dataframe tbody tr th {\n",
       "        vertical-align: top;\n",
       "    }\n",
       "\n",
       "    .dataframe thead th {\n",
       "        text-align: right;\n",
       "    }\n",
       "</style>\n",
       "<table border=\"1\" class=\"dataframe\">\n",
       "  <thead>\n",
       "    <tr style=\"text-align: right;\">\n",
       "      <th>default_pay</th>\n",
       "      <th>0</th>\n",
       "      <th>1</th>\n",
       "    </tr>\n",
       "    <tr>\n",
       "      <th>SEX</th>\n",
       "      <th></th>\n",
       "      <th></th>\n",
       "    </tr>\n",
       "  </thead>\n",
       "  <tbody>\n",
       "    <tr>\n",
       "      <th>1</th>\n",
       "      <td>9003</td>\n",
       "      <td>2871</td>\n",
       "    </tr>\n",
       "    <tr>\n",
       "      <th>2</th>\n",
       "      <td>14312</td>\n",
       "      <td>3760</td>\n",
       "    </tr>\n",
       "  </tbody>\n",
       "</table>\n",
       "</div>"
      ],
      "text/plain": [
       "default_pay      0     1\n",
       "SEX                     \n",
       "1             9003  2871\n",
       "2            14312  3760"
      ]
     },
     "execution_count": 41,
     "metadata": {},
     "output_type": "execute_result"
    }
   ],
   "source": [
    "pd.crosstab(credit.SEX, credit.default_pay)"
   ]
  },
  {
   "cell_type": "code",
   "execution_count": 42,
   "metadata": {},
   "outputs": [
    {
     "data": {
      "text/plain": [
       "<matplotlib.axes._subplots.AxesSubplot at 0x1bfb70ecd30>"
      ]
     },
     "execution_count": 42,
     "metadata": {},
     "output_type": "execute_result"
    },
    {
     "data": {
      "image/png": "[encoded data removed]",
      "text/plain": [
       "<matplotlib.figure.Figure at 0x1bfb70ec978>"
      ]
     },
     "metadata": {},
     "output_type": "display_data"
    }
   ],
   "source": [
    "# second method + plot\n",
    "\n",
    "gender = credit.groupby(['SEX', 'default_pay']).size().unstack(1)\n",
    "gender.plot(kind = 'bar', stacked = False) # or: stacked = True\n"
   ]
  },
  {
   "cell_type": "code",
   "execution_count": 43,
   "metadata": {},
   "outputs": [
    {
     "data": {
      "text/html": [
       "<div>\n",
       "<style scoped>\n",
       "    .dataframe tbody tr th:only-of-type {\n",
       "        vertical-align: middle;\n",
       "    }\n",
       "\n",
       "    .dataframe tbody tr th {\n",
       "        vertical-align: top;\n",
       "    }\n",
       "\n",
       "    .dataframe thead th {\n",
       "        text-align: right;\n",
       "    }\n",
       "</style>\n",
       "<table border=\"1\" class=\"dataframe\">\n",
       "  <thead>\n",
       "    <tr style=\"text-align: right;\">\n",
       "      <th>default_pay</th>\n",
       "      <th>0</th>\n",
       "      <th>1</th>\n",
       "      <th>perc</th>\n",
       "    </tr>\n",
       "    <tr>\n",
       "      <th>SEX</th>\n",
       "      <th></th>\n",
       "      <th></th>\n",
       "      <th></th>\n",
       "    </tr>\n",
       "  </thead>\n",
       "  <tbody>\n",
       "    <tr>\n",
       "      <th>1</th>\n",
       "      <td>9003</td>\n",
       "      <td>2871</td>\n",
       "      <td>0.241789</td>\n",
       "    </tr>\n",
       "    <tr>\n",
       "      <th>2</th>\n",
       "      <td>14312</td>\n",
       "      <td>3760</td>\n",
       "      <td>0.208057</td>\n",
       "    </tr>\n",
       "  </tbody>\n",
       "</table>\n",
       "</div>"
      ],
      "text/plain": [
       "default_pay      0     1      perc\n",
       "SEX                               \n",
       "1             9003  2871  0.241789\n",
       "2            14312  3760  0.208057"
      ]
     },
     "execution_count": 43,
     "metadata": {},
     "output_type": "execute_result"
    }
   ],
   "source": [
    "# GENDER & default_pay: percentages\n",
    "\n",
    "gender['perc'] = (gender[1]/(gender[1] + gender[0]))\n",
    "gender\n"
   ]
  },
  {
   "cell_type": "code",
   "execution_count": 44,
   "metadata": {},
   "outputs": [
    {
     "data": {
      "text/plain": [
       "<matplotlib.axes._subplots.AxesSubplot at 0x1bfb76af278>"
      ]
     },
     "execution_count": 44,
     "metadata": {},
     "output_type": "execute_result"
    },
    {
     "data": {
      "image/png": "[encoded data removed]",
      "text/plain": [
       "<matplotlib.figure.Figure at 0x1bfb7114e48>"
      ]
     },
     "metadata": {},
     "output_type": "display_data"
    }
   ],
   "source": [
    "# plot\n",
    "\n",
    "gender.perc.plot(kind = 'bar')"
   ]
  },
  {
   "cell_type": "code",
   "execution_count": 45,
   "metadata": {},
   "outputs": [
    {
     "data": {
      "text/html": [
       "<div>\n",
       "<style scoped>\n",
       "    .dataframe tbody tr th:only-of-type {\n",
       "        vertical-align: middle;\n",
       "    }\n",
       "\n",
       "    .dataframe tbody tr th {\n",
       "        vertical-align: top;\n",
       "    }\n",
       "\n",
       "    .dataframe thead th {\n",
       "        text-align: right;\n",
       "    }\n",
       "</style>\n",
       "<table border=\"1\" class=\"dataframe\">\n",
       "  <thead>\n",
       "    <tr style=\"text-align: right;\">\n",
       "      <th>default_pay</th>\n",
       "      <th>0</th>\n",
       "      <th>1</th>\n",
       "    </tr>\n",
       "    <tr>\n",
       "      <th>EDUCATION</th>\n",
       "      <th></th>\n",
       "      <th></th>\n",
       "    </tr>\n",
       "  </thead>\n",
       "  <tbody>\n",
       "    <tr>\n",
       "      <th>1</th>\n",
       "      <td>8545</td>\n",
       "      <td>2036</td>\n",
       "    </tr>\n",
       "    <tr>\n",
       "      <th>2</th>\n",
       "      <td>10695</td>\n",
       "      <td>3329</td>\n",
       "    </tr>\n",
       "    <tr>\n",
       "      <th>3</th>\n",
       "      <td>3640</td>\n",
       "      <td>1233</td>\n",
       "    </tr>\n",
       "    <tr>\n",
       "      <th>4</th>\n",
       "      <td>435</td>\n",
       "      <td>33</td>\n",
       "    </tr>\n",
       "  </tbody>\n",
       "</table>\n",
       "</div>"
      ],
      "text/plain": [
       "default_pay      0     1\n",
       "EDUCATION               \n",
       "1             8545  2036\n",
       "2            10695  3329\n",
       "3             3640  1233\n",
       "4              435    33"
      ]
     },
     "execution_count": 45,
     "metadata": {},
     "output_type": "execute_result"
    }
   ],
   "source": [
    "# EDUCATION vs default_pay\n",
    "\n",
    "pd.crosstab(credit.EDUCATION, credit.default_pay)\n"
   ]
  },
  {
   "cell_type": "code",
   "execution_count": 46,
   "metadata": {},
   "outputs": [
    {
     "data": {
      "text/html": [
       "<div>\n",
       "<style scoped>\n",
       "    .dataframe tbody tr th:only-of-type {\n",
       "        vertical-align: middle;\n",
       "    }\n",
       "\n",
       "    .dataframe tbody tr th {\n",
       "        vertical-align: top;\n",
       "    }\n",
       "\n",
       "    .dataframe thead th {\n",
       "        text-align: right;\n",
       "    }\n",
       "</style>\n",
       "<table border=\"1\" class=\"dataframe\">\n",
       "  <thead>\n",
       "    <tr style=\"text-align: right;\">\n",
       "      <th>default_pay</th>\n",
       "      <th>0</th>\n",
       "      <th>1</th>\n",
       "    </tr>\n",
       "    <tr>\n",
       "      <th>EDUCATION</th>\n",
       "      <th></th>\n",
       "      <th></th>\n",
       "    </tr>\n",
       "  </thead>\n",
       "  <tbody>\n",
       "    <tr>\n",
       "      <th>1</th>\n",
       "      <td>8545</td>\n",
       "      <td>2036</td>\n",
       "    </tr>\n",
       "    <tr>\n",
       "      <th>2</th>\n",
       "      <td>10695</td>\n",
       "      <td>3329</td>\n",
       "    </tr>\n",
       "    <tr>\n",
       "      <th>3</th>\n",
       "      <td>3640</td>\n",
       "      <td>1233</td>\n",
       "    </tr>\n",
       "    <tr>\n",
       "      <th>4</th>\n",
       "      <td>435</td>\n",
       "      <td>33</td>\n",
       "    </tr>\n",
       "  </tbody>\n",
       "</table>\n",
       "</div>"
      ],
      "text/plain": [
       "default_pay      0     1\n",
       "EDUCATION               \n",
       "1             8545  2036\n",
       "2            10695  3329\n",
       "3             3640  1233\n",
       "4              435    33"
      ]
     },
     "execution_count": 46,
     "metadata": {},
     "output_type": "execute_result"
    }
   ],
   "source": [
    "# second method + plot\n",
    "\n",
    "education = credit.groupby(['EDUCATION', 'default_pay']).size().unstack(1)\n",
    "education"
   ]
  },
  {
   "cell_type": "code",
   "execution_count": 47,
   "metadata": {},
   "outputs": [
    {
     "data": {
      "text/plain": [
       "<matplotlib.axes._subplots.AxesSubplot at 0x1bfb7cbbb38>"
      ]
     },
     "execution_count": 47,
     "metadata": {},
     "output_type": "execute_result"
    },
    {
     "data": {
      "image/png": "[encoded data removed]",
      "text/plain": [
       "<matplotlib.figure.Figure at 0x1bfb76cf9b0>"
      ]
     },
     "metadata": {},
     "output_type": "display_data"
    }
   ],
   "source": [
    "education.plot(kind = 'bar', stacked = False)"
   ]
  },
  {
   "cell_type": "code",
   "execution_count": 48,
   "metadata": {},
   "outputs": [
    {
     "data": {
      "text/html": [
       "<div>\n",
       "<style scoped>\n",
       "    .dataframe tbody tr th:only-of-type {\n",
       "        vertical-align: middle;\n",
       "    }\n",
       "\n",
       "    .dataframe tbody tr th {\n",
       "        vertical-align: top;\n",
       "    }\n",
       "\n",
       "    .dataframe thead th {\n",
       "        text-align: right;\n",
       "    }\n",
       "</style>\n",
       "<table border=\"1\" class=\"dataframe\">\n",
       "  <thead>\n",
       "    <tr style=\"text-align: right;\">\n",
       "      <th>default_pay</th>\n",
       "      <th>0</th>\n",
       "      <th>1</th>\n",
       "      <th>perc</th>\n",
       "    </tr>\n",
       "    <tr>\n",
       "      <th>EDUCATION</th>\n",
       "      <th></th>\n",
       "      <th></th>\n",
       "      <th></th>\n",
       "    </tr>\n",
       "  </thead>\n",
       "  <tbody>\n",
       "    <tr>\n",
       "      <th>1</th>\n",
       "      <td>8545</td>\n",
       "      <td>2036</td>\n",
       "      <td>0.192420</td>\n",
       "    </tr>\n",
       "    <tr>\n",
       "      <th>2</th>\n",
       "      <td>10695</td>\n",
       "      <td>3329</td>\n",
       "      <td>0.237379</td>\n",
       "    </tr>\n",
       "    <tr>\n",
       "      <th>3</th>\n",
       "      <td>3640</td>\n",
       "      <td>1233</td>\n",
       "      <td>0.253027</td>\n",
       "    </tr>\n",
       "    <tr>\n",
       "      <th>4</th>\n",
       "      <td>435</td>\n",
       "      <td>33</td>\n",
       "      <td>0.070513</td>\n",
       "    </tr>\n",
       "  </tbody>\n",
       "</table>\n",
       "</div>"
      ],
      "text/plain": [
       "default_pay      0     1      perc\n",
       "EDUCATION                         \n",
       "1             8545  2036  0.192420\n",
       "2            10695  3329  0.237379\n",
       "3             3640  1233  0.253027\n",
       "4              435    33  0.070513"
      ]
     },
     "execution_count": 48,
     "metadata": {},
     "output_type": "execute_result"
    }
   ],
   "source": [
    "# EDUCATION versus default_pay: percentages\n",
    "\n",
    "education['perc'] = (education[1] / (education[1] + education[0]))\n",
    "education\n"
   ]
  },
  {
   "cell_type": "code",
   "execution_count": 49,
   "metadata": {},
   "outputs": [
    {
     "data": {
      "text/plain": [
       "<matplotlib.axes._subplots.AxesSubplot at 0x1bfb7716588>"
      ]
     },
     "execution_count": 49,
     "metadata": {},
     "output_type": "execute_result"
    },
    {
     "data": {
      "image/png": "[encoded data removed]",
      "text/plain": [
       "<matplotlib.figure.Figure at 0x1bfb7cea198>"
      ]
     },
     "metadata": {},
     "output_type": "display_data"
    }
   ],
   "source": [
    "# plot percentages\n",
    "\n",
    "education.perc.plot(kind = 'bar')"
   ]
  },
  {
   "cell_type": "code",
   "execution_count": 51,
   "metadata": {},
   "outputs": [
    {
     "data": {
      "text/html": [
       "<div>\n",
       "<style scoped>\n",
       "    .dataframe tbody tr th:only-of-type {\n",
       "        vertical-align: middle;\n",
       "    }\n",
       "\n",
       "    .dataframe tbody tr th {\n",
       "        vertical-align: top;\n",
       "    }\n",
       "\n",
       "    .dataframe thead th {\n",
       "        text-align: right;\n",
       "    }\n",
       "</style>\n",
       "<table border=\"1\" class=\"dataframe\">\n",
       "  <thead>\n",
       "    <tr style=\"text-align: right;\">\n",
       "      <th>default_pay</th>\n",
       "      <th>0</th>\n",
       "      <th>1</th>\n",
       "    </tr>\n",
       "    <tr>\n",
       "      <th>MARRIAGE</th>\n",
       "      <th></th>\n",
       "      <th></th>\n",
       "    </tr>\n",
       "  </thead>\n",
       "  <tbody>\n",
       "    <tr>\n",
       "      <th>1</th>\n",
       "      <td>10453</td>\n",
       "      <td>3206</td>\n",
       "    </tr>\n",
       "    <tr>\n",
       "      <th>2</th>\n",
       "      <td>12623</td>\n",
       "      <td>3341</td>\n",
       "    </tr>\n",
       "    <tr>\n",
       "      <th>3</th>\n",
       "      <td>239</td>\n",
       "      <td>84</td>\n",
       "    </tr>\n",
       "  </tbody>\n",
       "</table>\n",
       "</div>"
      ],
      "text/plain": [
       "default_pay      0     1\n",
       "MARRIAGE                \n",
       "1            10453  3206\n",
       "2            12623  3341\n",
       "3              239    84"
      ]
     },
     "execution_count": 51,
     "metadata": {},
     "output_type": "execute_result"
    }
   ],
   "source": [
    "# MARRIAGE vs default_pay\n",
    "\n",
    "pd.crosstab(credit.MARRIAGE, credit.default_pay)"
   ]
  },
  {
   "cell_type": "code",
   "execution_count": 52,
   "metadata": {},
   "outputs": [
    {
     "data": {
      "text/html": [
       "<div>\n",
       "<style scoped>\n",
       "    .dataframe tbody tr th:only-of-type {\n",
       "        vertical-align: middle;\n",
       "    }\n",
       "\n",
       "    .dataframe tbody tr th {\n",
       "        vertical-align: top;\n",
       "    }\n",
       "\n",
       "    .dataframe thead th {\n",
       "        text-align: right;\n",
       "    }\n",
       "</style>\n",
       "<table border=\"1\" class=\"dataframe\">\n",
       "  <thead>\n",
       "    <tr style=\"text-align: right;\">\n",
       "      <th>default_pay</th>\n",
       "      <th>0</th>\n",
       "      <th>1</th>\n",
       "    </tr>\n",
       "    <tr>\n",
       "      <th>MARRIAGE</th>\n",
       "      <th></th>\n",
       "      <th></th>\n",
       "    </tr>\n",
       "  </thead>\n",
       "  <tbody>\n",
       "    <tr>\n",
       "      <th>1</th>\n",
       "      <td>10453</td>\n",
       "      <td>3206</td>\n",
       "    </tr>\n",
       "    <tr>\n",
       "      <th>2</th>\n",
       "      <td>12623</td>\n",
       "      <td>3341</td>\n",
       "    </tr>\n",
       "    <tr>\n",
       "      <th>3</th>\n",
       "      <td>239</td>\n",
       "      <td>84</td>\n",
       "    </tr>\n",
       "  </tbody>\n",
       "</table>\n",
       "</div>"
      ],
      "text/plain": [
       "default_pay      0     1\n",
       "MARRIAGE                \n",
       "1            10453  3206\n",
       "2            12623  3341\n",
       "3              239    84"
      ]
     },
     "execution_count": 52,
     "metadata": {},
     "output_type": "execute_result"
    }
   ],
   "source": [
    "# second method + plot\n",
    "\n",
    "marriage = credit.groupby(['MARRIAGE', 'default_pay']).size().unstack(1) \n",
    "marriage"
   ]
  },
  {
   "cell_type": "code",
   "execution_count": 53,
   "metadata": {},
   "outputs": [
    {
     "data": {
      "text/plain": [
       "<matplotlib.axes._subplots.AxesSubplot at 0x1bfb7d67160>"
      ]
     },
     "execution_count": 53,
     "metadata": {},
     "output_type": "execute_result"
    },
    {
     "data": {
      "image/png": "[encoded data removed]",
      "text/plain": [
       "<matplotlib.figure.Figure at 0x1bfb7d84eb8>"
      ]
     },
     "metadata": {},
     "output_type": "display_data"
    }
   ],
   "source": [
    "marriage.plot(kind = \"bar\", stacked = False)"
   ]
  },
  {
   "cell_type": "code",
   "execution_count": 55,
   "metadata": {},
   "outputs": [
    {
     "data": {
      "text/html": [
       "<div>\n",
       "<style scoped>\n",
       "    .dataframe tbody tr th:only-of-type {\n",
       "        vertical-align: middle;\n",
       "    }\n",
       "\n",
       "    .dataframe tbody tr th {\n",
       "        vertical-align: top;\n",
       "    }\n",
       "\n",
       "    .dataframe thead th {\n",
       "        text-align: right;\n",
       "    }\n",
       "</style>\n",
       "<table border=\"1\" class=\"dataframe\">\n",
       "  <thead>\n",
       "    <tr style=\"text-align: right;\">\n",
       "      <th>default_pay</th>\n",
       "      <th>0</th>\n",
       "      <th>1</th>\n",
       "    </tr>\n",
       "    <tr>\n",
       "      <th>AGE_bin</th>\n",
       "      <th></th>\n",
       "      <th></th>\n",
       "    </tr>\n",
       "  </thead>\n",
       "  <tbody>\n",
       "    <tr>\n",
       "      <th>1</th>\n",
       "      <td>8532</td>\n",
       "      <td>2469</td>\n",
       "    </tr>\n",
       "    <tr>\n",
       "      <th>2</th>\n",
       "      <td>8502</td>\n",
       "      <td>2189</td>\n",
       "    </tr>\n",
       "    <tr>\n",
       "      <th>3</th>\n",
       "      <td>4594</td>\n",
       "      <td>1396</td>\n",
       "    </tr>\n",
       "    <tr>\n",
       "      <th>4</th>\n",
       "      <td>1444</td>\n",
       "      <td>481</td>\n",
       "    </tr>\n",
       "    <tr>\n",
       "      <th>5</th>\n",
       "      <td>225</td>\n",
       "      <td>89</td>\n",
       "    </tr>\n",
       "    <tr>\n",
       "      <th>6</th>\n",
       "      <td>18</td>\n",
       "      <td>7</td>\n",
       "    </tr>\n",
       "  </tbody>\n",
       "</table>\n",
       "</div>"
      ],
      "text/plain": [
       "default_pay     0     1\n",
       "AGE_bin                \n",
       "1            8532  2469\n",
       "2            8502  2189\n",
       "3            4594  1396\n",
       "4            1444   481\n",
       "5             225    89\n",
       "6              18     7"
      ]
     },
     "execution_count": 55,
     "metadata": {},
     "output_type": "execute_result"
    }
   ],
   "source": [
    "# AGE vs default_pay\n",
    "\n",
    "pd.crosstab(credit.AGE_bin, credit.default_pay)"
   ]
  },
  {
   "cell_type": "code",
   "execution_count": 56,
   "metadata": {},
   "outputs": [
    {
     "data": {
      "text/html": [
       "<div>\n",
       "<style scoped>\n",
       "    .dataframe tbody tr th:only-of-type {\n",
       "        vertical-align: middle;\n",
       "    }\n",
       "\n",
       "    .dataframe tbody tr th {\n",
       "        vertical-align: top;\n",
       "    }\n",
       "\n",
       "    .dataframe thead th {\n",
       "        text-align: right;\n",
       "    }\n",
       "</style>\n",
       "<table border=\"1\" class=\"dataframe\">\n",
       "  <thead>\n",
       "    <tr style=\"text-align: right;\">\n",
       "      <th>default_pay</th>\n",
       "      <th>0</th>\n",
       "      <th>1</th>\n",
       "    </tr>\n",
       "    <tr>\n",
       "      <th>AGE_bin</th>\n",
       "      <th></th>\n",
       "      <th></th>\n",
       "    </tr>\n",
       "  </thead>\n",
       "  <tbody>\n",
       "    <tr>\n",
       "      <th>1</th>\n",
       "      <td>8532</td>\n",
       "      <td>2469</td>\n",
       "    </tr>\n",
       "    <tr>\n",
       "      <th>2</th>\n",
       "      <td>8502</td>\n",
       "      <td>2189</td>\n",
       "    </tr>\n",
       "    <tr>\n",
       "      <th>3</th>\n",
       "      <td>4594</td>\n",
       "      <td>1396</td>\n",
       "    </tr>\n",
       "    <tr>\n",
       "      <th>4</th>\n",
       "      <td>1444</td>\n",
       "      <td>481</td>\n",
       "    </tr>\n",
       "    <tr>\n",
       "      <th>5</th>\n",
       "      <td>225</td>\n",
       "      <td>89</td>\n",
       "    </tr>\n",
       "    <tr>\n",
       "      <th>6</th>\n",
       "      <td>18</td>\n",
       "      <td>7</td>\n",
       "    </tr>\n",
       "  </tbody>\n",
       "</table>\n",
       "</div>"
      ],
      "text/plain": [
       "default_pay     0     1\n",
       "AGE_bin                \n",
       "1            8532  2469\n",
       "2            8502  2189\n",
       "3            4594  1396\n",
       "4            1444   481\n",
       "5             225    89\n",
       "6              18     7"
      ]
     },
     "execution_count": 56,
     "metadata": {},
     "output_type": "execute_result"
    }
   ],
   "source": [
    "# 2 method + plot\n",
    "\n",
    "age = credit.groupby(['AGE_bin', 'default_pay']).size().unstack(1)\n",
    "age"
   ]
  },
  {
   "cell_type": "code",
   "execution_count": 57,
   "metadata": {},
   "outputs": [
    {
     "data": {
      "text/plain": [
       "<matplotlib.axes._subplots.AxesSubplot at 0x1bfb7e2c940>"
      ]
     },
     "execution_count": 57,
     "metadata": {},
     "output_type": "execute_result"
    },
    {
     "data": {
      "image/png": "[encoded data removed]",
      "text/plain": [
       "<matplotlib.figure.Figure at 0x1bfb76fd860>"
      ]
     },
     "metadata": {},
     "output_type": "display_data"
    }
   ],
   "source": [
    "age.plot(kind = 'bar')"
   ]
  },
  {
   "cell_type": "code",
   "execution_count": 58,
   "metadata": {},
   "outputs": [
    {
     "data": {
      "text/html": [
       "<div>\n",
       "<style scoped>\n",
       "    .dataframe tbody tr th:only-of-type {\n",
       "        vertical-align: middle;\n",
       "    }\n",
       "\n",
       "    .dataframe tbody tr th {\n",
       "        vertical-align: top;\n",
       "    }\n",
       "\n",
       "    .dataframe thead th {\n",
       "        text-align: right;\n",
       "    }\n",
       "</style>\n",
       "<table border=\"1\" class=\"dataframe\">\n",
       "  <thead>\n",
       "    <tr style=\"text-align: right;\">\n",
       "      <th>default_pay</th>\n",
       "      <th>0</th>\n",
       "      <th>1</th>\n",
       "      <th>perc</th>\n",
       "    </tr>\n",
       "    <tr>\n",
       "      <th>AGE_bin</th>\n",
       "      <th></th>\n",
       "      <th></th>\n",
       "      <th></th>\n",
       "    </tr>\n",
       "  </thead>\n",
       "  <tbody>\n",
       "    <tr>\n",
       "      <th>1</th>\n",
       "      <td>8532</td>\n",
       "      <td>2469</td>\n",
       "      <td>0.224434</td>\n",
       "    </tr>\n",
       "    <tr>\n",
       "      <th>2</th>\n",
       "      <td>8502</td>\n",
       "      <td>2189</td>\n",
       "      <td>0.204752</td>\n",
       "    </tr>\n",
       "    <tr>\n",
       "      <th>3</th>\n",
       "      <td>4594</td>\n",
       "      <td>1396</td>\n",
       "      <td>0.233055</td>\n",
       "    </tr>\n",
       "    <tr>\n",
       "      <th>4</th>\n",
       "      <td>1444</td>\n",
       "      <td>481</td>\n",
       "      <td>0.249870</td>\n",
       "    </tr>\n",
       "    <tr>\n",
       "      <th>5</th>\n",
       "      <td>225</td>\n",
       "      <td>89</td>\n",
       "      <td>0.283439</td>\n",
       "    </tr>\n",
       "    <tr>\n",
       "      <th>6</th>\n",
       "      <td>18</td>\n",
       "      <td>7</td>\n",
       "      <td>0.280000</td>\n",
       "    </tr>\n",
       "  </tbody>\n",
       "</table>\n",
       "</div>"
      ],
      "text/plain": [
       "default_pay     0     1      perc\n",
       "AGE_bin                          \n",
       "1            8532  2469  0.224434\n",
       "2            8502  2189  0.204752\n",
       "3            4594  1396  0.233055\n",
       "4            1444   481  0.249870\n",
       "5             225    89  0.283439\n",
       "6              18     7  0.280000"
      ]
     },
     "execution_count": 58,
     "metadata": {},
     "output_type": "execute_result"
    }
   ],
   "source": [
    "age['perc'] = (age[1]/(age[1] + age[0]))\n",
    "age"
   ]
  },
  {
   "cell_type": "markdown",
   "metadata": {},
   "source": [
    "What is the the probablility of default in general?"
   ]
  },
  {
   "cell_type": "code",
   "execution_count": 59,
   "metadata": {},
   "outputs": [
    {
     "data": {
      "text/plain": [
       "0.22143191077272423"
      ]
     },
     "execution_count": 59,
     "metadata": {},
     "output_type": "execute_result"
    }
   ],
   "source": [
    "credit.default_pay.sum() / len(credit.default_pay)"
   ]
  },
  {
   "cell_type": "markdown",
   "metadata": {},
   "source": [
    "22% of customers default"
   ]
  },
  {
   "cell_type": "code",
   "execution_count": 60,
   "metadata": {},
   "outputs": [
    {
     "data": {
      "text/plain": [
       "<seaborn.axisgrid.FacetGrid at 0x1bfb7e88c50>"
      ]
     },
     "execution_count": 60,
     "metadata": {},
     "output_type": "execute_result"
    },
    {
     "data": {
      "image/png": "[encoded data removed]",
      "text/plain": [
       "<matplotlib.figure.Figure at 0x1bfb7e8f160>"
      ]
     },
     "metadata": {},
     "output_type": "display_data"
    }
   ],
   "source": [
    "# FacetGrid: SEX and default_pay\n",
    "\n",
    "fg1 = sns.FacetGrid(credit, col = 'SEX', hue = 'default_pay')\n",
    "fg1.map(plt.hist, 'AGE', alpha = 0.6, bins = 25)\n",
    "fg1.add_legend()"
   ]
  },
  {
   "cell_type": "code",
   "execution_count": 61,
   "metadata": {},
   "outputs": [
    {
     "data": {
      "text/plain": [
       "<seaborn.axisgrid.FacetGrid at 0x1bfb7e888d0>"
      ]
     },
     "execution_count": 61,
     "metadata": {},
     "output_type": "execute_result"
    },
    {
     "data": {
      "image/png": "[encoded data removed]",
      "text/plain": [
       "<matplotlib.figure.Figure at 0x1bfb8610198>"
      ]
     },
     "metadata": {},
     "output_type": "display_data"
    }
   ],
   "source": [
    "# FacetGrid: SEX, MARRIAGE and default_pay \n",
    "# here marr_dataset used (doesn't include 0s)\n",
    "\n",
    "fg2 = sns.FacetGrid(credit, col = 'default_pay', row = 'MARRIAGE', hue = 'SEX')\n",
    "fg2.map(plt.hist, 'AGE', alpha = 0.6, bins = 25)\n",
    "fg2.add_legend()"
   ]
  },
  {
   "cell_type": "code",
   "execution_count": 62,
   "metadata": {},
   "outputs": [
    {
     "data": {
      "text/plain": [
       "<seaborn.axisgrid.FacetGrid at 0x1bfb8656080>"
      ]
     },
     "execution_count": 62,
     "metadata": {},
     "output_type": "execute_result"
    },
    {
     "data": {
      "image/png": "[encoded data removed]",
      "text/plain": [
       "<matplotlib.figure.Figure at 0x1bfb898b400>"
      ]
     },
     "metadata": {},
     "output_type": "display_data"
    }
   ],
   "source": [
    "# FacetGrid: SEX, EDUCATION and default_pay \n",
    "\n",
    "fg3 = sns.FacetGrid(credit, col = 'default_pay', row = 'EDUCATION', hue = 'SEX')\n",
    "fg3.map(plt.hist, 'AGE', alpha = 0.6, bins = 25)\n",
    "fg3.add_legend()"
   ]
  },
  {
   "cell_type": "code",
   "execution_count": 63,
   "metadata": {},
   "outputs": [
    {
     "name": "stdout",
     "output_type": "stream",
     "text": [
      "Index(['LIMIT_BAL', 'SEX', 'EDUCATION', 'MARRIAGE', 'AGE', 'AGE_bin',\n",
      "       'status_Apr', 'status_May', 'status_Jun', 'status_Jul', 'status_Aug',\n",
      "       'status_Sep', 'bill_Apr', 'bill_May', 'bill_Jun', 'bill_Jul',\n",
      "       'bill_Aug', 'bill_Sep', 'prev_pay_Apr', 'prev_pay_May', 'prev_pay_Jun',\n",
      "       'prev_pay_Jul', 'prev_pay_Aug', 'prev_pay_Sep', 'default_pay'],\n",
      "      dtype='object')\n"
     ]
    }
   ],
   "source": [
    "# explanatory analysis: financial data\n",
    "\n",
    "header = credit.dtypes.index\n",
    "print(header)"
   ]
  },
  {
   "cell_type": "code",
   "execution_count": 64,
   "metadata": {},
   "outputs": [
    {
     "data": {
      "image/png": "[encoded data removed]",
      "text/plain": [
       "<matplotlib.figure.Figure at 0x1bfb7f3fb38>"
      ]
     },
     "metadata": {},
     "output_type": "display_data"
    }
   ],
   "source": [
    "plt.hist(credit['LIMIT_BAL'], bins = 9)\n",
    "plt.show()"
   ]
  },
  {
   "cell_type": "markdown",
   "metadata": {},
   "source": [
    "Correlation\n"
   ]
  },
  {
   "cell_type": "code",
   "execution_count": 65,
   "metadata": {},
   "outputs": [
    {
     "name": "stdout",
     "output_type": "stream",
     "text": [
      "              LIMIT_BAL       AGE  bill_Apr  bill_May  bill_Jun  bill_Jul  \\\n",
      "LIMIT_BAL      1.000000  0.144850  0.290417  0.295586  0.294006  0.283246   \n",
      "AGE            0.144850  1.000000  0.047953  0.049698  0.051716  0.054095   \n",
      "bill_Apr       0.290417  0.047953  1.000000  0.946174  0.900915  0.853303   \n",
      "bill_May       0.295586  0.049698  0.946174  1.000000  0.940121  0.883897   \n",
      "bill_Jun       0.294006  0.051716  0.900915  0.940121  1.000000  0.923951   \n",
      "bill_Jul       0.283246  0.054095  0.853303  0.883897  0.923951  1.000000   \n",
      "bill_Aug       0.278344  0.054671  0.831635  0.859812  0.892481  0.928328   \n",
      "bill_Sep       0.285521  0.056563  0.802659  0.829796  0.860276  0.892299   \n",
      "prev_pay_Apr   0.219632  0.019669  0.115418  0.164123  0.177568  0.182259   \n",
      "prev_pay_May   0.217212  0.023027  0.307670  0.141470  0.160336  0.179616   \n",
      "prev_pay_Jun   0.203221  0.021512  0.250123  0.293007  0.130065  0.143347   \n",
      "prev_pay_Jul   0.210161  0.029398  0.233722  0.252252  0.299985  0.129990   \n",
      "prev_pay_Aug   0.178384  0.021908  0.172543  0.181123  0.207461  0.316898   \n",
      "prev_pay_Sep   0.195330  0.026569  0.200300  0.217305  0.233186  0.244443   \n",
      "default_pay   -0.153783  0.014129 -0.005612 -0.006987 -0.010378 -0.014312   \n",
      "\n",
      "              bill_Aug  bill_Sep  prev_pay_Apr  prev_pay_May  prev_pay_Jun  \\\n",
      "LIMIT_BAL     0.278344  0.285521      0.219632      0.217212      0.203221   \n",
      "AGE           0.054671  0.056563      0.019669      0.023027      0.021512   \n",
      "bill_Apr      0.831635  0.802659      0.115418      0.307670      0.250123   \n",
      "bill_May      0.859812  0.829796      0.164123      0.141470      0.293007   \n",
      "bill_Jun      0.892481  0.860276      0.177568      0.160336      0.130065   \n",
      "bill_Jul      0.928328  0.892299      0.182259      0.179616      0.143347   \n",
      "bill_Aug      1.000000  0.951536      0.174159      0.157867      0.147348   \n",
      "bill_Sep      0.951536  1.000000      0.179236      0.166916      0.158281   \n",
      "prev_pay_Apr  0.174159  0.179236      1.000000      0.154845      0.157808   \n",
      "prev_pay_May  0.157867  0.166916      0.154845      1.000000      0.151810   \n",
      "prev_pay_Jun  0.147348  0.158281      0.157808      0.151810      1.000000   \n",
      "prev_pay_Jul  0.150663  0.156905      0.162712      0.159245      0.216133   \n",
      "prev_pay_Aug  0.100755  0.099283      0.157602      0.180889      0.179986   \n",
      "prev_pay_Sep  0.280336  0.140654      0.186035      0.148741      0.199759   \n",
      "default_pay  -0.014377 -0.019890     -0.053285     -0.055242     -0.056886   \n",
      "\n",
      "              prev_pay_Jul  prev_pay_Aug  prev_pay_Sep  default_pay  \n",
      "LIMIT_BAL         0.210161      0.178384      0.195330    -0.153783  \n",
      "AGE               0.029398      0.021908      0.026569     0.014129  \n",
      "bill_Apr          0.233722      0.172543      0.200300    -0.005612  \n",
      "bill_May          0.252252      0.181123      0.217305    -0.006987  \n",
      "bill_Jun          0.299985      0.207461      0.233186    -0.010378  \n",
      "bill_Jul          0.129990      0.316898      0.244443    -0.014312  \n",
      "bill_Aug          0.150663      0.100755      0.280336    -0.014377  \n",
      "bill_Sep          0.156905      0.099283      0.140654    -0.019890  \n",
      "prev_pay_Apr      0.162712      0.157602      0.186035    -0.053285  \n",
      "prev_pay_May      0.159245      0.180889      0.148741    -0.055242  \n",
      "prev_pay_Jun      0.216133      0.179986      0.199759    -0.056886  \n",
      "prev_pay_Jul      1.000000      0.244665      0.252263    -0.056263  \n",
      "prev_pay_Aug      0.244665      1.000000      0.285870    -0.058655  \n",
      "prev_pay_Sep      0.252263      0.285870      1.000000    -0.072864  \n",
      "default_pay      -0.056263     -0.058655     -0.072864     1.000000  \n"
     ]
    }
   ],
   "source": [
    "corrMat = credit.corr()\n",
    "print(corrMat)"
   ]
  },
  {
   "cell_type": "markdown",
   "metadata": {},
   "source": [
    "Covariance"
   ]
  },
  {
   "cell_type": "code",
   "execution_count": 66,
   "metadata": {},
   "outputs": [
    {
     "name": "stdout",
     "output_type": "stream",
     "text": [
      "                 LIMIT_BAL            AGE      bill_Apr      bill_May  \\\n",
      "LIMIT_BAL     1.685007e+10  173331.073667  2.246531e+09  2.334239e+09   \n",
      "AGE           1.733311e+05      84.979129  2.634266e+04  2.787111e+04   \n",
      "bill_Apr      2.246531e+09   26342.664358  3.551226e+09  3.430214e+09   \n",
      "bill_May      2.334239e+09   27871.113526  3.430214e+09  3.701028e+09   \n",
      "bill_Jun      2.456825e+09   30690.081275  3.456127e+09  3.681810e+09   \n",
      "bill_Jul      2.551415e+09   34604.229187  3.528657e+09  3.731470e+09   \n",
      "bill_Aug      2.573242e+09   35893.178842  3.529553e+09  3.725308e+09   \n",
      "bill_Sep      2.730895e+09   38419.753536  3.524415e+09  3.719626e+09   \n",
      "prev_pay_Apr  5.072314e+08    3225.861372  1.223696e+08  1.776405e+08   \n",
      "prev_pay_May  4.311326e+08    3245.790306  2.803503e+08  1.315990e+08   \n",
      "prev_pay_Jun  4.135743e+08    3109.019875  2.336832e+08  2.794628e+08   \n",
      "prev_pay_Jul  4.806400e+08    4774.621911  2.453892e+08  2.703731e+08   \n",
      "prev_pay_Aug  5.339747e+08    4657.138240  2.371098e+08  2.540960e+08   \n",
      "prev_pay_Sep  4.196985e+08    4054.116351  1.975779e+08  2.188261e+08   \n",
      "default_pay  -8.288651e+03       0.054083 -1.388514e+02 -1.765028e+02   \n",
      "\n",
      "                  bill_Jun      bill_Jul      bill_Aug      bill_Sep  \\\n",
      "LIMIT_BAL     2.456825e+09  2.551415e+09  2.573242e+09  2.730895e+09   \n",
      "AGE           3.069008e+04  3.460423e+04  3.589318e+04  3.841975e+04   \n",
      "bill_Apr      3.456127e+09  3.528657e+09  3.529553e+09  3.524415e+09   \n",
      "bill_May      3.681810e+09  3.731470e+09  3.725308e+09  3.719626e+09   \n",
      "bill_Jun      4.144126e+09  4.127455e+09  4.091790e+09  4.080572e+09   \n",
      "bill_Jul      4.127455e+09  4.815418e+09  4.587923e+09  4.562404e+09   \n",
      "bill_Aug      4.091790e+09  4.587923e+09  5.072189e+09  4.993319e+09   \n",
      "bill_Sep      4.080572e+09  4.562404e+09  4.993319e+09  5.429166e+09   \n",
      "prev_pay_Apr  2.033722e+08  2.250170e+08  2.206758e+08  2.349647e+08   \n",
      "prev_pay_May  1.578237e+08  1.905851e+08  1.719156e+08  1.880575e+08   \n",
      "prev_pay_Jun  1.312688e+08  1.559515e+08  1.645229e+08  1.828433e+08   \n",
      "prev_pay_Jul  3.402382e+08  1.589254e+08  1.890474e+08  2.036903e+08   \n",
      "prev_pay_Aug  3.079751e+08  5.071082e+08  1.654729e+08  1.686968e+08   \n",
      "prev_pay_Sep  2.484770e+08  2.807775e+08  3.304795e+08  1.715475e+08   \n",
      "default_pay  -2.773933e+02 -4.123879e+02 -4.251585e+02 -6.085307e+02   \n",
      "\n",
      "              prev_pay_Apr  prev_pay_May  prev_pay_Jun  prev_pay_Jul  \\\n",
      "LIMIT_BAL     5.072314e+08  4.311326e+08  4.135743e+08  4.806400e+08   \n",
      "AGE           3.225861e+03  3.245790e+03  3.109020e+03  4.774622e+03   \n",
      "bill_Apr      1.223696e+08  2.803503e+08  2.336832e+08  2.453892e+08   \n",
      "bill_May      1.776405e+08  1.315990e+08  2.794628e+08  2.703731e+08   \n",
      "bill_Jun      2.033722e+08  1.578237e+08  1.312688e+08  3.402382e+08   \n",
      "bill_Jul      2.250170e+08  1.905851e+08  1.559515e+08  1.589254e+08   \n",
      "bill_Aug      2.206758e+08  1.719156e+08  1.645229e+08  1.890474e+08   \n",
      "bill_Sep      2.349647e+08  1.880575e+08  1.828433e+08  2.036903e+08   \n",
      "prev_pay_Apr  3.165344e+08  4.212442e+07  4.401733e+07  5.100326e+07   \n",
      "prev_pay_May  4.212442e+07  2.338041e+08  3.639246e+07  4.290007e+07   \n",
      "prev_pay_Jun  4.401733e+07  3.639246e+07  2.457930e+08  5.969977e+07   \n",
      "prev_pay_Jul  5.100326e+07  4.290007e+07  5.969977e+07  3.104092e+08   \n",
      "prev_pay_Aug  6.465986e+07  6.378249e+07  6.507090e+07  9.940377e+07   \n",
      "prev_pay_Sep  5.478645e+07  3.764646e+07  5.183913e+07  7.356793e+07   \n",
      "default_pay  -3.936360e+02 -3.507270e+02 -3.703108e+02 -4.115935e+02   \n",
      "\n",
      "              prev_pay_Aug  prev_pay_Sep  default_pay  \n",
      "LIMIT_BAL     5.339747e+08  4.196985e+08 -8288.650748  \n",
      "AGE           4.657138e+03  4.054116e+03     0.054083  \n",
      "bill_Apr      2.371098e+08  1.975779e+08  -138.851359  \n",
      "bill_May      2.540960e+08  2.188261e+08  -176.502822  \n",
      "bill_Jun      3.079751e+08  2.484770e+08  -277.393293  \n",
      "bill_Jul      5.071082e+08  2.807775e+08  -412.387851  \n",
      "bill_Aug      1.654729e+08  3.304795e+08  -425.158455  \n",
      "bill_Sep      1.686968e+08  1.715475e+08  -608.530720  \n",
      "prev_pay_Apr  6.465986e+07  5.478645e+07  -393.635994  \n",
      "prev_pay_May  6.378249e+07  3.764646e+07  -350.726989  \n",
      "prev_pay_Jun  6.507090e+07  5.183913e+07  -370.310844  \n",
      "prev_pay_Jul  9.940377e+07  7.356793e+07  -411.593547  \n",
      "prev_pay_Aug  5.317740e+08  1.091189e+08  -561.622869  \n",
      "prev_pay_Sep  1.091189e+08  2.739900e+08  -500.793518  \n",
      "default_pay  -5.616229e+02 -5.007935e+02     0.172406  \n"
     ]
    }
   ],
   "source": [
    "covMat = credit.cov()\n",
    "print(covMat)"
   ]
  },
  {
   "cell_type": "code",
   "execution_count": 67,
   "metadata": {},
   "outputs": [
    {
     "name": "stdout",
     "output_type": "stream",
     "text": [
      "<class 'pandas.core.frame.DataFrame'>\n",
      "Int64Index: 29946 entries, 0 to 29999\n",
      "Data columns (total 25 columns):\n",
      "LIMIT_BAL       29946 non-null int64\n",
      "SEX             29946 non-null category\n",
      "EDUCATION       29946 non-null category\n",
      "MARRIAGE        29946 non-null category\n",
      "AGE             29946 non-null int64\n",
      "AGE_bin         29946 non-null category\n",
      "status_Apr      29946 non-null category\n",
      "status_May      29946 non-null category\n",
      "status_Jun      29946 non-null category\n",
      "status_Jul      29946 non-null category\n",
      "status_Aug      29946 non-null category\n",
      "status_Sep      29946 non-null category\n",
      "bill_Apr        29946 non-null int64\n",
      "bill_May        29946 non-null int64\n",
      "bill_Jun        29946 non-null int64\n",
      "bill_Jul        29946 non-null int64\n",
      "bill_Aug        29946 non-null int64\n",
      "bill_Sep        29946 non-null int64\n",
      "prev_pay_Apr    29946 non-null int64\n",
      "prev_pay_May    29946 non-null int64\n",
      "prev_pay_Jun    29946 non-null int64\n",
      "prev_pay_Jul    29946 non-null int64\n",
      "prev_pay_Aug    29946 non-null int64\n",
      "prev_pay_Sep    29946 non-null int64\n",
      "default_pay     29946 non-null int64\n",
      "dtypes: category(10), int64(15)\n",
      "memory usage: 5.2 MB\n"
     ]
    }
   ],
   "source": [
    "credit.info()\n"
   ]
  },
  {
   "cell_type": "code",
   "execution_count": 68,
   "metadata": {
    "collapsed": true
   },
   "outputs": [],
   "source": [
    "  credit.to_csv(\"C:/Users/ezlip/Desktop/Preprocessedcreditdata.csv\")"
   ]
  },
  {
   "cell_type": "code",
   "execution_count": null,
   "metadata": {
    "collapsed": true
   },
   "outputs": [],
   "source": []
  }
 ],
 "metadata": {
  "kernelspec": {
   "display_name": "Python 3",
   "language": "python",
   "name": "python3"
  },
  "language_info": {
   "codemirror_mode": {
    "name": "ipython",
    "version": 3
   },
   "file_extension": ".py",
   "mimetype": "text/x-python",
   "name": "python",
   "nbconvert_exporter": "python",
   "pygments_lexer": "ipython3",
   "version": "3.6.3"
  }
 },
 "nbformat": 4,
 "nbformat_minor": 2
}
