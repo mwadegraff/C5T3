{
 "cells": [
  {
   "cell_type": "markdown",
   "metadata": {},
   "source": [
    "# Modeling: classification problem\n",
    "\n",
    "***Can we predict the default status of customers given their demographical and payment history?*** \n",
    "\n",
    " \n",
    " ***Random Forest***\n",
    " Accuracy 0.806433659839715; \n",
    " Kappa 0.31882442357752183; \n",
    " Sensitivity 0.3254982115482882; \n",
    " Specificity 0.9403728475878753; \n",
    " Precision 0.603219696969697; \n",
    " False Positive Rate 0.059627152412124663\n",
    "\n",
    "\n",
    " ***Support Vector Machine***\n",
    " Accuracy 0.7836153161175423; \n",
    " Kappa 0.022706581138107862; \n",
    " Sensitivity 0.01788451711803781; \n",
    " Specificity 0.9968692187277644; \n",
    " Precision 0.6140350877192983; \n",
    " False Positive Rate 0.0031307812722356624\n",
    " \n",
    "\n",
    " ***K-Nearest Neighbors***\n",
    " Accuracy 0.7792742653606411; \n",
    " Kappa 0.07280833765478378; \n",
    " Sensitivity 0.07562595809913132; \n",
    " Specificity 0.9752383663014088; \n",
    " Precision 0.45962732919254656; \n",
    " False Positive Rate 0.02476163369859115\n",
    " \n",
    "\n",
    " ***Logistic Regression***\n",
    " Accuracy 0.7821682991985752; \n",
    " Kappa 0.0005764039984930136; \n",
    " Sensitivity 0.000510986203372509; \n",
    " Specificity 0.9998576917603529; \n",
    " Precision 0.5; \n",
    " False Positive Rate 0.00014230823964707557"
   ]
  },
  {
   "cell_type": "code",
   "execution_count": 1,
   "metadata": {},
   "outputs": [
    {
     "name": "stderr",
     "output_type": "stream",
     "text": [
      "C:\\Users\\ezlip\\Anaconda3\\lib\\site-packages\\sklearn\\cross_validation.py:41: DeprecationWarning: This module was deprecated in version 0.18 in favor of the model_selection module into which all the refactored classes and functions are moved. Also note that the interface of the new CV iterators are different from that of this module. This module will be removed in 0.20.\n",
      "  \"This module will be removed in 0.20.\", DeprecationWarning)\n",
      "C:\\Users\\ezlip\\Anaconda3\\lib\\site-packages\\sklearn\\grid_search.py:42: DeprecationWarning: This module was deprecated in version 0.18 in favor of the model_selection module into which all the refactored classes and functions are moved. This module will be removed in 0.20.\n",
      "  DeprecationWarning)\n"
     ]
    }
   ],
   "source": [
    "# import: numpy, pandas, scipy, matplotlib\n",
    "import numpy as np\n",
    "import pandas as pd\n",
    "import scipy\n",
    "from math import sqrt\n",
    "import matplotlib.pyplot as plt\n",
    "%matplotlib inline\n",
    "\n",
    "# estimators\n",
    "from sklearn.ensemble import RandomForestClassifier \n",
    "from sklearn import svm\n",
    "from sklearn.neighbors import KNeighborsClassifier\n",
    "from sklearn.linear_model import LogisticRegression\n",
    "\n",
    "# model metrics\n",
    "from sklearn.model_selection import cross_val_score\n",
    "import sklearn.metrics as skm\n",
    "\n",
    "\n",
    "# cross validation\n",
    "from sklearn.cross_validation import train_test_split\n",
    "\n",
    "\n",
    "# parameter tuning\n",
    "from sklearn.grid_search import GridSearchCV"
   ]
  },
  {
   "cell_type": "code",
   "execution_count": 2,
   "metadata": {},
   "outputs": [
    {
     "data": {
      "text/html": [
       "<div>\n",
       "<style scoped>\n",
       "    .dataframe tbody tr th:only-of-type {\n",
       "        vertical-align: middle;\n",
       "    }\n",
       "\n",
       "    .dataframe tbody tr th {\n",
       "        vertical-align: top;\n",
       "    }\n",
       "\n",
       "    .dataframe thead th {\n",
       "        text-align: right;\n",
       "    }\n",
       "</style>\n",
       "<table border=\"1\" class=\"dataframe\">\n",
       "  <thead>\n",
       "    <tr style=\"text-align: right;\">\n",
       "      <th></th>\n",
       "      <th>LIMIT_BAL</th>\n",
       "      <th>SEX</th>\n",
       "      <th>EDUCATION</th>\n",
       "      <th>MARRIAGE</th>\n",
       "      <th>AGE</th>\n",
       "      <th>AGE_bin</th>\n",
       "      <th>status_Apr</th>\n",
       "      <th>status_May</th>\n",
       "      <th>status_Jun</th>\n",
       "      <th>status_Jul</th>\n",
       "      <th>status_Aug</th>\n",
       "      <th>status_Sep</th>\n",
       "      <th>bill_Apr</th>\n",
       "      <th>bill_May</th>\n",
       "      <th>bill_Jun</th>\n",
       "      <th>bill_Jul</th>\n",
       "      <th>bill_Aug</th>\n",
       "      <th>bill_Sep</th>\n",
       "      <th>prev_pay_Apr</th>\n",
       "      <th>prev_pay_May</th>\n",
       "      <th>prev_pay_Jun</th>\n",
       "      <th>prev_pay_Jul</th>\n",
       "      <th>prev_pay_Aug</th>\n",
       "      <th>prev_pay_Sep</th>\n",
       "      <th>default_pay</th>\n",
       "    </tr>\n",
       "  </thead>\n",
       "  <tbody>\n",
       "    <tr>\n",
       "      <th>0</th>\n",
       "      <td>20000</td>\n",
       "      <td>2</td>\n",
       "      <td>2</td>\n",
       "      <td>1</td>\n",
       "      <td>24</td>\n",
       "      <td>1</td>\n",
       "      <td>0</td>\n",
       "      <td>0</td>\n",
       "      <td>0</td>\n",
       "      <td>0</td>\n",
       "      <td>2</td>\n",
       "      <td>2</td>\n",
       "      <td>0</td>\n",
       "      <td>0</td>\n",
       "      <td>0</td>\n",
       "      <td>689</td>\n",
       "      <td>3102</td>\n",
       "      <td>3913</td>\n",
       "      <td>0</td>\n",
       "      <td>0</td>\n",
       "      <td>0</td>\n",
       "      <td>0</td>\n",
       "      <td>689</td>\n",
       "      <td>0</td>\n",
       "      <td>1</td>\n",
       "    </tr>\n",
       "    <tr>\n",
       "      <th>1</th>\n",
       "      <td>120000</td>\n",
       "      <td>2</td>\n",
       "      <td>2</td>\n",
       "      <td>2</td>\n",
       "      <td>26</td>\n",
       "      <td>1</td>\n",
       "      <td>2</td>\n",
       "      <td>0</td>\n",
       "      <td>0</td>\n",
       "      <td>0</td>\n",
       "      <td>2</td>\n",
       "      <td>0</td>\n",
       "      <td>3261</td>\n",
       "      <td>3455</td>\n",
       "      <td>3272</td>\n",
       "      <td>2682</td>\n",
       "      <td>1725</td>\n",
       "      <td>2682</td>\n",
       "      <td>2000</td>\n",
       "      <td>0</td>\n",
       "      <td>1000</td>\n",
       "      <td>1000</td>\n",
       "      <td>1000</td>\n",
       "      <td>0</td>\n",
       "      <td>1</td>\n",
       "    </tr>\n",
       "    <tr>\n",
       "      <th>2</th>\n",
       "      <td>90000</td>\n",
       "      <td>2</td>\n",
       "      <td>2</td>\n",
       "      <td>2</td>\n",
       "      <td>34</td>\n",
       "      <td>2</td>\n",
       "      <td>0</td>\n",
       "      <td>0</td>\n",
       "      <td>0</td>\n",
       "      <td>0</td>\n",
       "      <td>0</td>\n",
       "      <td>0</td>\n",
       "      <td>15549</td>\n",
       "      <td>14948</td>\n",
       "      <td>14331</td>\n",
       "      <td>13559</td>\n",
       "      <td>14027</td>\n",
       "      <td>29239</td>\n",
       "      <td>5000</td>\n",
       "      <td>1000</td>\n",
       "      <td>1000</td>\n",
       "      <td>1000</td>\n",
       "      <td>1500</td>\n",
       "      <td>1518</td>\n",
       "      <td>0</td>\n",
       "    </tr>\n",
       "    <tr>\n",
       "      <th>3</th>\n",
       "      <td>50000</td>\n",
       "      <td>2</td>\n",
       "      <td>2</td>\n",
       "      <td>1</td>\n",
       "      <td>37</td>\n",
       "      <td>2</td>\n",
       "      <td>0</td>\n",
       "      <td>0</td>\n",
       "      <td>0</td>\n",
       "      <td>0</td>\n",
       "      <td>0</td>\n",
       "      <td>0</td>\n",
       "      <td>29547</td>\n",
       "      <td>28959</td>\n",
       "      <td>28314</td>\n",
       "      <td>49291</td>\n",
       "      <td>48233</td>\n",
       "      <td>46990</td>\n",
       "      <td>1000</td>\n",
       "      <td>1069</td>\n",
       "      <td>1100</td>\n",
       "      <td>1200</td>\n",
       "      <td>2019</td>\n",
       "      <td>2000</td>\n",
       "      <td>0</td>\n",
       "    </tr>\n",
       "    <tr>\n",
       "      <th>4</th>\n",
       "      <td>50000</td>\n",
       "      <td>1</td>\n",
       "      <td>2</td>\n",
       "      <td>1</td>\n",
       "      <td>57</td>\n",
       "      <td>4</td>\n",
       "      <td>0</td>\n",
       "      <td>0</td>\n",
       "      <td>0</td>\n",
       "      <td>0</td>\n",
       "      <td>0</td>\n",
       "      <td>0</td>\n",
       "      <td>19131</td>\n",
       "      <td>19146</td>\n",
       "      <td>20940</td>\n",
       "      <td>35835</td>\n",
       "      <td>5670</td>\n",
       "      <td>8617</td>\n",
       "      <td>679</td>\n",
       "      <td>689</td>\n",
       "      <td>9000</td>\n",
       "      <td>10000</td>\n",
       "      <td>36681</td>\n",
       "      <td>2000</td>\n",
       "      <td>0</td>\n",
       "    </tr>\n",
       "  </tbody>\n",
       "</table>\n",
       "</div>"
      ],
      "text/plain": [
       "   LIMIT_BAL  SEX  EDUCATION  MARRIAGE  AGE  AGE_bin  status_Apr  status_May  \\\n",
       "0      20000    2          2         1   24        1           0           0   \n",
       "1     120000    2          2         2   26        1           2           0   \n",
       "2      90000    2          2         2   34        2           0           0   \n",
       "3      50000    2          2         1   37        2           0           0   \n",
       "4      50000    1          2         1   57        4           0           0   \n",
       "\n",
       "   status_Jun  status_Jul  status_Aug  status_Sep  bill_Apr  bill_May  \\\n",
       "0           0           0           2           2         0         0   \n",
       "1           0           0           2           0      3261      3455   \n",
       "2           0           0           0           0     15549     14948   \n",
       "3           0           0           0           0     29547     28959   \n",
       "4           0           0           0           0     19131     19146   \n",
       "\n",
       "   bill_Jun  bill_Jul  bill_Aug  bill_Sep  prev_pay_Apr  prev_pay_May  \\\n",
       "0         0       689      3102      3913             0             0   \n",
       "1      3272      2682      1725      2682          2000             0   \n",
       "2     14331     13559     14027     29239          5000          1000   \n",
       "3     28314     49291     48233     46990          1000          1069   \n",
       "4     20940     35835      5670      8617           679           689   \n",
       "\n",
       "   prev_pay_Jun  prev_pay_Jul  prev_pay_Aug  prev_pay_Sep  default_pay  \n",
       "0             0             0           689             0            1  \n",
       "1          1000          1000          1000             0            1  \n",
       "2          1000          1000          1500          1518            0  \n",
       "3          1100          1200          2019          2000            0  \n",
       "4          9000         10000         36681          2000            0  "
      ]
     },
     "execution_count": 2,
     "metadata": {},
     "output_type": "execute_result"
    }
   ],
   "source": [
    "# import the dataset \n",
    "\n",
    "credit = pd.read_csv('Preprocessedcreditdata.csv', header = 0)\n",
    "\n",
    "pd.set_option('display.max_columns', 25) \n",
    "credit.head()"
   ]
  },
  {
   "cell_type": "code",
   "execution_count": 3,
   "metadata": {},
   "outputs": [
    {
     "data": {
      "text/plain": [
       "(29946, 25)"
      ]
     },
     "execution_count": 3,
     "metadata": {},
     "output_type": "execute_result"
    }
   ],
   "source": [
    "credit.shape"
   ]
  },
  {
   "cell_type": "code",
   "execution_count": 4,
   "metadata": {},
   "outputs": [
    {
     "data": {
      "text/html": [
       "<div>\n",
       "<style scoped>\n",
       "    .dataframe tbody tr th:only-of-type {\n",
       "        vertical-align: middle;\n",
       "    }\n",
       "\n",
       "    .dataframe tbody tr th {\n",
       "        vertical-align: top;\n",
       "    }\n",
       "\n",
       "    .dataframe thead th {\n",
       "        text-align: right;\n",
       "    }\n",
       "</style>\n",
       "<table border=\"1\" class=\"dataframe\">\n",
       "  <thead>\n",
       "    <tr style=\"text-align: right;\">\n",
       "      <th></th>\n",
       "      <th>LIMIT_BAL</th>\n",
       "      <th>SEX</th>\n",
       "      <th>EDUCATION</th>\n",
       "      <th>MARRIAGE</th>\n",
       "      <th>AGE</th>\n",
       "      <th>AGE_bin</th>\n",
       "      <th>status_Apr</th>\n",
       "      <th>status_May</th>\n",
       "      <th>status_Jun</th>\n",
       "      <th>status_Jul</th>\n",
       "      <th>status_Aug</th>\n",
       "      <th>status_Sep</th>\n",
       "      <th>bill_Apr</th>\n",
       "      <th>bill_May</th>\n",
       "      <th>bill_Jun</th>\n",
       "      <th>bill_Jul</th>\n",
       "      <th>bill_Aug</th>\n",
       "      <th>bill_Sep</th>\n",
       "      <th>prev_pay_Apr</th>\n",
       "      <th>prev_pay_May</th>\n",
       "      <th>prev_pay_Jun</th>\n",
       "      <th>prev_pay_Jul</th>\n",
       "      <th>prev_pay_Aug</th>\n",
       "      <th>prev_pay_Sep</th>\n",
       "      <th>default_pay</th>\n",
       "    </tr>\n",
       "  </thead>\n",
       "  <tbody>\n",
       "    <tr>\n",
       "      <th>27207</th>\n",
       "      <td>250000</td>\n",
       "      <td>1</td>\n",
       "      <td>3</td>\n",
       "      <td>1</td>\n",
       "      <td>28</td>\n",
       "      <td>1</td>\n",
       "      <td>0</td>\n",
       "      <td>0</td>\n",
       "      <td>0</td>\n",
       "      <td>0</td>\n",
       "      <td>0</td>\n",
       "      <td>0</td>\n",
       "      <td>95309</td>\n",
       "      <td>93354</td>\n",
       "      <td>92278</td>\n",
       "      <td>90497</td>\n",
       "      <td>191305</td>\n",
       "      <td>249827</td>\n",
       "      <td>3525</td>\n",
       "      <td>3301</td>\n",
       "      <td>3186</td>\n",
       "      <td>3913</td>\n",
       "      <td>3899</td>\n",
       "      <td>8500</td>\n",
       "      <td>0</td>\n",
       "    </tr>\n",
       "    <tr>\n",
       "      <th>12649</th>\n",
       "      <td>60000</td>\n",
       "      <td>2</td>\n",
       "      <td>1</td>\n",
       "      <td>2</td>\n",
       "      <td>26</td>\n",
       "      <td>1</td>\n",
       "      <td>0</td>\n",
       "      <td>0</td>\n",
       "      <td>0</td>\n",
       "      <td>0</td>\n",
       "      <td>0</td>\n",
       "      <td>1</td>\n",
       "      <td>43550</td>\n",
       "      <td>44307</td>\n",
       "      <td>43296</td>\n",
       "      <td>28266</td>\n",
       "      <td>23040</td>\n",
       "      <td>0</td>\n",
       "      <td>15000</td>\n",
       "      <td>1549</td>\n",
       "      <td>1669</td>\n",
       "      <td>20000</td>\n",
       "      <td>8000</td>\n",
       "      <td>23040</td>\n",
       "      <td>0</td>\n",
       "    </tr>\n",
       "    <tr>\n",
       "      <th>11275</th>\n",
       "      <td>120000</td>\n",
       "      <td>2</td>\n",
       "      <td>1</td>\n",
       "      <td>2</td>\n",
       "      <td>33</td>\n",
       "      <td>2</td>\n",
       "      <td>0</td>\n",
       "      <td>0</td>\n",
       "      <td>0</td>\n",
       "      <td>0</td>\n",
       "      <td>0</td>\n",
       "      <td>2</td>\n",
       "      <td>22845</td>\n",
       "      <td>22214</td>\n",
       "      <td>21560</td>\n",
       "      <td>20908</td>\n",
       "      <td>19844</td>\n",
       "      <td>18653</td>\n",
       "      <td>2000</td>\n",
       "      <td>1000</td>\n",
       "      <td>1000</td>\n",
       "      <td>1000</td>\n",
       "      <td>1400</td>\n",
       "      <td>1500</td>\n",
       "      <td>1</td>\n",
       "    </tr>\n",
       "    <tr>\n",
       "      <th>14384</th>\n",
       "      <td>50000</td>\n",
       "      <td>2</td>\n",
       "      <td>1</td>\n",
       "      <td>2</td>\n",
       "      <td>23</td>\n",
       "      <td>1</td>\n",
       "      <td>0</td>\n",
       "      <td>0</td>\n",
       "      <td>0</td>\n",
       "      <td>0</td>\n",
       "      <td>0</td>\n",
       "      <td>0</td>\n",
       "      <td>39115</td>\n",
       "      <td>37744</td>\n",
       "      <td>36991</td>\n",
       "      <td>36120</td>\n",
       "      <td>35409</td>\n",
       "      <td>33959</td>\n",
       "      <td>5000</td>\n",
       "      <td>2000</td>\n",
       "      <td>1500</td>\n",
       "      <td>1472</td>\n",
       "      <td>1601</td>\n",
       "      <td>2000</td>\n",
       "      <td>0</td>\n",
       "    </tr>\n",
       "    <tr>\n",
       "      <th>26515</th>\n",
       "      <td>50000</td>\n",
       "      <td>2</td>\n",
       "      <td>3</td>\n",
       "      <td>2</td>\n",
       "      <td>56</td>\n",
       "      <td>4</td>\n",
       "      <td>0</td>\n",
       "      <td>0</td>\n",
       "      <td>0</td>\n",
       "      <td>0</td>\n",
       "      <td>0</td>\n",
       "      <td>0</td>\n",
       "      <td>16194</td>\n",
       "      <td>15417</td>\n",
       "      <td>48371</td>\n",
       "      <td>50417</td>\n",
       "      <td>49157</td>\n",
       "      <td>48155</td>\n",
       "      <td>20698</td>\n",
       "      <td>1017</td>\n",
       "      <td>600</td>\n",
       "      <td>1683</td>\n",
       "      <td>2058</td>\n",
       "      <td>1798</td>\n",
       "      <td>0</td>\n",
       "    </tr>\n",
       "    <tr>\n",
       "      <th>10923</th>\n",
       "      <td>500000</td>\n",
       "      <td>1</td>\n",
       "      <td>1</td>\n",
       "      <td>1</td>\n",
       "      <td>42</td>\n",
       "      <td>3</td>\n",
       "      <td>0</td>\n",
       "      <td>0</td>\n",
       "      <td>0</td>\n",
       "      <td>0</td>\n",
       "      <td>0</td>\n",
       "      <td>1</td>\n",
       "      <td>7867</td>\n",
       "      <td>1349</td>\n",
       "      <td>8974</td>\n",
       "      <td>32269</td>\n",
       "      <td>11652</td>\n",
       "      <td>3747</td>\n",
       "      <td>0</td>\n",
       "      <td>7867</td>\n",
       "      <td>1349</td>\n",
       "      <td>8981</td>\n",
       "      <td>34545</td>\n",
       "      <td>11684</td>\n",
       "      <td>0</td>\n",
       "    </tr>\n",
       "    <tr>\n",
       "      <th>19917</th>\n",
       "      <td>300000</td>\n",
       "      <td>2</td>\n",
       "      <td>3</td>\n",
       "      <td>1</td>\n",
       "      <td>37</td>\n",
       "      <td>2</td>\n",
       "      <td>0</td>\n",
       "      <td>0</td>\n",
       "      <td>0</td>\n",
       "      <td>0</td>\n",
       "      <td>0</td>\n",
       "      <td>0</td>\n",
       "      <td>9234</td>\n",
       "      <td>54744</td>\n",
       "      <td>69725</td>\n",
       "      <td>84870</td>\n",
       "      <td>84922</td>\n",
       "      <td>85405</td>\n",
       "      <td>126463</td>\n",
       "      <td>1594</td>\n",
       "      <td>1095</td>\n",
       "      <td>2210</td>\n",
       "      <td>3319</td>\n",
       "      <td>3479</td>\n",
       "      <td>0</td>\n",
       "    </tr>\n",
       "    <tr>\n",
       "      <th>6314</th>\n",
       "      <td>50000</td>\n",
       "      <td>1</td>\n",
       "      <td>3</td>\n",
       "      <td>1</td>\n",
       "      <td>51</td>\n",
       "      <td>4</td>\n",
       "      <td>0</td>\n",
       "      <td>0</td>\n",
       "      <td>0</td>\n",
       "      <td>0</td>\n",
       "      <td>0</td>\n",
       "      <td>0</td>\n",
       "      <td>6878</td>\n",
       "      <td>6379</td>\n",
       "      <td>4843</td>\n",
       "      <td>3287</td>\n",
       "      <td>2228</td>\n",
       "      <td>636</td>\n",
       "      <td>3000</td>\n",
       "      <td>1000</td>\n",
       "      <td>2000</td>\n",
       "      <td>2000</td>\n",
       "      <td>1500</td>\n",
       "      <td>4600</td>\n",
       "      <td>0</td>\n",
       "    </tr>\n",
       "    <tr>\n",
       "      <th>29320</th>\n",
       "      <td>260000</td>\n",
       "      <td>1</td>\n",
       "      <td>2</td>\n",
       "      <td>2</td>\n",
       "      <td>28</td>\n",
       "      <td>1</td>\n",
       "      <td>0</td>\n",
       "      <td>0</td>\n",
       "      <td>0</td>\n",
       "      <td>0</td>\n",
       "      <td>0</td>\n",
       "      <td>1</td>\n",
       "      <td>0</td>\n",
       "      <td>0</td>\n",
       "      <td>0</td>\n",
       "      <td>0</td>\n",
       "      <td>0</td>\n",
       "      <td>0</td>\n",
       "      <td>0</td>\n",
       "      <td>0</td>\n",
       "      <td>0</td>\n",
       "      <td>0</td>\n",
       "      <td>0</td>\n",
       "      <td>0</td>\n",
       "      <td>0</td>\n",
       "    </tr>\n",
       "    <tr>\n",
       "      <th>9360</th>\n",
       "      <td>450000</td>\n",
       "      <td>2</td>\n",
       "      <td>1</td>\n",
       "      <td>1</td>\n",
       "      <td>69</td>\n",
       "      <td>5</td>\n",
       "      <td>0</td>\n",
       "      <td>0</td>\n",
       "      <td>0</td>\n",
       "      <td>0</td>\n",
       "      <td>0</td>\n",
       "      <td>0</td>\n",
       "      <td>2374</td>\n",
       "      <td>6265</td>\n",
       "      <td>0</td>\n",
       "      <td>1173</td>\n",
       "      <td>0</td>\n",
       "      <td>2000</td>\n",
       "      <td>708</td>\n",
       "      <td>2374</td>\n",
       "      <td>6265</td>\n",
       "      <td>0</td>\n",
       "      <td>1173</td>\n",
       "      <td>0</td>\n",
       "      <td>1</td>\n",
       "    </tr>\n",
       "    <tr>\n",
       "      <th>13416</th>\n",
       "      <td>180000</td>\n",
       "      <td>2</td>\n",
       "      <td>2</td>\n",
       "      <td>2</td>\n",
       "      <td>39</td>\n",
       "      <td>2</td>\n",
       "      <td>0</td>\n",
       "      <td>0</td>\n",
       "      <td>0</td>\n",
       "      <td>0</td>\n",
       "      <td>0</td>\n",
       "      <td>0</td>\n",
       "      <td>0</td>\n",
       "      <td>460</td>\n",
       "      <td>0</td>\n",
       "      <td>47392</td>\n",
       "      <td>785</td>\n",
       "      <td>57500</td>\n",
       "      <td>2070</td>\n",
       "      <td>0</td>\n",
       "      <td>460</td>\n",
       "      <td>0</td>\n",
       "      <td>47822</td>\n",
       "      <td>785</td>\n",
       "      <td>0</td>\n",
       "    </tr>\n",
       "    <tr>\n",
       "      <th>21622</th>\n",
       "      <td>30000</td>\n",
       "      <td>2</td>\n",
       "      <td>2</td>\n",
       "      <td>2</td>\n",
       "      <td>27</td>\n",
       "      <td>1</td>\n",
       "      <td>2</td>\n",
       "      <td>2</td>\n",
       "      <td>0</td>\n",
       "      <td>0</td>\n",
       "      <td>0</td>\n",
       "      <td>0</td>\n",
       "      <td>17463</td>\n",
       "      <td>12709</td>\n",
       "      <td>13218</td>\n",
       "      <td>10715</td>\n",
       "      <td>9677</td>\n",
       "      <td>8476</td>\n",
       "      <td>0</td>\n",
       "      <td>5000</td>\n",
       "      <td>0</td>\n",
       "      <td>3000</td>\n",
       "      <td>1500</td>\n",
       "      <td>1500</td>\n",
       "      <td>0</td>\n",
       "    </tr>\n",
       "    <tr>\n",
       "      <th>515</th>\n",
       "      <td>70000</td>\n",
       "      <td>1</td>\n",
       "      <td>3</td>\n",
       "      <td>1</td>\n",
       "      <td>32</td>\n",
       "      <td>2</td>\n",
       "      <td>0</td>\n",
       "      <td>0</td>\n",
       "      <td>0</td>\n",
       "      <td>0</td>\n",
       "      <td>0</td>\n",
       "      <td>0</td>\n",
       "      <td>71284</td>\n",
       "      <td>69884</td>\n",
       "      <td>68392</td>\n",
       "      <td>69188</td>\n",
       "      <td>67629</td>\n",
       "      <td>68739</td>\n",
       "      <td>5500</td>\n",
       "      <td>2750</td>\n",
       "      <td>2750</td>\n",
       "      <td>2610</td>\n",
       "      <td>3300</td>\n",
       "      <td>3060</td>\n",
       "      <td>0</td>\n",
       "    </tr>\n",
       "    <tr>\n",
       "      <th>29590</th>\n",
       "      <td>160000</td>\n",
       "      <td>1</td>\n",
       "      <td>1</td>\n",
       "      <td>2</td>\n",
       "      <td>31</td>\n",
       "      <td>2</td>\n",
       "      <td>0</td>\n",
       "      <td>0</td>\n",
       "      <td>0</td>\n",
       "      <td>0</td>\n",
       "      <td>2</td>\n",
       "      <td>1</td>\n",
       "      <td>61778</td>\n",
       "      <td>60227</td>\n",
       "      <td>59331</td>\n",
       "      <td>56316</td>\n",
       "      <td>55371</td>\n",
       "      <td>56432</td>\n",
       "      <td>3000</td>\n",
       "      <td>2200</td>\n",
       "      <td>2000</td>\n",
       "      <td>3500</td>\n",
       "      <td>2000</td>\n",
       "      <td>0</td>\n",
       "      <td>0</td>\n",
       "    </tr>\n",
       "    <tr>\n",
       "      <th>29001</th>\n",
       "      <td>20000</td>\n",
       "      <td>2</td>\n",
       "      <td>2</td>\n",
       "      <td>1</td>\n",
       "      <td>50</td>\n",
       "      <td>3</td>\n",
       "      <td>0</td>\n",
       "      <td>2</td>\n",
       "      <td>0</td>\n",
       "      <td>0</td>\n",
       "      <td>0</td>\n",
       "      <td>1</td>\n",
       "      <td>1051</td>\n",
       "      <td>501</td>\n",
       "      <td>891</td>\n",
       "      <td>181</td>\n",
       "      <td>390</td>\n",
       "      <td>0</td>\n",
       "      <td>4030</td>\n",
       "      <td>1100</td>\n",
       "      <td>0</td>\n",
       "      <td>1100</td>\n",
       "      <td>181</td>\n",
       "      <td>780</td>\n",
       "      <td>0</td>\n",
       "    </tr>\n",
       "    <tr>\n",
       "      <th>1418</th>\n",
       "      <td>130000</td>\n",
       "      <td>2</td>\n",
       "      <td>2</td>\n",
       "      <td>2</td>\n",
       "      <td>24</td>\n",
       "      <td>1</td>\n",
       "      <td>0</td>\n",
       "      <td>0</td>\n",
       "      <td>0</td>\n",
       "      <td>0</td>\n",
       "      <td>0</td>\n",
       "      <td>0</td>\n",
       "      <td>49699</td>\n",
       "      <td>48898</td>\n",
       "      <td>48288</td>\n",
       "      <td>61466</td>\n",
       "      <td>118319</td>\n",
       "      <td>122750</td>\n",
       "      <td>2672</td>\n",
       "      <td>2000</td>\n",
       "      <td>1765</td>\n",
       "      <td>1710</td>\n",
       "      <td>2034</td>\n",
       "      <td>4966</td>\n",
       "      <td>0</td>\n",
       "    </tr>\n",
       "    <tr>\n",
       "      <th>7992</th>\n",
       "      <td>80000</td>\n",
       "      <td>2</td>\n",
       "      <td>2</td>\n",
       "      <td>2</td>\n",
       "      <td>27</td>\n",
       "      <td>1</td>\n",
       "      <td>0</td>\n",
       "      <td>0</td>\n",
       "      <td>0</td>\n",
       "      <td>0</td>\n",
       "      <td>0</td>\n",
       "      <td>0</td>\n",
       "      <td>46192</td>\n",
       "      <td>46032</td>\n",
       "      <td>45981</td>\n",
       "      <td>45257</td>\n",
       "      <td>68883</td>\n",
       "      <td>73684</td>\n",
       "      <td>1833</td>\n",
       "      <td>1700</td>\n",
       "      <td>1665</td>\n",
       "      <td>1619</td>\n",
       "      <td>1722</td>\n",
       "      <td>2896</td>\n",
       "      <td>1</td>\n",
       "    </tr>\n",
       "    <tr>\n",
       "      <th>19909</th>\n",
       "      <td>360000</td>\n",
       "      <td>2</td>\n",
       "      <td>2</td>\n",
       "      <td>1</td>\n",
       "      <td>45</td>\n",
       "      <td>3</td>\n",
       "      <td>0</td>\n",
       "      <td>0</td>\n",
       "      <td>0</td>\n",
       "      <td>0</td>\n",
       "      <td>0</td>\n",
       "      <td>0</td>\n",
       "      <td>1728</td>\n",
       "      <td>150</td>\n",
       "      <td>0</td>\n",
       "      <td>0</td>\n",
       "      <td>0</td>\n",
       "      <td>12040</td>\n",
       "      <td>0</td>\n",
       "      <td>1728</td>\n",
       "      <td>150</td>\n",
       "      <td>0</td>\n",
       "      <td>0</td>\n",
       "      <td>0</td>\n",
       "      <td>0</td>\n",
       "    </tr>\n",
       "    <tr>\n",
       "      <th>26048</th>\n",
       "      <td>50000</td>\n",
       "      <td>2</td>\n",
       "      <td>2</td>\n",
       "      <td>1</td>\n",
       "      <td>46</td>\n",
       "      <td>3</td>\n",
       "      <td>0</td>\n",
       "      <td>0</td>\n",
       "      <td>0</td>\n",
       "      <td>0</td>\n",
       "      <td>0</td>\n",
       "      <td>0</td>\n",
       "      <td>290</td>\n",
       "      <td>280</td>\n",
       "      <td>11882</td>\n",
       "      <td>26461</td>\n",
       "      <td>2720</td>\n",
       "      <td>4640</td>\n",
       "      <td>1535</td>\n",
       "      <td>300</td>\n",
       "      <td>280</td>\n",
       "      <td>1034</td>\n",
       "      <td>26461</td>\n",
       "      <td>2720</td>\n",
       "      <td>0</td>\n",
       "    </tr>\n",
       "    <tr>\n",
       "      <th>3072</th>\n",
       "      <td>50000</td>\n",
       "      <td>2</td>\n",
       "      <td>3</td>\n",
       "      <td>1</td>\n",
       "      <td>32</td>\n",
       "      <td>2</td>\n",
       "      <td>0</td>\n",
       "      <td>0</td>\n",
       "      <td>0</td>\n",
       "      <td>0</td>\n",
       "      <td>0</td>\n",
       "      <td>0</td>\n",
       "      <td>19619</td>\n",
       "      <td>17928</td>\n",
       "      <td>17360</td>\n",
       "      <td>47539</td>\n",
       "      <td>44744</td>\n",
       "      <td>42740</td>\n",
       "      <td>1000</td>\n",
       "      <td>2000</td>\n",
       "      <td>1000</td>\n",
       "      <td>1000</td>\n",
       "      <td>4000</td>\n",
       "      <td>3000</td>\n",
       "      <td>0</td>\n",
       "    </tr>\n",
       "  </tbody>\n",
       "</table>\n",
       "</div>"
      ],
      "text/plain": [
       "       LIMIT_BAL  SEX  EDUCATION  MARRIAGE  AGE  AGE_bin  status_Apr  \\\n",
       "27207     250000    1          3         1   28        1           0   \n",
       "12649      60000    2          1         2   26        1           0   \n",
       "11275     120000    2          1         2   33        2           0   \n",
       "14384      50000    2          1         2   23        1           0   \n",
       "26515      50000    2          3         2   56        4           0   \n",
       "10923     500000    1          1         1   42        3           0   \n",
       "19917     300000    2          3         1   37        2           0   \n",
       "6314       50000    1          3         1   51        4           0   \n",
       "29320     260000    1          2         2   28        1           0   \n",
       "9360      450000    2          1         1   69        5           0   \n",
       "13416     180000    2          2         2   39        2           0   \n",
       "21622      30000    2          2         2   27        1           2   \n",
       "515        70000    1          3         1   32        2           0   \n",
       "29590     160000    1          1         2   31        2           0   \n",
       "29001      20000    2          2         1   50        3           0   \n",
       "1418      130000    2          2         2   24        1           0   \n",
       "7992       80000    2          2         2   27        1           0   \n",
       "19909     360000    2          2         1   45        3           0   \n",
       "26048      50000    2          2         1   46        3           0   \n",
       "3072       50000    2          3         1   32        2           0   \n",
       "\n",
       "       status_May  status_Jun  status_Jul  status_Aug  status_Sep  bill_Apr  \\\n",
       "27207           0           0           0           0           0     95309   \n",
       "12649           0           0           0           0           1     43550   \n",
       "11275           0           0           0           0           2     22845   \n",
       "14384           0           0           0           0           0     39115   \n",
       "26515           0           0           0           0           0     16194   \n",
       "10923           0           0           0           0           1      7867   \n",
       "19917           0           0           0           0           0      9234   \n",
       "6314            0           0           0           0           0      6878   \n",
       "29320           0           0           0           0           1         0   \n",
       "9360            0           0           0           0           0      2374   \n",
       "13416           0           0           0           0           0         0   \n",
       "21622           2           0           0           0           0     17463   \n",
       "515             0           0           0           0           0     71284   \n",
       "29590           0           0           0           2           1     61778   \n",
       "29001           2           0           0           0           1      1051   \n",
       "1418            0           0           0           0           0     49699   \n",
       "7992            0           0           0           0           0     46192   \n",
       "19909           0           0           0           0           0      1728   \n",
       "26048           0           0           0           0           0       290   \n",
       "3072            0           0           0           0           0     19619   \n",
       "\n",
       "       bill_May  bill_Jun  bill_Jul  bill_Aug  bill_Sep  prev_pay_Apr  \\\n",
       "27207     93354     92278     90497    191305    249827          3525   \n",
       "12649     44307     43296     28266     23040         0         15000   \n",
       "11275     22214     21560     20908     19844     18653          2000   \n",
       "14384     37744     36991     36120     35409     33959          5000   \n",
       "26515     15417     48371     50417     49157     48155         20698   \n",
       "10923      1349      8974     32269     11652      3747             0   \n",
       "19917     54744     69725     84870     84922     85405        126463   \n",
       "6314       6379      4843      3287      2228       636          3000   \n",
       "29320         0         0         0         0         0             0   \n",
       "9360       6265         0      1173         0      2000           708   \n",
       "13416       460         0     47392       785     57500          2070   \n",
       "21622     12709     13218     10715      9677      8476             0   \n",
       "515       69884     68392     69188     67629     68739          5500   \n",
       "29590     60227     59331     56316     55371     56432          3000   \n",
       "29001       501       891       181       390         0          4030   \n",
       "1418      48898     48288     61466    118319    122750          2672   \n",
       "7992      46032     45981     45257     68883     73684          1833   \n",
       "19909       150         0         0         0     12040             0   \n",
       "26048       280     11882     26461      2720      4640          1535   \n",
       "3072      17928     17360     47539     44744     42740          1000   \n",
       "\n",
       "       prev_pay_May  prev_pay_Jun  prev_pay_Jul  prev_pay_Aug  prev_pay_Sep  \\\n",
       "27207          3301          3186          3913          3899          8500   \n",
       "12649          1549          1669         20000          8000         23040   \n",
       "11275          1000          1000          1000          1400          1500   \n",
       "14384          2000          1500          1472          1601          2000   \n",
       "26515          1017           600          1683          2058          1798   \n",
       "10923          7867          1349          8981         34545         11684   \n",
       "19917          1594          1095          2210          3319          3479   \n",
       "6314           1000          2000          2000          1500          4600   \n",
       "29320             0             0             0             0             0   \n",
       "9360           2374          6265             0          1173             0   \n",
       "13416             0           460             0         47822           785   \n",
       "21622          5000             0          3000          1500          1500   \n",
       "515            2750          2750          2610          3300          3060   \n",
       "29590          2200          2000          3500          2000             0   \n",
       "29001          1100             0          1100           181           780   \n",
       "1418           2000          1765          1710          2034          4966   \n",
       "7992           1700          1665          1619          1722          2896   \n",
       "19909          1728           150             0             0             0   \n",
       "26048           300           280          1034         26461          2720   \n",
       "3072           2000          1000          1000          4000          3000   \n",
       "\n",
       "       default_pay  \n",
       "27207            0  \n",
       "12649            0  \n",
       "11275            1  \n",
       "14384            0  \n",
       "26515            0  \n",
       "10923            0  \n",
       "19917            0  \n",
       "6314             0  \n",
       "29320            0  \n",
       "9360             1  \n",
       "13416            0  \n",
       "21622            0  \n",
       "515              0  \n",
       "29590            0  \n",
       "29001            0  \n",
       "1418             0  \n",
       "7992             1  \n",
       "19909            0  \n",
       "26048            0  \n",
       "3072             0  "
      ]
     },
     "execution_count": 4,
     "metadata": {},
     "output_type": "execute_result"
    }
   ],
   "source": [
    "credit.sample(20)"
   ]
  },
  {
   "cell_type": "code",
   "execution_count": 5,
   "metadata": {},
   "outputs": [
    {
     "data": {
      "text/html": [
       "<div>\n",
       "<style scoped>\n",
       "    .dataframe tbody tr th:only-of-type {\n",
       "        vertical-align: middle;\n",
       "    }\n",
       "\n",
       "    .dataframe tbody tr th {\n",
       "        vertical-align: top;\n",
       "    }\n",
       "\n",
       "    .dataframe thead th {\n",
       "        text-align: right;\n",
       "    }\n",
       "</style>\n",
       "<table border=\"1\" class=\"dataframe\">\n",
       "  <thead>\n",
       "    <tr style=\"text-align: right;\">\n",
       "      <th></th>\n",
       "      <th>LIMIT_BAL</th>\n",
       "      <th>SEX</th>\n",
       "      <th>EDUCATION</th>\n",
       "      <th>MARRIAGE</th>\n",
       "      <th>AGE</th>\n",
       "      <th>AGE_bin</th>\n",
       "      <th>status_Apr</th>\n",
       "      <th>status_May</th>\n",
       "      <th>status_Jun</th>\n",
       "      <th>status_Jul</th>\n",
       "      <th>status_Aug</th>\n",
       "      <th>status_Sep</th>\n",
       "      <th>bill_Apr</th>\n",
       "      <th>bill_May</th>\n",
       "      <th>bill_Jun</th>\n",
       "      <th>bill_Jul</th>\n",
       "      <th>bill_Aug</th>\n",
       "      <th>bill_Sep</th>\n",
       "      <th>prev_pay_Apr</th>\n",
       "      <th>prev_pay_May</th>\n",
       "      <th>prev_pay_Jun</th>\n",
       "      <th>prev_pay_Jul</th>\n",
       "      <th>prev_pay_Aug</th>\n",
       "      <th>prev_pay_Sep</th>\n",
       "      <th>default_pay</th>\n",
       "    </tr>\n",
       "  </thead>\n",
       "  <tbody>\n",
       "    <tr>\n",
       "      <th>count</th>\n",
       "      <td>29946.000000</td>\n",
       "      <td>29946.000000</td>\n",
       "      <td>29946.000000</td>\n",
       "      <td>29946.000000</td>\n",
       "      <td>29946.000000</td>\n",
       "      <td>29946.000000</td>\n",
       "      <td>29946.000000</td>\n",
       "      <td>29946.000000</td>\n",
       "      <td>29946.000000</td>\n",
       "      <td>29946.000000</td>\n",
       "      <td>29946.000000</td>\n",
       "      <td>29946.000000</td>\n",
       "      <td>29946.000000</td>\n",
       "      <td>29946.000000</td>\n",
       "      <td>29946.000000</td>\n",
       "      <td>2.994600e+04</td>\n",
       "      <td>29946.000000</td>\n",
       "      <td>29946.000000</td>\n",
       "      <td>29946.000000</td>\n",
       "      <td>29946.000000</td>\n",
       "      <td>29946.000000</td>\n",
       "      <td>29946.000000</td>\n",
       "      <td>2.994600e+04</td>\n",
       "      <td>29946.000000</td>\n",
       "      <td>29946.000000</td>\n",
       "    </tr>\n",
       "    <tr>\n",
       "      <th>mean</th>\n",
       "      <td>167546.573165</td>\n",
       "      <td>1.603486</td>\n",
       "      <td>1.840646</td>\n",
       "      <td>1.554665</td>\n",
       "      <td>35.481300</td>\n",
       "      <td>1.996026</td>\n",
       "      <td>0.226474</td>\n",
       "      <td>0.221465</td>\n",
       "      <td>0.258632</td>\n",
       "      <td>0.303814</td>\n",
       "      <td>0.319943</td>\n",
       "      <td>0.356742</td>\n",
       "      <td>38911.533393</td>\n",
       "      <td>40352.140252</td>\n",
       "      <td>43306.688005</td>\n",
       "      <td>4.706321e+04</td>\n",
       "      <td>49224.542744</td>\n",
       "      <td>51278.911841</td>\n",
       "      <td>5220.871035</td>\n",
       "      <td>4804.211080</td>\n",
       "      <td>4829.614573</td>\n",
       "      <td>5227.841314</td>\n",
       "      <td>5.926824e+03</td>\n",
       "      <td>5659.736826</td>\n",
       "      <td>0.221432</td>\n",
       "    </tr>\n",
       "    <tr>\n",
       "      <th>std</th>\n",
       "      <td>129807.831678</td>\n",
       "      <td>0.489182</td>\n",
       "      <td>0.743774</td>\n",
       "      <td>0.518259</td>\n",
       "      <td>9.218413</td>\n",
       "      <td>0.965536</td>\n",
       "      <td>0.715407</td>\n",
       "      <td>0.717765</td>\n",
       "      <td>0.761134</td>\n",
       "      <td>0.790364</td>\n",
       "      <td>0.801602</td>\n",
       "      <td>0.760389</td>\n",
       "      <td>59592.166712</td>\n",
       "      <td>60836.076370</td>\n",
       "      <td>64374.889734</td>\n",
       "      <td>6.939321e+04</td>\n",
       "      <td>71219.298988</td>\n",
       "      <td>73682.871378</td>\n",
       "      <td>17791.413753</td>\n",
       "      <td>15290.655486</td>\n",
       "      <td>15677.788192</td>\n",
       "      <td>17618.433069</td>\n",
       "      <td>2.306022e+04</td>\n",
       "      <td>16552.642231</td>\n",
       "      <td>0.415218</td>\n",
       "    </tr>\n",
       "    <tr>\n",
       "      <th>min</th>\n",
       "      <td>10000.000000</td>\n",
       "      <td>1.000000</td>\n",
       "      <td>1.000000</td>\n",
       "      <td>1.000000</td>\n",
       "      <td>21.000000</td>\n",
       "      <td>1.000000</td>\n",
       "      <td>0.000000</td>\n",
       "      <td>0.000000</td>\n",
       "      <td>0.000000</td>\n",
       "      <td>0.000000</td>\n",
       "      <td>0.000000</td>\n",
       "      <td>0.000000</td>\n",
       "      <td>-339603.000000</td>\n",
       "      <td>-81334.000000</td>\n",
       "      <td>-170000.000000</td>\n",
       "      <td>-1.572640e+05</td>\n",
       "      <td>-69777.000000</td>\n",
       "      <td>-165580.000000</td>\n",
       "      <td>0.000000</td>\n",
       "      <td>0.000000</td>\n",
       "      <td>0.000000</td>\n",
       "      <td>0.000000</td>\n",
       "      <td>0.000000e+00</td>\n",
       "      <td>0.000000</td>\n",
       "      <td>0.000000</td>\n",
       "    </tr>\n",
       "    <tr>\n",
       "      <th>25%</th>\n",
       "      <td>50000.000000</td>\n",
       "      <td>1.000000</td>\n",
       "      <td>1.000000</td>\n",
       "      <td>1.000000</td>\n",
       "      <td>28.000000</td>\n",
       "      <td>1.000000</td>\n",
       "      <td>0.000000</td>\n",
       "      <td>0.000000</td>\n",
       "      <td>0.000000</td>\n",
       "      <td>0.000000</td>\n",
       "      <td>0.000000</td>\n",
       "      <td>0.000000</td>\n",
       "      <td>1261.000000</td>\n",
       "      <td>1770.250000</td>\n",
       "      <td>2335.000000</td>\n",
       "      <td>2.684500e+03</td>\n",
       "      <td>2988.250000</td>\n",
       "      <td>3570.250000</td>\n",
       "      <td>122.000000</td>\n",
       "      <td>255.250000</td>\n",
       "      <td>298.000000</td>\n",
       "      <td>390.000000</td>\n",
       "      <td>8.360000e+02</td>\n",
       "      <td>1000.000000</td>\n",
       "      <td>0.000000</td>\n",
       "    </tr>\n",
       "    <tr>\n",
       "      <th>50%</th>\n",
       "      <td>140000.000000</td>\n",
       "      <td>2.000000</td>\n",
       "      <td>2.000000</td>\n",
       "      <td>2.000000</td>\n",
       "      <td>34.000000</td>\n",
       "      <td>2.000000</td>\n",
       "      <td>0.000000</td>\n",
       "      <td>0.000000</td>\n",
       "      <td>0.000000</td>\n",
       "      <td>0.000000</td>\n",
       "      <td>0.000000</td>\n",
       "      <td>0.000000</td>\n",
       "      <td>17098.500000</td>\n",
       "      <td>18121.000000</td>\n",
       "      <td>19066.000000</td>\n",
       "      <td>2.010800e+04</td>\n",
       "      <td>21221.000000</td>\n",
       "      <td>22400.000000</td>\n",
       "      <td>1500.000000</td>\n",
       "      <td>1500.000000</td>\n",
       "      <td>1500.000000</td>\n",
       "      <td>1800.000000</td>\n",
       "      <td>2.010000e+03</td>\n",
       "      <td>2100.000000</td>\n",
       "      <td>0.000000</td>\n",
       "    </tr>\n",
       "    <tr>\n",
       "      <th>75%</th>\n",
       "      <td>240000.000000</td>\n",
       "      <td>2.000000</td>\n",
       "      <td>2.000000</td>\n",
       "      <td>2.000000</td>\n",
       "      <td>41.000000</td>\n",
       "      <td>3.000000</td>\n",
       "      <td>0.000000</td>\n",
       "      <td>0.000000</td>\n",
       "      <td>0.000000</td>\n",
       "      <td>0.000000</td>\n",
       "      <td>0.000000</td>\n",
       "      <td>0.000000</td>\n",
       "      <td>49248.500000</td>\n",
       "      <td>50244.750000</td>\n",
       "      <td>54601.750000</td>\n",
       "      <td>6.024075e+04</td>\n",
       "      <td>64108.000000</td>\n",
       "      <td>67263.000000</td>\n",
       "      <td>4000.000000</td>\n",
       "      <td>4040.750000</td>\n",
       "      <td>4015.000000</td>\n",
       "      <td>4511.500000</td>\n",
       "      <td>5.000000e+03</td>\n",
       "      <td>5007.000000</td>\n",
       "      <td>0.000000</td>\n",
       "    </tr>\n",
       "    <tr>\n",
       "      <th>max</th>\n",
       "      <td>1000000.000000</td>\n",
       "      <td>2.000000</td>\n",
       "      <td>4.000000</td>\n",
       "      <td>3.000000</td>\n",
       "      <td>79.000000</td>\n",
       "      <td>6.000000</td>\n",
       "      <td>8.000000</td>\n",
       "      <td>8.000000</td>\n",
       "      <td>8.000000</td>\n",
       "      <td>8.000000</td>\n",
       "      <td>8.000000</td>\n",
       "      <td>8.000000</td>\n",
       "      <td>961664.000000</td>\n",
       "      <td>927171.000000</td>\n",
       "      <td>891586.000000</td>\n",
       "      <td>1.664089e+06</td>\n",
       "      <td>983931.000000</td>\n",
       "      <td>964511.000000</td>\n",
       "      <td>528666.000000</td>\n",
       "      <td>426529.000000</td>\n",
       "      <td>621000.000000</td>\n",
       "      <td>896040.000000</td>\n",
       "      <td>1.684259e+06</td>\n",
       "      <td>873552.000000</td>\n",
       "      <td>1.000000</td>\n",
       "    </tr>\n",
       "  </tbody>\n",
       "</table>\n",
       "</div>"
      ],
      "text/plain": [
       "            LIMIT_BAL           SEX     EDUCATION      MARRIAGE           AGE  \\\n",
       "count    29946.000000  29946.000000  29946.000000  29946.000000  29946.000000   \n",
       "mean    167546.573165      1.603486      1.840646      1.554665     35.481300   \n",
       "std     129807.831678      0.489182      0.743774      0.518259      9.218413   \n",
       "min      10000.000000      1.000000      1.000000      1.000000     21.000000   \n",
       "25%      50000.000000      1.000000      1.000000      1.000000     28.000000   \n",
       "50%     140000.000000      2.000000      2.000000      2.000000     34.000000   \n",
       "75%     240000.000000      2.000000      2.000000      2.000000     41.000000   \n",
       "max    1000000.000000      2.000000      4.000000      3.000000     79.000000   \n",
       "\n",
       "            AGE_bin    status_Apr    status_May    status_Jun    status_Jul  \\\n",
       "count  29946.000000  29946.000000  29946.000000  29946.000000  29946.000000   \n",
       "mean       1.996026      0.226474      0.221465      0.258632      0.303814   \n",
       "std        0.965536      0.715407      0.717765      0.761134      0.790364   \n",
       "min        1.000000      0.000000      0.000000      0.000000      0.000000   \n",
       "25%        1.000000      0.000000      0.000000      0.000000      0.000000   \n",
       "50%        2.000000      0.000000      0.000000      0.000000      0.000000   \n",
       "75%        3.000000      0.000000      0.000000      0.000000      0.000000   \n",
       "max        6.000000      8.000000      8.000000      8.000000      8.000000   \n",
       "\n",
       "         status_Aug    status_Sep       bill_Apr       bill_May  \\\n",
       "count  29946.000000  29946.000000   29946.000000   29946.000000   \n",
       "mean       0.319943      0.356742   38911.533393   40352.140252   \n",
       "std        0.801602      0.760389   59592.166712   60836.076370   \n",
       "min        0.000000      0.000000 -339603.000000  -81334.000000   \n",
       "25%        0.000000      0.000000    1261.000000    1770.250000   \n",
       "50%        0.000000      0.000000   17098.500000   18121.000000   \n",
       "75%        0.000000      0.000000   49248.500000   50244.750000   \n",
       "max        8.000000      8.000000  961664.000000  927171.000000   \n",
       "\n",
       "            bill_Jun      bill_Jul       bill_Aug       bill_Sep  \\\n",
       "count   29946.000000  2.994600e+04   29946.000000   29946.000000   \n",
       "mean    43306.688005  4.706321e+04   49224.542744   51278.911841   \n",
       "std     64374.889734  6.939321e+04   71219.298988   73682.871378   \n",
       "min   -170000.000000 -1.572640e+05  -69777.000000 -165580.000000   \n",
       "25%      2335.000000  2.684500e+03    2988.250000    3570.250000   \n",
       "50%     19066.000000  2.010800e+04   21221.000000   22400.000000   \n",
       "75%     54601.750000  6.024075e+04   64108.000000   67263.000000   \n",
       "max    891586.000000  1.664089e+06  983931.000000  964511.000000   \n",
       "\n",
       "        prev_pay_Apr   prev_pay_May   prev_pay_Jun   prev_pay_Jul  \\\n",
       "count   29946.000000   29946.000000   29946.000000   29946.000000   \n",
       "mean     5220.871035    4804.211080    4829.614573    5227.841314   \n",
       "std     17791.413753   15290.655486   15677.788192   17618.433069   \n",
       "min         0.000000       0.000000       0.000000       0.000000   \n",
       "25%       122.000000     255.250000     298.000000     390.000000   \n",
       "50%      1500.000000    1500.000000    1500.000000    1800.000000   \n",
       "75%      4000.000000    4040.750000    4015.000000    4511.500000   \n",
       "max    528666.000000  426529.000000  621000.000000  896040.000000   \n",
       "\n",
       "       prev_pay_Aug   prev_pay_Sep   default_pay  \n",
       "count  2.994600e+04   29946.000000  29946.000000  \n",
       "mean   5.926824e+03    5659.736826      0.221432  \n",
       "std    2.306022e+04   16552.642231      0.415218  \n",
       "min    0.000000e+00       0.000000      0.000000  \n",
       "25%    8.360000e+02    1000.000000      0.000000  \n",
       "50%    2.010000e+03    2100.000000      0.000000  \n",
       "75%    5.000000e+03    5007.000000      0.000000  \n",
       "max    1.684259e+06  873552.000000      1.000000  "
      ]
     },
     "execution_count": 5,
     "metadata": {},
     "output_type": "execute_result"
    }
   ],
   "source": [
    "credit.describe()"
   ]
  },
  {
   "cell_type": "code",
   "execution_count": 6,
   "metadata": {
    "scrolled": true
   },
   "outputs": [
    {
     "name": "stdout",
     "output_type": "stream",
     "text": [
      "<class 'pandas.core.frame.DataFrame'>\n",
      "RangeIndex: 29946 entries, 0 to 29945\n",
      "Data columns (total 25 columns):\n",
      "LIMIT_BAL       29946 non-null int64\n",
      "SEX             29946 non-null int64\n",
      "EDUCATION       29946 non-null int64\n",
      "MARRIAGE        29946 non-null int64\n",
      "AGE             29946 non-null int64\n",
      "AGE_bin         29946 non-null int64\n",
      "status_Apr      29946 non-null int64\n",
      "status_May      29946 non-null int64\n",
      "status_Jun      29946 non-null int64\n",
      "status_Jul      29946 non-null int64\n",
      "status_Aug      29946 non-null int64\n",
      "status_Sep      29946 non-null int64\n",
      "bill_Apr        29946 non-null int64\n",
      "bill_May        29946 non-null int64\n",
      "bill_Jun        29946 non-null int64\n",
      "bill_Jul        29946 non-null int64\n",
      "bill_Aug        29946 non-null int64\n",
      "bill_Sep        29946 non-null int64\n",
      "prev_pay_Apr    29946 non-null int64\n",
      "prev_pay_May    29946 non-null int64\n",
      "prev_pay_Jun    29946 non-null int64\n",
      "prev_pay_Jul    29946 non-null int64\n",
      "prev_pay_Aug    29946 non-null int64\n",
      "prev_pay_Sep    29946 non-null int64\n",
      "default_pay     29946 non-null int64\n",
      "dtypes: int64(25)\n",
      "memory usage: 5.7 MB\n"
     ]
    }
   ],
   "source": [
    "credit.info()"
   ]
  },
  {
   "cell_type": "markdown",
   "metadata": {},
   "source": [
    "## Correlation Matrix"
   ]
  },
  {
   "cell_type": "code",
   "execution_count": 7,
   "metadata": {},
   "outputs": [
    {
     "name": "stdout",
     "output_type": "stream",
     "text": [
      "              LIMIT_BAL       SEX  EDUCATION  MARRIAGE       AGE   AGE_bin  \\\n",
      "LIMIT_BAL      1.000000  0.024898  -0.230733 -0.110498  0.144850  0.120587   \n",
      "SEX            0.024898  1.000000   0.013110 -0.030152 -0.091139 -0.083089   \n",
      "EDUCATION     -0.230733  0.013110   1.000000 -0.144084  0.182279  0.184054   \n",
      "MARRIAGE      -0.110498 -0.030152  -0.144084  1.000000 -0.416497 -0.399414   \n",
      "AGE            0.144850 -0.091139   0.182279 -0.416497  1.000000  0.957200   \n",
      "AGE_bin        0.120587 -0.083089   0.184054 -0.399414  0.957200  1.000000   \n",
      "status_Apr    -0.167632 -0.032047   0.028602  0.002455 -0.017212 -0.013007   \n",
      "status_May    -0.169923 -0.038455   0.039461 -0.002652 -0.013440 -0.010680   \n",
      "status_Jun    -0.180456 -0.039912   0.050860 -0.003546 -0.007180 -0.004463   \n",
      "status_Jul    -0.190959 -0.041331   0.052479  0.001684 -0.014135 -0.009402   \n",
      "status_Aug    -0.196945 -0.044625   0.062608 -0.009666 -0.008719 -0.003578   \n",
      "status_Sep    -0.170598 -0.034299   0.055822 -0.011735 -0.001166  0.003432   \n",
      "bill_Apr       0.290417 -0.016624  -0.011738 -0.023386  0.047953  0.037230   \n",
      "bill_May       0.295586 -0.016889  -0.011547 -0.027614  0.049698  0.039679   \n",
      "bill_Jun       0.294006 -0.021722  -0.005280 -0.025576  0.051716  0.042590   \n",
      "bill_Jul       0.283246 -0.024430   0.007588 -0.027281  0.054095  0.044907   \n",
      "bill_Aug       0.278344 -0.030998   0.012686 -0.023697  0.054671  0.045287   \n",
      "bill_Sep       0.285521 -0.033438   0.017481 -0.025930  0.056563  0.047337   \n",
      "prev_pay_Apr   0.219632 -0.002585  -0.043836 -0.007600  0.019669  0.017236   \n",
      "prev_pay_May   0.217212 -0.001609  -0.044820 -0.002161  0.023027  0.015644   \n",
      "prev_pay_Jun   0.203221 -0.002180  -0.040596 -0.013440  0.021512  0.015973   \n",
      "prev_pay_Jul   0.210161 -0.008483  -0.044109 -0.003939  0.029398  0.025376   \n",
      "prev_pay_Aug   0.178384 -0.001317  -0.032482 -0.008895  0.021908  0.017698   \n",
      "prev_pay_Sep   0.195330 -0.000250  -0.041659 -0.005340  0.026569  0.021168   \n",
      "default_pay   -0.153783 -0.039741   0.034567 -0.026224  0.014129  0.017522   \n",
      "\n",
      "              status_Apr  status_May  status_Jun  status_Jul  status_Aug  \\\n",
      "LIMIT_BAL      -0.167632   -0.169923   -0.180456   -0.190959   -0.196945   \n",
      "SEX            -0.032047   -0.038455   -0.039912   -0.041331   -0.044625   \n",
      "EDUCATION       0.028602    0.039461    0.050860    0.052479    0.062608   \n",
      "MARRIAGE        0.002455   -0.002652   -0.003546    0.001684   -0.009666   \n",
      "AGE            -0.017212   -0.013440   -0.007180   -0.014135   -0.008719   \n",
      "AGE_bin        -0.013007   -0.010680   -0.004463   -0.009402   -0.003578   \n",
      "status_Apr      1.000000    0.740024    0.602917    0.492772    0.406354   \n",
      "status_May      0.740024    1.000000    0.745611    0.551407    0.462015   \n",
      "status_Jun      0.602917    0.745611    1.000000    0.678744    0.512585   \n",
      "status_Jul      0.492772    0.551407    0.678744    1.000000    0.663464   \n",
      "status_Aug      0.406354    0.462015    0.512585    0.663464    1.000000   \n",
      "status_Sep      0.373155    0.423847    0.460047    0.516733    0.698050   \n",
      "bill_Apr        0.046030    0.042577    0.033222    0.029101    0.042168   \n",
      "bill_May        0.041821    0.036191    0.027333    0.026345    0.040405   \n",
      "bill_Jun        0.020638    0.024122    0.014746    0.016734    0.032468   \n",
      "bill_Jul        0.001723    0.003352    0.002750    0.002589    0.022955   \n",
      "bill_Aug       -0.009725   -0.008607   -0.012454   -0.000775    0.015983   \n",
      "bill_Sep       -0.019558   -0.018609   -0.025104   -0.020438    0.011699   \n",
      "prev_pay_Apr   -0.045317   -0.046089   -0.048791   -0.048393   -0.043070   \n",
      "prev_pay_May   -0.066887   -0.051834   -0.052728   -0.050802   -0.048759   \n",
      "prev_pay_Jun   -0.030418   -0.065932   -0.055246   -0.053762   -0.053940   \n",
      "prev_pay_Jul   -0.040084   -0.037213   -0.073983   -0.057579   -0.059800   \n",
      "prev_pay_Aug   -0.039840   -0.039576   -0.036841   -0.073633   -0.054825   \n",
      "prev_pay_Sep   -0.047642   -0.053573   -0.054349   -0.039144   -0.097415   \n",
      "default_pay     0.244768    0.261132    0.269452    0.287206    0.327431   \n",
      "\n",
      "              status_Sep  bill_Apr  bill_May  bill_Jun  bill_Jul  bill_Aug  \\\n",
      "LIMIT_BAL      -0.170598  0.290417  0.295586  0.294006  0.283246  0.278344   \n",
      "SEX            -0.034299 -0.016624 -0.016889 -0.021722 -0.024430 -0.030998   \n",
      "EDUCATION       0.055822 -0.011738 -0.011547 -0.005280  0.007588  0.012686   \n",
      "MARRIAGE       -0.011735 -0.023386 -0.027614 -0.025576 -0.027281 -0.023697   \n",
      "AGE            -0.001166  0.047953  0.049698  0.051716  0.054095  0.054671   \n",
      "AGE_bin         0.003432  0.037230  0.039679  0.042590  0.044907  0.045287   \n",
      "status_Apr      0.373155  0.046030  0.041821  0.020638  0.001723 -0.009725   \n",
      "status_May      0.423847  0.042577  0.036191  0.024122  0.003352 -0.008607   \n",
      "status_Jun      0.460047  0.033222  0.027333  0.014746  0.002750 -0.012454   \n",
      "status_Jul      0.516733  0.029101  0.026345  0.016734  0.002589 -0.000775   \n",
      "status_Aug      0.698050  0.042168  0.040405  0.032468  0.022955  0.015983   \n",
      "status_Sep      1.000000  0.030217  0.030767  0.022159  0.013357  0.009160   \n",
      "bill_Apr        0.030217  1.000000  0.946174  0.900915  0.853303  0.831635   \n",
      "bill_May        0.030767  0.946174  1.000000  0.940121  0.883897  0.859812   \n",
      "bill_Jun        0.022159  0.900915  0.940121  1.000000  0.923951  0.892481   \n",
      "bill_Jul        0.013357  0.853303  0.883897  0.923951  1.000000  0.928328   \n",
      "bill_Aug        0.009160  0.831635  0.859812  0.892481  0.928328  1.000000   \n",
      "bill_Sep       -0.000825  0.802659  0.829796  0.860276  0.892299  0.951536   \n",
      "prev_pay_Apr   -0.048724  0.115418  0.164123  0.177568  0.182259  0.174159   \n",
      "prev_pay_May   -0.053834  0.307670  0.141470  0.160336  0.179616  0.157867   \n",
      "prev_pay_Jun   -0.061913  0.250123  0.293007  0.130065  0.143347  0.147348   \n",
      "prev_pay_Jul   -0.062554  0.233722  0.252252  0.299985  0.129990  0.150663   \n",
      "prev_pay_Aug   -0.057191  0.172543  0.181123  0.207461  0.316898  0.100755   \n",
      "prev_pay_Sep   -0.079143  0.200300  0.217305  0.233186  0.244443  0.280336   \n",
      "default_pay     0.396580 -0.005612 -0.006987 -0.010378 -0.014312 -0.014377   \n",
      "\n",
      "              bill_Sep  prev_pay_Apr  prev_pay_May  prev_pay_Jun  \\\n",
      "LIMIT_BAL     0.285521      0.219632      0.217212      0.203221   \n",
      "SEX          -0.033438     -0.002585     -0.001609     -0.002180   \n",
      "EDUCATION     0.017481     -0.043836     -0.044820     -0.040596   \n",
      "MARRIAGE     -0.025930     -0.007600     -0.002161     -0.013440   \n",
      "AGE           0.056563      0.019669      0.023027      0.021512   \n",
      "AGE_bin       0.047337      0.017236      0.015644      0.015973   \n",
      "status_Apr   -0.019558     -0.045317     -0.066887     -0.030418   \n",
      "status_May   -0.018609     -0.046089     -0.051834     -0.065932   \n",
      "status_Jun   -0.025104     -0.048791     -0.052728     -0.055246   \n",
      "status_Jul   -0.020438     -0.048393     -0.050802     -0.053762   \n",
      "status_Aug    0.011699     -0.043070     -0.048759     -0.053940   \n",
      "status_Sep   -0.000825     -0.048724     -0.053834     -0.061913   \n",
      "bill_Apr      0.802659      0.115418      0.307670      0.250123   \n",
      "bill_May      0.829796      0.164123      0.141470      0.293007   \n",
      "bill_Jun      0.860276      0.177568      0.160336      0.130065   \n",
      "bill_Jul      0.892299      0.182259      0.179616      0.143347   \n",
      "bill_Aug      0.951536      0.174159      0.157867      0.147348   \n",
      "bill_Sep      1.000000      0.179236      0.166916      0.158281   \n",
      "prev_pay_Apr  0.179236      1.000000      0.154845      0.157808   \n",
      "prev_pay_May  0.166916      0.154845      1.000000      0.151810   \n",
      "prev_pay_Jun  0.158281      0.157808      0.151810      1.000000   \n",
      "prev_pay_Jul  0.156905      0.162712      0.159245      0.216133   \n",
      "prev_pay_Aug  0.099283      0.157602      0.180889      0.179986   \n",
      "prev_pay_Sep  0.140654      0.186035      0.148741      0.199759   \n",
      "default_pay  -0.019890     -0.053285     -0.055242     -0.056886   \n",
      "\n",
      "              prev_pay_Jul  prev_pay_Aug  prev_pay_Sep  default_pay  \n",
      "LIMIT_BAL         0.210161      0.178384      0.195330    -0.153783  \n",
      "SEX              -0.008483     -0.001317     -0.000250    -0.039741  \n",
      "EDUCATION        -0.044109     -0.032482     -0.041659     0.034567  \n",
      "MARRIAGE         -0.003939     -0.008895     -0.005340    -0.026224  \n",
      "AGE               0.029398      0.021908      0.026569     0.014129  \n",
      "AGE_bin           0.025376      0.017698      0.021168     0.017522  \n",
      "status_Apr       -0.040084     -0.039840     -0.047642     0.244768  \n",
      "status_May       -0.037213     -0.039576     -0.053573     0.261132  \n",
      "status_Jun       -0.073983     -0.036841     -0.054349     0.269452  \n",
      "status_Jul       -0.057579     -0.073633     -0.039144     0.287206  \n",
      "status_Aug       -0.059800     -0.054825     -0.097415     0.327431  \n",
      "status_Sep       -0.062554     -0.057191     -0.079143     0.396580  \n",
      "bill_Apr          0.233722      0.172543      0.200300    -0.005612  \n",
      "bill_May          0.252252      0.181123      0.217305    -0.006987  \n",
      "bill_Jun          0.299985      0.207461      0.233186    -0.010378  \n",
      "bill_Jul          0.129990      0.316898      0.244443    -0.014312  \n",
      "bill_Aug          0.150663      0.100755      0.280336    -0.014377  \n",
      "bill_Sep          0.156905      0.099283      0.140654    -0.019890  \n",
      "prev_pay_Apr      0.162712      0.157602      0.186035    -0.053285  \n",
      "prev_pay_May      0.159245      0.180889      0.148741    -0.055242  \n",
      "prev_pay_Jun      0.216133      0.179986      0.199759    -0.056886  \n",
      "prev_pay_Jul      1.000000      0.244665      0.252263    -0.056263  \n",
      "prev_pay_Aug      0.244665      1.000000      0.285870    -0.058655  \n",
      "prev_pay_Sep      0.252263      0.285870      1.000000    -0.072864  \n",
      "default_pay      -0.056263     -0.058655     -0.072864     1.000000  \n"
     ]
    }
   ],
   "source": [
    "corrMat = credit.corr()\n",
    "print(corrMat)"
   ]
  },
  {
   "cell_type": "code",
   "execution_count": 8,
   "metadata": {
    "collapsed": true
   },
   "outputs": [],
   "source": [
    "# AGE removed, AGE_bin left \n",
    "\n",
    "del credit['AGE']"
   ]
  },
  {
   "cell_type": "code",
   "execution_count": 9,
   "metadata": {
    "collapsed": true,
    "scrolled": true
   },
   "outputs": [],
   "source": [
    "# highly correlated variables removed\n",
    "\n",
    "del credit['bill_May']\n",
    "del credit['bill_Aug']\n",
    "del credit['bill_Jun']"
   ]
  },
  {
   "cell_type": "code",
   "execution_count": 10,
   "metadata": {},
   "outputs": [
    {
     "name": "stdout",
     "output_type": "stream",
     "text": [
      "              LIMIT_BAL       SEX  EDUCATION  MARRIAGE   AGE_bin  status_Apr  \\\n",
      "LIMIT_BAL      1.000000  0.024898  -0.230733 -0.110498  0.120587   -0.167632   \n",
      "SEX            0.024898  1.000000   0.013110 -0.030152 -0.083089   -0.032047   \n",
      "EDUCATION     -0.230733  0.013110   1.000000 -0.144084  0.184054    0.028602   \n",
      "MARRIAGE      -0.110498 -0.030152  -0.144084  1.000000 -0.399414    0.002455   \n",
      "AGE_bin        0.120587 -0.083089   0.184054 -0.399414  1.000000   -0.013007   \n",
      "status_Apr    -0.167632 -0.032047   0.028602  0.002455 -0.013007    1.000000   \n",
      "status_May    -0.169923 -0.038455   0.039461 -0.002652 -0.010680    0.740024   \n",
      "status_Jun    -0.180456 -0.039912   0.050860 -0.003546 -0.004463    0.602917   \n",
      "status_Jul    -0.190959 -0.041331   0.052479  0.001684 -0.009402    0.492772   \n",
      "status_Aug    -0.196945 -0.044625   0.062608 -0.009666 -0.003578    0.406354   \n",
      "status_Sep    -0.170598 -0.034299   0.055822 -0.011735  0.003432    0.373155   \n",
      "bill_Apr       0.290417 -0.016624  -0.011738 -0.023386  0.037230    0.046030   \n",
      "bill_Jul       0.283246 -0.024430   0.007588 -0.027281  0.044907    0.001723   \n",
      "bill_Sep       0.285521 -0.033438   0.017481 -0.025930  0.047337   -0.019558   \n",
      "prev_pay_Apr   0.219632 -0.002585  -0.043836 -0.007600  0.017236   -0.045317   \n",
      "prev_pay_May   0.217212 -0.001609  -0.044820 -0.002161  0.015644   -0.066887   \n",
      "prev_pay_Jun   0.203221 -0.002180  -0.040596 -0.013440  0.015973   -0.030418   \n",
      "prev_pay_Jul   0.210161 -0.008483  -0.044109 -0.003939  0.025376   -0.040084   \n",
      "prev_pay_Aug   0.178384 -0.001317  -0.032482 -0.008895  0.017698   -0.039840   \n",
      "prev_pay_Sep   0.195330 -0.000250  -0.041659 -0.005340  0.021168   -0.047642   \n",
      "default_pay   -0.153783 -0.039741   0.034567 -0.026224  0.017522    0.244768   \n",
      "\n",
      "              status_May  status_Jun  status_Jul  status_Aug  status_Sep  \\\n",
      "LIMIT_BAL      -0.169923   -0.180456   -0.190959   -0.196945   -0.170598   \n",
      "SEX            -0.038455   -0.039912   -0.041331   -0.044625   -0.034299   \n",
      "EDUCATION       0.039461    0.050860    0.052479    0.062608    0.055822   \n",
      "MARRIAGE       -0.002652   -0.003546    0.001684   -0.009666   -0.011735   \n",
      "AGE_bin        -0.010680   -0.004463   -0.009402   -0.003578    0.003432   \n",
      "status_Apr      0.740024    0.602917    0.492772    0.406354    0.373155   \n",
      "status_May      1.000000    0.745611    0.551407    0.462015    0.423847   \n",
      "status_Jun      0.745611    1.000000    0.678744    0.512585    0.460047   \n",
      "status_Jul      0.551407    0.678744    1.000000    0.663464    0.516733   \n",
      "status_Aug      0.462015    0.512585    0.663464    1.000000    0.698050   \n",
      "status_Sep      0.423847    0.460047    0.516733    0.698050    1.000000   \n",
      "bill_Apr        0.042577    0.033222    0.029101    0.042168    0.030217   \n",
      "bill_Jul        0.003352    0.002750    0.002589    0.022955    0.013357   \n",
      "bill_Sep       -0.018609   -0.025104   -0.020438    0.011699   -0.000825   \n",
      "prev_pay_Apr   -0.046089   -0.048791   -0.048393   -0.043070   -0.048724   \n",
      "prev_pay_May   -0.051834   -0.052728   -0.050802   -0.048759   -0.053834   \n",
      "prev_pay_Jun   -0.065932   -0.055246   -0.053762   -0.053940   -0.061913   \n",
      "prev_pay_Jul   -0.037213   -0.073983   -0.057579   -0.059800   -0.062554   \n",
      "prev_pay_Aug   -0.039576   -0.036841   -0.073633   -0.054825   -0.057191   \n",
      "prev_pay_Sep   -0.053573   -0.054349   -0.039144   -0.097415   -0.079143   \n",
      "default_pay     0.261132    0.269452    0.287206    0.327431    0.396580   \n",
      "\n",
      "              bill_Apr  bill_Jul  bill_Sep  prev_pay_Apr  prev_pay_May  \\\n",
      "LIMIT_BAL     0.290417  0.283246  0.285521      0.219632      0.217212   \n",
      "SEX          -0.016624 -0.024430 -0.033438     -0.002585     -0.001609   \n",
      "EDUCATION    -0.011738  0.007588  0.017481     -0.043836     -0.044820   \n",
      "MARRIAGE     -0.023386 -0.027281 -0.025930     -0.007600     -0.002161   \n",
      "AGE_bin       0.037230  0.044907  0.047337      0.017236      0.015644   \n",
      "status_Apr    0.046030  0.001723 -0.019558     -0.045317     -0.066887   \n",
      "status_May    0.042577  0.003352 -0.018609     -0.046089     -0.051834   \n",
      "status_Jun    0.033222  0.002750 -0.025104     -0.048791     -0.052728   \n",
      "status_Jul    0.029101  0.002589 -0.020438     -0.048393     -0.050802   \n",
      "status_Aug    0.042168  0.022955  0.011699     -0.043070     -0.048759   \n",
      "status_Sep    0.030217  0.013357 -0.000825     -0.048724     -0.053834   \n",
      "bill_Apr      1.000000  0.853303  0.802659      0.115418      0.307670   \n",
      "bill_Jul      0.853303  1.000000  0.892299      0.182259      0.179616   \n",
      "bill_Sep      0.802659  0.892299  1.000000      0.179236      0.166916   \n",
      "prev_pay_Apr  0.115418  0.182259  0.179236      1.000000      0.154845   \n",
      "prev_pay_May  0.307670  0.179616  0.166916      0.154845      1.000000   \n",
      "prev_pay_Jun  0.250123  0.143347  0.158281      0.157808      0.151810   \n",
      "prev_pay_Jul  0.233722  0.129990  0.156905      0.162712      0.159245   \n",
      "prev_pay_Aug  0.172543  0.316898  0.099283      0.157602      0.180889   \n",
      "prev_pay_Sep  0.200300  0.244443  0.140654      0.186035      0.148741   \n",
      "default_pay  -0.005612 -0.014312 -0.019890     -0.053285     -0.055242   \n",
      "\n",
      "              prev_pay_Jun  prev_pay_Jul  prev_pay_Aug  prev_pay_Sep  \\\n",
      "LIMIT_BAL         0.203221      0.210161      0.178384      0.195330   \n",
      "SEX              -0.002180     -0.008483     -0.001317     -0.000250   \n",
      "EDUCATION        -0.040596     -0.044109     -0.032482     -0.041659   \n",
      "MARRIAGE         -0.013440     -0.003939     -0.008895     -0.005340   \n",
      "AGE_bin           0.015973      0.025376      0.017698      0.021168   \n",
      "status_Apr       -0.030418     -0.040084     -0.039840     -0.047642   \n",
      "status_May       -0.065932     -0.037213     -0.039576     -0.053573   \n",
      "status_Jun       -0.055246     -0.073983     -0.036841     -0.054349   \n",
      "status_Jul       -0.053762     -0.057579     -0.073633     -0.039144   \n",
      "status_Aug       -0.053940     -0.059800     -0.054825     -0.097415   \n",
      "status_Sep       -0.061913     -0.062554     -0.057191     -0.079143   \n",
      "bill_Apr          0.250123      0.233722      0.172543      0.200300   \n",
      "bill_Jul          0.143347      0.129990      0.316898      0.244443   \n",
      "bill_Sep          0.158281      0.156905      0.099283      0.140654   \n",
      "prev_pay_Apr      0.157808      0.162712      0.157602      0.186035   \n",
      "prev_pay_May      0.151810      0.159245      0.180889      0.148741   \n",
      "prev_pay_Jun      1.000000      0.216133      0.179986      0.199759   \n",
      "prev_pay_Jul      0.216133      1.000000      0.244665      0.252263   \n",
      "prev_pay_Aug      0.179986      0.244665      1.000000      0.285870   \n",
      "prev_pay_Sep      0.199759      0.252263      0.285870      1.000000   \n",
      "default_pay      -0.056886     -0.056263     -0.058655     -0.072864   \n",
      "\n",
      "              default_pay  \n",
      "LIMIT_BAL       -0.153783  \n",
      "SEX             -0.039741  \n",
      "EDUCATION        0.034567  \n",
      "MARRIAGE        -0.026224  \n",
      "AGE_bin          0.017522  \n",
      "status_Apr       0.244768  \n",
      "status_May       0.261132  \n",
      "status_Jun       0.269452  \n",
      "status_Jul       0.287206  \n",
      "status_Aug       0.327431  \n",
      "status_Sep       0.396580  \n",
      "bill_Apr        -0.005612  \n",
      "bill_Jul        -0.014312  \n",
      "bill_Sep        -0.019890  \n",
      "prev_pay_Apr    -0.053285  \n",
      "prev_pay_May    -0.055242  \n",
      "prev_pay_Jun    -0.056886  \n",
      "prev_pay_Jul    -0.056263  \n",
      "prev_pay_Aug    -0.058655  \n",
      "prev_pay_Sep    -0.072864  \n",
      "default_pay      1.000000  \n"
     ]
    }
   ],
   "source": [
    "# check correlations\n",
    "\n",
    "corrMat = credit.corr()\n",
    "print(corrMat)"
   ]
  },
  {
   "cell_type": "markdown",
   "metadata": {},
   "source": [
    "## Features selection"
   ]
  },
  {
   "cell_type": "code",
   "execution_count": 11,
   "metadata": {},
   "outputs": [
    {
     "name": "stdout",
     "output_type": "stream",
     "text": [
      "Selection of feature sample\n",
      "<class 'pandas.core.frame.DataFrame'>\n",
      "RangeIndex: 29946 entries, 0 to 29945\n",
      "Data columns (total 20 columns):\n",
      "LIMIT_BAL       29946 non-null int64\n",
      "SEX             29946 non-null int64\n",
      "EDUCATION       29946 non-null int64\n",
      "MARRIAGE        29946 non-null int64\n",
      "AGE_bin         29946 non-null int64\n",
      "status_Apr      29946 non-null int64\n",
      "status_May      29946 non-null int64\n",
      "status_Jun      29946 non-null int64\n",
      "status_Jul      29946 non-null int64\n",
      "status_Aug      29946 non-null int64\n",
      "status_Sep      29946 non-null int64\n",
      "bill_Apr        29946 non-null int64\n",
      "bill_Jul        29946 non-null int64\n",
      "bill_Sep        29946 non-null int64\n",
      "prev_pay_Apr    29946 non-null int64\n",
      "prev_pay_May    29946 non-null int64\n",
      "prev_pay_Jun    29946 non-null int64\n",
      "prev_pay_Jul    29946 non-null int64\n",
      "prev_pay_Aug    29946 non-null int64\n",
      "prev_pay_Sep    29946 non-null int64\n",
      "dtypes: int64(20)\n",
      "memory usage: 4.6 MB\n"
     ]
    }
   ],
   "source": [
    "# select the features: without default_pay \n",
    "\n",
    "features = credit.iloc[:, :-1]\n",
    "print('Selection of feature sample')\n",
    "features.info()"
   ]
  },
  {
   "cell_type": "code",
   "execution_count": 12,
   "metadata": {},
   "outputs": [
    {
     "data": {
      "text/plain": [
       "0    1\n",
       "1    1\n",
       "2    0\n",
       "3    0\n",
       "4    0\n",
       "Name: default_pay, dtype: int64"
      ]
     },
     "execution_count": 12,
     "metadata": {},
     "output_type": "execute_result"
    }
   ],
   "source": [
    "# select the dependent variable: default_pay (repayment status)\n",
    "\n",
    "depVar = credit['default_pay']\n",
    "depVar.head()"
   ]
  },
  {
   "cell_type": "code",
   "execution_count": 13,
   "metadata": {},
   "outputs": [
    {
     "data": {
      "text/plain": [
       "0    23315\n",
       "1     6631\n",
       "Name: default_pay, dtype: int64"
      ]
     },
     "execution_count": 13,
     "metadata": {},
     "output_type": "execute_result"
    }
   ],
   "source": [
    "credit.default_pay.value_counts()"
   ]
  },
  {
   "cell_type": "code",
   "execution_count": 14,
   "metadata": {},
   "outputs": [
    {
     "name": "stdout",
     "output_type": "stream",
     "text": [
      "(29946, 20) (29946,)\n"
     ]
    }
   ],
   "source": [
    "print(features.shape, depVar.shape)"
   ]
  },
  {
   "cell_type": "markdown",
   "metadata": {},
   "source": [
    "## Train / Test split"
   ]
  },
  {
   "cell_type": "code",
   "execution_count": 15,
   "metadata": {
    "collapsed": true
   },
   "outputs": [],
   "source": [
    "X_train, X_test, y_train, y_test = train_test_split(features, depVar, test_size = 0.30, random_state = 15)"
   ]
  },
  {
   "cell_type": "code",
   "execution_count": 16,
   "metadata": {},
   "outputs": [
    {
     "name": "stdout",
     "output_type": "stream",
     "text": [
      "(20962, 20) (8984, 20)\n"
     ]
    }
   ],
   "source": [
    "print (X_train.shape, X_test.shape)"
   ]
  },
  {
   "cell_type": "code",
   "execution_count": 17,
   "metadata": {},
   "outputs": [
    {
     "name": "stdout",
     "output_type": "stream",
     "text": [
      "(20962,) (8984,)\n"
     ]
    }
   ],
   "source": [
    "print(y_train.shape, y_test.shape)"
   ]
  },
  {
   "cell_type": "markdown",
   "metadata": {},
   "source": [
    "## Preprocessing "
   ]
  },
  {
   "cell_type": "code",
   "execution_count": 18,
   "metadata": {
    "collapsed": true
   },
   "outputs": [],
   "source": [
    "#X_scaled = preprocessing.scale(X_train)"
   ]
  },
  {
   "cell_type": "markdown",
   "metadata": {},
   "source": [
    "## Modeling"
   ]
  },
  {
   "cell_type": "markdown",
   "metadata": {},
   "source": [
    "#### Models"
   ]
  },
  {
   "cell_type": "code",
   "execution_count": 19,
   "metadata": {
    "collapsed": true
   },
   "outputs": [],
   "source": [
    "modelKNN = KNeighborsClassifier()   \n",
    "modelSVM = svm.SVC()\n",
    "modelRF = RandomForestClassifier()\n",
    "modelLR = LogisticRegression()"
   ]
  },
  {
   "cell_type": "markdown",
   "metadata": {},
   "source": [
    "### Logistic Regression Model"
   ]
  },
  {
   "cell_type": "markdown",
   "metadata": {},
   "source": [
    "#### Train / Test split"
   ]
  },
  {
   "cell_type": "code",
   "execution_count": 20,
   "metadata": {
    "collapsed": true
   },
   "outputs": [],
   "source": [
    "# train a logistic regression model on the training set\n",
    "\n",
    "LR = modelLR.fit(X_train, y_train)"
   ]
  },
  {
   "cell_type": "code",
   "execution_count": 21,
   "metadata": {
    "collapsed": true
   },
   "outputs": [],
   "source": [
    "# class prediction for the testing set\n",
    "\n",
    "LR_pred = modelLR.predict(X_test)"
   ]
  },
  {
   "cell_type": "code",
   "execution_count": 22,
   "metadata": {},
   "outputs": [
    {
     "name": "stdout",
     "output_type": "stream",
     "text": [
      "0.7821682991985752\n"
     ]
    }
   ],
   "source": [
    "# classification accuracy: percentage of correct predictions\n",
    "\n",
    "print(skm.accuracy_score(y_test, LR_pred))"
   ]
  },
  {
   "cell_type": "code",
   "execution_count": 23,
   "metadata": {},
   "outputs": [
    {
     "data": {
      "text/plain": [
       "0    7027\n",
       "1    1957\n",
       "Name: default_pay, dtype: int64"
      ]
     },
     "execution_count": 23,
     "metadata": {},
     "output_type": "execute_result"
    }
   ],
   "source": [
    "# compering with null accuracy\n",
    "# null accuracy - accuracy that could be achieved by always predicting the most frequent class\n",
    "\n",
    "# examin the class distribution of the testing set\n",
    "\n",
    "y_test.value_counts()"
   ]
  },
  {
   "cell_type": "code",
   "execution_count": 24,
   "metadata": {},
   "outputs": [
    {
     "data": {
      "text/plain": [
       "0.21783170080142475"
      ]
     },
     "execution_count": 24,
     "metadata": {},
     "output_type": "execute_result"
    }
   ],
   "source": [
    "# calculate the percentage of \"1s\"\n",
    "\n",
    "y_test.mean()"
   ]
  },
  {
   "cell_type": "code",
   "execution_count": 25,
   "metadata": {},
   "outputs": [
    {
     "data": {
      "text/plain": [
       "0.7821682991985752"
      ]
     },
     "execution_count": 25,
     "metadata": {},
     "output_type": "execute_result"
    }
   ],
   "source": [
    "# calculate the percentage of \"0s\"\n",
    "\n",
    "1 - y_test.mean()"
   ]
  },
  {
   "cell_type": "code",
   "execution_count": 26,
   "metadata": {},
   "outputs": [
    {
     "data": {
      "text/plain": [
       "0.7821682991985752"
      ]
     },
     "execution_count": 26,
     "metadata": {},
     "output_type": "execute_result"
    }
   ],
   "source": [
    "# calculate null accuracy (for binary classification problems coded as 1/0)\n",
    "\n",
    "max(y_test.mean(), 1- y_test.mean())"
   ]
  },
  {
   "cell_type": "markdown",
   "metadata": {},
   "source": [
    "Interpretation: dumb model that always predicts 0 would be right 78 % of the time, so\n",
    "classification accuracy is not that good as it's doesn't differ from a dumb model.\n",
    "\n",
    "\n",
    "Why accuracy is not the best metric?\n",
    "\n",
    "Because it doesn't tell about underlaying distribution of values and what the errors are, for example:"
   ]
  },
  {
   "cell_type": "code",
   "execution_count": 27,
   "metadata": {},
   "outputs": [
    {
     "name": "stdout",
     "output_type": "stream",
     "text": [
      "True: [1 0 1 1 1 0 0 0 0 0 0 0 0 0 0 1 0 0 0 0 0 0 0 0 0 0 0 0 0 1 0 1 0 0 1]\n",
      "Pred: [0 0 0 0 0 0 0 0 0 0 0 0 0 0 0 0 0 0 0 0 0 0 0 0 0 0 0 0 0 0 0 0 0 0 0]\n"
     ]
    }
   ],
   "source": [
    "# print the first 35 true and predicted responses\n",
    "# pattern: 0s are well predicted, but not 1s - it's obvious that certain type of mistake exists \n",
    "\n",
    "print('True:', y_test.values[0:35])\n",
    "print('Pred:', LR_pred[0:35])"
   ]
  },
  {
   "cell_type": "markdown",
   "metadata": {},
   "source": [
    "Solution: \n",
    "\n",
    "Confusion matrix will reveal the pattern, as it describes the performance of a classification model.\n",
    "\n",
    "Gives a more complete picture of how a classifier is performing"
   ]
  },
  {
   "cell_type": "code",
   "execution_count": 28,
   "metadata": {},
   "outputs": [
    {
     "name": "stdout",
     "output_type": "stream",
     "text": [
      "[[7026    1]\n",
      " [1956    1]]\n"
     ]
    }
   ],
   "source": [
    "confusion_LR = skm.confusion_matrix(y_test, LR_pred)\n",
    "print(confusion_LR)\n",
    "\n",
    "# 0: negative class (doesn't have default status)\n",
    "# 1: positive class (has default status)\n",
    "\n",
    "\n",
    "#        Pr_0  Pr_1\n",
    "# Act_0   TN    FP \n",
    "# Act_1   FN    TP"
   ]
  },
  {
   "cell_type": "markdown",
   "metadata": {},
   "source": [
    "Completely wrong prediction regarding positive classes (1s) - default status. \n",
    "\n",
    "Negative class (0s) - correct prediction"
   ]
  },
  {
   "cell_type": "markdown",
   "metadata": {},
   "source": [
    "Interpretation:\n",
    "\n",
    "1 person: having default status was correctly predicted (TP: True Positives)\n",
    "\n",
    "\n",
    "7026 persons: not having defaul status were correctly predicted (TN: True Negative)  \n",
    "\n",
    "\n",
    "1 person: was incorrectly predicted as having default status, but in fact doesn't have (FP: False Positive, Type I error)\n",
    "\n",
    "\n",
    "1956 persons: were incorrectly predicted as not having default status, but in fact they do (FN: False Negative, Type II error)"
   ]
  },
  {
   "cell_type": "markdown",
   "metadata": {},
   "source": [
    "#### Metrics "
   ]
  },
  {
   "cell_type": "markdown",
   "metadata": {},
   "source": [
    "**Classification accuracy:** overall, how often is the classifier correct?  "
   ]
  },
  {
   "cell_type": "code",
   "execution_count": 29,
   "metadata": {},
   "outputs": [
    {
     "name": "stdout",
     "output_type": "stream",
     "text": [
      "0.7821682991985752\n"
     ]
    }
   ],
   "source": [
    "print(skm.accuracy_score(y_test, LR_pred))"
   ]
  },
  {
   "cell_type": "markdown",
   "metadata": {},
   "source": [
    "**Classification error:** overall, how often is the classifier incorrect? (Misclasification Rate)"
   ]
  },
  {
   "cell_type": "code",
   "execution_count": 30,
   "metadata": {},
   "outputs": [
    {
     "name": "stdout",
     "output_type": "stream",
     "text": [
      "0.21783170080142478\n"
     ]
    }
   ],
   "source": [
    "print(1 - skm.accuracy_score(y_test, LR_pred))"
   ]
  },
  {
   "cell_type": "markdown",
   "metadata": {},
   "source": [
    "**Sensitivity:** when the actual value is positive, how often is the prediction correct?\n",
    "\n",
    "How \"sensitive\" is the classifier to detecting positive instances? (\"Recall\" or \"True Positive Rate\")"
   ]
  },
  {
   "cell_type": "code",
   "execution_count": 31,
   "metadata": {},
   "outputs": [
    {
     "name": "stdout",
     "output_type": "stream",
     "text": [
      "0.000510986203372509\n"
     ]
    }
   ],
   "source": [
    "print(skm.recall_score(y_test, LR_pred))"
   ]
  },
  {
   "cell_type": "markdown",
   "metadata": {},
   "source": [
    "**Specificity:** when the actual value is negative, how often is the prediction correct?\n",
    "\n",
    "This classifier is highly specific but not highly sensitive, in fact is not sensitive at all"
   ]
  },
  {
   "cell_type": "code",
   "execution_count": 35,
   "metadata": {},
   "outputs": [
    {
     "name": "stdout",
     "output_type": "stream",
     "text": [
      "0.9998576917603529\n"
     ]
    }
   ],
   "source": [
    "TN_LR = confusion_LR[0, 0]\n",
    "FP_LR = confusion_LR[0, 1]\n",
    "\n",
    "print(TN_LR / float(FP_LR + TN_LR))"
   ]
  },
  {
   "cell_type": "markdown",
   "metadata": {},
   "source": [
    "Interpretation: the Linear Regression model is highly specific but not sensitive"
   ]
  },
  {
   "cell_type": "markdown",
   "metadata": {},
   "source": [
    "**False positive rate:** when the actual value is negative, how often is the prediction correct?"
   ]
  },
  {
   "cell_type": "code",
   "execution_count": 36,
   "metadata": {},
   "outputs": [
    {
     "name": "stdout",
     "output_type": "stream",
     "text": [
      "0.00014230823964707557\n"
     ]
    }
   ],
   "source": [
    "print(FP_LR / float(TN_LR + FP_LR))"
   ]
  },
  {
   "cell_type": "markdown",
   "metadata": {},
   "source": [
    "**Precision:** when a positive value is predicted, how often is the prediction correct?"
   ]
  },
  {
   "cell_type": "code",
   "execution_count": 37,
   "metadata": {},
   "outputs": [
    {
     "name": "stdout",
     "output_type": "stream",
     "text": [
      "0.5\n"
     ]
    }
   ],
   "source": [
    "print(skm.precision_score(y_test, LR_pred))"
   ]
  },
  {
   "cell_type": "markdown",
   "metadata": {},
   "source": [
    "Summary"
   ]
  },
  {
   "cell_type": "code",
   "execution_count": 38,
   "metadata": {},
   "outputs": [
    {
     "name": "stdout",
     "output_type": "stream",
     "text": [
      " ***Logistic Regression*** \n",
      " Accuracy 0.7821682991985752 \n",
      " Kappa 0.0005764039984930136 \n",
      " Sensitivity 0.000510986203372509 \n",
      " Specificity 0.9998576917603529 \n",
      " Precision 0.5 \n",
      " False Positive Rate 0.00014230823964707557\n"
     ]
    }
   ],
   "source": [
    "print(\" ***Logistic Regression***\" ,'\\n',\"Accuracy\",skm.accuracy_score(y_test, LR_pred),'\\n',\"Kappa\",skm.cohen_kappa_score(y_test, LR_pred),'\\n',\"Sensitivity\",skm.recall_score(y_test, LR_pred),'\\n','Specificity',TN_LR/float(FP_LR + TN_LR),'\\n',\"Precision\",skm.precision_score(y_test, LR_pred),'\\n',\"False Positive Rate\",FP_LR/float(TN_LR + FP_LR))"
   ]
  },
  {
   "cell_type": "code",
   "execution_count": 39,
   "metadata": {},
   "outputs": [
    {
     "name": "stdout",
     "output_type": "stream",
     "text": [
      "[0.77647396 0.77701446 0.77672821]\n"
     ]
    },
    {
     "data": {
      "text/plain": [
       "0.7768342715389753"
      ]
     },
     "execution_count": 39,
     "metadata": {},
     "output_type": "execute_result"
    }
   ],
   "source": [
    "# Addional metrics\n",
    "\n",
    "print(cross_val_score(modelLR, X_train, y_train)) \n",
    "\n",
    "modelLR.score(X_train, y_train)"
   ]
  },
  {
   "cell_type": "markdown",
   "metadata": {},
   "source": [
    "#### 10-fold Cross-Validation"
   ]
  },
  {
   "cell_type": "code",
   "execution_count": 40,
   "metadata": {
    "collapsed": true
   },
   "outputs": [],
   "source": [
    "LR_cv = cross_val_score(modelLR, features, depVar, cv = 10, scoring = 'accuracy').mean()"
   ]
  },
  {
   "cell_type": "code",
   "execution_count": 41,
   "metadata": {},
   "outputs": [
    {
     "name": "stdout",
     "output_type": "stream",
     "text": [
      "Accuracy of Linear Regression is:  0.7785013048550337\n"
     ]
    }
   ],
   "source": [
    "print(\"Accuracy of Linear Regression is: \" , LR_cv)"
   ]
  },
  {
   "cell_type": "markdown",
   "metadata": {},
   "source": [
    "### Support Vector Machine"
   ]
  },
  {
   "cell_type": "code",
   "execution_count": 42,
   "metadata": {
    "collapsed": true
   },
   "outputs": [],
   "source": [
    "SVM = modelSVM.fit(X_train, y_train)"
   ]
  },
  {
   "cell_type": "code",
   "execution_count": 43,
   "metadata": {
    "collapsed": true
   },
   "outputs": [],
   "source": [
    "SVM_pred = SVM.predict(X_test)"
   ]
  },
  {
   "cell_type": "code",
   "execution_count": 46,
   "metadata": {},
   "outputs": [
    {
     "name": "stdout",
     "output_type": "stream",
     "text": [
      "[[7005   22]\n",
      " [1922   35]]\n"
     ]
    }
   ],
   "source": [
    "confusion_SVM = skm.confusion_matrix(y_test, SVM_pred)\n",
    "print(confusion_SVM)"
   ]
  },
  {
   "cell_type": "code",
   "execution_count": 47,
   "metadata": {
    "collapsed": true
   },
   "outputs": [],
   "source": [
    "TN_SVM = confusion_SVM[0, 0]\n",
    "FP_SVM = confusion_SVM[0, 1]"
   ]
  },
  {
   "cell_type": "code",
   "execution_count": 48,
   "metadata": {},
   "outputs": [
    {
     "name": "stdout",
     "output_type": "stream",
     "text": [
      " ***Support Vector Machine*** \n",
      " Accuracy 0.7836153161175423 \n",
      " Kappa 0.022706581138107862 \n",
      " Sensitivity 0.01788451711803781 \n",
      " Specificity 0.9968692187277644 \n",
      " Precision 0.6140350877192983 \n",
      " False Positive Rate 0.0031307812722356624\n"
     ]
    }
   ],
   "source": [
    "print(\" ***Support Vector Machine***\" ,'\\n',\"Accuracy\",skm.accuracy_score(y_test, SVM_pred),'\\n',\"Kappa\",skm.cohen_kappa_score(y_test, SVM_pred),'\\n',\"Sensitivity\",skm.recall_score(y_test, SVM_pred),'\\n','Specificity',TN_SVM/float(FP_SVM + TN_SVM),'\\n',\"Precision\",skm.precision_score(y_test, SVM_pred),'\\n',\"False Positive Rate\",FP_SVM/float(TN_SVM + FP_SVM))"
   ]
  },
  {
   "cell_type": "code",
   "execution_count": 49,
   "metadata": {},
   "outputs": [
    {
     "name": "stdout",
     "output_type": "stream",
     "text": [
      "[0.77647396 0.7773007  0.77959067]\n"
     ]
    },
    {
     "data": {
      "text/plain": [
       "0.9907928632764049"
      ]
     },
     "execution_count": 49,
     "metadata": {},
     "output_type": "execute_result"
    }
   ],
   "source": [
    "print(cross_val_score(SVM, X_train, y_train)) \n",
    "\n",
    "modelSVM.score(X_train, y_train)"
   ]
  },
  {
   "cell_type": "markdown",
   "metadata": {},
   "source": [
    "### K-Nearest Neighbors TUNED"
   ]
  },
  {
   "cell_type": "markdown",
   "metadata": {},
   "source": [
    "#### 10-fold Cross-Validation"
   ]
  },
  {
   "cell_type": "code",
   "execution_count": 50,
   "metadata": {},
   "outputs": [
    {
     "name": "stdout",
     "output_type": "stream",
     "text": [
      "0.7522650265612137\n"
     ]
    }
   ],
   "source": [
    "modelKNN = KNeighborsClassifier()\n",
    "KNN_cv = cross_val_score(modelKNN, X_train, y_train, cv = 10, scoring = 'accuracy').mean()\n",
    "print(KNN_cv)"
   ]
  },
  {
   "cell_type": "code",
   "execution_count": 51,
   "metadata": {},
   "outputs": [
    {
     "data": {
      "text/plain": [
       "{'algorithm': 'auto',\n",
       " 'leaf_size': 30,\n",
       " 'metric': 'minkowski',\n",
       " 'metric_params': None,\n",
       " 'n_jobs': 1,\n",
       " 'n_neighbors': 5,\n",
       " 'p': 2,\n",
       " 'weights': 'uniform'}"
      ]
     },
     "execution_count": 51,
     "metadata": {},
     "output_type": "execute_result"
    }
   ],
   "source": [
    "# check the parameters\n",
    "\n",
    "modelKNN.get_params()"
   ]
  },
  {
   "cell_type": "markdown",
   "metadata": {},
   "source": [
    "#### Parameter tuning: GridSearchCV"
   ]
  },
  {
   "cell_type": "code",
   "execution_count": 55,
   "metadata": {
    "collapsed": true
   },
   "outputs": [],
   "source": [
    "# define the parameter values that should be searched\n",
    "\n",
    "k_range = np.arange(1, 31)\n",
    "weight_options = ['uniform', 'distance']"
   ]
  },
  {
   "cell_type": "code",
   "execution_count": 56,
   "metadata": {},
   "outputs": [
    {
     "name": "stdout",
     "output_type": "stream",
     "text": [
      "{'n_neighbors': array([ 1,  2,  3,  4,  5,  6,  7,  8,  9, 10, 11, 12, 13, 14, 15, 16, 17,\n",
      "       18, 19, 20, 21, 22, 23, 24, 25, 26, 27, 28, 29, 30]), 'weights': ['uniform', 'distance']}\n"
     ]
    }
   ],
   "source": [
    "# create a parameter grid: map the parameter names to the names that should be searched\n",
    "\n",
    "param_grid = dict(n_neighbors = k_range, weights = weight_options)\n",
    "print(param_grid)"
   ]
  },
  {
   "cell_type": "code",
   "execution_count": 58,
   "metadata": {
    "collapsed": true
   },
   "outputs": [],
   "source": [
    "# instantiate the grid \n",
    "\n",
    "grid_KNN = GridSearchCV(modelKNN, param_grid, cv = 10, scoring = 'accuracy')"
   ]
  },
  {
   "cell_type": "code",
   "execution_count": 59,
   "metadata": {},
   "outputs": [
    {
     "data": {
      "text/plain": [
       "GridSearchCV(cv=10, error_score='raise',\n",
       "       estimator=KNeighborsClassifier(algorithm='auto', leaf_size=30, metric='minkowski',\n",
       "           metric_params=None, n_jobs=1, n_neighbors=5, p=2,\n",
       "           weights='uniform'),\n",
       "       fit_params={}, iid=True, n_jobs=1,\n",
       "       param_grid={'n_neighbors': array([ 1,  2,  3,  4,  5,  6,  7,  8,  9, 10, 11, 12, 13, 14, 15, 16, 17,\n",
       "       18, 19, 20, 21, 22, 23, 24, 25, 26, 27, 28, 29, 30]), 'weights': ['uniform', 'distance']},\n",
       "       pre_dispatch='2*n_jobs', refit=True, scoring='accuracy', verbose=0)"
      ]
     },
     "execution_count": 59,
     "metadata": {},
     "output_type": "execute_result"
    }
   ],
   "source": [
    "grid_KNN.fit(X_train, y_train)"
   ]
  },
  {
   "cell_type": "code",
   "execution_count": 60,
   "metadata": {},
   "outputs": [
    {
     "data": {
      "text/plain": [
       "[mean: 0.69249, std: 0.01136, params: {'n_neighbors': 1, 'weights': 'uniform'},\n",
       " mean: 0.69249, std: 0.01136, params: {'n_neighbors': 1, 'weights': 'distance'},\n",
       " mean: 0.76343, std: 0.00381, params: {'n_neighbors': 2, 'weights': 'uniform'},\n",
       " mean: 0.69349, std: 0.01131, params: {'n_neighbors': 2, 'weights': 'distance'},\n",
       " mean: 0.73834, std: 0.00667, params: {'n_neighbors': 3, 'weights': 'uniform'},\n",
       " mean: 0.73590, std: 0.00636, params: {'n_neighbors': 3, 'weights': 'distance'},\n",
       " mean: 0.76763, std: 0.00322, params: {'n_neighbors': 4, 'weights': 'uniform'},\n",
       " mean: 0.73729, std: 0.00649, params: {'n_neighbors': 4, 'weights': 'distance'},\n",
       " mean: 0.75227, std: 0.00461, params: {'n_neighbors': 5, 'weights': 'uniform'},\n",
       " mean: 0.75050, std: 0.00331, params: {'n_neighbors': 5, 'weights': 'distance'},\n",
       " mean: 0.76858, std: 0.00401, params: {'n_neighbors': 6, 'weights': 'uniform'},\n",
       " mean: 0.75246, std: 0.00532, params: {'n_neighbors': 6, 'weights': 'distance'},\n",
       " mean: 0.76042, std: 0.00437, params: {'n_neighbors': 7, 'weights': 'uniform'},\n",
       " mean: 0.75947, std: 0.00420, params: {'n_neighbors': 7, 'weights': 'distance'},\n",
       " mean: 0.77125, std: 0.00423, params: {'n_neighbors': 8, 'weights': 'uniform'},\n",
       " mean: 0.76004, std: 0.00474, params: {'n_neighbors': 8, 'weights': 'distance'},\n",
       " mean: 0.76696, std: 0.00309, params: {'n_neighbors': 9, 'weights': 'uniform'},\n",
       " mean: 0.76300, std: 0.00297, params: {'n_neighbors': 9, 'weights': 'distance'},\n",
       " mean: 0.77493, std: 0.00304, params: {'n_neighbors': 10, 'weights': 'uniform'},\n",
       " mean: 0.76620, std: 0.00341, params: {'n_neighbors': 10, 'weights': 'distance'},\n",
       " mean: 0.77044, std: 0.00369, params: {'n_neighbors': 11, 'weights': 'uniform'},\n",
       " mean: 0.76820, std: 0.00482, params: {'n_neighbors': 11, 'weights': 'distance'},\n",
       " mean: 0.77598, std: 0.00279, params: {'n_neighbors': 12, 'weights': 'uniform'},\n",
       " mean: 0.76920, std: 0.00341, params: {'n_neighbors': 12, 'weights': 'distance'},\n",
       " mean: 0.77192, std: 0.00244, params: {'n_neighbors': 13, 'weights': 'uniform'},\n",
       " mean: 0.76973, std: 0.00376, params: {'n_neighbors': 13, 'weights': 'distance'},\n",
       " mean: 0.77679, std: 0.00337, params: {'n_neighbors': 14, 'weights': 'uniform'},\n",
       " mean: 0.77140, std: 0.00388, params: {'n_neighbors': 14, 'weights': 'distance'},\n",
       " mean: 0.77297, std: 0.00498, params: {'n_neighbors': 15, 'weights': 'uniform'},\n",
       " mean: 0.77125, std: 0.00439, params: {'n_neighbors': 15, 'weights': 'distance'},\n",
       " mean: 0.77631, std: 0.00399, params: {'n_neighbors': 16, 'weights': 'uniform'},\n",
       " mean: 0.77292, std: 0.00504, params: {'n_neighbors': 16, 'weights': 'distance'},\n",
       " mean: 0.77545, std: 0.00430, params: {'n_neighbors': 17, 'weights': 'uniform'},\n",
       " mean: 0.77464, std: 0.00373, params: {'n_neighbors': 17, 'weights': 'distance'},\n",
       " mean: 0.77812, std: 0.00449, params: {'n_neighbors': 18, 'weights': 'uniform'},\n",
       " mean: 0.77540, std: 0.00373, params: {'n_neighbors': 18, 'weights': 'distance'},\n",
       " mean: 0.77645, std: 0.00372, params: {'n_neighbors': 19, 'weights': 'uniform'},\n",
       " mean: 0.77483, std: 0.00334, params: {'n_neighbors': 19, 'weights': 'distance'},\n",
       " mean: 0.77712, std: 0.00414, params: {'n_neighbors': 20, 'weights': 'uniform'},\n",
       " mean: 0.77474, std: 0.00397, params: {'n_neighbors': 20, 'weights': 'distance'},\n",
       " mean: 0.77679, std: 0.00449, params: {'n_neighbors': 21, 'weights': 'uniform'},\n",
       " mean: 0.77612, std: 0.00440, params: {'n_neighbors': 21, 'weights': 'distance'},\n",
       " mean: 0.77822, std: 0.00369, params: {'n_neighbors': 22, 'weights': 'uniform'},\n",
       " mean: 0.77574, std: 0.00394, params: {'n_neighbors': 22, 'weights': 'distance'},\n",
       " mean: 0.77698, std: 0.00466, params: {'n_neighbors': 23, 'weights': 'uniform'},\n",
       " mean: 0.77645, std: 0.00468, params: {'n_neighbors': 23, 'weights': 'distance'},\n",
       " mean: 0.77827, std: 0.00412, params: {'n_neighbors': 24, 'weights': 'uniform'},\n",
       " mean: 0.77679, std: 0.00429, params: {'n_neighbors': 24, 'weights': 'distance'},\n",
       " mean: 0.77760, std: 0.00377, params: {'n_neighbors': 25, 'weights': 'uniform'},\n",
       " mean: 0.77674, std: 0.00414, params: {'n_neighbors': 25, 'weights': 'distance'},\n",
       " mean: 0.77903, std: 0.00457, params: {'n_neighbors': 26, 'weights': 'uniform'},\n",
       " mean: 0.77750, std: 0.00369, params: {'n_neighbors': 26, 'weights': 'distance'},\n",
       " mean: 0.77841, std: 0.00477, params: {'n_neighbors': 27, 'weights': 'uniform'},\n",
       " mean: 0.77803, std: 0.00429, params: {'n_neighbors': 27, 'weights': 'distance'},\n",
       " mean: 0.77984, std: 0.00406, params: {'n_neighbors': 28, 'weights': 'uniform'},\n",
       " mean: 0.77846, std: 0.00390, params: {'n_neighbors': 28, 'weights': 'distance'},\n",
       " mean: 0.77898, std: 0.00433, params: {'n_neighbors': 29, 'weights': 'uniform'},\n",
       " mean: 0.77893, std: 0.00479, params: {'n_neighbors': 29, 'weights': 'distance'},\n",
       " mean: 0.77989, std: 0.00454, params: {'n_neighbors': 30, 'weights': 'uniform'},\n",
       " mean: 0.77960, std: 0.00436, params: {'n_neighbors': 30, 'weights': 'distance'}]"
      ]
     },
     "execution_count": 60,
     "metadata": {},
     "output_type": "execute_result"
    }
   ],
   "source": [
    "grid_KNN.grid_scores_"
   ]
  },
  {
   "cell_type": "code",
   "execution_count": 62,
   "metadata": {},
   "outputs": [
    {
     "name": "stdout",
     "output_type": "stream",
     "text": [
      "0.7798874153229653\n",
      "{'n_neighbors': 30, 'weights': 'uniform'}\n",
      "KNeighborsClassifier(algorithm='auto', leaf_size=30, metric='minkowski',\n",
      "           metric_params=None, n_jobs=1, n_neighbors=30, p=2,\n",
      "           weights='uniform')\n"
     ]
    }
   ],
   "source": [
    "# best model\n",
    "\n",
    "print(grid_KNN.best_score_)\n",
    "print(grid_KNN.best_params_)\n",
    "print(grid_KNN.best_estimator_)"
   ]
  },
  {
   "cell_type": "code",
   "execution_count": 63,
   "metadata": {},
   "outputs": [
    {
     "name": "stdout",
     "output_type": "stream",
     "text": [
      "{'n_neighbors': 1, 'weights': 'uniform'}\n",
      "[0.67143538 0.67858846 0.69957082 0.68764902 0.69274809 0.70992366\n",
      " 0.6894084  0.70324427 0.68830549 0.70405728]\n",
      "0.6924911745062494\n"
     ]
    }
   ],
   "source": [
    "# there is one tuple for each trial of CV\n",
    "# examine the first tuple \n",
    "\n",
    "print(grid_KNN.grid_scores_[0].parameters)\n",
    "print(grid_KNN.grid_scores_[0].cv_validation_scores)\n",
    "print(grid_KNN.grid_scores_[0].mean_validation_score)"
   ]
  },
  {
   "cell_type": "code",
   "execution_count": 64,
   "metadata": {},
   "outputs": [
    {
     "data": {
      "text/plain": [
       "Text(0,0.5,'Cross-Validated Accuracy')"
      ]
     },
     "execution_count": 64,
     "metadata": {},
     "output_type": "execute_result"
    },
    {
     "data": {
      "image/png": "[encoded data removed]",
      "text/plain": [
       "<matplotlib.figure.Figure at 0x1bb5adfa3c8>"
      ]
     },
     "metadata": {},
     "output_type": "display_data"
    }
   ],
   "source": [
    "# plot the results \n",
    "\n",
    "plt.plot(k_range, )\n",
    "plt.xlabel('Value of k for KNN')\n",
    "plt.ylabel('Cross-Validated Accuracy')"
   ]
  },
  {
   "cell_type": "markdown",
   "metadata": {},
   "source": [
    "#### Train / Test split"
   ]
  },
  {
   "cell_type": "code",
   "execution_count": 65,
   "metadata": {},
   "outputs": [
    {
     "data": {
      "text/plain": [
       "KNeighborsClassifier(algorithm='auto', leaf_size=30, metric='minkowski',\n",
       "           metric_params=None, n_jobs=1, n_neighbors=30, p=2,\n",
       "           weights='uniform')"
      ]
     },
     "execution_count": 65,
     "metadata": {},
     "output_type": "execute_result"
    }
   ],
   "source": [
    "modelKNN_par = KNeighborsClassifier(n_neighbors = 30, weights='uniform')  \n",
    "KNN = modelKNN_par.fit(X_train, y_train)\n",
    "KNN"
   ]
  },
  {
   "cell_type": "code",
   "execution_count": 66,
   "metadata": {
    "collapsed": true
   },
   "outputs": [],
   "source": [
    "KNN_pred = KNN.predict(X_test)"
   ]
  },
  {
   "cell_type": "code",
   "execution_count": 67,
   "metadata": {},
   "outputs": [
    {
     "name": "stdout",
     "output_type": "stream",
     "text": [
      "[[6853  174]\n",
      " [1809  148]]\n"
     ]
    }
   ],
   "source": [
    "confusion_KNN = skm.confusion_matrix(y_test, KNN_pred)\n",
    "print(confusion_KNN)"
   ]
  },
  {
   "cell_type": "code",
   "execution_count": 68,
   "metadata": {
    "collapsed": true
   },
   "outputs": [],
   "source": [
    "TN_KNN = confusion_KNN[0, 0]\n",
    "FP_KNN = confusion_KNN[0, 1]"
   ]
  },
  {
   "cell_type": "code",
   "execution_count": 69,
   "metadata": {},
   "outputs": [
    {
     "name": "stdout",
     "output_type": "stream",
     "text": [
      " ***K-Nearest Neighbors*** \n",
      " Accuracy 0.7792742653606411 \n",
      " Kappa 0.07280833765478378 \n",
      " Sensitivity 0.07562595809913132 \n",
      " Specificity 0.9752383663014088 \n",
      " Precision 0.45962732919254656 \n",
      " False Positive Rate 0.02476163369859115\n"
     ]
    }
   ],
   "source": [
    "print(\" ***K-Nearest Neighbors***\" ,'\\n',\"Accuracy\",skm.accuracy_score(y_test, KNN_pred),'\\n',\"Kappa\",skm.cohen_kappa_score(y_test, KNN_pred),'\\n',\"Sensitivity\",skm.recall_score(y_test, KNN_pred),'\\n','Specificity',TN_KNN/float(FP_KNN + TN_KNN),'\\n',\"Precision\",skm.precision_score(y_test, KNN_pred),'\\n',\"False Positive Rate\",FP_KNN/float(TN_KNN + FP_KNN))"
   ]
  },
  {
   "cell_type": "markdown",
   "metadata": {},
   "source": [
    "### Random Forest"
   ]
  },
  {
   "cell_type": "code",
   "execution_count": 70,
   "metadata": {},
   "outputs": [
    {
     "data": {
      "text/plain": [
       "RandomForestClassifier(bootstrap=True, class_weight=None, criterion='gini',\n",
       "            max_depth=None, max_features='auto', max_leaf_nodes=None,\n",
       "            min_impurity_decrease=0.0, min_impurity_split=None,\n",
       "            min_samples_leaf=1, min_samples_split=2,\n",
       "            min_weight_fraction_leaf=0.0, n_estimators=10, n_jobs=1,\n",
       "            oob_score=False, random_state=None, verbose=0,\n",
       "            warm_start=False)"
      ]
     },
     "execution_count": 70,
     "metadata": {},
     "output_type": "execute_result"
    }
   ],
   "source": [
    "RF = modelRF.fit(X_train, y_train, )\n",
    "RF"
   ]
  },
  {
   "cell_type": "code",
   "execution_count": 71,
   "metadata": {
    "collapsed": true
   },
   "outputs": [],
   "source": [
    "RF_pred = RF.predict(X_test)"
   ]
  },
  {
   "cell_type": "code",
   "execution_count": 72,
   "metadata": {},
   "outputs": [
    {
     "name": "stdout",
     "output_type": "stream",
     "text": [
      "[[6598  429]\n",
      " [1332  625]]\n"
     ]
    }
   ],
   "source": [
    "confusion_RF = skm.confusion_matrix(y_test, RF_pred)\n",
    "print(confusion_RF)"
   ]
  },
  {
   "cell_type": "code",
   "execution_count": 73,
   "metadata": {
    "collapsed": true
   },
   "outputs": [],
   "source": [
    "TN_RF = confusion_RF[0, 0]\n",
    "FP_RF = confusion_RF[0, 1]"
   ]
  },
  {
   "cell_type": "code",
   "execution_count": 74,
   "metadata": {},
   "outputs": [
    {
     "name": "stdout",
     "output_type": "stream",
     "text": [
      " ***Random Forest*** \n",
      " Accuracy 0.8039848619768477 \n",
      " Kappa 0.3099018087656923 \n",
      " Sensitivity 0.31936637710781807 \n",
      " Specificity 0.9389497651914046 \n",
      " Precision 0.5929791271347249 \n",
      " False Positive Rate 0.061050234808595415\n"
     ]
    }
   ],
   "source": [
    "print(\" ***Random Forest***\" ,'\\n',\"Accuracy\",skm.accuracy_score(y_test, RF_pred),'\\n',\"Kappa\",skm.cohen_kappa_score(y_test, RF_pred),'\\n',\"Sensitivity\",skm.recall_score(y_test, RF_pred),'\\n','Specificity',TN_RF/float(FP_RF + TN_RF),'\\n',\"Precision\",skm.precision_score(y_test, RF_pred),'\\n',\"False Positive Rate\",FP_RF/float(TN_RF + FP_RF))"
   ]
  },
  {
   "cell_type": "code",
   "execution_count": 75,
   "metadata": {},
   "outputs": [
    {
     "name": "stdout",
     "output_type": "stream",
     "text": [
      "[0.8082427  0.80263346 0.80606841]\n"
     ]
    },
    {
     "data": {
      "text/plain": [
       "0.9782940559106955"
      ]
     },
     "execution_count": 75,
     "metadata": {},
     "output_type": "execute_result"
    }
   ],
   "source": [
    "print(cross_val_score(RF, X_train, y_train))\n",
    "RF.score(X_train, y_train)"
   ]
  },
  {
   "cell_type": "code",
   "execution_count": 76,
   "metadata": {},
   "outputs": [
    {
     "name": "stdout",
     "output_type": "stream",
     "text": [
      "[0.0763283  0.01748965 0.0268773  0.01861718 0.03261183 0.01888416\n",
      " 0.03344646 0.02602656 0.01458757 0.02981336 0.09131633 0.07400728\n",
      " 0.07476187 0.08777758 0.05961094 0.05725406 0.0598442  0.06284991\n",
      " 0.06890157 0.06899389]\n"
     ]
    }
   ],
   "source": [
    "# Feature importance\n",
    "\n",
    "print(RF.feature_importances_)"
   ]
  },
  {
   "cell_type": "code",
   "execution_count": 77,
   "metadata": {},
   "outputs": [
    {
     "data": {
      "text/plain": [
       "{'bootstrap': True,\n",
       " 'class_weight': None,\n",
       " 'criterion': 'gini',\n",
       " 'max_depth': None,\n",
       " 'max_features': 'auto',\n",
       " 'max_leaf_nodes': None,\n",
       " 'min_impurity_decrease': 0.0,\n",
       " 'min_impurity_split': None,\n",
       " 'min_samples_leaf': 1,\n",
       " 'min_samples_split': 2,\n",
       " 'min_weight_fraction_leaf': 0.0,\n",
       " 'n_estimators': 10,\n",
       " 'n_jobs': 1,\n",
       " 'oob_score': False,\n",
       " 'random_state': None,\n",
       " 'verbose': 0,\n",
       " 'warm_start': False}"
      ]
     },
     "execution_count": 77,
     "metadata": {},
     "output_type": "execute_result"
    }
   ],
   "source": [
    "modelRF.get_params()"
   ]
  },
  {
   "cell_type": "code",
   "execution_count": null,
   "metadata": {
    "collapsed": true
   },
   "outputs": [],
   "source": []
  },
  {
   "cell_type": "code",
   "execution_count": null,
   "metadata": {
    "collapsed": true
   },
   "outputs": [],
   "source": []
  }
 ],
 "metadata": {
  "kernelspec": {
   "display_name": "Python 3",
   "language": "python",
   "name": "python3"
  },
  "language_info": {
   "codemirror_mode": {
    "name": "ipython",
    "version": 3
   },
   "file_extension": ".py",
   "mimetype": "text/x-python",
   "name": "python",
   "nbconvert_exporter": "python",
   "pygments_lexer": "ipython3",
   "version": "3.6.3"
  }
 },
 "nbformat": 4,
 "nbformat_minor": 2
}
