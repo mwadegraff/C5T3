{
 "cells": [
  {
   "cell_type": "markdown",
   "metadata": {},
   "source": [
    "# CreditOne Classification \n",
    "Class 5 Task 3\n",
    "\n",
    "Digging into SVM KNN RF"
   ]
  },
  {
   "cell_type": "markdown",
   "metadata": {},
   "source": [
    "#### Import modules"
   ]
  },
  {
   "cell_type": "code",
   "execution_count": 5,
   "metadata": {
    "collapsed": true
   },
   "outputs": [],
   "source": [
    "#enable auto complete\n",
    "%config IPCompleter.greedy=True"
   ]
  },
  {
   "cell_type": "code",
   "execution_count": 6,
   "metadata": {
    "collapsed": true
   },
   "outputs": [],
   "source": [
    "%matplotlib inline"
   ]
  },
  {
   "cell_type": "code",
   "execution_count": 7,
   "metadata": {
    "collapsed": true
   },
   "outputs": [],
   "source": [
    "#imports\n",
    "#numpy,pandas,scipy,math,matplotlib\n",
    "import numpy as np\n",
    "import pandas as pd\n",
    "import scipy\n",
    "from math import sqrt\n",
    "import matplotlib.pyplot as plt\n",
    "\n",
    "#estimators\n",
    "#svm\n",
    "from sklearn import svm\n",
    "#knn\n",
    "from sklearn.neighbors import KNeighborsClassifier\n",
    "#RF\n",
    "from sklearn.ensemble import RandomForestClassifier\n",
    "from sklearn.datasets import make_classification\n",
    "\n",
    "#model metrics\n",
    "from sklearn.model_selection import cross_val_score\n",
    "import sklearn.metrics as skm\n",
    "\n",
    "#cross validation\n",
    "from sklearn.model_selection import train_test_split\n",
    "\n",
    "from sklearn.feature_selection import VarianceThreshold"
   ]
  },
  {
   "cell_type": "markdown",
   "metadata": {},
   "source": [
    "\n",
    "#### import data"
   ]
  },
  {
   "cell_type": "code",
   "execution_count": 8,
   "metadata": {},
   "outputs": [
    {
     "data": {
      "text/html": [
       "<div>\n",
       "<style>\n",
       "    .dataframe thead tr:only-child th {\n",
       "        text-align: right;\n",
       "    }\n",
       "\n",
       "    .dataframe thead th {\n",
       "        text-align: left;\n",
       "    }\n",
       "\n",
       "    .dataframe tbody tr th {\n",
       "        vertical-align: top;\n",
       "    }\n",
       "</style>\n",
       "<table border=\"1\" class=\"dataframe\">\n",
       "  <thead>\n",
       "    <tr style=\"text-align: right;\">\n",
       "      <th></th>\n",
       "      <th>ID</th>\n",
       "      <th>LIMIT_BAL</th>\n",
       "      <th>SEX</th>\n",
       "      <th>EDUCATION</th>\n",
       "      <th>MARRIAGE</th>\n",
       "      <th>AGE</th>\n",
       "      <th>PAY_0</th>\n",
       "      <th>PAY_2</th>\n",
       "      <th>PAY_3</th>\n",
       "      <th>PAY_4</th>\n",
       "      <th>...</th>\n",
       "      <th>BILL_AMT4</th>\n",
       "      <th>BILL_AMT5</th>\n",
       "      <th>BILL_AMT6</th>\n",
       "      <th>PAY_AMT1</th>\n",
       "      <th>PAY_AMT2</th>\n",
       "      <th>PAY_AMT3</th>\n",
       "      <th>PAY_AMT4</th>\n",
       "      <th>PAY_AMT5</th>\n",
       "      <th>PAY_AMT6</th>\n",
       "      <th>default payment next month</th>\n",
       "    </tr>\n",
       "  </thead>\n",
       "  <tbody>\n",
       "    <tr>\n",
       "      <th>0</th>\n",
       "      <td>4810</td>\n",
       "      <td>500000</td>\n",
       "      <td>1</td>\n",
       "      <td>3</td>\n",
       "      <td>3</td>\n",
       "      <td>53</td>\n",
       "      <td>0</td>\n",
       "      <td>0</td>\n",
       "      <td>0</td>\n",
       "      <td>0</td>\n",
       "      <td>...</td>\n",
       "      <td>125218</td>\n",
       "      <td>126650</td>\n",
       "      <td>114473</td>\n",
       "      <td>12602</td>\n",
       "      <td>11000</td>\n",
       "      <td>4711</td>\n",
       "      <td>6000</td>\n",
       "      <td>11000</td>\n",
       "      <td>10000</td>\n",
       "      <td>0</td>\n",
       "    </tr>\n",
       "    <tr>\n",
       "      <th>1</th>\n",
       "      <td>15096</td>\n",
       "      <td>500000</td>\n",
       "      <td>1</td>\n",
       "      <td>1</td>\n",
       "      <td>3</td>\n",
       "      <td>38</td>\n",
       "      <td>-2</td>\n",
       "      <td>-2</td>\n",
       "      <td>-2</td>\n",
       "      <td>-2</td>\n",
       "      <td>...</td>\n",
       "      <td>0</td>\n",
       "      <td>0</td>\n",
       "      <td>0</td>\n",
       "      <td>0</td>\n",
       "      <td>0</td>\n",
       "      <td>0</td>\n",
       "      <td>0</td>\n",
       "      <td>0</td>\n",
       "      <td>0</td>\n",
       "      <td>1</td>\n",
       "    </tr>\n",
       "    <tr>\n",
       "      <th>2</th>\n",
       "      <td>81</td>\n",
       "      <td>470000</td>\n",
       "      <td>2</td>\n",
       "      <td>3</td>\n",
       "      <td>3</td>\n",
       "      <td>33</td>\n",
       "      <td>0</td>\n",
       "      <td>0</td>\n",
       "      <td>0</td>\n",
       "      <td>0</td>\n",
       "      <td>...</td>\n",
       "      <td>69923</td>\n",
       "      <td>29271</td>\n",
       "      <td>29889</td>\n",
       "      <td>6400</td>\n",
       "      <td>7566</td>\n",
       "      <td>3000</td>\n",
       "      <td>960</td>\n",
       "      <td>1000</td>\n",
       "      <td>3000</td>\n",
       "      <td>0</td>\n",
       "    </tr>\n",
       "    <tr>\n",
       "      <th>3</th>\n",
       "      <td>14889</td>\n",
       "      <td>450000</td>\n",
       "      <td>2</td>\n",
       "      <td>1</td>\n",
       "      <td>3</td>\n",
       "      <td>37</td>\n",
       "      <td>1</td>\n",
       "      <td>-2</td>\n",
       "      <td>-2</td>\n",
       "      <td>-2</td>\n",
       "      <td>...</td>\n",
       "      <td>0</td>\n",
       "      <td>0</td>\n",
       "      <td>0</td>\n",
       "      <td>0</td>\n",
       "      <td>0</td>\n",
       "      <td>0</td>\n",
       "      <td>0</td>\n",
       "      <td>0</td>\n",
       "      <td>0</td>\n",
       "      <td>0</td>\n",
       "    </tr>\n",
       "    <tr>\n",
       "      <th>4</th>\n",
       "      <td>11072</td>\n",
       "      <td>450000</td>\n",
       "      <td>1</td>\n",
       "      <td>1</td>\n",
       "      <td>3</td>\n",
       "      <td>37</td>\n",
       "      <td>-2</td>\n",
       "      <td>-2</td>\n",
       "      <td>-2</td>\n",
       "      <td>-2</td>\n",
       "      <td>...</td>\n",
       "      <td>317</td>\n",
       "      <td>1614</td>\n",
       "      <td>324</td>\n",
       "      <td>303</td>\n",
       "      <td>5041</td>\n",
       "      <td>1</td>\n",
       "      <td>1622</td>\n",
       "      <td>325</td>\n",
       "      <td>316</td>\n",
       "      <td>0</td>\n",
       "    </tr>\n",
       "  </tbody>\n",
       "</table>\n",
       "<p>5 rows × 25 columns</p>\n",
       "</div>"
      ],
      "text/plain": [
       "      ID  LIMIT_BAL  SEX  EDUCATION  MARRIAGE  AGE  PAY_0  PAY_2  PAY_3  \\\n",
       "0   4810     500000    1          3         3   53      0      0      0   \n",
       "1  15096     500000    1          1         3   38     -2     -2     -2   \n",
       "2     81     470000    2          3         3   33      0      0      0   \n",
       "3  14889     450000    2          1         3   37      1     -2     -2   \n",
       "4  11072     450000    1          1         3   37     -2     -2     -2   \n",
       "\n",
       "   PAY_4             ...              BILL_AMT4  BILL_AMT5  BILL_AMT6  \\\n",
       "0      0             ...                 125218     126650     114473   \n",
       "1     -2             ...                      0          0          0   \n",
       "2      0             ...                  69923      29271      29889   \n",
       "3     -2             ...                      0          0          0   \n",
       "4     -2             ...                    317       1614        324   \n",
       "\n",
       "   PAY_AMT1  PAY_AMT2  PAY_AMT3  PAY_AMT4  PAY_AMT5  PAY_AMT6  \\\n",
       "0     12602     11000      4711      6000     11000     10000   \n",
       "1         0         0         0         0         0         0   \n",
       "2      6400      7566      3000       960      1000      3000   \n",
       "3         0         0         0         0         0         0   \n",
       "4       303      5041         1      1622       325       316   \n",
       "\n",
       "   default payment next month  \n",
       "0                           0  \n",
       "1                           1  \n",
       "2                           0  \n",
       "3                           0  \n",
       "4                           0  \n",
       "\n",
       "[5 rows x 25 columns]"
      ]
     },
     "execution_count": 8,
     "metadata": {},
     "output_type": "execute_result"
    }
   ],
   "source": [
    "#data\n",
    "rawData = pd.read_csv('default of credit card clients.csv', header=1)\n",
    "rawData.head()"
   ]
  },
  {
   "cell_type": "code",
   "execution_count": 9,
   "metadata": {},
   "outputs": [
    {
     "name": "stdout",
     "output_type": "stream",
     "text": [
      "<class 'pandas.core.frame.DataFrame'>\n",
      "RangeIndex: 30000 entries, 0 to 29999\n",
      "Data columns (total 25 columns):\n",
      "ID                            30000 non-null int64\n",
      "LIMIT_BAL                     30000 non-null int64\n",
      "SEX                           30000 non-null int64\n",
      "EDUCATION                     30000 non-null int64\n",
      "MARRIAGE                      30000 non-null int64\n",
      "AGE                           30000 non-null int64\n",
      "PAY_0                         30000 non-null int64\n",
      "PAY_2                         30000 non-null int64\n",
      "PAY_3                         30000 non-null int64\n",
      "PAY_4                         30000 non-null int64\n",
      "PAY_5                         30000 non-null int64\n",
      "PAY_6                         30000 non-null int64\n",
      "BILL_AMT1                     30000 non-null int64\n",
      "BILL_AMT2                     30000 non-null int64\n",
      "BILL_AMT3                     30000 non-null int64\n",
      "BILL_AMT4                     30000 non-null int64\n",
      "BILL_AMT5                     30000 non-null int64\n",
      "BILL_AMT6                     30000 non-null int64\n",
      "PAY_AMT1                      30000 non-null int64\n",
      "PAY_AMT2                      30000 non-null int64\n",
      "PAY_AMT3                      30000 non-null int64\n",
      "PAY_AMT4                      30000 non-null int64\n",
      "PAY_AMT5                      30000 non-null int64\n",
      "PAY_AMT6                      30000 non-null int64\n",
      "default payment next month    30000 non-null int64\n",
      "dtypes: int64(25)\n",
      "memory usage: 5.7 MB\n"
     ]
    }
   ],
   "source": [
    "rawData.info()"
   ]
  },
  {
   "cell_type": "code",
   "execution_count": 10,
   "metadata": {
    "collapsed": true
   },
   "outputs": [],
   "source": [
    "df = rawData"
   ]
  },
  {
   "cell_type": "code",
   "execution_count": 11,
   "metadata": {
    "collapsed": true
   },
   "outputs": [],
   "source": [
    "#change to categorical\n",
    "\n",
    "df.SEX = df.SEX.astype('category')\n",
    "df.MARRIAGE = df.MARRIAGE.astype('category')\n",
    "df.AGE = df.AGE.astype('category')\n",
    "df.EDUCATION = df.EDUCATION.astype('category')"
   ]
  },
  {
   "cell_type": "code",
   "execution_count": 12,
   "metadata": {
    "collapsed": true
   },
   "outputs": [],
   "source": [
    "#bin Age data\n",
    "df['AGE'] = pd.cut(df['AGE'], [20,30,40,50,60,70,80],labels=['20-30','30-40','40-50', '50-60', '60-70','80-70'])"
   ]
  },
  {
   "cell_type": "code",
   "execution_count": 13,
   "metadata": {
    "collapsed": true
   },
   "outputs": [],
   "source": [
    "#dummiefy age\n",
    "AGE_dummies = pd.get_dummies(df['AGE'],prefix = \"AGE\", columns=None, sparse=False, drop_first=False)"
   ]
  },
  {
   "cell_type": "code",
   "execution_count": 14,
   "metadata": {},
   "outputs": [
    {
     "data": {
      "text/html": [
       "<div>\n",
       "<style>\n",
       "    .dataframe thead tr:only-child th {\n",
       "        text-align: right;\n",
       "    }\n",
       "\n",
       "    .dataframe thead th {\n",
       "        text-align: left;\n",
       "    }\n",
       "\n",
       "    .dataframe tbody tr th {\n",
       "        vertical-align: top;\n",
       "    }\n",
       "</style>\n",
       "<table border=\"1\" class=\"dataframe\">\n",
       "  <thead>\n",
       "    <tr style=\"text-align: right;\">\n",
       "      <th></th>\n",
       "      <th>AGE_20-30</th>\n",
       "      <th>AGE_30-40</th>\n",
       "      <th>AGE_40-50</th>\n",
       "      <th>AGE_50-60</th>\n",
       "      <th>AGE_60-70</th>\n",
       "      <th>AGE_80-70</th>\n",
       "    </tr>\n",
       "  </thead>\n",
       "  <tbody>\n",
       "    <tr>\n",
       "      <th>0</th>\n",
       "      <td>0</td>\n",
       "      <td>0</td>\n",
       "      <td>0</td>\n",
       "      <td>1</td>\n",
       "      <td>0</td>\n",
       "      <td>0</td>\n",
       "    </tr>\n",
       "    <tr>\n",
       "      <th>1</th>\n",
       "      <td>0</td>\n",
       "      <td>1</td>\n",
       "      <td>0</td>\n",
       "      <td>0</td>\n",
       "      <td>0</td>\n",
       "      <td>0</td>\n",
       "    </tr>\n",
       "    <tr>\n",
       "      <th>2</th>\n",
       "      <td>0</td>\n",
       "      <td>1</td>\n",
       "      <td>0</td>\n",
       "      <td>0</td>\n",
       "      <td>0</td>\n",
       "      <td>0</td>\n",
       "    </tr>\n",
       "    <tr>\n",
       "      <th>3</th>\n",
       "      <td>0</td>\n",
       "      <td>1</td>\n",
       "      <td>0</td>\n",
       "      <td>0</td>\n",
       "      <td>0</td>\n",
       "      <td>0</td>\n",
       "    </tr>\n",
       "    <tr>\n",
       "      <th>4</th>\n",
       "      <td>0</td>\n",
       "      <td>1</td>\n",
       "      <td>0</td>\n",
       "      <td>0</td>\n",
       "      <td>0</td>\n",
       "      <td>0</td>\n",
       "    </tr>\n",
       "    <tr>\n",
       "      <th>5</th>\n",
       "      <td>0</td>\n",
       "      <td>1</td>\n",
       "      <td>0</td>\n",
       "      <td>0</td>\n",
       "      <td>0</td>\n",
       "      <td>0</td>\n",
       "    </tr>\n",
       "    <tr>\n",
       "      <th>6</th>\n",
       "      <td>0</td>\n",
       "      <td>0</td>\n",
       "      <td>0</td>\n",
       "      <td>1</td>\n",
       "      <td>0</td>\n",
       "      <td>0</td>\n",
       "    </tr>\n",
       "    <tr>\n",
       "      <th>7</th>\n",
       "      <td>0</td>\n",
       "      <td>0</td>\n",
       "      <td>1</td>\n",
       "      <td>0</td>\n",
       "      <td>0</td>\n",
       "      <td>0</td>\n",
       "    </tr>\n",
       "    <tr>\n",
       "      <th>8</th>\n",
       "      <td>0</td>\n",
       "      <td>1</td>\n",
       "      <td>0</td>\n",
       "      <td>0</td>\n",
       "      <td>0</td>\n",
       "      <td>0</td>\n",
       "    </tr>\n",
       "    <tr>\n",
       "      <th>9</th>\n",
       "      <td>0</td>\n",
       "      <td>1</td>\n",
       "      <td>0</td>\n",
       "      <td>0</td>\n",
       "      <td>0</td>\n",
       "      <td>0</td>\n",
       "    </tr>\n",
       "    <tr>\n",
       "      <th>10</th>\n",
       "      <td>0</td>\n",
       "      <td>1</td>\n",
       "      <td>0</td>\n",
       "      <td>0</td>\n",
       "      <td>0</td>\n",
       "      <td>0</td>\n",
       "    </tr>\n",
       "    <tr>\n",
       "      <th>11</th>\n",
       "      <td>0</td>\n",
       "      <td>0</td>\n",
       "      <td>0</td>\n",
       "      <td>1</td>\n",
       "      <td>0</td>\n",
       "      <td>0</td>\n",
       "    </tr>\n",
       "    <tr>\n",
       "      <th>12</th>\n",
       "      <td>0</td>\n",
       "      <td>0</td>\n",
       "      <td>1</td>\n",
       "      <td>0</td>\n",
       "      <td>0</td>\n",
       "      <td>0</td>\n",
       "    </tr>\n",
       "    <tr>\n",
       "      <th>13</th>\n",
       "      <td>0</td>\n",
       "      <td>0</td>\n",
       "      <td>1</td>\n",
       "      <td>0</td>\n",
       "      <td>0</td>\n",
       "      <td>0</td>\n",
       "    </tr>\n",
       "    <tr>\n",
       "      <th>14</th>\n",
       "      <td>0</td>\n",
       "      <td>0</td>\n",
       "      <td>1</td>\n",
       "      <td>0</td>\n",
       "      <td>0</td>\n",
       "      <td>0</td>\n",
       "    </tr>\n",
       "    <tr>\n",
       "      <th>15</th>\n",
       "      <td>0</td>\n",
       "      <td>1</td>\n",
       "      <td>0</td>\n",
       "      <td>0</td>\n",
       "      <td>0</td>\n",
       "      <td>0</td>\n",
       "    </tr>\n",
       "    <tr>\n",
       "      <th>16</th>\n",
       "      <td>0</td>\n",
       "      <td>1</td>\n",
       "      <td>0</td>\n",
       "      <td>0</td>\n",
       "      <td>0</td>\n",
       "      <td>0</td>\n",
       "    </tr>\n",
       "    <tr>\n",
       "      <th>17</th>\n",
       "      <td>0</td>\n",
       "      <td>1</td>\n",
       "      <td>0</td>\n",
       "      <td>0</td>\n",
       "      <td>0</td>\n",
       "      <td>0</td>\n",
       "    </tr>\n",
       "    <tr>\n",
       "      <th>18</th>\n",
       "      <td>0</td>\n",
       "      <td>0</td>\n",
       "      <td>1</td>\n",
       "      <td>0</td>\n",
       "      <td>0</td>\n",
       "      <td>0</td>\n",
       "    </tr>\n",
       "    <tr>\n",
       "      <th>19</th>\n",
       "      <td>0</td>\n",
       "      <td>0</td>\n",
       "      <td>0</td>\n",
       "      <td>1</td>\n",
       "      <td>0</td>\n",
       "      <td>0</td>\n",
       "    </tr>\n",
       "    <tr>\n",
       "      <th>20</th>\n",
       "      <td>1</td>\n",
       "      <td>0</td>\n",
       "      <td>0</td>\n",
       "      <td>0</td>\n",
       "      <td>0</td>\n",
       "      <td>0</td>\n",
       "    </tr>\n",
       "    <tr>\n",
       "      <th>21</th>\n",
       "      <td>0</td>\n",
       "      <td>0</td>\n",
       "      <td>1</td>\n",
       "      <td>0</td>\n",
       "      <td>0</td>\n",
       "      <td>0</td>\n",
       "    </tr>\n",
       "    <tr>\n",
       "      <th>22</th>\n",
       "      <td>0</td>\n",
       "      <td>1</td>\n",
       "      <td>0</td>\n",
       "      <td>0</td>\n",
       "      <td>0</td>\n",
       "      <td>0</td>\n",
       "    </tr>\n",
       "    <tr>\n",
       "      <th>23</th>\n",
       "      <td>0</td>\n",
       "      <td>1</td>\n",
       "      <td>0</td>\n",
       "      <td>0</td>\n",
       "      <td>0</td>\n",
       "      <td>0</td>\n",
       "    </tr>\n",
       "    <tr>\n",
       "      <th>24</th>\n",
       "      <td>0</td>\n",
       "      <td>0</td>\n",
       "      <td>0</td>\n",
       "      <td>1</td>\n",
       "      <td>0</td>\n",
       "      <td>0</td>\n",
       "    </tr>\n",
       "    <tr>\n",
       "      <th>25</th>\n",
       "      <td>0</td>\n",
       "      <td>0</td>\n",
       "      <td>1</td>\n",
       "      <td>0</td>\n",
       "      <td>0</td>\n",
       "      <td>0</td>\n",
       "    </tr>\n",
       "    <tr>\n",
       "      <th>26</th>\n",
       "      <td>0</td>\n",
       "      <td>1</td>\n",
       "      <td>0</td>\n",
       "      <td>0</td>\n",
       "      <td>0</td>\n",
       "      <td>0</td>\n",
       "    </tr>\n",
       "    <tr>\n",
       "      <th>27</th>\n",
       "      <td>0</td>\n",
       "      <td>0</td>\n",
       "      <td>1</td>\n",
       "      <td>0</td>\n",
       "      <td>0</td>\n",
       "      <td>0</td>\n",
       "    </tr>\n",
       "    <tr>\n",
       "      <th>28</th>\n",
       "      <td>0</td>\n",
       "      <td>0</td>\n",
       "      <td>0</td>\n",
       "      <td>0</td>\n",
       "      <td>1</td>\n",
       "      <td>0</td>\n",
       "    </tr>\n",
       "    <tr>\n",
       "      <th>29</th>\n",
       "      <td>0</td>\n",
       "      <td>1</td>\n",
       "      <td>0</td>\n",
       "      <td>0</td>\n",
       "      <td>0</td>\n",
       "      <td>0</td>\n",
       "    </tr>\n",
       "    <tr>\n",
       "      <th>...</th>\n",
       "      <td>...</td>\n",
       "      <td>...</td>\n",
       "      <td>...</td>\n",
       "      <td>...</td>\n",
       "      <td>...</td>\n",
       "      <td>...</td>\n",
       "    </tr>\n",
       "    <tr>\n",
       "      <th>29970</th>\n",
       "      <td>0</td>\n",
       "      <td>0</td>\n",
       "      <td>1</td>\n",
       "      <td>0</td>\n",
       "      <td>0</td>\n",
       "      <td>0</td>\n",
       "    </tr>\n",
       "    <tr>\n",
       "      <th>29971</th>\n",
       "      <td>0</td>\n",
       "      <td>0</td>\n",
       "      <td>1</td>\n",
       "      <td>0</td>\n",
       "      <td>0</td>\n",
       "      <td>0</td>\n",
       "    </tr>\n",
       "    <tr>\n",
       "      <th>29972</th>\n",
       "      <td>1</td>\n",
       "      <td>0</td>\n",
       "      <td>0</td>\n",
       "      <td>0</td>\n",
       "      <td>0</td>\n",
       "      <td>0</td>\n",
       "    </tr>\n",
       "    <tr>\n",
       "      <th>29973</th>\n",
       "      <td>0</td>\n",
       "      <td>0</td>\n",
       "      <td>1</td>\n",
       "      <td>0</td>\n",
       "      <td>0</td>\n",
       "      <td>0</td>\n",
       "    </tr>\n",
       "    <tr>\n",
       "      <th>29974</th>\n",
       "      <td>0</td>\n",
       "      <td>1</td>\n",
       "      <td>0</td>\n",
       "      <td>0</td>\n",
       "      <td>0</td>\n",
       "      <td>0</td>\n",
       "    </tr>\n",
       "    <tr>\n",
       "      <th>29975</th>\n",
       "      <td>0</td>\n",
       "      <td>1</td>\n",
       "      <td>0</td>\n",
       "      <td>0</td>\n",
       "      <td>0</td>\n",
       "      <td>0</td>\n",
       "    </tr>\n",
       "    <tr>\n",
       "      <th>29976</th>\n",
       "      <td>0</td>\n",
       "      <td>0</td>\n",
       "      <td>0</td>\n",
       "      <td>1</td>\n",
       "      <td>0</td>\n",
       "      <td>0</td>\n",
       "    </tr>\n",
       "    <tr>\n",
       "      <th>29977</th>\n",
       "      <td>0</td>\n",
       "      <td>0</td>\n",
       "      <td>1</td>\n",
       "      <td>0</td>\n",
       "      <td>0</td>\n",
       "      <td>0</td>\n",
       "    </tr>\n",
       "    <tr>\n",
       "      <th>29978</th>\n",
       "      <td>1</td>\n",
       "      <td>0</td>\n",
       "      <td>0</td>\n",
       "      <td>0</td>\n",
       "      <td>0</td>\n",
       "      <td>0</td>\n",
       "    </tr>\n",
       "    <tr>\n",
       "      <th>29979</th>\n",
       "      <td>0</td>\n",
       "      <td>0</td>\n",
       "      <td>1</td>\n",
       "      <td>0</td>\n",
       "      <td>0</td>\n",
       "      <td>0</td>\n",
       "    </tr>\n",
       "    <tr>\n",
       "      <th>29980</th>\n",
       "      <td>0</td>\n",
       "      <td>1</td>\n",
       "      <td>0</td>\n",
       "      <td>0</td>\n",
       "      <td>0</td>\n",
       "      <td>0</td>\n",
       "    </tr>\n",
       "    <tr>\n",
       "      <th>29981</th>\n",
       "      <td>0</td>\n",
       "      <td>1</td>\n",
       "      <td>0</td>\n",
       "      <td>0</td>\n",
       "      <td>0</td>\n",
       "      <td>0</td>\n",
       "    </tr>\n",
       "    <tr>\n",
       "      <th>29982</th>\n",
       "      <td>0</td>\n",
       "      <td>1</td>\n",
       "      <td>0</td>\n",
       "      <td>0</td>\n",
       "      <td>0</td>\n",
       "      <td>0</td>\n",
       "    </tr>\n",
       "    <tr>\n",
       "      <th>29983</th>\n",
       "      <td>0</td>\n",
       "      <td>1</td>\n",
       "      <td>0</td>\n",
       "      <td>0</td>\n",
       "      <td>0</td>\n",
       "      <td>0</td>\n",
       "    </tr>\n",
       "    <tr>\n",
       "      <th>29984</th>\n",
       "      <td>0</td>\n",
       "      <td>1</td>\n",
       "      <td>0</td>\n",
       "      <td>0</td>\n",
       "      <td>0</td>\n",
       "      <td>0</td>\n",
       "    </tr>\n",
       "    <tr>\n",
       "      <th>29985</th>\n",
       "      <td>0</td>\n",
       "      <td>1</td>\n",
       "      <td>0</td>\n",
       "      <td>0</td>\n",
       "      <td>0</td>\n",
       "      <td>0</td>\n",
       "    </tr>\n",
       "    <tr>\n",
       "      <th>29986</th>\n",
       "      <td>1</td>\n",
       "      <td>0</td>\n",
       "      <td>0</td>\n",
       "      <td>0</td>\n",
       "      <td>0</td>\n",
       "      <td>0</td>\n",
       "    </tr>\n",
       "    <tr>\n",
       "      <th>29987</th>\n",
       "      <td>0</td>\n",
       "      <td>0</td>\n",
       "      <td>1</td>\n",
       "      <td>0</td>\n",
       "      <td>0</td>\n",
       "      <td>0</td>\n",
       "    </tr>\n",
       "    <tr>\n",
       "      <th>29988</th>\n",
       "      <td>0</td>\n",
       "      <td>0</td>\n",
       "      <td>1</td>\n",
       "      <td>0</td>\n",
       "      <td>0</td>\n",
       "      <td>0</td>\n",
       "    </tr>\n",
       "    <tr>\n",
       "      <th>29989</th>\n",
       "      <td>0</td>\n",
       "      <td>0</td>\n",
       "      <td>1</td>\n",
       "      <td>0</td>\n",
       "      <td>0</td>\n",
       "      <td>0</td>\n",
       "    </tr>\n",
       "    <tr>\n",
       "      <th>29990</th>\n",
       "      <td>0</td>\n",
       "      <td>1</td>\n",
       "      <td>0</td>\n",
       "      <td>0</td>\n",
       "      <td>0</td>\n",
       "      <td>0</td>\n",
       "    </tr>\n",
       "    <tr>\n",
       "      <th>29991</th>\n",
       "      <td>0</td>\n",
       "      <td>1</td>\n",
       "      <td>0</td>\n",
       "      <td>0</td>\n",
       "      <td>0</td>\n",
       "      <td>0</td>\n",
       "    </tr>\n",
       "    <tr>\n",
       "      <th>29992</th>\n",
       "      <td>1</td>\n",
       "      <td>0</td>\n",
       "      <td>0</td>\n",
       "      <td>0</td>\n",
       "      <td>0</td>\n",
       "      <td>0</td>\n",
       "    </tr>\n",
       "    <tr>\n",
       "      <th>29993</th>\n",
       "      <td>1</td>\n",
       "      <td>0</td>\n",
       "      <td>0</td>\n",
       "      <td>0</td>\n",
       "      <td>0</td>\n",
       "      <td>0</td>\n",
       "    </tr>\n",
       "    <tr>\n",
       "      <th>29994</th>\n",
       "      <td>0</td>\n",
       "      <td>0</td>\n",
       "      <td>1</td>\n",
       "      <td>0</td>\n",
       "      <td>0</td>\n",
       "      <td>0</td>\n",
       "    </tr>\n",
       "    <tr>\n",
       "      <th>29995</th>\n",
       "      <td>1</td>\n",
       "      <td>0</td>\n",
       "      <td>0</td>\n",
       "      <td>0</td>\n",
       "      <td>0</td>\n",
       "      <td>0</td>\n",
       "    </tr>\n",
       "    <tr>\n",
       "      <th>29996</th>\n",
       "      <td>0</td>\n",
       "      <td>1</td>\n",
       "      <td>0</td>\n",
       "      <td>0</td>\n",
       "      <td>0</td>\n",
       "      <td>0</td>\n",
       "    </tr>\n",
       "    <tr>\n",
       "      <th>29997</th>\n",
       "      <td>1</td>\n",
       "      <td>0</td>\n",
       "      <td>0</td>\n",
       "      <td>0</td>\n",
       "      <td>0</td>\n",
       "      <td>0</td>\n",
       "    </tr>\n",
       "    <tr>\n",
       "      <th>29998</th>\n",
       "      <td>1</td>\n",
       "      <td>0</td>\n",
       "      <td>0</td>\n",
       "      <td>0</td>\n",
       "      <td>0</td>\n",
       "      <td>0</td>\n",
       "    </tr>\n",
       "    <tr>\n",
       "      <th>29999</th>\n",
       "      <td>0</td>\n",
       "      <td>1</td>\n",
       "      <td>0</td>\n",
       "      <td>0</td>\n",
       "      <td>0</td>\n",
       "      <td>0</td>\n",
       "    </tr>\n",
       "  </tbody>\n",
       "</table>\n",
       "<p>30000 rows × 6 columns</p>\n",
       "</div>"
      ],
      "text/plain": [
       "       AGE_20-30  AGE_30-40  AGE_40-50  AGE_50-60  AGE_60-70  AGE_80-70\n",
       "0              0          0          0          1          0          0\n",
       "1              0          1          0          0          0          0\n",
       "2              0          1          0          0          0          0\n",
       "3              0          1          0          0          0          0\n",
       "4              0          1          0          0          0          0\n",
       "5              0          1          0          0          0          0\n",
       "6              0          0          0          1          0          0\n",
       "7              0          0          1          0          0          0\n",
       "8              0          1          0          0          0          0\n",
       "9              0          1          0          0          0          0\n",
       "10             0          1          0          0          0          0\n",
       "11             0          0          0          1          0          0\n",
       "12             0          0          1          0          0          0\n",
       "13             0          0          1          0          0          0\n",
       "14             0          0          1          0          0          0\n",
       "15             0          1          0          0          0          0\n",
       "16             0          1          0          0          0          0\n",
       "17             0          1          0          0          0          0\n",
       "18             0          0          1          0          0          0\n",
       "19             0          0          0          1          0          0\n",
       "20             1          0          0          0          0          0\n",
       "21             0          0          1          0          0          0\n",
       "22             0          1          0          0          0          0\n",
       "23             0          1          0          0          0          0\n",
       "24             0          0          0          1          0          0\n",
       "25             0          0          1          0          0          0\n",
       "26             0          1          0          0          0          0\n",
       "27             0          0          1          0          0          0\n",
       "28             0          0          0          0          1          0\n",
       "29             0          1          0          0          0          0\n",
       "...          ...        ...        ...        ...        ...        ...\n",
       "29970          0          0          1          0          0          0\n",
       "29971          0          0          1          0          0          0\n",
       "29972          1          0          0          0          0          0\n",
       "29973          0          0          1          0          0          0\n",
       "29974          0          1          0          0          0          0\n",
       "29975          0          1          0          0          0          0\n",
       "29976          0          0          0          1          0          0\n",
       "29977          0          0          1          0          0          0\n",
       "29978          1          0          0          0          0          0\n",
       "29979          0          0          1          0          0          0\n",
       "29980          0          1          0          0          0          0\n",
       "29981          0          1          0          0          0          0\n",
       "29982          0          1          0          0          0          0\n",
       "29983          0          1          0          0          0          0\n",
       "29984          0          1          0          0          0          0\n",
       "29985          0          1          0          0          0          0\n",
       "29986          1          0          0          0          0          0\n",
       "29987          0          0          1          0          0          0\n",
       "29988          0          0          1          0          0          0\n",
       "29989          0          0          1          0          0          0\n",
       "29990          0          1          0          0          0          0\n",
       "29991          0          1          0          0          0          0\n",
       "29992          1          0          0          0          0          0\n",
       "29993          1          0          0          0          0          0\n",
       "29994          0          0          1          0          0          0\n",
       "29995          1          0          0          0          0          0\n",
       "29996          0          1          0          0          0          0\n",
       "29997          1          0          0          0          0          0\n",
       "29998          1          0          0          0          0          0\n",
       "29999          0          1          0          0          0          0\n",
       "\n",
       "[30000 rows x 6 columns]"
      ]
     },
     "execution_count": 14,
     "metadata": {},
     "output_type": "execute_result"
    }
   ],
   "source": [
    "AGE_dummies"
   ]
  },
  {
   "cell_type": "code",
   "execution_count": 15,
   "metadata": {},
   "outputs": [
    {
     "data": {
      "text/html": [
       "<div>\n",
       "<style>\n",
       "    .dataframe thead tr:only-child th {\n",
       "        text-align: right;\n",
       "    }\n",
       "\n",
       "    .dataframe thead th {\n",
       "        text-align: left;\n",
       "    }\n",
       "\n",
       "    .dataframe tbody tr th {\n",
       "        vertical-align: top;\n",
       "    }\n",
       "</style>\n",
       "<table border=\"1\" class=\"dataframe\">\n",
       "  <thead>\n",
       "    <tr style=\"text-align: right;\">\n",
       "      <th></th>\n",
       "      <th>AGE_20-30</th>\n",
       "      <th>AGE_30-40</th>\n",
       "      <th>AGE_40-50</th>\n",
       "      <th>AGE_50-60</th>\n",
       "      <th>AGE_60-70</th>\n",
       "      <th>AGE_80-70</th>\n",
       "    </tr>\n",
       "  </thead>\n",
       "  <tbody>\n",
       "    <tr>\n",
       "      <th>0</th>\n",
       "      <td>0</td>\n",
       "      <td>0</td>\n",
       "      <td>0</td>\n",
       "      <td>1</td>\n",
       "      <td>0</td>\n",
       "      <td>0</td>\n",
       "    </tr>\n",
       "    <tr>\n",
       "      <th>1</th>\n",
       "      <td>0</td>\n",
       "      <td>1</td>\n",
       "      <td>0</td>\n",
       "      <td>0</td>\n",
       "      <td>0</td>\n",
       "      <td>0</td>\n",
       "    </tr>\n",
       "    <tr>\n",
       "      <th>2</th>\n",
       "      <td>0</td>\n",
       "      <td>1</td>\n",
       "      <td>0</td>\n",
       "      <td>0</td>\n",
       "      <td>0</td>\n",
       "      <td>0</td>\n",
       "    </tr>\n",
       "    <tr>\n",
       "      <th>3</th>\n",
       "      <td>0</td>\n",
       "      <td>1</td>\n",
       "      <td>0</td>\n",
       "      <td>0</td>\n",
       "      <td>0</td>\n",
       "      <td>0</td>\n",
       "    </tr>\n",
       "    <tr>\n",
       "      <th>4</th>\n",
       "      <td>0</td>\n",
       "      <td>1</td>\n",
       "      <td>0</td>\n",
       "      <td>0</td>\n",
       "      <td>0</td>\n",
       "      <td>0</td>\n",
       "    </tr>\n",
       "    <tr>\n",
       "      <th>5</th>\n",
       "      <td>0</td>\n",
       "      <td>1</td>\n",
       "      <td>0</td>\n",
       "      <td>0</td>\n",
       "      <td>0</td>\n",
       "      <td>0</td>\n",
       "    </tr>\n",
       "    <tr>\n",
       "      <th>6</th>\n",
       "      <td>0</td>\n",
       "      <td>0</td>\n",
       "      <td>0</td>\n",
       "      <td>1</td>\n",
       "      <td>0</td>\n",
       "      <td>0</td>\n",
       "    </tr>\n",
       "    <tr>\n",
       "      <th>7</th>\n",
       "      <td>0</td>\n",
       "      <td>0</td>\n",
       "      <td>1</td>\n",
       "      <td>0</td>\n",
       "      <td>0</td>\n",
       "      <td>0</td>\n",
       "    </tr>\n",
       "    <tr>\n",
       "      <th>8</th>\n",
       "      <td>0</td>\n",
       "      <td>1</td>\n",
       "      <td>0</td>\n",
       "      <td>0</td>\n",
       "      <td>0</td>\n",
       "      <td>0</td>\n",
       "    </tr>\n",
       "    <tr>\n",
       "      <th>9</th>\n",
       "      <td>0</td>\n",
       "      <td>1</td>\n",
       "      <td>0</td>\n",
       "      <td>0</td>\n",
       "      <td>0</td>\n",
       "      <td>0</td>\n",
       "    </tr>\n",
       "    <tr>\n",
       "      <th>10</th>\n",
       "      <td>0</td>\n",
       "      <td>1</td>\n",
       "      <td>0</td>\n",
       "      <td>0</td>\n",
       "      <td>0</td>\n",
       "      <td>0</td>\n",
       "    </tr>\n",
       "    <tr>\n",
       "      <th>11</th>\n",
       "      <td>0</td>\n",
       "      <td>0</td>\n",
       "      <td>0</td>\n",
       "      <td>1</td>\n",
       "      <td>0</td>\n",
       "      <td>0</td>\n",
       "    </tr>\n",
       "    <tr>\n",
       "      <th>12</th>\n",
       "      <td>0</td>\n",
       "      <td>0</td>\n",
       "      <td>1</td>\n",
       "      <td>0</td>\n",
       "      <td>0</td>\n",
       "      <td>0</td>\n",
       "    </tr>\n",
       "    <tr>\n",
       "      <th>13</th>\n",
       "      <td>0</td>\n",
       "      <td>0</td>\n",
       "      <td>1</td>\n",
       "      <td>0</td>\n",
       "      <td>0</td>\n",
       "      <td>0</td>\n",
       "    </tr>\n",
       "    <tr>\n",
       "      <th>14</th>\n",
       "      <td>0</td>\n",
       "      <td>0</td>\n",
       "      <td>1</td>\n",
       "      <td>0</td>\n",
       "      <td>0</td>\n",
       "      <td>0</td>\n",
       "    </tr>\n",
       "    <tr>\n",
       "      <th>15</th>\n",
       "      <td>0</td>\n",
       "      <td>1</td>\n",
       "      <td>0</td>\n",
       "      <td>0</td>\n",
       "      <td>0</td>\n",
       "      <td>0</td>\n",
       "    </tr>\n",
       "    <tr>\n",
       "      <th>16</th>\n",
       "      <td>0</td>\n",
       "      <td>1</td>\n",
       "      <td>0</td>\n",
       "      <td>0</td>\n",
       "      <td>0</td>\n",
       "      <td>0</td>\n",
       "    </tr>\n",
       "    <tr>\n",
       "      <th>17</th>\n",
       "      <td>0</td>\n",
       "      <td>1</td>\n",
       "      <td>0</td>\n",
       "      <td>0</td>\n",
       "      <td>0</td>\n",
       "      <td>0</td>\n",
       "    </tr>\n",
       "    <tr>\n",
       "      <th>18</th>\n",
       "      <td>0</td>\n",
       "      <td>0</td>\n",
       "      <td>1</td>\n",
       "      <td>0</td>\n",
       "      <td>0</td>\n",
       "      <td>0</td>\n",
       "    </tr>\n",
       "    <tr>\n",
       "      <th>19</th>\n",
       "      <td>0</td>\n",
       "      <td>0</td>\n",
       "      <td>0</td>\n",
       "      <td>1</td>\n",
       "      <td>0</td>\n",
       "      <td>0</td>\n",
       "    </tr>\n",
       "    <tr>\n",
       "      <th>20</th>\n",
       "      <td>1</td>\n",
       "      <td>0</td>\n",
       "      <td>0</td>\n",
       "      <td>0</td>\n",
       "      <td>0</td>\n",
       "      <td>0</td>\n",
       "    </tr>\n",
       "    <tr>\n",
       "      <th>21</th>\n",
       "      <td>0</td>\n",
       "      <td>0</td>\n",
       "      <td>1</td>\n",
       "      <td>0</td>\n",
       "      <td>0</td>\n",
       "      <td>0</td>\n",
       "    </tr>\n",
       "    <tr>\n",
       "      <th>22</th>\n",
       "      <td>0</td>\n",
       "      <td>1</td>\n",
       "      <td>0</td>\n",
       "      <td>0</td>\n",
       "      <td>0</td>\n",
       "      <td>0</td>\n",
       "    </tr>\n",
       "    <tr>\n",
       "      <th>23</th>\n",
       "      <td>0</td>\n",
       "      <td>1</td>\n",
       "      <td>0</td>\n",
       "      <td>0</td>\n",
       "      <td>0</td>\n",
       "      <td>0</td>\n",
       "    </tr>\n",
       "    <tr>\n",
       "      <th>24</th>\n",
       "      <td>0</td>\n",
       "      <td>0</td>\n",
       "      <td>0</td>\n",
       "      <td>1</td>\n",
       "      <td>0</td>\n",
       "      <td>0</td>\n",
       "    </tr>\n",
       "    <tr>\n",
       "      <th>25</th>\n",
       "      <td>0</td>\n",
       "      <td>0</td>\n",
       "      <td>1</td>\n",
       "      <td>0</td>\n",
       "      <td>0</td>\n",
       "      <td>0</td>\n",
       "    </tr>\n",
       "    <tr>\n",
       "      <th>26</th>\n",
       "      <td>0</td>\n",
       "      <td>1</td>\n",
       "      <td>0</td>\n",
       "      <td>0</td>\n",
       "      <td>0</td>\n",
       "      <td>0</td>\n",
       "    </tr>\n",
       "    <tr>\n",
       "      <th>27</th>\n",
       "      <td>0</td>\n",
       "      <td>0</td>\n",
       "      <td>1</td>\n",
       "      <td>0</td>\n",
       "      <td>0</td>\n",
       "      <td>0</td>\n",
       "    </tr>\n",
       "    <tr>\n",
       "      <th>28</th>\n",
       "      <td>0</td>\n",
       "      <td>0</td>\n",
       "      <td>0</td>\n",
       "      <td>0</td>\n",
       "      <td>1</td>\n",
       "      <td>0</td>\n",
       "    </tr>\n",
       "    <tr>\n",
       "      <th>29</th>\n",
       "      <td>0</td>\n",
       "      <td>1</td>\n",
       "      <td>0</td>\n",
       "      <td>0</td>\n",
       "      <td>0</td>\n",
       "      <td>0</td>\n",
       "    </tr>\n",
       "    <tr>\n",
       "      <th>...</th>\n",
       "      <td>...</td>\n",
       "      <td>...</td>\n",
       "      <td>...</td>\n",
       "      <td>...</td>\n",
       "      <td>...</td>\n",
       "      <td>...</td>\n",
       "    </tr>\n",
       "    <tr>\n",
       "      <th>29970</th>\n",
       "      <td>0</td>\n",
       "      <td>0</td>\n",
       "      <td>1</td>\n",
       "      <td>0</td>\n",
       "      <td>0</td>\n",
       "      <td>0</td>\n",
       "    </tr>\n",
       "    <tr>\n",
       "      <th>29971</th>\n",
       "      <td>0</td>\n",
       "      <td>0</td>\n",
       "      <td>1</td>\n",
       "      <td>0</td>\n",
       "      <td>0</td>\n",
       "      <td>0</td>\n",
       "    </tr>\n",
       "    <tr>\n",
       "      <th>29972</th>\n",
       "      <td>1</td>\n",
       "      <td>0</td>\n",
       "      <td>0</td>\n",
       "      <td>0</td>\n",
       "      <td>0</td>\n",
       "      <td>0</td>\n",
       "    </tr>\n",
       "    <tr>\n",
       "      <th>29973</th>\n",
       "      <td>0</td>\n",
       "      <td>0</td>\n",
       "      <td>1</td>\n",
       "      <td>0</td>\n",
       "      <td>0</td>\n",
       "      <td>0</td>\n",
       "    </tr>\n",
       "    <tr>\n",
       "      <th>29974</th>\n",
       "      <td>0</td>\n",
       "      <td>1</td>\n",
       "      <td>0</td>\n",
       "      <td>0</td>\n",
       "      <td>0</td>\n",
       "      <td>0</td>\n",
       "    </tr>\n",
       "    <tr>\n",
       "      <th>29975</th>\n",
       "      <td>0</td>\n",
       "      <td>1</td>\n",
       "      <td>0</td>\n",
       "      <td>0</td>\n",
       "      <td>0</td>\n",
       "      <td>0</td>\n",
       "    </tr>\n",
       "    <tr>\n",
       "      <th>29976</th>\n",
       "      <td>0</td>\n",
       "      <td>0</td>\n",
       "      <td>0</td>\n",
       "      <td>1</td>\n",
       "      <td>0</td>\n",
       "      <td>0</td>\n",
       "    </tr>\n",
       "    <tr>\n",
       "      <th>29977</th>\n",
       "      <td>0</td>\n",
       "      <td>0</td>\n",
       "      <td>1</td>\n",
       "      <td>0</td>\n",
       "      <td>0</td>\n",
       "      <td>0</td>\n",
       "    </tr>\n",
       "    <tr>\n",
       "      <th>29978</th>\n",
       "      <td>1</td>\n",
       "      <td>0</td>\n",
       "      <td>0</td>\n",
       "      <td>0</td>\n",
       "      <td>0</td>\n",
       "      <td>0</td>\n",
       "    </tr>\n",
       "    <tr>\n",
       "      <th>29979</th>\n",
       "      <td>0</td>\n",
       "      <td>0</td>\n",
       "      <td>1</td>\n",
       "      <td>0</td>\n",
       "      <td>0</td>\n",
       "      <td>0</td>\n",
       "    </tr>\n",
       "    <tr>\n",
       "      <th>29980</th>\n",
       "      <td>0</td>\n",
       "      <td>1</td>\n",
       "      <td>0</td>\n",
       "      <td>0</td>\n",
       "      <td>0</td>\n",
       "      <td>0</td>\n",
       "    </tr>\n",
       "    <tr>\n",
       "      <th>29981</th>\n",
       "      <td>0</td>\n",
       "      <td>1</td>\n",
       "      <td>0</td>\n",
       "      <td>0</td>\n",
       "      <td>0</td>\n",
       "      <td>0</td>\n",
       "    </tr>\n",
       "    <tr>\n",
       "      <th>29982</th>\n",
       "      <td>0</td>\n",
       "      <td>1</td>\n",
       "      <td>0</td>\n",
       "      <td>0</td>\n",
       "      <td>0</td>\n",
       "      <td>0</td>\n",
       "    </tr>\n",
       "    <tr>\n",
       "      <th>29983</th>\n",
       "      <td>0</td>\n",
       "      <td>1</td>\n",
       "      <td>0</td>\n",
       "      <td>0</td>\n",
       "      <td>0</td>\n",
       "      <td>0</td>\n",
       "    </tr>\n",
       "    <tr>\n",
       "      <th>29984</th>\n",
       "      <td>0</td>\n",
       "      <td>1</td>\n",
       "      <td>0</td>\n",
       "      <td>0</td>\n",
       "      <td>0</td>\n",
       "      <td>0</td>\n",
       "    </tr>\n",
       "    <tr>\n",
       "      <th>29985</th>\n",
       "      <td>0</td>\n",
       "      <td>1</td>\n",
       "      <td>0</td>\n",
       "      <td>0</td>\n",
       "      <td>0</td>\n",
       "      <td>0</td>\n",
       "    </tr>\n",
       "    <tr>\n",
       "      <th>29986</th>\n",
       "      <td>1</td>\n",
       "      <td>0</td>\n",
       "      <td>0</td>\n",
       "      <td>0</td>\n",
       "      <td>0</td>\n",
       "      <td>0</td>\n",
       "    </tr>\n",
       "    <tr>\n",
       "      <th>29987</th>\n",
       "      <td>0</td>\n",
       "      <td>0</td>\n",
       "      <td>1</td>\n",
       "      <td>0</td>\n",
       "      <td>0</td>\n",
       "      <td>0</td>\n",
       "    </tr>\n",
       "    <tr>\n",
       "      <th>29988</th>\n",
       "      <td>0</td>\n",
       "      <td>0</td>\n",
       "      <td>1</td>\n",
       "      <td>0</td>\n",
       "      <td>0</td>\n",
       "      <td>0</td>\n",
       "    </tr>\n",
       "    <tr>\n",
       "      <th>29989</th>\n",
       "      <td>0</td>\n",
       "      <td>0</td>\n",
       "      <td>1</td>\n",
       "      <td>0</td>\n",
       "      <td>0</td>\n",
       "      <td>0</td>\n",
       "    </tr>\n",
       "    <tr>\n",
       "      <th>29990</th>\n",
       "      <td>0</td>\n",
       "      <td>1</td>\n",
       "      <td>0</td>\n",
       "      <td>0</td>\n",
       "      <td>0</td>\n",
       "      <td>0</td>\n",
       "    </tr>\n",
       "    <tr>\n",
       "      <th>29991</th>\n",
       "      <td>0</td>\n",
       "      <td>1</td>\n",
       "      <td>0</td>\n",
       "      <td>0</td>\n",
       "      <td>0</td>\n",
       "      <td>0</td>\n",
       "    </tr>\n",
       "    <tr>\n",
       "      <th>29992</th>\n",
       "      <td>1</td>\n",
       "      <td>0</td>\n",
       "      <td>0</td>\n",
       "      <td>0</td>\n",
       "      <td>0</td>\n",
       "      <td>0</td>\n",
       "    </tr>\n",
       "    <tr>\n",
       "      <th>29993</th>\n",
       "      <td>1</td>\n",
       "      <td>0</td>\n",
       "      <td>0</td>\n",
       "      <td>0</td>\n",
       "      <td>0</td>\n",
       "      <td>0</td>\n",
       "    </tr>\n",
       "    <tr>\n",
       "      <th>29994</th>\n",
       "      <td>0</td>\n",
       "      <td>0</td>\n",
       "      <td>1</td>\n",
       "      <td>0</td>\n",
       "      <td>0</td>\n",
       "      <td>0</td>\n",
       "    </tr>\n",
       "    <tr>\n",
       "      <th>29995</th>\n",
       "      <td>1</td>\n",
       "      <td>0</td>\n",
       "      <td>0</td>\n",
       "      <td>0</td>\n",
       "      <td>0</td>\n",
       "      <td>0</td>\n",
       "    </tr>\n",
       "    <tr>\n",
       "      <th>29996</th>\n",
       "      <td>0</td>\n",
       "      <td>1</td>\n",
       "      <td>0</td>\n",
       "      <td>0</td>\n",
       "      <td>0</td>\n",
       "      <td>0</td>\n",
       "    </tr>\n",
       "    <tr>\n",
       "      <th>29997</th>\n",
       "      <td>1</td>\n",
       "      <td>0</td>\n",
       "      <td>0</td>\n",
       "      <td>0</td>\n",
       "      <td>0</td>\n",
       "      <td>0</td>\n",
       "    </tr>\n",
       "    <tr>\n",
       "      <th>29998</th>\n",
       "      <td>1</td>\n",
       "      <td>0</td>\n",
       "      <td>0</td>\n",
       "      <td>0</td>\n",
       "      <td>0</td>\n",
       "      <td>0</td>\n",
       "    </tr>\n",
       "    <tr>\n",
       "      <th>29999</th>\n",
       "      <td>0</td>\n",
       "      <td>1</td>\n",
       "      <td>0</td>\n",
       "      <td>0</td>\n",
       "      <td>0</td>\n",
       "      <td>0</td>\n",
       "    </tr>\n",
       "  </tbody>\n",
       "</table>\n",
       "<p>30000 rows × 6 columns</p>\n",
       "</div>"
      ],
      "text/plain": [
       "       AGE_20-30  AGE_30-40  AGE_40-50  AGE_50-60  AGE_60-70  AGE_80-70\n",
       "0              0          0          0          1          0          0\n",
       "1              0          1          0          0          0          0\n",
       "2              0          1          0          0          0          0\n",
       "3              0          1          0          0          0          0\n",
       "4              0          1          0          0          0          0\n",
       "5              0          1          0          0          0          0\n",
       "6              0          0          0          1          0          0\n",
       "7              0          0          1          0          0          0\n",
       "8              0          1          0          0          0          0\n",
       "9              0          1          0          0          0          0\n",
       "10             0          1          0          0          0          0\n",
       "11             0          0          0          1          0          0\n",
       "12             0          0          1          0          0          0\n",
       "13             0          0          1          0          0          0\n",
       "14             0          0          1          0          0          0\n",
       "15             0          1          0          0          0          0\n",
       "16             0          1          0          0          0          0\n",
       "17             0          1          0          0          0          0\n",
       "18             0          0          1          0          0          0\n",
       "19             0          0          0          1          0          0\n",
       "20             1          0          0          0          0          0\n",
       "21             0          0          1          0          0          0\n",
       "22             0          1          0          0          0          0\n",
       "23             0          1          0          0          0          0\n",
       "24             0          0          0          1          0          0\n",
       "25             0          0          1          0          0          0\n",
       "26             0          1          0          0          0          0\n",
       "27             0          0          1          0          0          0\n",
       "28             0          0          0          0          1          0\n",
       "29             0          1          0          0          0          0\n",
       "...          ...        ...        ...        ...        ...        ...\n",
       "29970          0          0          1          0          0          0\n",
       "29971          0          0          1          0          0          0\n",
       "29972          1          0          0          0          0          0\n",
       "29973          0          0          1          0          0          0\n",
       "29974          0          1          0          0          0          0\n",
       "29975          0          1          0          0          0          0\n",
       "29976          0          0          0          1          0          0\n",
       "29977          0          0          1          0          0          0\n",
       "29978          1          0          0          0          0          0\n",
       "29979          0          0          1          0          0          0\n",
       "29980          0          1          0          0          0          0\n",
       "29981          0          1          0          0          0          0\n",
       "29982          0          1          0          0          0          0\n",
       "29983          0          1          0          0          0          0\n",
       "29984          0          1          0          0          0          0\n",
       "29985          0          1          0          0          0          0\n",
       "29986          1          0          0          0          0          0\n",
       "29987          0          0          1          0          0          0\n",
       "29988          0          0          1          0          0          0\n",
       "29989          0          0          1          0          0          0\n",
       "29990          0          1          0          0          0          0\n",
       "29991          0          1          0          0          0          0\n",
       "29992          1          0          0          0          0          0\n",
       "29993          1          0          0          0          0          0\n",
       "29994          0          0          1          0          0          0\n",
       "29995          1          0          0          0          0          0\n",
       "29996          0          1          0          0          0          0\n",
       "29997          1          0          0          0          0          0\n",
       "29998          1          0          0          0          0          0\n",
       "29999          0          1          0          0          0          0\n",
       "\n",
       "[30000 rows x 6 columns]"
      ]
     },
     "execution_count": 15,
     "metadata": {},
     "output_type": "execute_result"
    }
   ],
   "source": [
    "AGE_dummies"
   ]
  },
  {
   "cell_type": "code",
   "execution_count": 16,
   "metadata": {
    "collapsed": true
   },
   "outputs": [],
   "source": [
    "#add age dummies to df and delete age\n",
    "df=df.join(AGE_dummies)\n",
    "del df['AGE']"
   ]
  },
  {
   "cell_type": "code",
   "execution_count": 17,
   "metadata": {
    "collapsed": true
   },
   "outputs": [],
   "source": [
    "#move default column to end\n",
    "\n",
    "#make an array of column names\n",
    "cols = df.columns.tolist()"
   ]
  },
  {
   "cell_type": "code",
   "execution_count": 18,
   "metadata": {},
   "outputs": [
    {
     "data": {
      "text/plain": [
       "['ID',\n",
       " 'LIMIT_BAL',\n",
       " 'SEX',\n",
       " 'EDUCATION',\n",
       " 'MARRIAGE',\n",
       " 'PAY_0',\n",
       " 'PAY_2',\n",
       " 'PAY_3',\n",
       " 'PAY_4',\n",
       " 'PAY_5',\n",
       " 'PAY_6',\n",
       " 'BILL_AMT1',\n",
       " 'BILL_AMT2',\n",
       " 'BILL_AMT3',\n",
       " 'BILL_AMT4',\n",
       " 'BILL_AMT5',\n",
       " 'BILL_AMT6',\n",
       " 'PAY_AMT1',\n",
       " 'PAY_AMT2',\n",
       " 'PAY_AMT3',\n",
       " 'PAY_AMT4',\n",
       " 'PAY_AMT5',\n",
       " 'PAY_AMT6',\n",
       " 'default payment next month',\n",
       " 'AGE_20-30',\n",
       " 'AGE_30-40',\n",
       " 'AGE_40-50',\n",
       " 'AGE_50-60',\n",
       " 'AGE_60-70',\n",
       " 'AGE_80-70']"
      ]
     },
     "execution_count": 18,
     "metadata": {},
     "output_type": "execute_result"
    }
   ],
   "source": [
    "cols"
   ]
  },
  {
   "cell_type": "code",
   "execution_count": 19,
   "metadata": {
    "collapsed": true
   },
   "outputs": [],
   "source": [
    "#move default to the end\n",
    "cols.insert(-1, cols.pop(cols.index('default payment next month')))\n",
    "cols\n",
    "df=df[cols]"
   ]
  },
  {
   "cell_type": "code",
   "execution_count": 20,
   "metadata": {},
   "outputs": [
    {
     "name": "stdout",
     "output_type": "stream",
     "text": [
      "<class 'pandas.core.frame.DataFrame'>\n",
      "RangeIndex: 30000 entries, 0 to 29999\n",
      "Data columns (total 30 columns):\n",
      "ID                            30000 non-null int64\n",
      "LIMIT_BAL                     30000 non-null int64\n",
      "SEX                           30000 non-null category\n",
      "EDUCATION                     30000 non-null category\n",
      "MARRIAGE                      30000 non-null category\n",
      "PAY_0                         30000 non-null int64\n",
      "PAY_2                         30000 non-null int64\n",
      "PAY_3                         30000 non-null int64\n",
      "PAY_4                         30000 non-null int64\n",
      "PAY_5                         30000 non-null int64\n",
      "PAY_6                         30000 non-null int64\n",
      "BILL_AMT1                     30000 non-null int64\n",
      "BILL_AMT2                     30000 non-null int64\n",
      "BILL_AMT3                     30000 non-null int64\n",
      "BILL_AMT4                     30000 non-null int64\n",
      "BILL_AMT5                     30000 non-null int64\n",
      "BILL_AMT6                     30000 non-null int64\n",
      "PAY_AMT1                      30000 non-null int64\n",
      "PAY_AMT2                      30000 non-null int64\n",
      "PAY_AMT3                      30000 non-null int64\n",
      "PAY_AMT4                      30000 non-null int64\n",
      "PAY_AMT5                      30000 non-null int64\n",
      "PAY_AMT6                      30000 non-null int64\n",
      "AGE_20-30                     30000 non-null uint8\n",
      "AGE_30-40                     30000 non-null uint8\n",
      "AGE_40-50                     30000 non-null uint8\n",
      "AGE_50-60                     30000 non-null uint8\n",
      "AGE_60-70                     30000 non-null uint8\n",
      "default payment next month    30000 non-null int64\n",
      "AGE_80-70                     30000 non-null uint8\n",
      "dtypes: category(3), int64(21), uint8(6)\n",
      "memory usage: 5.1 MB\n"
     ]
    }
   ],
   "source": [
    "df.info()"
   ]
  },
  {
   "cell_type": "code",
   "execution_count": 21,
   "metadata": {},
   "outputs": [
    {
     "data": {
      "text/html": [
       "<div>\n",
       "<style>\n",
       "    .dataframe thead tr:only-child th {\n",
       "        text-align: right;\n",
       "    }\n",
       "\n",
       "    .dataframe thead th {\n",
       "        text-align: left;\n",
       "    }\n",
       "\n",
       "    .dataframe tbody tr th {\n",
       "        vertical-align: top;\n",
       "    }\n",
       "</style>\n",
       "<table border=\"1\" class=\"dataframe\">\n",
       "  <thead>\n",
       "    <tr style=\"text-align: right;\">\n",
       "      <th></th>\n",
       "      <th>ID</th>\n",
       "      <th>LIMIT_BAL</th>\n",
       "      <th>SEX</th>\n",
       "      <th>EDUCATION</th>\n",
       "      <th>MARRIAGE</th>\n",
       "      <th>PAY_0</th>\n",
       "      <th>PAY_2</th>\n",
       "      <th>PAY_3</th>\n",
       "      <th>PAY_4</th>\n",
       "      <th>PAY_5</th>\n",
       "      <th>...</th>\n",
       "      <th>PAY_AMT4</th>\n",
       "      <th>PAY_AMT5</th>\n",
       "      <th>PAY_AMT6</th>\n",
       "      <th>AGE_20-30</th>\n",
       "      <th>AGE_30-40</th>\n",
       "      <th>AGE_40-50</th>\n",
       "      <th>AGE_50-60</th>\n",
       "      <th>AGE_60-70</th>\n",
       "      <th>default payment next month</th>\n",
       "      <th>AGE_80-70</th>\n",
       "    </tr>\n",
       "  </thead>\n",
       "  <tbody>\n",
       "    <tr>\n",
       "      <th>0</th>\n",
       "      <td>4810</td>\n",
       "      <td>500000</td>\n",
       "      <td>1</td>\n",
       "      <td>3</td>\n",
       "      <td>3</td>\n",
       "      <td>0</td>\n",
       "      <td>0</td>\n",
       "      <td>0</td>\n",
       "      <td>0</td>\n",
       "      <td>0</td>\n",
       "      <td>...</td>\n",
       "      <td>6000</td>\n",
       "      <td>11000</td>\n",
       "      <td>10000</td>\n",
       "      <td>0</td>\n",
       "      <td>0</td>\n",
       "      <td>0</td>\n",
       "      <td>1</td>\n",
       "      <td>0</td>\n",
       "      <td>0</td>\n",
       "      <td>0</td>\n",
       "    </tr>\n",
       "    <tr>\n",
       "      <th>1</th>\n",
       "      <td>15096</td>\n",
       "      <td>500000</td>\n",
       "      <td>1</td>\n",
       "      <td>1</td>\n",
       "      <td>3</td>\n",
       "      <td>-2</td>\n",
       "      <td>-2</td>\n",
       "      <td>-2</td>\n",
       "      <td>-2</td>\n",
       "      <td>-2</td>\n",
       "      <td>...</td>\n",
       "      <td>0</td>\n",
       "      <td>0</td>\n",
       "      <td>0</td>\n",
       "      <td>0</td>\n",
       "      <td>1</td>\n",
       "      <td>0</td>\n",
       "      <td>0</td>\n",
       "      <td>0</td>\n",
       "      <td>1</td>\n",
       "      <td>0</td>\n",
       "    </tr>\n",
       "    <tr>\n",
       "      <th>2</th>\n",
       "      <td>81</td>\n",
       "      <td>470000</td>\n",
       "      <td>2</td>\n",
       "      <td>3</td>\n",
       "      <td>3</td>\n",
       "      <td>0</td>\n",
       "      <td>0</td>\n",
       "      <td>0</td>\n",
       "      <td>0</td>\n",
       "      <td>0</td>\n",
       "      <td>...</td>\n",
       "      <td>960</td>\n",
       "      <td>1000</td>\n",
       "      <td>3000</td>\n",
       "      <td>0</td>\n",
       "      <td>1</td>\n",
       "      <td>0</td>\n",
       "      <td>0</td>\n",
       "      <td>0</td>\n",
       "      <td>0</td>\n",
       "      <td>0</td>\n",
       "    </tr>\n",
       "    <tr>\n",
       "      <th>3</th>\n",
       "      <td>14889</td>\n",
       "      <td>450000</td>\n",
       "      <td>2</td>\n",
       "      <td>1</td>\n",
       "      <td>3</td>\n",
       "      <td>1</td>\n",
       "      <td>-2</td>\n",
       "      <td>-2</td>\n",
       "      <td>-2</td>\n",
       "      <td>-2</td>\n",
       "      <td>...</td>\n",
       "      <td>0</td>\n",
       "      <td>0</td>\n",
       "      <td>0</td>\n",
       "      <td>0</td>\n",
       "      <td>1</td>\n",
       "      <td>0</td>\n",
       "      <td>0</td>\n",
       "      <td>0</td>\n",
       "      <td>0</td>\n",
       "      <td>0</td>\n",
       "    </tr>\n",
       "    <tr>\n",
       "      <th>4</th>\n",
       "      <td>11072</td>\n",
       "      <td>450000</td>\n",
       "      <td>1</td>\n",
       "      <td>1</td>\n",
       "      <td>3</td>\n",
       "      <td>-2</td>\n",
       "      <td>-2</td>\n",
       "      <td>-2</td>\n",
       "      <td>-2</td>\n",
       "      <td>-2</td>\n",
       "      <td>...</td>\n",
       "      <td>1622</td>\n",
       "      <td>325</td>\n",
       "      <td>316</td>\n",
       "      <td>0</td>\n",
       "      <td>1</td>\n",
       "      <td>0</td>\n",
       "      <td>0</td>\n",
       "      <td>0</td>\n",
       "      <td>0</td>\n",
       "      <td>0</td>\n",
       "    </tr>\n",
       "  </tbody>\n",
       "</table>\n",
       "<p>5 rows × 30 columns</p>\n",
       "</div>"
      ],
      "text/plain": [
       "      ID  LIMIT_BAL SEX EDUCATION MARRIAGE  PAY_0  PAY_2  PAY_3  PAY_4  PAY_5  \\\n",
       "0   4810     500000   1         3        3      0      0      0      0      0   \n",
       "1  15096     500000   1         1        3     -2     -2     -2     -2     -2   \n",
       "2     81     470000   2         3        3      0      0      0      0      0   \n",
       "3  14889     450000   2         1        3      1     -2     -2     -2     -2   \n",
       "4  11072     450000   1         1        3     -2     -2     -2     -2     -2   \n",
       "\n",
       "     ...      PAY_AMT4  PAY_AMT5  PAY_AMT6  AGE_20-30  AGE_30-40  AGE_40-50  \\\n",
       "0    ...          6000     11000     10000          0          0          0   \n",
       "1    ...             0         0         0          0          1          0   \n",
       "2    ...           960      1000      3000          0          1          0   \n",
       "3    ...             0         0         0          0          1          0   \n",
       "4    ...          1622       325       316          0          1          0   \n",
       "\n",
       "   AGE_50-60  AGE_60-70  default payment next month  AGE_80-70  \n",
       "0          1          0                           0          0  \n",
       "1          0          0                           1          0  \n",
       "2          0          0                           0          0  \n",
       "3          0          0                           0          0  \n",
       "4          0          0                           0          0  \n",
       "\n",
       "[5 rows x 30 columns]"
      ]
     },
     "execution_count": 21,
     "metadata": {},
     "output_type": "execute_result"
    }
   ],
   "source": [
    "df.head()"
   ]
  },
  {
   "cell_type": "code",
   "execution_count": 22,
   "metadata": {},
   "outputs": [
    {
     "data": {
      "text/plain": [
       "(30000, 30)"
      ]
     },
     "execution_count": 22,
     "metadata": {},
     "output_type": "execute_result"
    }
   ],
   "source": [
    "df.shape"
   ]
  },
  {
   "cell_type": "markdown",
   "metadata": {},
   "source": [
    "### Select Features\n"
   ]
  },
  {
   "cell_type": "markdown",
   "metadata": {},
   "source": [
    "#### Remove low variance features"
   ]
  },
  {
   "cell_type": "code",
   "execution_count": 23,
   "metadata": {},
   "outputs": [
    {
     "data": {
      "text/plain": [
       "array([[  4.81000000e+03,   5.00000000e+05,   1.00000000e+00, ...,\n",
       "          0.00000000e+00,   0.00000000e+00,   0.00000000e+00],\n",
       "       [  1.50960000e+04,   5.00000000e+05,   1.00000000e+00, ...,\n",
       "          1.00000000e+00,   0.00000000e+00,   1.00000000e+00],\n",
       "       [  8.10000000e+01,   4.70000000e+05,   2.00000000e+00, ...,\n",
       "          1.00000000e+00,   0.00000000e+00,   0.00000000e+00],\n",
       "       ..., \n",
       "       [  1.65820000e+04,   2.00000000e+04,   1.00000000e+00, ...,\n",
       "          0.00000000e+00,   0.00000000e+00,   0.00000000e+00],\n",
       "       [  2.15600000e+04,   2.00000000e+04,   2.00000000e+00, ...,\n",
       "          0.00000000e+00,   0.00000000e+00,   0.00000000e+00],\n",
       "       [  6.39000000e+03,   1.00000000e+04,   1.00000000e+00, ...,\n",
       "          1.00000000e+00,   0.00000000e+00,   0.00000000e+00]])"
      ]
     },
     "execution_count": 23,
     "metadata": {},
     "output_type": "execute_result"
    }
   ],
   "source": [
    "sel = VarianceThreshold(threshold=(.8 * (1 - .8)))\n",
    "sel.fit_transform(df)"
   ]
  },
  {
   "cell_type": "code",
   "execution_count": 24,
   "metadata": {},
   "outputs": [
    {
     "data": {
      "text/plain": [
       "(30000, 30)"
      ]
     },
     "execution_count": 24,
     "metadata": {},
     "output_type": "execute_result"
    }
   ],
   "source": [
    "df.shape"
   ]
  },
  {
   "cell_type": "markdown",
   "metadata": {},
   "source": [
    "## Correlation Matrix"
   ]
  },
  {
   "cell_type": "code",
   "execution_count": 25,
   "metadata": {
    "collapsed": true
   },
   "outputs": [],
   "source": [
    "c = df.corr().abs()"
   ]
  },
  {
   "cell_type": "code",
   "execution_count": 26,
   "metadata": {},
   "outputs": [
    {
     "name": "stdout",
     "output_type": "stream",
     "text": [
      "PAY_AMT4                    AGE_80-70                     0.000081\n",
      "AGE_80-70                   PAY_AMT4                      0.000081\n",
      "                            PAY_AMT5                      0.000103\n",
      "PAY_AMT5                    AGE_80-70                     0.000103\n",
      "PAY_AMT3                    AGE_80-70                     0.000422\n",
      "AGE_80-70                   PAY_AMT3                      0.000422\n",
      "                            PAY_6                         0.000475\n",
      "PAY_6                       AGE_80-70                     0.000475\n",
      "ID                          PAY_AMT5                      0.000652\n",
      "PAY_AMT5                    ID                            0.000652\n",
      "AGE_50-60                   ID                            0.000923\n",
      "ID                          AGE_50-60                     0.000923\n",
      "PAY_3                       PAY_AMT1                      0.001295\n",
      "PAY_AMT1                    PAY_3                         0.001295\n",
      "BILL_AMT4                   AGE_50-60                     0.001448\n",
      "AGE_50-60                   BILL_AMT4                     0.001448\n",
      "PAY_6                       PAY_AMT1                      0.001496\n",
      "PAY_AMT1                    PAY_6                         0.001496\n",
      "AGE_80-70                   PAY_AMT2                      0.001558\n",
      "PAY_AMT2                    AGE_80-70                     0.001558\n",
      "AGE_60-70                   PAY_2                         0.001625\n",
      "PAY_2                       AGE_60-70                     0.001625\n",
      "PAY_6                       AGE_60-70                     0.001632\n",
      "AGE_60-70                   PAY_6                         0.001632\n",
      "AGE_80-70                   PAY_AMT6                      0.001735\n",
      "PAY_AMT6                    AGE_80-70                     0.001735\n",
      "PAY_4                       PAY_AMT2                      0.001944\n",
      "PAY_AMT2                    PAY_4                         0.001944\n",
      "AGE_50-60                   BILL_AMT5                     0.002020\n",
      "BILL_AMT5                   AGE_50-60                     0.002020\n",
      "                                                            ...   \n",
      "BILL_AMT6                   BILL_AMT5                     0.946197\n",
      "BILL_AMT2                   BILL_AMT1                     0.951484\n",
      "BILL_AMT1                   BILL_AMT2                     0.951484\n",
      "ID                          ID                            1.000000\n",
      "BILL_AMT6                   BILL_AMT6                     1.000000\n",
      "AGE_60-70                   AGE_60-70                     1.000000\n",
      "LIMIT_BAL                   LIMIT_BAL                     1.000000\n",
      "PAY_0                       PAY_0                         1.000000\n",
      "PAY_2                       PAY_2                         1.000000\n",
      "PAY_3                       PAY_3                         1.000000\n",
      "PAY_4                       PAY_4                         1.000000\n",
      "PAY_5                       PAY_5                         1.000000\n",
      "PAY_6                       PAY_6                         1.000000\n",
      "BILL_AMT1                   BILL_AMT1                     1.000000\n",
      "BILL_AMT2                   BILL_AMT2                     1.000000\n",
      "BILL_AMT3                   BILL_AMT3                     1.000000\n",
      "default payment next month  default payment next month    1.000000\n",
      "BILL_AMT4                   BILL_AMT4                     1.000000\n",
      "PAY_AMT1                    PAY_AMT1                      1.000000\n",
      "PAY_AMT2                    PAY_AMT2                      1.000000\n",
      "PAY_AMT3                    PAY_AMT3                      1.000000\n",
      "PAY_AMT4                    PAY_AMT4                      1.000000\n",
      "PAY_AMT5                    PAY_AMT5                      1.000000\n",
      "PAY_AMT6                    PAY_AMT6                      1.000000\n",
      "AGE_20-30                   AGE_20-30                     1.000000\n",
      "AGE_30-40                   AGE_30-40                     1.000000\n",
      "AGE_40-50                   AGE_40-50                     1.000000\n",
      "AGE_50-60                   AGE_50-60                     1.000000\n",
      "BILL_AMT5                   BILL_AMT5                     1.000000\n",
      "AGE_80-70                   AGE_80-70                     1.000000\n",
      "Length: 729, dtype: float64\n"
     ]
    }
   ],
   "source": [
    "s = c.unstack()\n",
    "so = s.sort_values(kind=\"quicksort\")\n",
    "\n",
    "print (so)\n",
    "\n",
    "#corrMat = df.corr().abs\n",
    "#print(corrMat)"
   ]
  },
  {
   "cell_type": "code",
   "execution_count": 27,
   "metadata": {
    "collapsed": true
   },
   "outputs": [],
   "source": [
    "del df['BILL_AMT1']\n",
    "del df['BILL_AMT2']\n",
    "del df['BILL_AMT3']\n",
    "del df['BILL_AMT4']\n",
    "del df['BILL_AMT5']\n"
   ]
  },
  {
   "cell_type": "code",
   "execution_count": 28,
   "metadata": {
    "collapsed": true
   },
   "outputs": [],
   "source": [
    "del df['PAY_0']\n",
    "del df['PAY_2']\n",
    "del df['PAY_3']\n",
    "del df['PAY_4']\n",
    "del df['PAY_5']\n"
   ]
  },
  {
   "cell_type": "code",
   "execution_count": 29,
   "metadata": {},
   "outputs": [
    {
     "data": {
      "text/plain": [
       "(30000, 20)"
      ]
     },
     "execution_count": 29,
     "metadata": {},
     "output_type": "execute_result"
    }
   ],
   "source": [
    "df.shape\n"
   ]
  },
  {
   "cell_type": "code",
   "execution_count": 30,
   "metadata": {},
   "outputs": [
    {
     "name": "stdout",
     "output_type": "stream",
     "text": [
      "Summary of feature sample\n"
     ]
    },
    {
     "data": {
      "text/html": [
       "<div>\n",
       "<style>\n",
       "    .dataframe thead tr:only-child th {\n",
       "        text-align: right;\n",
       "    }\n",
       "\n",
       "    .dataframe thead th {\n",
       "        text-align: left;\n",
       "    }\n",
       "\n",
       "    .dataframe tbody tr th {\n",
       "        vertical-align: top;\n",
       "    }\n",
       "</style>\n",
       "<table border=\"1\" class=\"dataframe\">\n",
       "  <thead>\n",
       "    <tr style=\"text-align: right;\">\n",
       "      <th></th>\n",
       "      <th>LIMIT_BAL</th>\n",
       "      <th>SEX</th>\n",
       "      <th>EDUCATION</th>\n",
       "      <th>MARRIAGE</th>\n",
       "      <th>PAY_6</th>\n",
       "      <th>BILL_AMT6</th>\n",
       "      <th>PAY_AMT1</th>\n",
       "      <th>PAY_AMT2</th>\n",
       "      <th>PAY_AMT3</th>\n",
       "      <th>PAY_AMT4</th>\n",
       "      <th>PAY_AMT5</th>\n",
       "      <th>PAY_AMT6</th>\n",
       "      <th>AGE_20-30</th>\n",
       "      <th>AGE_30-40</th>\n",
       "      <th>AGE_40-50</th>\n",
       "      <th>AGE_50-60</th>\n",
       "      <th>AGE_60-70</th>\n",
       "      <th>default payment next month</th>\n",
       "    </tr>\n",
       "  </thead>\n",
       "  <tbody>\n",
       "    <tr>\n",
       "      <th>0</th>\n",
       "      <td>500000</td>\n",
       "      <td>1</td>\n",
       "      <td>3</td>\n",
       "      <td>3</td>\n",
       "      <td>0</td>\n",
       "      <td>114473</td>\n",
       "      <td>12602</td>\n",
       "      <td>11000</td>\n",
       "      <td>4711</td>\n",
       "      <td>6000</td>\n",
       "      <td>11000</td>\n",
       "      <td>10000</td>\n",
       "      <td>0</td>\n",
       "      <td>0</td>\n",
       "      <td>0</td>\n",
       "      <td>1</td>\n",
       "      <td>0</td>\n",
       "      <td>0</td>\n",
       "    </tr>\n",
       "    <tr>\n",
       "      <th>1</th>\n",
       "      <td>500000</td>\n",
       "      <td>1</td>\n",
       "      <td>1</td>\n",
       "      <td>3</td>\n",
       "      <td>-2</td>\n",
       "      <td>0</td>\n",
       "      <td>0</td>\n",
       "      <td>0</td>\n",
       "      <td>0</td>\n",
       "      <td>0</td>\n",
       "      <td>0</td>\n",
       "      <td>0</td>\n",
       "      <td>0</td>\n",
       "      <td>1</td>\n",
       "      <td>0</td>\n",
       "      <td>0</td>\n",
       "      <td>0</td>\n",
       "      <td>1</td>\n",
       "    </tr>\n",
       "    <tr>\n",
       "      <th>2</th>\n",
       "      <td>470000</td>\n",
       "      <td>2</td>\n",
       "      <td>3</td>\n",
       "      <td>3</td>\n",
       "      <td>0</td>\n",
       "      <td>29889</td>\n",
       "      <td>6400</td>\n",
       "      <td>7566</td>\n",
       "      <td>3000</td>\n",
       "      <td>960</td>\n",
       "      <td>1000</td>\n",
       "      <td>3000</td>\n",
       "      <td>0</td>\n",
       "      <td>1</td>\n",
       "      <td>0</td>\n",
       "      <td>0</td>\n",
       "      <td>0</td>\n",
       "      <td>0</td>\n",
       "    </tr>\n",
       "    <tr>\n",
       "      <th>3</th>\n",
       "      <td>450000</td>\n",
       "      <td>2</td>\n",
       "      <td>1</td>\n",
       "      <td>3</td>\n",
       "      <td>-2</td>\n",
       "      <td>0</td>\n",
       "      <td>0</td>\n",
       "      <td>0</td>\n",
       "      <td>0</td>\n",
       "      <td>0</td>\n",
       "      <td>0</td>\n",
       "      <td>0</td>\n",
       "      <td>0</td>\n",
       "      <td>1</td>\n",
       "      <td>0</td>\n",
       "      <td>0</td>\n",
       "      <td>0</td>\n",
       "      <td>0</td>\n",
       "    </tr>\n",
       "    <tr>\n",
       "      <th>4</th>\n",
       "      <td>450000</td>\n",
       "      <td>1</td>\n",
       "      <td>1</td>\n",
       "      <td>3</td>\n",
       "      <td>-2</td>\n",
       "      <td>324</td>\n",
       "      <td>303</td>\n",
       "      <td>5041</td>\n",
       "      <td>1</td>\n",
       "      <td>1622</td>\n",
       "      <td>325</td>\n",
       "      <td>316</td>\n",
       "      <td>0</td>\n",
       "      <td>1</td>\n",
       "      <td>0</td>\n",
       "      <td>0</td>\n",
       "      <td>0</td>\n",
       "      <td>0</td>\n",
       "    </tr>\n",
       "  </tbody>\n",
       "</table>\n",
       "</div>"
      ],
      "text/plain": [
       "   LIMIT_BAL SEX EDUCATION MARRIAGE  PAY_6  BILL_AMT6  PAY_AMT1  PAY_AMT2  \\\n",
       "0     500000   1         3        3      0     114473     12602     11000   \n",
       "1     500000   1         1        3     -2          0         0         0   \n",
       "2     470000   2         3        3      0      29889      6400      7566   \n",
       "3     450000   2         1        3     -2          0         0         0   \n",
       "4     450000   1         1        3     -2        324       303      5041   \n",
       "\n",
       "   PAY_AMT3  PAY_AMT4  PAY_AMT5  PAY_AMT6  AGE_20-30  AGE_30-40  AGE_40-50  \\\n",
       "0      4711      6000     11000     10000          0          0          0   \n",
       "1         0         0         0         0          0          1          0   \n",
       "2      3000       960      1000      3000          0          1          0   \n",
       "3         0         0         0         0          0          1          0   \n",
       "4         1      1622       325       316          0          1          0   \n",
       "\n",
       "   AGE_50-60  AGE_60-70  default payment next month  \n",
       "0          1          0                           0  \n",
       "1          0          0                           1  \n",
       "2          0          0                           0  \n",
       "3          0          0                           0  \n",
       "4          0          0                           0  "
      ]
     },
     "execution_count": 30,
     "metadata": {},
     "output_type": "execute_result"
    }
   ],
   "source": [
    "#features\n",
    "features = df.iloc[:,1:19]\n",
    "print('Summary of feature sample')\n",
    "features.head()"
   ]
  },
  {
   "cell_type": "markdown",
   "metadata": {},
   "source": [
    "#### Select Dependent Variable"
   ]
  },
  {
   "cell_type": "code",
   "execution_count": 31,
   "metadata": {
    "collapsed": true
   },
   "outputs": [],
   "source": [
    "#dependent variable\n",
    "depVar = df['default payment next month']"
   ]
  },
  {
   "cell_type": "code",
   "execution_count": 32,
   "metadata": {},
   "outputs": [
    {
     "data": {
      "text/plain": [
       "count    30000.000000\n",
       "mean         0.221200\n",
       "std          0.415062\n",
       "min          0.000000\n",
       "25%          0.000000\n",
       "50%          0.000000\n",
       "75%          0.000000\n",
       "max          1.000000\n",
       "Name: default payment next month, dtype: float64"
      ]
     },
     "execution_count": 32,
     "metadata": {},
     "output_type": "execute_result"
    }
   ],
   "source": [
    "depVar.describe()"
   ]
  },
  {
   "cell_type": "code",
   "execution_count": 33,
   "metadata": {},
   "outputs": [
    {
     "name": "stdout",
     "output_type": "stream",
     "text": [
      "<class 'pandas.core.frame.DataFrame'>\n",
      "RangeIndex: 30000 entries, 0 to 29999\n",
      "Data columns (total 20 columns):\n",
      "ID                            30000 non-null int64\n",
      "LIMIT_BAL                     30000 non-null int64\n",
      "SEX                           30000 non-null category\n",
      "EDUCATION                     30000 non-null category\n",
      "MARRIAGE                      30000 non-null category\n",
      "PAY_6                         30000 non-null int64\n",
      "BILL_AMT6                     30000 non-null int64\n",
      "PAY_AMT1                      30000 non-null int64\n",
      "PAY_AMT2                      30000 non-null int64\n",
      "PAY_AMT3                      30000 non-null int64\n",
      "PAY_AMT4                      30000 non-null int64\n",
      "PAY_AMT5                      30000 non-null int64\n",
      "PAY_AMT6                      30000 non-null int64\n",
      "AGE_20-30                     30000 non-null uint8\n",
      "AGE_30-40                     30000 non-null uint8\n",
      "AGE_40-50                     30000 non-null uint8\n",
      "AGE_50-60                     30000 non-null uint8\n",
      "AGE_60-70                     30000 non-null uint8\n",
      "default payment next month    30000 non-null int64\n",
      "AGE_80-70                     30000 non-null uint8\n",
      "dtypes: category(3), int64(11), uint8(6)\n",
      "memory usage: 2.8 MB\n"
     ]
    }
   ],
   "source": [
    "df.info()"
   ]
  },
  {
   "cell_type": "markdown",
   "metadata": {},
   "source": [
    "### Establish Training Data\n"
   ]
  },
  {
   "cell_type": "code",
   "execution_count": 34,
   "metadata": {},
   "outputs": [
    {
     "name": "stdout",
     "output_type": "stream",
     "text": [
      "X_train (21000, 18) \n",
      " X_test (9000, 18) \n",
      " y_train (21000,) \n",
      " y_test (9000,)\n"
     ]
    }
   ],
   "source": [
    "#run split\n",
    "X_train, X_test, y_train, y_test = train_test_split(features, depVar, test_size = 0.30, random_state =123)\n",
    "print(\"X_train\",X_train.shape,'\\n',\"X_test\", X_test.shape,'\\n',\"y_train\", y_train.shape,'\\n',\"y_test\", y_test.shape)"
   ]
  },
  {
   "cell_type": "markdown",
   "metadata": {},
   "source": [
    "# SVM\n",
    "http://scikit-learn.org/stable/modules/svm.html#classification\n",
    "\n",
    "SVC(C=1.0, kernel=’rbf’, degree=3, gamma=’auto’, coef0=0.0, shrinking=True, probability=False, tol=0.001, cache_size=200, class_weight=None, verbose=False, max_iter=-1, decision_function_shape=’ovr’, random_state=None)"
   ]
  },
  {
   "cell_type": "code",
   "execution_count": 35,
   "metadata": {
    "collapsed": true
   },
   "outputs": [],
   "source": [
    "SVMclf = svm.SVC()"
   ]
  },
  {
   "cell_type": "code",
   "execution_count": 36,
   "metadata": {},
   "outputs": [
    {
     "data": {
      "text/plain": [
       "SVC(C=1.0, cache_size=200, class_weight=None, coef0=0.0,\n",
       "  decision_function_shape='ovr', degree=3, gamma='auto', kernel='rbf',\n",
       "  max_iter=-1, probability=False, random_state=None, shrinking=True,\n",
       "  tol=0.001, verbose=False)"
      ]
     },
     "execution_count": 36,
     "metadata": {},
     "output_type": "execute_result"
    }
   ],
   "source": [
    "# train a model on the training set\n",
    "SVMclf.fit(X_train, y_train)"
   ]
  },
  {
   "cell_type": "code",
   "execution_count": 37,
   "metadata": {
    "collapsed": true
   },
   "outputs": [],
   "source": [
    "# class prediction for the testing set\n",
    "SVMclf_pred = SVMclf.predict(X_test)"
   ]
  },
  {
   "cell_type": "code",
   "execution_count": 38,
   "metadata": {},
   "outputs": [
    {
     "name": "stdout",
     "output_type": "stream",
     "text": [
      " ***Support Vector Machine*** \n",
      " accuracy 0.786111111111 \n",
      " average_precision_score 0.253201372985 \n",
      " Kappa 0.0652324751997 \n",
      " Precission Score 0.908163265306\n"
     ]
    }
   ],
   "source": [
    "print(\" ***Support Vector Machine***\",\"\\n\",\"accuracy\",skm.accuracy_score(y_test, SVMclf_pred),'\\n',\"average_precision_score\",skm.average_precision_score(y_test, SVMclf_pred),'\\n',\"Kappa\",skm.cohen_kappa_score(y_test, SVMclf_pred),'\\n','Precission Score',skm.precision_score(y_test,SVMclf_pred))"
   ]
  },
  {
   "cell_type": "code",
   "execution_count": 39,
   "metadata": {},
   "outputs": [
    {
     "name": "stdout",
     "output_type": "stream",
     "text": [
      "[[6986    9]\n",
      " [1916   89]]\n"
     ]
    }
   ],
   "source": [
    "confusion_SVM =skm. confusion_matrix(y_test, SVMclf_pred)\n",
    "print(confusion_SVM)\n",
    "\n",
    "# 0: negative class (doesn't have default status)\n",
    "# 1: positive class (has default status)\n",
    "\n",
    "\n",
    "#        Pr_0  Pr_1\n",
    "# Act_0   TN    FP \n",
    "# Act_1   FN    TP"
   ]
  },
  {
   "cell_type": "markdown",
   "metadata": {},
   "source": [
    "# SVM **TUNED**\n",
    "http://scikit-learn.org/stable/modules/svm.html#classification\n",
    "\n",
    "SVC(C=1.0, kernel=’rbf’, degree=3, gamma=’auto’, coef0=0.0, shrinking=True, probability=False, tol=0.001, cache_size=200, class_weight=None, verbose=False, max_iter=-1, decision_function_shape=’ovr’, random_state=None)"
   ]
  },
  {
   "cell_type": "code",
   "execution_count": null,
   "metadata": {
    "collapsed": true
   },
   "outputs": [],
   "source": [
    "from sklearn.model_selection import GridSearchCV"
   ]
  },
  {
   "cell_type": "code",
   "execution_count": null,
   "metadata": {
    "collapsed": true
   },
   "outputs": [],
   "source": [
    "parameters = {'kernel':('linear', 'rbf'), 'C':[1, 10]}"
   ]
  },
  {
   "cell_type": "code",
   "execution_count": null,
   "metadata": {
    "collapsed": true
   },
   "outputs": [],
   "source": [
    "svc = svm.SVC()"
   ]
  },
  {
   "cell_type": "code",
   "execution_count": null,
   "metadata": {
    "collapsed": true
   },
   "outputs": [],
   "source": [
    "SVM_clf = GridSearchCV(svc, parameters)"
   ]
  },
  {
   "cell_type": "code",
   "execution_count": null,
   "metadata": {
    "collapsed": true
   },
   "outputs": [],
   "source": [
    "SVM_clf.fit(X_train, y_train)"
   ]
  },
  {
   "cell_type": "code",
   "execution_count": null,
   "metadata": {
    "collapsed": true
   },
   "outputs": [],
   "source": [
    "sorted(SVM_clf.cv_results_.keys())"
   ]
  },
  {
   "cell_type": "code",
   "execution_count": null,
   "metadata": {
    "collapsed": true
   },
   "outputs": [],
   "source": [
    "SVM_clf_pred = SVM_clf.predict(X_test)"
   ]
  },
  {
   "cell_type": "code",
   "execution_count": null,
   "metadata": {
    "collapsed": true
   },
   "outputs": [],
   "source": [
    "print(\" ***Support Vector Machine TUNED***\",\"\\n\",\"accuracy\",skm.accuracy_score(y_test, SVM_clf_pred),'\\n',\"average_precision_score\",skm.average_precision_score(y_test, SVM_clf_pred),'\\n',\"Kappa\",skm.cohen_kappa_score(y_test, SVM_clf_pred),'\\n','Precission Score',skm.precision_score(y_test,SVM_clf_pred))"
   ]
  },
  {
   "cell_type": "markdown",
   "metadata": {},
   "source": [
    "# K-Nearest Neighbor Classifier **TUNED**\n",
    "\n",
    "http://scikit-learn.org/stable/modules/neighbors.html#nearest-neighbors-classification\n",
    "\n",
    "KNeighborsClassifier(n_neighbors=5, weights=’uniform’, algorithm=’auto’, leaf_size=30, p=2, metric=’minkowski’, metric_params=None, n_jobs=1, **kwargs)"
   ]
  },
  {
   "cell_type": "code",
   "execution_count": 40,
   "metadata": {
    "collapsed": true
   },
   "outputs": [],
   "source": [
    "from sklearn.model_selection import GridSearchCV"
   ]
  },
  {
   "cell_type": "code",
   "execution_count": 47,
   "metadata": {
    "collapsed": true
   },
   "outputs": [],
   "source": [
    "KNNT = KNeighborsClassifier()"
   ]
  },
  {
   "cell_type": "code",
   "execution_count": 53,
   "metadata": {},
   "outputs": [
    {
     "data": {
      "text/plain": [
       "{'algorithm': 'auto',\n",
       " 'leaf_size': 30,\n",
       " 'metric': 'minkowski',\n",
       " 'metric_params': None,\n",
       " 'n_jobs': 1,\n",
       " 'n_neighbors': 5,\n",
       " 'p': 2,\n",
       " 'weights': 'uniform'}"
      ]
     },
     "execution_count": 53,
     "metadata": {},
     "output_type": "execute_result"
    }
   ],
   "source": [
    "# check the parameters\n",
    "\n",
    "KNNT.get_params()"
   ]
  },
  {
   "cell_type": "code",
   "execution_count": 74,
   "metadata": {
    "collapsed": true
   },
   "outputs": [],
   "source": [
    "parameters = {'n_neighbors':[5,10,15,20,25,30,35,40,45,50], 'leaf_size':[15,30,45]}"
   ]
  },
  {
   "cell_type": "code",
   "execution_count": 75,
   "metadata": {
    "collapsed": true
   },
   "outputs": [],
   "source": [
    "KNNTclf = GridSearchCV(KNNT, parameters, cv = 10, scoring = 'accuracy')"
   ]
  },
  {
   "cell_type": "code",
   "execution_count": 76,
   "metadata": {},
   "outputs": [
    {
     "data": {
      "text/plain": [
       "GridSearchCV(cv=10, error_score='raise',\n",
       "       estimator=KNeighborsClassifier(algorithm='auto', leaf_size=30, metric='minkowski',\n",
       "           metric_params=None, n_jobs=1, n_neighbors=5, p=2,\n",
       "           weights='uniform'),\n",
       "       fit_params=None, iid=True, n_jobs=1,\n",
       "       param_grid={'n_neighbors': [5, 10, 15, 20, 25, 30, 35, 40, 45, 50], 'leaf_size': [15, 30, 45]},\n",
       "       pre_dispatch='2*n_jobs', refit=True, return_train_score='warn',\n",
       "       scoring='accuracy', verbose=0)"
      ]
     },
     "execution_count": 76,
     "metadata": {},
     "output_type": "execute_result"
    }
   ],
   "source": [
    "KNNTclf.fit(X_train, y_train)"
   ]
  },
  {
   "cell_type": "code",
   "execution_count": 77,
   "metadata": {},
   "outputs": [
    {
     "data": {
      "text/plain": [
       "{'cv': 10,\n",
       " 'error_score': 'raise',\n",
       " 'estimator': KNeighborsClassifier(algorithm='auto', leaf_size=30, metric='minkowski',\n",
       "            metric_params=None, n_jobs=1, n_neighbors=5, p=2,\n",
       "            weights='uniform'),\n",
       " 'estimator__algorithm': 'auto',\n",
       " 'estimator__leaf_size': 30,\n",
       " 'estimator__metric': 'minkowski',\n",
       " 'estimator__metric_params': None,\n",
       " 'estimator__n_jobs': 1,\n",
       " 'estimator__n_neighbors': 5,\n",
       " 'estimator__p': 2,\n",
       " 'estimator__weights': 'uniform',\n",
       " 'fit_params': None,\n",
       " 'iid': True,\n",
       " 'n_jobs': 1,\n",
       " 'param_grid': {'leaf_size': [15, 30, 45],\n",
       "  'n_neighbors': [5, 10, 15, 20, 25, 30, 35, 40, 45, 50]},\n",
       " 'pre_dispatch': '2*n_jobs',\n",
       " 'refit': True,\n",
       " 'return_train_score': 'warn',\n",
       " 'scoring': 'accuracy',\n",
       " 'verbose': 0}"
      ]
     },
     "execution_count": 77,
     "metadata": {},
     "output_type": "execute_result"
    }
   ],
   "source": [
    "KNNTclf.get_params()"
   ]
  },
  {
   "cell_type": "code",
   "execution_count": 78,
   "metadata": {
    "collapsed": true
   },
   "outputs": [],
   "source": [
    "KNNTclf_pred = KNNTclf.predict(X_test)"
   ]
  },
  {
   "cell_type": "code",
   "execution_count": 79,
   "metadata": {},
   "outputs": [
    {
     "name": "stdout",
     "output_type": "stream",
     "text": [
      " ***K-Nearest Neighbor Classifier*** \n",
      " accuracy 0.781888888889 \n",
      " average_precision_score 0.245590468274 \n",
      " Kappa 0.0712840849833 \n",
      " Precision Score 0.607142857143\n"
     ]
    }
   ],
   "source": [
    "print(\" ***K-Nearest Neighbor Classifier***\",\"\\n\",\"accuracy\",skm.accuracy_score(y_test, KNNTclf_pred),'\\n',\"average_precision_score\",skm.average_precision_score(y_test, KNNTclf_pred),'\\n',\"Kappa\",skm.cohen_kappa_score(y_test, KNNTclf_pred),'\\n','Precision Score',skm.precision_score(y_test,KNNTclf_pred))"
   ]
  },
  {
   "cell_type": "code",
   "execution_count": 80,
   "metadata": {},
   "outputs": [
    {
     "name": "stderr",
     "output_type": "stream",
     "text": [
      "/Users/degraff/anaconda3/lib/python3.6/site-packages/sklearn/utils/deprecation.py:122: FutureWarning: You are accessing a training score ('mean_train_score'), which will not be available by default any more in 0.21. If you need training scores, please set return_train_score=True\n",
      "  warnings.warn(*warn_args, **warn_kwargs)\n",
      "/Users/degraff/anaconda3/lib/python3.6/site-packages/sklearn/utils/deprecation.py:122: FutureWarning: You are accessing a training score ('split0_train_score'), which will not be available by default any more in 0.21. If you need training scores, please set return_train_score=True\n",
      "  warnings.warn(*warn_args, **warn_kwargs)\n",
      "/Users/degraff/anaconda3/lib/python3.6/site-packages/sklearn/utils/deprecation.py:122: FutureWarning: You are accessing a training score ('split1_train_score'), which will not be available by default any more in 0.21. If you need training scores, please set return_train_score=True\n",
      "  warnings.warn(*warn_args, **warn_kwargs)\n",
      "/Users/degraff/anaconda3/lib/python3.6/site-packages/sklearn/utils/deprecation.py:122: FutureWarning: You are accessing a training score ('split2_train_score'), which will not be available by default any more in 0.21. If you need training scores, please set return_train_score=True\n",
      "  warnings.warn(*warn_args, **warn_kwargs)\n",
      "/Users/degraff/anaconda3/lib/python3.6/site-packages/sklearn/utils/deprecation.py:122: FutureWarning: You are accessing a training score ('split3_train_score'), which will not be available by default any more in 0.21. If you need training scores, please set return_train_score=True\n",
      "  warnings.warn(*warn_args, **warn_kwargs)\n",
      "/Users/degraff/anaconda3/lib/python3.6/site-packages/sklearn/utils/deprecation.py:122: FutureWarning: You are accessing a training score ('split4_train_score'), which will not be available by default any more in 0.21. If you need training scores, please set return_train_score=True\n",
      "  warnings.warn(*warn_args, **warn_kwargs)\n",
      "/Users/degraff/anaconda3/lib/python3.6/site-packages/sklearn/utils/deprecation.py:122: FutureWarning: You are accessing a training score ('split5_train_score'), which will not be available by default any more in 0.21. If you need training scores, please set return_train_score=True\n",
      "  warnings.warn(*warn_args, **warn_kwargs)\n",
      "/Users/degraff/anaconda3/lib/python3.6/site-packages/sklearn/utils/deprecation.py:122: FutureWarning: You are accessing a training score ('split6_train_score'), which will not be available by default any more in 0.21. If you need training scores, please set return_train_score=True\n",
      "  warnings.warn(*warn_args, **warn_kwargs)\n",
      "/Users/degraff/anaconda3/lib/python3.6/site-packages/sklearn/utils/deprecation.py:122: FutureWarning: You are accessing a training score ('split7_train_score'), which will not be available by default any more in 0.21. If you need training scores, please set return_train_score=True\n",
      "  warnings.warn(*warn_args, **warn_kwargs)\n",
      "/Users/degraff/anaconda3/lib/python3.6/site-packages/sklearn/utils/deprecation.py:122: FutureWarning: You are accessing a training score ('split8_train_score'), which will not be available by default any more in 0.21. If you need training scores, please set return_train_score=True\n",
      "  warnings.warn(*warn_args, **warn_kwargs)\n",
      "/Users/degraff/anaconda3/lib/python3.6/site-packages/sklearn/utils/deprecation.py:122: FutureWarning: You are accessing a training score ('split9_train_score'), which will not be available by default any more in 0.21. If you need training scores, please set return_train_score=True\n",
      "  warnings.warn(*warn_args, **warn_kwargs)\n",
      "/Users/degraff/anaconda3/lib/python3.6/site-packages/sklearn/utils/deprecation.py:122: FutureWarning: You are accessing a training score ('std_train_score'), which will not be available by default any more in 0.21. If you need training scores, please set return_train_score=True\n",
      "  warnings.warn(*warn_args, **warn_kwargs)\n"
     ]
    },
    {
     "data": {
      "text/plain": [
       "{'mean_fit_time': array([ 0.03420606,  0.03169396,  0.0344713 ,  0.03282032,  0.03488271,\n",
       "         0.03765442,  0.03435183,  0.04252911,  0.03600218,  0.03543541,\n",
       "         0.0353133 ,  0.04106085,  0.03705018,  0.03450248,  0.03870375,\n",
       "         0.04482772,  0.0378309 ,  0.03338475,  0.03440733,  0.03409674,\n",
       "         0.03260043,  0.03147876,  0.03116539,  0.03353472,  0.03016801,\n",
       "         0.03440237,  0.03238332,  0.03190393,  0.03296814,  0.03467872]),\n",
       " 'mean_score_time': array([ 0.11484826,  0.11938705,  0.1336679 ,  0.16595945,  0.16069431,\n",
       "         0.19076188,  0.19079835,  0.23890293,  0.20303361,  0.22816405,\n",
       "         0.10601785,  0.15632584,  0.14386261,  0.16755993,  0.18879831,\n",
       "         0.23025978,  0.21052158,  0.18742962,  0.17882352,  0.19145544,\n",
       "         0.11379182,  0.12100148,  0.13662863,  0.15371761,  0.14948204,\n",
       "         0.17714078,  0.17764935,  0.17518513,  0.19304953,  0.19872737]),\n",
       " 'mean_test_score': array([ 0.76895238,  0.7822381 ,  0.78242857,  0.78361905,  0.78266667,\n",
       "         0.7827619 ,  0.78309524,  0.78295238,  0.78338095,  0.78219048,\n",
       "         0.76909524,  0.78228571,  0.78242857,  0.78361905,  0.78266667,\n",
       "         0.78290476,  0.78304762,  0.78304762,  0.78347619,  0.7822381 ,\n",
       "         0.76904762,  0.78209524,  0.78238095,  0.78328571,  0.7827619 ,\n",
       "         0.783     ,  0.783     ,  0.78295238,  0.78338095,  0.78214286]),\n",
       " 'mean_train_score': array([ 0.82527511,  0.79812699,  0.79612698,  0.79008466,  0.78853968,\n",
       "         0.78621164,  0.78624868,  0.78513228,  0.78518519,  0.78460318,\n",
       "         0.8252857 ,  0.79817989,  0.79615344,  0.79007937,  0.78849206,\n",
       "         0.7862381 ,  0.78623281,  0.78508995,  0.78516931,  0.7845926 ,\n",
       "         0.82520104,  0.79804762,  0.7961164 ,  0.79013757,  0.78856085,\n",
       "         0.78621694,  0.78621165,  0.78510582,  0.78519577,  0.78456085]),\n",
       " 'param_leaf_size': masked_array(data = [15 15 15 15 15 15 15 15 15 15 30 30 30 30 30 30 30 30 30 30 45 45 45 45 45\n",
       "  45 45 45 45 45],\n",
       "              mask = [False False False False False False False False False False False False\n",
       "  False False False False False False False False False False False False\n",
       "  False False False False False False],\n",
       "        fill_value = ?),\n",
       " 'param_n_neighbors': masked_array(data = [5 10 15 20 25 30 35 40 45 50 5 10 15 20 25 30 35 40 45 50 5 10 15 20 25 30\n",
       "  35 40 45 50],\n",
       "              mask = [False False False False False False False False False False False False\n",
       "  False False False False False False False False False False False False\n",
       "  False False False False False False],\n",
       "        fill_value = ?),\n",
       " 'params': [{'leaf_size': 15, 'n_neighbors': 5},\n",
       "  {'leaf_size': 15, 'n_neighbors': 10},\n",
       "  {'leaf_size': 15, 'n_neighbors': 15},\n",
       "  {'leaf_size': 15, 'n_neighbors': 20},\n",
       "  {'leaf_size': 15, 'n_neighbors': 25},\n",
       "  {'leaf_size': 15, 'n_neighbors': 30},\n",
       "  {'leaf_size': 15, 'n_neighbors': 35},\n",
       "  {'leaf_size': 15, 'n_neighbors': 40},\n",
       "  {'leaf_size': 15, 'n_neighbors': 45},\n",
       "  {'leaf_size': 15, 'n_neighbors': 50},\n",
       "  {'leaf_size': 30, 'n_neighbors': 5},\n",
       "  {'leaf_size': 30, 'n_neighbors': 10},\n",
       "  {'leaf_size': 30, 'n_neighbors': 15},\n",
       "  {'leaf_size': 30, 'n_neighbors': 20},\n",
       "  {'leaf_size': 30, 'n_neighbors': 25},\n",
       "  {'leaf_size': 30, 'n_neighbors': 30},\n",
       "  {'leaf_size': 30, 'n_neighbors': 35},\n",
       "  {'leaf_size': 30, 'n_neighbors': 40},\n",
       "  {'leaf_size': 30, 'n_neighbors': 45},\n",
       "  {'leaf_size': 30, 'n_neighbors': 50},\n",
       "  {'leaf_size': 45, 'n_neighbors': 5},\n",
       "  {'leaf_size': 45, 'n_neighbors': 10},\n",
       "  {'leaf_size': 45, 'n_neighbors': 15},\n",
       "  {'leaf_size': 45, 'n_neighbors': 20},\n",
       "  {'leaf_size': 45, 'n_neighbors': 25},\n",
       "  {'leaf_size': 45, 'n_neighbors': 30},\n",
       "  {'leaf_size': 45, 'n_neighbors': 35},\n",
       "  {'leaf_size': 45, 'n_neighbors': 40},\n",
       "  {'leaf_size': 45, 'n_neighbors': 45},\n",
       "  {'leaf_size': 45, 'n_neighbors': 50}],\n",
       " 'rank_test_score': array([30, 23, 19,  1, 17, 15,  7, 12,  4, 25, 28, 22, 19,  1, 17, 14,  8,\n",
       "         8,  3, 23, 29, 27, 21,  6, 15, 10, 10, 12,  4, 26], dtype=int32),\n",
       " 'split0_test_score': array([ 0.77439315,  0.78248453,  0.78438839,  0.78676821,  0.78391242,\n",
       "         0.78391242,  0.78438839,  0.78486435,  0.78629224,  0.78105664,\n",
       "         0.77391718,  0.78248453,  0.78391242,  0.78676821,  0.78438839,\n",
       "         0.78343646,  0.78391242,  0.78486435,  0.78676821,  0.78105664,\n",
       "         0.77486911,  0.78248453,  0.78438839,  0.78629224,  0.78438839,\n",
       "         0.78343646,  0.78438839,  0.78486435,  0.78629224,  0.78105664]),\n",
       " 'split0_train_score': array([ 0.82369438,  0.79803164,  0.79522726,  0.78993598,  0.78829568,\n",
       "         0.78660247,  0.78649664,  0.78517382,  0.78527964,  0.78453886,\n",
       "         0.82385311,  0.79766125,  0.79554474,  0.7900418 ,  0.78861315,\n",
       "         0.78670829,  0.78660247,  0.78512091,  0.78533256,  0.78464469,\n",
       "         0.82406477,  0.79781999,  0.79517435,  0.79035928,  0.78856024,\n",
       "         0.78660247,  0.78649664,  0.78517382,  0.78527964,  0.78459178]),\n",
       " 'split1_test_score': array([ 0.77047619,  0.78190476,  0.78619048,  0.7852381 ,  0.78238095,\n",
       "         0.78428571,  0.78380952,  0.78428571,  0.7852381 ,  0.78428571,\n",
       "         0.77095238,  0.78190476,  0.78619048,  0.7852381 ,  0.78190476,\n",
       "         0.78428571,  0.78428571,  0.7847619 ,  0.7852381 ,  0.78428571,\n",
       "         0.77047619,  0.78190476,  0.78571429,  0.7852381 ,  0.78238095,\n",
       "         0.7847619 ,  0.78380952,  0.7847619 ,  0.7847619 ,  0.78428571]),\n",
       " 'split1_train_score': array([ 0.82555556,  0.79761905,  0.79566138,  0.79010582,  0.78798942,\n",
       "         0.78582011,  0.78619048,  0.78481481,  0.78465608,  0.78433862,\n",
       "         0.82560847,  0.79783069,  0.79550265,  0.78994709,  0.78761905,\n",
       "         0.7857672 ,  0.7862963 ,  0.7847619 ,  0.78465608,  0.78444444,\n",
       "         0.82529101,  0.79751323,  0.7952381 ,  0.78994709,  0.78772487,\n",
       "         0.78560847,  0.78613757,  0.78481481,  0.78470899,  0.78439153]),\n",
       " 'split2_test_score': array([ 0.76904762,  0.78142857,  0.78047619,  0.77904762,  0.78047619,\n",
       "         0.77857143,  0.77952381,  0.77857143,  0.77857143,  0.78095238,\n",
       "         0.76904762,  0.78047619,  0.78      ,  0.77904762,  0.78047619,\n",
       "         0.77952381,  0.77904762,  0.77904762,  0.77857143,  0.78095238,\n",
       "         0.76904762,  0.78142857,  0.78047619,  0.77904762,  0.78047619,\n",
       "         0.77952381,  0.77904762,  0.77857143,  0.77857143,  0.78047619]),\n",
       " 'split2_train_score': array([ 0.82465608,  0.79952381,  0.79666667,  0.79079365,  0.7889418 ,\n",
       "         0.78671958,  0.78661376,  0.78560847,  0.78656085,  0.78486772,\n",
       "         0.82428571,  0.79931217,  0.79666667,  0.79084656,  0.7889418 ,\n",
       "         0.78671958,  0.78671958,  0.78566138,  0.78634921,  0.78481481,\n",
       "         0.82460317,  0.79920635,  0.79687831,  0.79084656,  0.78910053,\n",
       "         0.78666667,  0.78671958,  0.78560847,  0.78645503,  0.78481481]),\n",
       " 'split3_test_score': array([ 0.77047619,  0.78428571,  0.78666667,  0.78666667,  0.78619048,\n",
       "         0.7847619 ,  0.78190476,  0.78095238,  0.78333333,  0.78238095,\n",
       "         0.77095238,  0.7847619 ,  0.78714286,  0.78666667,  0.78619048,\n",
       "         0.7847619 ,  0.78190476,  0.78047619,  0.78333333,  0.78238095,\n",
       "         0.77095238,  0.78380952,  0.78714286,  0.78666667,  0.78619048,\n",
       "         0.7847619 ,  0.78190476,  0.78047619,  0.78333333,  0.78238095]),\n",
       " 'split3_train_score': array([ 0.82587302,  0.79693122,  0.7962963 ,  0.79      ,  0.78809524,\n",
       "         0.78624339,  0.78597884,  0.78513228,  0.78507937,  0.78402116,\n",
       "         0.8257672 ,  0.79730159,  0.79587302,  0.78962963,  0.78830688,\n",
       "         0.78613757,  0.78592593,  0.78507937,  0.78497354,  0.78412698,\n",
       "         0.82555556,  0.79714286,  0.79608466,  0.7894709 ,  0.78835979,\n",
       "         0.78619048,  0.78587302,  0.78507937,  0.78507937,  0.78407407]),\n",
       " 'split4_test_score': array([ 0.76238095,  0.77952381,  0.77619048,  0.77952381,  0.77809524,\n",
       "         0.78142857,  0.78047619,  0.78142857,  0.78047619,  0.77857143,\n",
       "         0.76190476,  0.78095238,  0.77619048,  0.78      ,  0.77809524,\n",
       "         0.78142857,  0.78047619,  0.78142857,  0.78047619,  0.77857143,\n",
       "         0.76190476,  0.77904762,  0.7752381 ,  0.77857143,  0.77809524,\n",
       "         0.78142857,  0.78047619,  0.78142857,  0.78095238,  0.77857143]),\n",
       " 'split4_train_score': array([ 0.82470899,  0.79873016,  0.79740741,  0.79068783,  0.78835979,\n",
       "         0.78656085,  0.78730159,  0.78624339,  0.78566138,  0.78555556,\n",
       "         0.82486772,  0.79873016,  0.79740741,  0.79084656,  0.78830688,\n",
       "         0.78650794,  0.78730159,  0.78619048,  0.78587302,  0.78555556,\n",
       "         0.82481481,  0.79888889,  0.79714286,  0.79079365,  0.78835979,\n",
       "         0.78645503,  0.78719577,  0.78624339,  0.78608466,  0.78550265]),\n",
       " 'split5_test_score': array([ 0.77095238,  0.77333333,  0.77714286,  0.78095238,  0.78095238,\n",
       "         0.78333333,  0.7852381 ,  0.78238095,  0.78285714,  0.78095238,\n",
       "         0.77238095,  0.77333333,  0.77666667,  0.78095238,  0.78047619,\n",
       "         0.78285714,  0.7852381 ,  0.78285714,  0.78285714,  0.78142857,\n",
       "         0.77190476,  0.77238095,  0.77761905,  0.78047619,  0.78047619,\n",
       "         0.78333333,  0.7852381 ,  0.78285714,  0.78285714,  0.78142857]),\n",
       " 'split5_train_score': array([ 0.82492063,  0.7989418 ,  0.79634921,  0.7910582 ,  0.78931217,\n",
       "         0.78619048,  0.78656085,  0.78455026,  0.78608466,  0.78497354,\n",
       "         0.82507937,  0.79888889,  0.79619048,  0.79068783,  0.78925926,\n",
       "         0.78634921,  0.78650794,  0.78455026,  0.78608466,  0.78481481,\n",
       "         0.82465608,  0.79835979,  0.79650794,  0.7910582 ,  0.78936508,\n",
       "         0.7862963 ,  0.78650794,  0.7847619 ,  0.78597884,  0.78502646]),\n",
       " 'split6_test_score': array([ 0.77857143,  0.79380952,  0.79142857,  0.79095238,  0.78904762,\n",
       "         0.78761905,  0.78857143,  0.78714286,  0.78809524,  0.7852381 ,\n",
       "         0.77857143,  0.79285714,  0.79142857,  0.79095238,  0.78952381,\n",
       "         0.78857143,  0.78857143,  0.78714286,  0.78809524,  0.7852381 ,\n",
       "         0.77809524,  0.79428571,  0.79238095,  0.79095238,  0.78904762,\n",
       "         0.78857143,  0.78857143,  0.78714286,  0.78809524,  0.7852381 ]),\n",
       " 'split6_train_score': array([ 0.82550265,  0.79698413,  0.7947619 ,  0.78915344,  0.78793651,\n",
       "         0.78492063,  0.78534392,  0.78396825,  0.78365079,  0.78386243,\n",
       "         0.82550265,  0.79719577,  0.79465608,  0.78931217,  0.78756614,\n",
       "         0.78518519,  0.7852381 ,  0.78386243,  0.78338624,  0.7837037 ,\n",
       "         0.82502646,  0.7968254 ,  0.79465608,  0.78952381,  0.78761905,\n",
       "         0.78518519,  0.78518519,  0.78396825,  0.78338624,  0.78365079]),\n",
       " 'split7_test_score': array([ 0.7552381 ,  0.77666667,  0.77571429,  0.78142857,  0.78      ,\n",
       "         0.78142857,  0.78238095,  0.78428571,  0.7852381 ,  0.7847619 ,\n",
       "         0.75571429,  0.77761905,  0.7752381 ,  0.78142857,  0.78      ,\n",
       "         0.78142857,  0.78238095,  0.78428571,  0.7852381 ,  0.7847619 ,\n",
       "         0.75666667,  0.77714286,  0.7752381 ,  0.78142857,  0.78047619,\n",
       "         0.78142857,  0.78238095,  0.78428571,  0.7852381 ,  0.7847619 ]),\n",
       " 'split7_train_score': array([ 0.82592593,  0.79873016,  0.79592593,  0.78968254,  0.78910053,\n",
       "         0.78645503,  0.78650794,  0.78544974,  0.78502646,  0.78529101,\n",
       "         0.82634921,  0.79915344,  0.79640212,  0.78973545,  0.78925926,\n",
       "         0.7862963 ,  0.78640212,  0.78529101,  0.78502646,  0.78513228,\n",
       "         0.82640212,  0.79910053,  0.79619048,  0.78973545,  0.78915344,\n",
       "         0.78650794,  0.78656085,  0.78534392,  0.78492063,  0.78518519]),\n",
       " 'split8_test_score': array([ 0.77571429,  0.78666667,  0.78571429,  0.78190476,  0.7847619 ,\n",
       "         0.78142857,  0.78142857,  0.78142857,  0.78047619,  0.78142857,\n",
       "         0.77571429,  0.78666667,  0.78714286,  0.78095238,  0.7852381 ,\n",
       "         0.78190476,  0.78142857,  0.78142857,  0.78095238,  0.78142857,\n",
       "         0.7752381 ,  0.78571429,  0.78619048,  0.78095238,  0.7852381 ,\n",
       "         0.78190476,  0.78142857,  0.78142857,  0.78095238,  0.78095238]),\n",
       " 'split8_train_score': array([ 0.82444444,  0.79809524,  0.79687831,  0.78989418,  0.78851852,\n",
       "         0.78687831,  0.78613757,  0.7857672 ,  0.78497354,  0.78455026,\n",
       "         0.8242328 ,  0.79814815,  0.79714286,  0.79005291,  0.78857143,\n",
       "         0.78698413,  0.78608466,  0.7857672 ,  0.78513228,  0.78455026,\n",
       "         0.82428571,  0.79798942,  0.79708995,  0.78984127,  0.78873016,\n",
       "         0.78687831,  0.78608466,  0.78560847,  0.78534392,  0.78433862]),\n",
       " 'split9_test_score': array([ 0.76226775,  0.78227727,  0.78037161,  0.78370653,  0.78084802,\n",
       "         0.78084802,  0.78323011,  0.78418294,  0.78323011,  0.78227727,\n",
       "         0.76179133,  0.78180086,  0.78037161,  0.78418294,  0.78037161,\n",
       "         0.78084802,  0.78323011,  0.78418294,  0.78323011,  0.78227727,\n",
       "         0.76131491,  0.78275369,  0.77941877,  0.78323011,  0.78084802,\n",
       "         0.78084802,  0.78275369,  0.78370653,  0.78275369,  0.78227727]),\n",
       " 'split9_train_score': array([ 0.82746945,  0.79768266,  0.79609544,  0.78953495,  0.78884715,\n",
       "         0.78572562,  0.78535527,  0.78461457,  0.78487911,  0.78403259,\n",
       "         0.82731072,  0.79757685,  0.79614835,  0.78969367,  0.7884768 ,\n",
       "         0.78572562,  0.78524946,  0.78461457,  0.78487911,  0.78413841,\n",
       "         0.82731072,  0.79762976,  0.79620126,  0.78979948,  0.78863552,\n",
       "         0.78577853,  0.78535527,  0.78445585,  0.78472039,  0.78403259]),\n",
       " 'std_fit_time': array([ 0.00542939,  0.00082953,  0.00397416,  0.0031035 ,  0.0048698 ,\n",
       "         0.00552392,  0.00347465,  0.01039515,  0.0036614 ,  0.00312132,\n",
       "         0.00916191,  0.00943123,  0.00910626,  0.00843764,  0.00923321,\n",
       "         0.01169645,  0.00822698,  0.00317779,  0.00515877,  0.00329233,\n",
       "         0.00403799,  0.00289902,  0.00154072,  0.00403028,  0.00065815,\n",
       "         0.00496941,  0.00485138,  0.00316669,  0.00338823,  0.0058926 ]),\n",
       " 'std_score_time': array([ 0.02628508,  0.00730485,  0.00805027,  0.01469722,  0.01318804,\n",
       "         0.01551566,  0.02091331,  0.04711978,  0.01708188,  0.02071651,\n",
       "         0.01551433,  0.03626171,  0.03258051,  0.03901801,  0.04714306,\n",
       "         0.06433458,  0.06353108,  0.02008341,  0.01582212,  0.01864893,\n",
       "         0.01515162,  0.01013872,  0.0162938 ,  0.0222567 ,  0.00936016,\n",
       "         0.02060055,  0.02111513,  0.01150342,  0.01452976,  0.02978428]),\n",
       " 'std_test_score': array([ 0.00672642,  0.0052558 ,  0.00497722,  0.00357958,  0.00313385,\n",
       "         0.00241079,  0.00247187,  0.00233345,  0.00279121,  0.00195867,\n",
       "         0.00677232,  0.00494443,  0.00525116,  0.00359086,  0.0033536 ,\n",
       "         0.00242424,  0.00254183,  0.00231785,  0.00279781,  0.00193362,\n",
       "         0.00657263,  0.00542117,  0.00538002,  0.00374219,  0.00318278,\n",
       "         0.00245768,  0.00254436,  0.0023836 ,  0.00267689,  0.00199367]),\n",
       " 'std_train_score': array([ 0.00098715,  0.00080896,  0.00074192,  0.00056669,  0.00046087,\n",
       "         0.00055624,  0.00056333,  0.00063478,  0.00075805,  0.0005364 ,\n",
       "         0.00099965,  0.0007437 ,  0.00077413,  0.00051234,  0.00055576,\n",
       "         0.00051972,  0.00060802,  0.00064572,  0.00079617,  0.00050567,\n",
       "         0.00094816,  0.00078002,  0.00080872,  0.00055236,  0.00054682,\n",
       "         0.00050632,  0.00058658,  0.00061489,  0.00082732,  0.00054601])}"
      ]
     },
     "execution_count": 80,
     "metadata": {},
     "output_type": "execute_result"
    }
   ],
   "source": [
    "#KNNTclf.grid_scores_\n",
    "KNNTclf.cv_results_"
   ]
  },
  {
   "cell_type": "code",
   "execution_count": 81,
   "metadata": {},
   "outputs": [
    {
     "name": "stdout",
     "output_type": "stream",
     "text": [
      "Score: 0.783619047619 \n",
      " \n",
      " Parameters \n",
      " {'leaf_size': 15, 'n_neighbors': 20} \n",
      " \n",
      " Estimator: \n",
      " KNeighborsClassifier(algorithm='auto', leaf_size=15, metric='minkowski',\n",
      "           metric_params=None, n_jobs=1, n_neighbors=20, p=2,\n",
      "           weights='uniform')\n"
     ]
    }
   ],
   "source": [
    "# best model\n",
    "\n",
    "print('Score:',KNNTclf.best_score_,'\\n','\\n',\n",
    "'Parameters','\\n',KNNTclf.best_params_,'\\n','\\n',\n",
    "'Estimator:','\\n',KNNTclf.best_estimator_)"
   ]
  },
  {
   "cell_type": "code",
   "execution_count": 82,
   "metadata": {},
   "outputs": [
    {
     "name": "stdout",
     "output_type": "stream",
     "text": [
      "PARAMETERS \n",
      " {'leaf_size': 15, 'n_neighbors': 5} \n",
      " \n",
      " Validation Scores \n",
      " [ 0.77439315  0.77047619  0.76904762  0.77047619  0.76238095  0.77095238\n",
      "  0.77857143  0.7552381   0.77571429  0.76226775] \n",
      " \n",
      " Mean Validation: 0.768952380952\n"
     ]
    },
    {
     "name": "stderr",
     "output_type": "stream",
     "text": [
      "/Users/degraff/anaconda3/lib/python3.6/site-packages/sklearn/model_selection/_search.py:761: DeprecationWarning: The grid_scores_ attribute was deprecated in version 0.18 in favor of the more elaborate cv_results_ attribute. The grid_scores_ attribute will not be available from 0.20\n",
      "  DeprecationWarning)\n",
      "/Users/degraff/anaconda3/lib/python3.6/site-packages/sklearn/model_selection/_search.py:761: DeprecationWarning: The grid_scores_ attribute was deprecated in version 0.18 in favor of the more elaborate cv_results_ attribute. The grid_scores_ attribute will not be available from 0.20\n",
      "  DeprecationWarning)\n",
      "/Users/degraff/anaconda3/lib/python3.6/site-packages/sklearn/model_selection/_search.py:761: DeprecationWarning: The grid_scores_ attribute was deprecated in version 0.18 in favor of the more elaborate cv_results_ attribute. The grid_scores_ attribute will not be available from 0.20\n",
      "  DeprecationWarning)\n"
     ]
    }
   ],
   "source": [
    "# there is one tuple for each trial of CV\n",
    "# examine the first tuple \n",
    "\n",
    "print('PARAMETERS','\\n',KNNTclf.grid_scores_[0].parameters,'\\n','\\n',\n",
    "'Validation Scores','\\n',KNNTclf.grid_scores_[0].cv_validation_scores,'\\n','\\n',\n",
    "'Mean Validation:',KNNTclf.grid_scores_[0].mean_validation_score)"
   ]
  },
  {
   "cell_type": "code",
   "execution_count": 85,
   "metadata": {},
   "outputs": [
    {
     "name": "stderr",
     "output_type": "stream",
     "text": [
      "/Users/degraff/anaconda3/lib/python3.6/site-packages/sklearn/model_selection/_search.py:761: DeprecationWarning: The grid_scores_ attribute was deprecated in version 0.18 in favor of the more elaborate cv_results_ attribute. The grid_scores_ attribute will not be available from 0.20\n",
      "  DeprecationWarning)\n"
     ]
    }
   ],
   "source": [
    "#Extract mean accuracy from grid_scors\n",
    "scores = [x[1] for x in KNNTclf.grid_scores_]\n",
    "\n",
    "#make array with just leaf = 15 mean accuracy scores for range of plot 1\n",
    "leaf_15=scores[0::3]\n",
    "#make array with just leaf = 30 mean accuracy scores for range of plot 2\n",
    "leaf_30=scores[1::3]\n",
    "#make array with just leaf = 45 mean accuracy scores for range of plot 2\n",
    "leaf_45=scores[2::3]\n",
    "\n",
    "#Make an array with k values for domain of plot\n",
    "k=[5,10,15,20,25,30,35,40,45,50]\n"
   ]
  },
  {
   "cell_type": "code",
   "execution_count": 86,
   "metadata": {},
   "outputs": [
    {
     "data": {
      "image/png": "[encoded data removed]",
      "text/plain": [
       "<matplotlib.figure.Figure at 0x1a1d1def28>"
      ]
     },
     "metadata": {},
     "output_type": "display_data"
    }
   ],
   "source": [
    "#scores = np.array(scores).reshape(len(k_range), len(weight_options))\n",
    "plt.plot(k, leaf_15)\n",
    "plt.legend(\"leaf_15\")\n",
    "plt.xlabel('K Neighbors with leaf_15')\n",
    "plt.ylabel('Accuracy')\n",
    "plt.show()"
   ]
  },
  {
   "cell_type": "code",
   "execution_count": 87,
   "metadata": {},
   "outputs": [
    {
     "data": {
      "image/png": "[encoded data removed]",
      "text/plain": [
       "<matplotlib.figure.Figure at 0x1a1d1c17b8>"
      ]
     },
     "metadata": {},
     "output_type": "display_data"
    }
   ],
   "source": [
    "#scores = np.array(scores).reshape(len(k_range), len(weight_options))\n",
    "plt.plot(k, leaf_30)\n",
    "plt.legend(\"leaf_30\")\n",
    "plt.xlabel('K Neighbors with leaf_30')\n",
    "plt.ylabel('Accuracy')\n",
    "plt.show()"
   ]
  },
  {
   "cell_type": "code",
   "execution_count": 88,
   "metadata": {},
   "outputs": [
    {
     "data": {
      "image/png": "[encoded data removed]",
      "text/plain": [
       "<matplotlib.figure.Figure at 0x1a13660390>"
      ]
     },
     "metadata": {},
     "output_type": "display_data"
    }
   ],
   "source": [
    "#scores = np.array(scores).reshape(len(k_range), len(weight_options))\n",
    "plt.plot(k, leaf_45)\n",
    "plt.legend(\"leaf_45\")\n",
    "plt.xlabel('K Neighbors with leaf_45')\n",
    "plt.ylabel('Accuracy')\n",
    "plt.show()"
   ]
  },
  {
   "cell_type": "markdown",
   "metadata": {},
   "source": [
    "#### Train/test split"
   ]
  },
  {
   "cell_type": "code",
   "execution_count": 94,
   "metadata": {},
   "outputs": [
    {
     "data": {
      "text/plain": [
       "KNeighborsClassifier(algorithm='auto', leaf_size=45, metric='minkowski',\n",
       "           metric_params=None, n_jobs=1, n_neighbors=25, p=2,\n",
       "           weights='uniform')"
      ]
     },
     "execution_count": 94,
     "metadata": {},
     "output_type": "execute_result"
    }
   ],
   "source": [
    "modelKNN_par = KNeighborsClassifier(n_neighbors = 25, leaf_size=45)  \n",
    "KNN = modelKNN_par.fit(X_train, y_train)\n",
    "KNN"
   ]
  },
  {
   "cell_type": "code",
   "execution_count": 95,
   "metadata": {
    "collapsed": true
   },
   "outputs": [],
   "source": [
    "KNN_pred = KNN.predict(X_test)"
   ]
  },
  {
   "cell_type": "code",
   "execution_count": 96,
   "metadata": {},
   "outputs": [
    {
     "name": "stdout",
     "output_type": "stream",
     "text": [
      "[[6906   89]\n",
      " [1874  131]]\n"
     ]
    }
   ],
   "source": [
    "confusion_KNN = skm.confusion_matrix(y_test, KNN_pred)\n",
    "print(confusion_KNN)"
   ]
  },
  {
   "cell_type": "code",
   "execution_count": 97,
   "metadata": {
    "collapsed": true
   },
   "outputs": [],
   "source": [
    "TN_KNN = confusion_KNN[0, 0]\n",
    "FP_KNN = confusion_KNN[0, 1]"
   ]
  },
  {
   "cell_type": "code",
   "execution_count": 98,
   "metadata": {},
   "outputs": [
    {
     "name": "stdout",
     "output_type": "stream",
     "text": [
      " ***K-Nearest Neighbors*** \n",
      " Accuracy 0.781888888889 \n",
      " Kappa 0.0770942599829 \n",
      " Sensitivity 0.0653366583541 \n",
      " Specificity 0.987276626162 \n",
      " Precision 0.595454545455 \n",
      " False Positive Rate 0.0127233738385\n"
     ]
    }
   ],
   "source": [
    "print(\" ***K-Nearest Neighbors***\" ,'\\n',\n",
    "      \"Accuracy\",skm.accuracy_score(y_test, KNN_pred),'\\n',\n",
    "      \"Kappa\",skm.cohen_kappa_score(y_test, KNN_pred),'\\n',\n",
    "      \"Sensitivity\",skm.recall_score(y_test, KNN_pred),'\\n',\n",
    "      'Specificity',TN_KNN/float(FP_KNN + TN_KNN),'\\n',\n",
    "      \"Precision\",skm.precision_score(y_test, KNN_pred),'\\n',\n",
    "      \"False Positive Rate\",FP_KNN/float(TN_KNN + FP_KNN))"
   ]
  },
  {
   "cell_type": "markdown",
   "metadata": {},
   "source": [
    "# Random Forest\n",
    "\n",
    "http://scikit-learn.org/stable/modules/generated/sklearn.ensemble.RandomForestClassifier.html\n",
    "\n",
    "RandomForestClassifier(n_estimators=10, criterion=’gini’, max_depth=None, min_samples_split=2, min_samples_leaf=1, min_weight_fraction_leaf=0.0, max_features=’auto’, max_leaf_nodes=None, min_impurity_decrease=0.0, min_impurity_split=None, bootstrap=True, oob_score=False, n_jobs=1, random_state=None, verbose=0, warm_start=False, class_weight=None)"
   ]
  },
  {
   "cell_type": "code",
   "execution_count": 91,
   "metadata": {
    "collapsed": true
   },
   "outputs": [],
   "source": [
    "RFclf = RandomForestClassifier(max_depth=4, random_state=0)"
   ]
  },
  {
   "cell_type": "code",
   "execution_count": 92,
   "metadata": {},
   "outputs": [
    {
     "data": {
      "text/plain": [
       "RandomForestClassifier(bootstrap=True, class_weight=None, criterion='gini',\n",
       "            max_depth=4, max_features='auto', max_leaf_nodes=None,\n",
       "            min_impurity_decrease=0.0, min_impurity_split=None,\n",
       "            min_samples_leaf=1, min_samples_split=2,\n",
       "            min_weight_fraction_leaf=0.0, n_estimators=10, n_jobs=1,\n",
       "            oob_score=False, random_state=0, verbose=0, warm_start=False)"
      ]
     },
     "execution_count": 92,
     "metadata": {},
     "output_type": "execute_result"
    }
   ],
   "source": [
    "RFclf.fit(X_train, y_train)"
   ]
  },
  {
   "cell_type": "code",
   "execution_count": 93,
   "metadata": {
    "collapsed": true
   },
   "outputs": [],
   "source": [
    "RFclf_pred = RFclf.predict(X_test)"
   ]
  },
  {
   "cell_type": "code",
   "execution_count": 94,
   "metadata": {},
   "outputs": [
    {
     "name": "stdout",
     "output_type": "stream",
     "text": [
      " ***Random Forest*** \n",
      " accuracy 0.971444444444 \n",
      " average_precision_score 0.900376004433 \n",
      " Kappa 0.913589305248 \n",
      " Precision Score 1.0\n"
     ]
    }
   ],
   "source": [
    "print(\" ***Random Forest***\" ,'\\n',\"accuracy\",skm.accuracy_score(y_test, RFclf_pred),'\\n',\"average_precision_score\",skm.average_precision_score(y_test, RFclf_pred),'\\n',\"Kappa\",skm.cohen_kappa_score(y_test, RFclf_pred),'\\n','Precision Score',skm.precision_score(y_test,RFclf_pred))"
   ]
  },
  {
   "cell_type": "code",
   "execution_count": 95,
   "metadata": {},
   "outputs": [
    {
     "name": "stdout",
     "output_type": "stream",
     "text": [
      "[  1.61198324e-02   6.85405903e-04   9.68943479e-04   1.25374074e-03\n",
      "   1.04045748e-01   5.53290150e-03   1.69080764e-02   1.89982896e-02\n",
      "   9.05778105e-03   1.89357508e-02   9.58467496e-03   4.02380099e-03\n",
      "   8.60904483e-05   0.00000000e+00   0.00000000e+00   2.09164333e-04\n",
      "   0.00000000e+00   7.93589800e-01]\n"
     ]
    }
   ],
   "source": [
    "print(RFclf.feature_importances_)"
   ]
  },
  {
   "cell_type": "code",
   "execution_count": 96,
   "metadata": {},
   "outputs": [
    {
     "name": "stdout",
     "output_type": "stream",
     "text": [
      "[[6995    0]\n",
      " [ 257 1748]]\n"
     ]
    }
   ],
   "source": [
    "confusion_RF = skm.confusion_matrix(y_test, RFclf_pred)\n",
    "print(confusion_RF)\n",
    "# 0: negative class (doesn't have default status)\n",
    "# 1: positive class (has default status)\n",
    "\n",
    "\n",
    "#        Pr_0  Pr_1\n",
    "# Act_0   TN    FP \n",
    "# Act_1   FN    TP"
   ]
  },
  {
   "cell_type": "code",
   "execution_count": 97,
   "metadata": {},
   "outputs": [
    {
     "name": "stdout",
     "output_type": "stream",
     "text": [
      "[ 0.96414798  0.98571429  0.9815688 ]\n"
     ]
    },
    {
     "data": {
      "text/plain": [
       "0.9744761904761905"
      ]
     },
     "execution_count": 97,
     "metadata": {},
     "output_type": "execute_result"
    }
   ],
   "source": [
    "print(cross_val_score(RFclf, X_train, y_train))\n",
    "RFclf.score(X_train, y_train)"
   ]
  },
  {
   "cell_type": "code",
   "execution_count": 98,
   "metadata": {},
   "outputs": [
    {
     "name": "stdout",
     "output_type": "stream",
     "text": [
      "[  1.61198324e-02   6.85405903e-04   9.68943479e-04   1.25374074e-03\n",
      "   1.04045748e-01   5.53290150e-03   1.69080764e-02   1.89982896e-02\n",
      "   9.05778105e-03   1.89357508e-02   9.58467496e-03   4.02380099e-03\n",
      "   8.60904483e-05   0.00000000e+00   0.00000000e+00   2.09164333e-04\n",
      "   0.00000000e+00   7.93589800e-01]\n"
     ]
    }
   ],
   "source": [
    "# Feature importance\n",
    "\n",
    "print(RFclf.feature_importances_)"
   ]
  },
  {
   "cell_type": "code",
   "execution_count": 99,
   "metadata": {},
   "outputs": [
    {
     "data": {
      "text/plain": [
       "{'bootstrap': True,\n",
       " 'class_weight': None,\n",
       " 'criterion': 'gini',\n",
       " 'max_depth': 4,\n",
       " 'max_features': 'auto',\n",
       " 'max_leaf_nodes': None,\n",
       " 'min_impurity_decrease': 0.0,\n",
       " 'min_impurity_split': None,\n",
       " 'min_samples_leaf': 1,\n",
       " 'min_samples_split': 2,\n",
       " 'min_weight_fraction_leaf': 0.0,\n",
       " 'n_estimators': 10,\n",
       " 'n_jobs': 1,\n",
       " 'oob_score': False,\n",
       " 'random_state': 0,\n",
       " 'verbose': 0,\n",
       " 'warm_start': False}"
      ]
     },
     "execution_count": 99,
     "metadata": {},
     "output_type": "execute_result"
    }
   ],
   "source": [
    "RFclf.get_params()"
   ]
  },
  {
   "cell_type": "markdown",
   "metadata": {},
   "source": [
    "# Linear SVC\n",
    "http://scikit-learn.org/stable/modules/generated/sklearn.svm.LinearSVC.html#sklearn.svm.LinearSVC\n",
    "\n",
    "LinearSVC(penalty=’l2’, loss=’squared_hinge’, dual=True, tol=0.0001, C=1.0, multi_class=’ovr’, fit_intercept=True, intercept_scaling=1, class_weight=None, verbose=0, random_state=None, max_iter=1000)"
   ]
  },
  {
   "cell_type": "code",
   "execution_count": 126,
   "metadata": {
    "collapsed": true
   },
   "outputs": [],
   "source": [
    "lin_clf = svm.LinearSVC()"
   ]
  },
  {
   "cell_type": "code",
   "execution_count": 127,
   "metadata": {},
   "outputs": [
    {
     "data": {
      "text/plain": [
       "LinearSVC(C=1.0, class_weight=None, dual=True, fit_intercept=True,\n",
       "     intercept_scaling=1, loss='squared_hinge', max_iter=1000,\n",
       "     multi_class='ovr', penalty='l2', random_state=None, tol=0.0001,\n",
       "     verbose=0)"
      ]
     },
     "execution_count": 127,
     "metadata": {},
     "output_type": "execute_result"
    }
   ],
   "source": [
    "lin_clf.fit(X_train, y_train)"
   ]
  },
  {
   "cell_type": "code",
   "execution_count": 128,
   "metadata": {
    "collapsed": true
   },
   "outputs": [],
   "source": [
    "lin_clf_pred = lin_clf.predict(X_test)"
   ]
  },
  {
   "cell_type": "code",
   "execution_count": null,
   "metadata": {},
   "outputs": [
    {
     "name": "stdout",
     "output_type": "stream",
     "text": [
      " ***Linear SVC*** \n",
      " accuracy 0.258333333333 \n",
      " average_precision_score 0.2189449576 \n",
      " Kappa -0.0106483559447 \n",
      " Precision Score 0.218539054966\n"
     ]
    }
   ],
   "source": [
    "print(\" ***Linear SVC***\" ,'\\n',\"accuracy\",skm.accuracy_score(y_test, lin_clf_pred),'\\n',\"average_precision_score\",skm.average_precision_score(y_test, lin_clf_pred),'\\n',\"Kappa\",skm.cohen_kappa_score(y_test, lin_clf_pred),'\\n','Precision Score',skm.precision_score(y_test,lin_clf_pred))"
   ]
  },
  {
   "cell_type": "markdown",
   "metadata": {},
   "source": [
    "# Accuracy"
   ]
  },
  {
   "cell_type": "code",
   "execution_count": null,
   "metadata": {
    "collapsed": true
   },
   "outputs": [],
   "source": [
    "SVMscores = cross_val_score(SVMclf, X_train, y_train, cv=15)\n",
    "RFscores = cross_val_score(RFclf, X_train, y_train, cv=15)\n",
    "KNNscores = cross_val_score(KNNclf, X_train, y_train, cv=15)"
   ]
  },
  {
   "cell_type": "code",
   "execution_count": null,
   "metadata": {
    "collapsed": true
   },
   "outputs": [],
   "source": [
    "LINscores = cross_val_score(lin_clf, X_train, y_train, cv=15)"
   ]
  },
  {
   "cell_type": "code",
   "execution_count": null,
   "metadata": {
    "collapsed": true
   },
   "outputs": [],
   "source": [
    "print(\" SVM Accuracy: %0.2f (+/- %0.2f)\" % (SVMscores.mean(), SVMscores.std() * 2),\n",
    "    '\\n',\"KNN Accuracy: %0.2f (+/- %0.2f)\" % (KNNscores.mean(), KNNscores.std() * 2),\n",
    "    '\\n', \"RF Accuracy: %0.2f (+/- %0.2f)\" % (RFscores.mean(), RFscores.std() * 2),\n",
    "    '\\n',\"LinSVC Accuracy: %0.2f (+/- %0.2f)\" % (LINscores.mean(), LINscores.std() * 2))"
   ]
  },
  {
   "cell_type": "code",
   "execution_count": null,
   "metadata": {
    "collapsed": true
   },
   "outputs": [],
   "source": [
    "print(\" LINscores\",\"\\n\",LINscores,\"\\n\",\n",
    "\"SVMscores\",\"\\n\",\n",
    "      SVMscores,\"\\n\",\n",
    "\"SRscores\",\"\\n\",\n",
    "      RFscores,\"\\n\",\n",
    "\"KNNscores\",\"\\n\",\n",
    "      KNNscores)"
   ]
  },
  {
   "cell_type": "code",
   "execution_count": null,
   "metadata": {
    "collapsed": true
   },
   "outputs": [],
   "source": []
  },
  {
   "cell_type": "markdown",
   "metadata": {},
   "source": [
    "## Making Predictions"
   ]
  },
  {
   "cell_type": "code",
   "execution_count": null,
   "metadata": {
    "collapsed": true
   },
   "outputs": [],
   "source": []
  },
  {
   "cell_type": "markdown",
   "metadata": {},
   "source": [
    "# Tuning"
   ]
  },
  {
   "cell_type": "code",
   "execution_count": null,
   "metadata": {
    "collapsed": true
   },
   "outputs": [],
   "source": []
  },
  {
   "cell_type": "code",
   "execution_count": null,
   "metadata": {
    "collapsed": true
   },
   "outputs": [],
   "source": []
  }
 ],
 "metadata": {
  "kernelspec": {
   "display_name": "Python 3",
   "language": "python",
   "name": "python3"
  },
  "language_info": {
   "codemirror_mode": {
    "name": "ipython",
    "version": 3
   },
   "file_extension": ".py",
   "mimetype": "text/x-python",
   "name": "python",
   "nbconvert_exporter": "python",
   "pygments_lexer": "ipython3",
   "version": "3.6.3"
  }
 },
 "nbformat": 4,
 "nbformat_minor": 2
}
