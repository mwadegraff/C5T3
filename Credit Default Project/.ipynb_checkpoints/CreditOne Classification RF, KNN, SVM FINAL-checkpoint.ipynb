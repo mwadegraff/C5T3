{
 "cells": [
  {
   "cell_type": "markdown",
   "metadata": {},
   "source": [
    "# CreditOne Classification \n",
    "Class 5 Task 3\n",
    "\n",
    "Digging into SVM KNN RF"
   ]
  },
  {
   "cell_type": "markdown",
   "metadata": {},
   "source": [
    "#### Import modules"
   ]
  },
  {
   "cell_type": "code",
   "execution_count": 1,
   "metadata": {
    "collapsed": true
   },
   "outputs": [],
   "source": [
    "#enable auto complete\n",
    "%config IPCompleter.greedy=True"
   ]
  },
  {
   "cell_type": "code",
   "execution_count": 2,
   "metadata": {
    "collapsed": true
   },
   "outputs": [],
   "source": [
    "import warnings\n",
    "warnings.filterwarnings('ignore')"
   ]
  },
  {
   "cell_type": "code",
   "execution_count": 3,
   "metadata": {
    "collapsed": true
   },
   "outputs": [],
   "source": [
    "%matplotlib inline"
   ]
  },
  {
   "cell_type": "code",
   "execution_count": 4,
   "metadata": {
    "collapsed": true
   },
   "outputs": [],
   "source": [
    "#imports\n",
    "#numpy,pandas,scipy,math,matplotlib\n",
    "import numpy as np\n",
    "import pandas as pd\n",
    "import scipy\n",
    "from math import sqrt\n",
    "import matplotlib.pyplot as plt\n",
    "import seaborn as sns\n",
    "\n",
    "#estimators\n",
    "#svm\n",
    "from sklearn import svm\n",
    "#knn\n",
    "from sklearn.neighbors import KNeighborsClassifier\n",
    "#RF\n",
    "from sklearn.ensemble import RandomForestClassifier\n",
    "from sklearn.datasets import make_classification\n",
    "\n",
    "#model metrics\n",
    "from sklearn.model_selection import cross_val_score\n",
    "import sklearn.metrics as skm\n",
    "\n",
    "#cross validation\n",
    "from sklearn.model_selection import train_test_split\n",
    "from sklearn.model_selection import GridSearchCV\n",
    "from sklearn.feature_selection import VarianceThreshold\n",
    "\n",
    "from tabulate import tabulate"
   ]
  },
  {
   "cell_type": "markdown",
   "metadata": {},
   "source": [
    "# 1. Preprocessing and EDA"
   ]
  },
  {
   "cell_type": "markdown",
   "metadata": {},
   "source": [
    "\n",
    "#### import data"
   ]
  },
  {
   "cell_type": "code",
   "execution_count": 5,
   "metadata": {
    "collapsed": true
   },
   "outputs": [],
   "source": [
    "#data\n",
    "rawData = pd.read_csv('default of credit card clients.csv', header=1)\n",
    "#rawData.head()"
   ]
  },
  {
   "cell_type": "code",
   "execution_count": 6,
   "metadata": {
    "collapsed": true
   },
   "outputs": [],
   "source": [
    "#rawData.info()"
   ]
  },
  {
   "cell_type": "code",
   "execution_count": 7,
   "metadata": {
    "collapsed": true
   },
   "outputs": [],
   "source": [
    "df = rawData"
   ]
  },
  {
   "cell_type": "code",
   "execution_count": 8,
   "metadata": {
    "collapsed": true
   },
   "outputs": [],
   "source": [
    "#change to categorical\n",
    "\n",
    "df.SEX = df.SEX.astype('category')\n",
    "df.MARRIAGE = df.MARRIAGE.astype('category')\n",
    "df.AGE = df.AGE.astype('category')\n",
    "df.EDUCATION = df.EDUCATION.astype('category')"
   ]
  },
  {
   "cell_type": "code",
   "execution_count": 9,
   "metadata": {
    "collapsed": true
   },
   "outputs": [],
   "source": [
    "#bin Age data\n",
    "df['AGE'] = pd.cut(df['AGE'], [20,30,40,50,60,70,80],labels=['20-30','30-40','40-50', '50-60', '60-70','80-70'])"
   ]
  },
  {
   "cell_type": "code",
   "execution_count": 10,
   "metadata": {
    "collapsed": true
   },
   "outputs": [],
   "source": [
    "#dummiefy age\n",
    "AGE_dummies = pd.get_dummies(df['AGE'],prefix = \"AGE\", columns=None, sparse=False, drop_first=False)"
   ]
  },
  {
   "cell_type": "code",
   "execution_count": 11,
   "metadata": {
    "collapsed": true
   },
   "outputs": [],
   "source": [
    "#AGE_dummies"
   ]
  },
  {
   "cell_type": "markdown",
   "metadata": {},
   "source": [
    "### 5. One Hot Encoding "
   ]
  },
  {
   "cell_type": "code",
   "execution_count": 12,
   "metadata": {
    "collapsed": true
   },
   "outputs": [],
   "source": [
    "#add age dummies to df and delete age\n",
    "df=df.join(AGE_dummies)\n",
    "del df['AGE']"
   ]
  },
  {
   "cell_type": "code",
   "execution_count": 13,
   "metadata": {
    "collapsed": true
   },
   "outputs": [],
   "source": [
    "#move default column to end\n",
    "\n",
    "#make an array of column names\n",
    "cols = df.columns.tolist()"
   ]
  },
  {
   "cell_type": "code",
   "execution_count": 14,
   "metadata": {
    "collapsed": true
   },
   "outputs": [],
   "source": [
    "#cols"
   ]
  },
  {
   "cell_type": "code",
   "execution_count": 15,
   "metadata": {
    "collapsed": true
   },
   "outputs": [],
   "source": [
    "#move default to the end\n",
    "cols.insert(-1, cols.pop(cols.index('default payment next month')))\n",
    "cols\n",
    "df=df[cols]"
   ]
  },
  {
   "cell_type": "code",
   "execution_count": 16,
   "metadata": {
    "collapsed": true
   },
   "outputs": [],
   "source": [
    "#df.info()"
   ]
  },
  {
   "cell_type": "code",
   "execution_count": 17,
   "metadata": {
    "collapsed": true
   },
   "outputs": [],
   "source": [
    "#df.head()"
   ]
  },
  {
   "cell_type": "code",
   "execution_count": 18,
   "metadata": {},
   "outputs": [
    {
     "data": {
      "text/plain": [
       "(30000, 30)"
      ]
     },
     "execution_count": 18,
     "metadata": {},
     "output_type": "execute_result"
    }
   ],
   "source": [
    "df.shape"
   ]
  },
  {
   "cell_type": "markdown",
   "metadata": {},
   "source": [
    "### 2. Covariance and Feature Engineering\n"
   ]
  },
  {
   "cell_type": "markdown",
   "metadata": {},
   "source": [
    "#### Remove low variance features"
   ]
  },
  {
   "cell_type": "code",
   "execution_count": 19,
   "metadata": {},
   "outputs": [
    {
     "data": {
      "text/plain": [
       "<matplotlib.axes._subplots.AxesSubplot at 0x10f58a6d8>"
      ]
     },
     "execution_count": 19,
     "metadata": {},
     "output_type": "execute_result"
    },
    {
     "data": {
      "image/png": "[encoded data removed]",
      "text/plain": [
       "<matplotlib.figure.Figure at 0x10f58a208>"
      ]
     },
     "metadata": {},
     "output_type": "display_data"
    }
   ],
   "source": [
    "corr = df.corr()\n",
    "\n",
    "# Generate a mask for the upper triangle\n",
    "mask = np.zeros_like(corr, dtype=np.bool)\n",
    "mask[np.triu_indices_from(mask)] = True\n",
    "\n",
    "# Set up the matplotlib figure\n",
    "f, ax = plt.subplots(figsize=(11, 9))\n",
    "\n",
    "# Generate a custom diverging colormap\n",
    "cmap = sns.diverging_palette(220, 10, as_cmap=True)\n",
    "\n",
    "# Draw the heatmap with the mask and correct aspect ratio\n",
    "sns.heatmap(corr, mask=mask, cmap=cmap, vmax=.3, center=0,\n",
    "            square=True, linewidths=.5, cbar_kws={\"shrink\": .5})\n",
    "\n"
   ]
  },
  {
   "cell_type": "code",
   "execution_count": 20,
   "metadata": {},
   "outputs": [
    {
     "data": {
      "text/plain": [
       "array([[  4.81000000e+03,   5.00000000e+05,   1.00000000e+00, ...,\n",
       "          0.00000000e+00,   0.00000000e+00,   0.00000000e+00],\n",
       "       [  1.50960000e+04,   5.00000000e+05,   1.00000000e+00, ...,\n",
       "          1.00000000e+00,   0.00000000e+00,   1.00000000e+00],\n",
       "       [  8.10000000e+01,   4.70000000e+05,   2.00000000e+00, ...,\n",
       "          1.00000000e+00,   0.00000000e+00,   0.00000000e+00],\n",
       "       ..., \n",
       "       [  1.65820000e+04,   2.00000000e+04,   1.00000000e+00, ...,\n",
       "          0.00000000e+00,   0.00000000e+00,   0.00000000e+00],\n",
       "       [  2.15600000e+04,   2.00000000e+04,   2.00000000e+00, ...,\n",
       "          0.00000000e+00,   0.00000000e+00,   0.00000000e+00],\n",
       "       [  6.39000000e+03,   1.00000000e+04,   1.00000000e+00, ...,\n",
       "          1.00000000e+00,   0.00000000e+00,   0.00000000e+00]])"
      ]
     },
     "execution_count": 20,
     "metadata": {},
     "output_type": "execute_result"
    }
   ],
   "source": [
    "sel = VarianceThreshold(threshold=(.8 * (1 - .8)))\n",
    "sel.fit_transform(df)"
   ]
  },
  {
   "cell_type": "code",
   "execution_count": 21,
   "metadata": {},
   "outputs": [
    {
     "data": {
      "text/plain": [
       "(30000, 30)"
      ]
     },
     "execution_count": 21,
     "metadata": {},
     "output_type": "execute_result"
    }
   ],
   "source": [
    "df.shape"
   ]
  },
  {
   "cell_type": "markdown",
   "metadata": {},
   "source": [
    "## Correlation Matrix"
   ]
  },
  {
   "cell_type": "code",
   "execution_count": 22,
   "metadata": {
    "collapsed": true
   },
   "outputs": [],
   "source": [
    "c = df.corr().abs()"
   ]
  },
  {
   "cell_type": "code",
   "execution_count": 23,
   "metadata": {
    "collapsed": true
   },
   "outputs": [],
   "source": [
    "s = c.unstack()\n",
    "so = s.sort_values(kind=\"quicksort\")\n",
    "\n",
    "#print (so)\n",
    "\n",
    "#corrMat = df.corr().abs\n",
    "#print(corrMat)"
   ]
  },
  {
   "cell_type": "code",
   "execution_count": 24,
   "metadata": {
    "collapsed": true
   },
   "outputs": [],
   "source": [
    "del df['BILL_AMT1']\n",
    "del df['BILL_AMT2']\n",
    "del df['BILL_AMT3']\n",
    "del df['BILL_AMT4']\n",
    "del df['BILL_AMT5']\n"
   ]
  },
  {
   "cell_type": "code",
   "execution_count": 25,
   "metadata": {
    "collapsed": true
   },
   "outputs": [],
   "source": [
    "del df['PAY_0']\n",
    "del df['PAY_2']\n",
    "del df['PAY_3']\n",
    "del df['PAY_4']\n",
    "del df['PAY_5']\n"
   ]
  },
  {
   "cell_type": "code",
   "execution_count": 26,
   "metadata": {},
   "outputs": [
    {
     "data": {
      "text/plain": [
       "(30000, 20)"
      ]
     },
     "execution_count": 26,
     "metadata": {},
     "output_type": "execute_result"
    }
   ],
   "source": [
    "df.shape\n"
   ]
  },
  {
   "cell_type": "code",
   "execution_count": 27,
   "metadata": {},
   "outputs": [
    {
     "name": "stdout",
     "output_type": "stream",
     "text": [
      "Summary of feature sample\n"
     ]
    },
    {
     "data": {
      "text/html": [
       "<div>\n",
       "<style>\n",
       "    .dataframe thead tr:only-child th {\n",
       "        text-align: right;\n",
       "    }\n",
       "\n",
       "    .dataframe thead th {\n",
       "        text-align: left;\n",
       "    }\n",
       "\n",
       "    .dataframe tbody tr th {\n",
       "        vertical-align: top;\n",
       "    }\n",
       "</style>\n",
       "<table border=\"1\" class=\"dataframe\">\n",
       "  <thead>\n",
       "    <tr style=\"text-align: right;\">\n",
       "      <th></th>\n",
       "      <th>LIMIT_BAL</th>\n",
       "      <th>SEX</th>\n",
       "      <th>EDUCATION</th>\n",
       "      <th>MARRIAGE</th>\n",
       "      <th>PAY_6</th>\n",
       "      <th>BILL_AMT6</th>\n",
       "      <th>PAY_AMT1</th>\n",
       "      <th>PAY_AMT2</th>\n",
       "      <th>PAY_AMT3</th>\n",
       "      <th>PAY_AMT4</th>\n",
       "      <th>PAY_AMT5</th>\n",
       "      <th>PAY_AMT6</th>\n",
       "      <th>AGE_20-30</th>\n",
       "      <th>AGE_30-40</th>\n",
       "      <th>AGE_40-50</th>\n",
       "      <th>AGE_50-60</th>\n",
       "      <th>AGE_60-70</th>\n",
       "    </tr>\n",
       "  </thead>\n",
       "  <tbody>\n",
       "    <tr>\n",
       "      <th>0</th>\n",
       "      <td>500000</td>\n",
       "      <td>1</td>\n",
       "      <td>3</td>\n",
       "      <td>3</td>\n",
       "      <td>0</td>\n",
       "      <td>114473</td>\n",
       "      <td>12602</td>\n",
       "      <td>11000</td>\n",
       "      <td>4711</td>\n",
       "      <td>6000</td>\n",
       "      <td>11000</td>\n",
       "      <td>10000</td>\n",
       "      <td>0</td>\n",
       "      <td>0</td>\n",
       "      <td>0</td>\n",
       "      <td>1</td>\n",
       "      <td>0</td>\n",
       "    </tr>\n",
       "    <tr>\n",
       "      <th>1</th>\n",
       "      <td>500000</td>\n",
       "      <td>1</td>\n",
       "      <td>1</td>\n",
       "      <td>3</td>\n",
       "      <td>-2</td>\n",
       "      <td>0</td>\n",
       "      <td>0</td>\n",
       "      <td>0</td>\n",
       "      <td>0</td>\n",
       "      <td>0</td>\n",
       "      <td>0</td>\n",
       "      <td>0</td>\n",
       "      <td>0</td>\n",
       "      <td>1</td>\n",
       "      <td>0</td>\n",
       "      <td>0</td>\n",
       "      <td>0</td>\n",
       "    </tr>\n",
       "    <tr>\n",
       "      <th>2</th>\n",
       "      <td>470000</td>\n",
       "      <td>2</td>\n",
       "      <td>3</td>\n",
       "      <td>3</td>\n",
       "      <td>0</td>\n",
       "      <td>29889</td>\n",
       "      <td>6400</td>\n",
       "      <td>7566</td>\n",
       "      <td>3000</td>\n",
       "      <td>960</td>\n",
       "      <td>1000</td>\n",
       "      <td>3000</td>\n",
       "      <td>0</td>\n",
       "      <td>1</td>\n",
       "      <td>0</td>\n",
       "      <td>0</td>\n",
       "      <td>0</td>\n",
       "    </tr>\n",
       "    <tr>\n",
       "      <th>3</th>\n",
       "      <td>450000</td>\n",
       "      <td>2</td>\n",
       "      <td>1</td>\n",
       "      <td>3</td>\n",
       "      <td>-2</td>\n",
       "      <td>0</td>\n",
       "      <td>0</td>\n",
       "      <td>0</td>\n",
       "      <td>0</td>\n",
       "      <td>0</td>\n",
       "      <td>0</td>\n",
       "      <td>0</td>\n",
       "      <td>0</td>\n",
       "      <td>1</td>\n",
       "      <td>0</td>\n",
       "      <td>0</td>\n",
       "      <td>0</td>\n",
       "    </tr>\n",
       "    <tr>\n",
       "      <th>4</th>\n",
       "      <td>450000</td>\n",
       "      <td>1</td>\n",
       "      <td>1</td>\n",
       "      <td>3</td>\n",
       "      <td>-2</td>\n",
       "      <td>324</td>\n",
       "      <td>303</td>\n",
       "      <td>5041</td>\n",
       "      <td>1</td>\n",
       "      <td>1622</td>\n",
       "      <td>325</td>\n",
       "      <td>316</td>\n",
       "      <td>0</td>\n",
       "      <td>1</td>\n",
       "      <td>0</td>\n",
       "      <td>0</td>\n",
       "      <td>0</td>\n",
       "    </tr>\n",
       "  </tbody>\n",
       "</table>\n",
       "</div>"
      ],
      "text/plain": [
       "   LIMIT_BAL SEX EDUCATION MARRIAGE  PAY_6  BILL_AMT6  PAY_AMT1  PAY_AMT2  \\\n",
       "0     500000   1         3        3      0     114473     12602     11000   \n",
       "1     500000   1         1        3     -2          0         0         0   \n",
       "2     470000   2         3        3      0      29889      6400      7566   \n",
       "3     450000   2         1        3     -2          0         0         0   \n",
       "4     450000   1         1        3     -2        324       303      5041   \n",
       "\n",
       "   PAY_AMT3  PAY_AMT4  PAY_AMT5  PAY_AMT6  AGE_20-30  AGE_30-40  AGE_40-50  \\\n",
       "0      4711      6000     11000     10000          0          0          0   \n",
       "1         0         0         0         0          0          1          0   \n",
       "2      3000       960      1000      3000          0          1          0   \n",
       "3         0         0         0         0          0          1          0   \n",
       "4         1      1622       325       316          0          1          0   \n",
       "\n",
       "   AGE_50-60  AGE_60-70  \n",
       "0          1          0  \n",
       "1          0          0  \n",
       "2          0          0  \n",
       "3          0          0  \n",
       "4          0          0  "
      ]
     },
     "execution_count": 27,
     "metadata": {},
     "output_type": "execute_result"
    }
   ],
   "source": [
    "#features\n",
    "features = df.iloc[:,1:18]\n",
    "print('Summary of feature sample')\n",
    "features.head()"
   ]
  },
  {
   "cell_type": "markdown",
   "metadata": {},
   "source": [
    "#### Select Dependent Variable"
   ]
  },
  {
   "cell_type": "code",
   "execution_count": 28,
   "metadata": {
    "collapsed": true
   },
   "outputs": [],
   "source": [
    "#dependent variable\n",
    "depVar = df['default payment next month']"
   ]
  },
  {
   "cell_type": "code",
   "execution_count": 29,
   "metadata": {},
   "outputs": [
    {
     "data": {
      "text/plain": [
       "count    30000.000000\n",
       "mean         0.221200\n",
       "std          0.415062\n",
       "min          0.000000\n",
       "25%          0.000000\n",
       "50%          0.000000\n",
       "75%          0.000000\n",
       "max          1.000000\n",
       "Name: default payment next month, dtype: float64"
      ]
     },
     "execution_count": 29,
     "metadata": {},
     "output_type": "execute_result"
    }
   ],
   "source": [
    "depVar.describe()"
   ]
  },
  {
   "cell_type": "code",
   "execution_count": 30,
   "metadata": {
    "collapsed": true
   },
   "outputs": [],
   "source": [
    "#df.info()"
   ]
  },
  {
   "cell_type": "markdown",
   "metadata": {},
   "source": [
    "### Establish Training Data\n"
   ]
  },
  {
   "cell_type": "code",
   "execution_count": 31,
   "metadata": {},
   "outputs": [
    {
     "name": "stdout",
     "output_type": "stream",
     "text": [
      "X_train (21000, 17) \n",
      " X_test (9000, 17) \n",
      " y_train (21000,) \n",
      " y_test (9000,)\n"
     ]
    }
   ],
   "source": [
    "#run split\n",
    "X_train, X_test, y_train, y_test = train_test_split(features, depVar, test_size = 0.30, random_state =123)\n",
    "print(\"X_train\",X_train.shape,'\\n',\"X_test\", X_test.shape,'\\n',\"y_train\", y_train.shape,'\\n',\"y_test\", y_test.shape)"
   ]
  },
  {
   "cell_type": "code",
   "execution_count": 32,
   "metadata": {
    "collapsed": true
   },
   "outputs": [],
   "source": [
    "#X_train"
   ]
  },
  {
   "cell_type": "markdown",
   "metadata": {},
   "source": [
    "# 6. Classification \n",
    "# 7. Tuning  \n",
    "# 8. Model Evaluation"
   ]
  },
  {
   "cell_type": "markdown",
   "metadata": {},
   "source": [
    "# Random Forest\n",
    "\n",
    "http://scikit-learn.org/stable/modules/generated/sklearn.ensemble.RandomForestClassifier.html\n",
    "\n",
    "RandomForestClassifier(n_estimators=10, criterion=’gini’, max_depth=None, min_samples_split=2, min_samples_leaf=1, min_weight_fraction_leaf=0.0, max_features=’auto’, max_leaf_nodes=None, min_impurity_decrease=0.0, min_impurity_split=None, bootstrap=True, oob_score=False, n_jobs=1, random_state=None, verbose=0, warm_start=False, class_weight=None)"
   ]
  },
  {
   "cell_type": "code",
   "execution_count": 33,
   "metadata": {
    "collapsed": true
   },
   "outputs": [],
   "source": [
    "#model = RandomForestClassifier() \n",
    "modelRF = RandomForestClassifier()\n",
    "RFclf = RandomForestClassifier()"
   ]
  },
  {
   "cell_type": "code",
   "execution_count": 34,
   "metadata": {},
   "outputs": [
    {
     "data": {
      "text/plain": [
       "{'bootstrap': True,\n",
       " 'class_weight': None,\n",
       " 'criterion': 'gini',\n",
       " 'max_depth': None,\n",
       " 'max_features': 'auto',\n",
       " 'max_leaf_nodes': None,\n",
       " 'min_impurity_decrease': 0.0,\n",
       " 'min_impurity_split': None,\n",
       " 'min_samples_leaf': 1,\n",
       " 'min_samples_split': 2,\n",
       " 'min_weight_fraction_leaf': 0.0,\n",
       " 'n_estimators': 10,\n",
       " 'n_jobs': 1,\n",
       " 'oob_score': False,\n",
       " 'random_state': None,\n",
       " 'verbose': 0,\n",
       " 'warm_start': False}"
      ]
     },
     "execution_count": 34,
     "metadata": {},
     "output_type": "execute_result"
    }
   ],
   "source": [
    "# check the parameters\n",
    "RFclf.get_params()"
   ]
  },
  {
   "cell_type": "code",
   "execution_count": 35,
   "metadata": {
    "collapsed": true
   },
   "outputs": [],
   "source": [
    "param_grid = {'n_estimators': np.arange(5, 25, ),\n",
    "              \"min_weight_fraction_leaf\": np.arange(0.1,0.4, 0.1)}"
   ]
  },
  {
   "cell_type": "code",
   "execution_count": 36,
   "metadata": {
    "collapsed": true
   },
   "outputs": [],
   "source": [
    "RFclf = GridSearchCV(RandomForestClassifier(max_depth=2), param_grid, cv = 10, scoring = 'accuracy')"
   ]
  },
  {
   "cell_type": "code",
   "execution_count": null,
   "metadata": {},
   "outputs": [],
   "source": [
    "RFfit=RFclf.fit(X_train, y_train)\n",
    "print(RFfit)"
   ]
  },
  {
   "cell_type": "code",
   "execution_count": null,
   "metadata": {
    "collapsed": true
   },
   "outputs": [],
   "source": [
    "RFclf_pred = RFclf.predict(X_test)"
   ]
  },
  {
   "cell_type": "code",
   "execution_count": null,
   "metadata": {
    "collapsed": true
   },
   "outputs": [],
   "source": [
    "confusion_RF = skm.confusion_matrix(y_test, RFclf_pred)\n",
    "print(confusion_RF)\n",
    "# 0: negative class (doesn't have default status)\n",
    "# 1: positive class (has default status)\n",
    "\n",
    "\n",
    "#        Pr_0  Pr_1\n",
    "# Act_0   TN    FP \n",
    "# Act_1   FN    TP\n",
    "TN_RF = confusion_RF[0, 0]\n",
    "FP_RF = confusion_RF[0, 1]"
   ]
  },
  {
   "cell_type": "code",
   "execution_count": null,
   "metadata": {
    "collapsed": true
   },
   "outputs": [],
   "source": [
    "print(\" ***K-Nearest Neighbors***\" ,'\\n',\n",
    "      \"Accuracy\",skm.accuracy_score(y_test, RFclf_pred),'\\n',\n",
    "      \"Kappa\",skm.cohen_kappa_score(y_test, RFclf_pred),'\\n',\n",
    "      \"Sensitivity\",skm.recall_score(y_test, RFclf_pred),'\\n',\n",
    "      'Specificity',TN_RF/float(FP_RF + TN_RF),'\\n',\n",
    "      \"Precision\",skm.precision_score(y_test, RFclf_pred),'\\n',\n",
    "      \"False Positive Rate\",FP_RF/float(TN_RF + FP_RF))"
   ]
  },
  {
   "cell_type": "code",
   "execution_count": null,
   "metadata": {
    "collapsed": true
   },
   "outputs": [],
   "source": [
    "# Addional metrics\n",
    "\n",
    "print(cross_val_score(RFfit, X_train, y_train)) "
   ]
  },
  {
   "cell_type": "code",
   "execution_count": null,
   "metadata": {
    "collapsed": true
   },
   "outputs": [],
   "source": [
    "# best model\n",
    "\n",
    "print('Score:',RFfit.best_score_,'\\n','\\n',\n",
    "'Parameters','\\n',RFfit.best_params_,'\\n','\\n',\n",
    "'Estimator:','\\n',RFfit.best_estimator_)"
   ]
  },
  {
   "cell_type": "markdown",
   "metadata": {},
   "source": [
    "### Feature Impact"
   ]
  },
  {
   "cell_type": "code",
   "execution_count": null,
   "metadata": {
    "collapsed": true
   },
   "outputs": [],
   "source": [
    "clf = RandomForestClassifier(max_depth= 1, min_weight_fraction_leaf=0.10000000000000001, n_estimators=5)\n",
    "model=clf.fit(X_train, y_train)\n"
   ]
  },
  {
   "cell_type": "code",
   "execution_count": null,
   "metadata": {
    "collapsed": true
   },
   "outputs": [],
   "source": [
    "headers = [\"name\", \"score\"]\n",
    "values = sorted(zip(X_train.columns, model.feature_importances_), key=lambda x: x[1] * -1)\n",
    "print(tabulate(values, headers, tablefmt=\"plain\"))"
   ]
  },
  {
   "cell_type": "markdown",
   "metadata": {},
   "source": [
    "# K-Nearest Neighbor Classifier **TUNED**\n",
    "\n",
    "http://scikit-learn.org/stable/modules/neighbors.html#nearest-neighbors-classification\n",
    "\n",
    "KNeighborsClassifier(n_neighbors=5, weights=’uniform’, algorithm=’auto’, leaf_size=30, p=2, metric=’minkowski’, metric_params=None, n_jobs=1, **kwargs)"
   ]
  },
  {
   "cell_type": "code",
   "execution_count": null,
   "metadata": {
    "collapsed": true
   },
   "outputs": [],
   "source": [
    "from sklearn.model_selection import GridSearchCV"
   ]
  },
  {
   "cell_type": "code",
   "execution_count": null,
   "metadata": {
    "collapsed": true
   },
   "outputs": [],
   "source": [
    "KNNT = KNeighborsClassifier()"
   ]
  },
  {
   "cell_type": "code",
   "execution_count": null,
   "metadata": {
    "collapsed": true
   },
   "outputs": [],
   "source": [
    "# check the parameters\n",
    "\n",
    "KNNT.get_params()"
   ]
  },
  {
   "cell_type": "code",
   "execution_count": null,
   "metadata": {
    "collapsed": true
   },
   "outputs": [],
   "source": [
    "neigh=[1,10,20,30,40,50]\n",
    "leafs=[15,30,45]"
   ]
  },
  {
   "cell_type": "code",
   "execution_count": null,
   "metadata": {
    "collapsed": true
   },
   "outputs": [],
   "source": [
    "parameters = {'n_neighbors':neigh, 'leaf_size':leafs}"
   ]
  },
  {
   "cell_type": "code",
   "execution_count": null,
   "metadata": {
    "collapsed": true
   },
   "outputs": [],
   "source": [
    "KNNTclf = GridSearchCV(KNNT, parameters, cv = 10, scoring = 'accuracy')"
   ]
  },
  {
   "cell_type": "code",
   "execution_count": null,
   "metadata": {
    "collapsed": true
   },
   "outputs": [],
   "source": [
    "KNN=KNNTclf.fit(X_train, y_train)\n",
    "print(KNN)"
   ]
  },
  {
   "cell_type": "code",
   "execution_count": null,
   "metadata": {
    "collapsed": true
   },
   "outputs": [],
   "source": [
    "KNNTclf.get_params()"
   ]
  },
  {
   "cell_type": "code",
   "execution_count": null,
   "metadata": {
    "collapsed": true
   },
   "outputs": [],
   "source": [
    "KNNTclf_pred = KNNTclf.predict(X_test)"
   ]
  },
  {
   "cell_type": "code",
   "execution_count": null,
   "metadata": {
    "collapsed": true
   },
   "outputs": [],
   "source": [
    "print(\" ***K-Nearest Neighbor Classifier***\",\"\\n\",\n",
    "      \"accuracy\",skm.accuracy_score(y_test, KNNTclf_pred),'\\n',\n",
    "      \"average_precision_score\",skm.average_precision_score(y_test, KNNTclf_pred),'\\n',\n",
    "      \"Kappa\",skm.cohen_kappa_score(y_test, KNNTclf_pred),'\\n',\n",
    "      \"Precision Score\",skm.precision_score(y_test,KNNTclf_pred))"
   ]
  },
  {
   "cell_type": "markdown",
   "metadata": {},
   "source": [
    "### Confusion Matrix"
   ]
  },
  {
   "cell_type": "markdown",
   "metadata": {},
   "source": [
    "Confusion matrix will reveal the pattern, as it describes the performance of a classification model.\n",
    "\n",
    "Gives a more complete picture of how a classifier is performing"
   ]
  },
  {
   "cell_type": "code",
   "execution_count": null,
   "metadata": {
    "collapsed": true
   },
   "outputs": [],
   "source": [
    "confusion_KNN = skm.confusion_matrix(y_test, KNNTclf_pred)\n",
    "print(confusion_KNN)\n",
    "\n",
    "# 0: negative class (doesn't have default status)\n",
    "# 1: positive class (has default status)\n",
    "\n",
    "\n",
    "#        Pr_0  Pr_1\n",
    "# Act_0   TN    FP \n",
    "# Act_1   FN    TP"
   ]
  },
  {
   "cell_type": "code",
   "execution_count": null,
   "metadata": {
    "collapsed": true
   },
   "outputs": [],
   "source": [
    "TN_KNN = confusion_KNN[0, 0]\n",
    "FP_KNN = confusion_KNN[0, 1]"
   ]
  },
  {
   "cell_type": "markdown",
   "metadata": {},
   "source": [
    "#### Metrics "
   ]
  },
  {
   "cell_type": "markdown",
   "metadata": {},
   "source": [
    "Summary"
   ]
  },
  {
   "cell_type": "code",
   "execution_count": null,
   "metadata": {
    "collapsed": true
   },
   "outputs": [],
   "source": [
    "print(\" ***K-Nearest Neighbor Classifier***\",\"\\n\",\n",
    "      #\"accuracy\",skm.accuracy_score(y_test, KNNTclf_pred),'\\n',\n",
    "      #\"average_precision_score\",skm.average_precision_score(y_test, KNNTclf_pred),'\\n',\n",
    "      #\"Kappa\",skm.cohen_kappa_score(y_test, KNNTclf_pred),'\\n',\n",
    "      #\"Precision Score\",skm.precision_score(y_test,KNNTclf_pred),'\\n',\n",
    "      \"Sensitivity\",skm.recall_score(y_test, KNNTclf_pred),'\\n',\n",
    "      'Specificity',TN_KNN/float(FP_KNN + TN_KNN),'\\n',\n",
    "      \"False Positive Rate\",FP_KNN/float(TN_KNN + FP_KNN))"
   ]
  },
  {
   "cell_type": "code",
   "execution_count": null,
   "metadata": {
    "collapsed": true
   },
   "outputs": [],
   "source": [
    "# Addional metrics\n",
    "\n",
    "print(cross_val_score(KNNTclf, X_train, y_train)) "
   ]
  },
  {
   "cell_type": "code",
   "execution_count": null,
   "metadata": {
    "collapsed": true
   },
   "outputs": [],
   "source": [
    "# Addional metrics\n",
    "\n",
    "print(cross_val_score(KNNTclf, X_train, y_train)) \n",
    "\n",
    "KNNTclf.score(X_train, y_train)"
   ]
  },
  {
   "cell_type": "code",
   "execution_count": null,
   "metadata": {
    "collapsed": true
   },
   "outputs": [],
   "source": [
    "# best model\n",
    "\n",
    "print('Score:',KNNTclf.best_score_,'\\n','\\n',\n",
    "'Parameters','\\n',KNNTclf.best_params_,'\\n','\\n',\n",
    "'Estimator:','\\n',KNNTclf.best_estimator_)"
   ]
  },
  {
   "cell_type": "code",
   "execution_count": null,
   "metadata": {
    "collapsed": true
   },
   "outputs": [],
   "source": [
    "#Extract mean accuracy from grid_scors\n",
    "scores = [x[1] for x in KNNTclf.grid_scores_]\n",
    "\n",
    "#make array with just leaf = 15 mean accuracy scores for range of plot 1\n",
    "leaf_15=scores[0:6]\n",
    "#make array with just leaf = 30 mean accuracy scores for range of plot 2\n",
    "leaf_30=scores[6:12]\n",
    "#make array with just leaf = 45 mean accuracy scores for range of plot 2\n",
    "leaf_45=scores[12:]\n",
    "\n",
    "#Make an array with k values for domain of plot\n",
    "k=neigh\n"
   ]
  },
  {
   "cell_type": "code",
   "execution_count": null,
   "metadata": {
    "collapsed": true
   },
   "outputs": [],
   "source": [
    "#scores = np.array(scores).reshape(len(k_range), len(weight_options))\n",
    "plt.plot(k, leaf_15)\n",
    "plt.legend(\"leaf_15\")\n",
    "plt.xlabel('K Neighbors with leaf_15')\n",
    "plt.ylabel('Accuracy')\n",
    "plt.show()"
   ]
  },
  {
   "cell_type": "code",
   "execution_count": null,
   "metadata": {
    "collapsed": true
   },
   "outputs": [],
   "source": [
    "#scores = np.array(scores).reshape(len(k_range), len(weight_options))\n",
    "plt.plot(k, leaf_30)\n",
    "plt.legend(\"leaf_30\")\n",
    "plt.xlabel('K Neighbors with leaf_30')\n",
    "plt.ylabel('Accuracy')\n",
    "plt.show()"
   ]
  },
  {
   "cell_type": "code",
   "execution_count": null,
   "metadata": {
    "collapsed": true
   },
   "outputs": [],
   "source": [
    "#scores = np.array(scores).reshape(len(k_range), len(weight_options))\n",
    "plt.plot(k, leaf_45)\n",
    "plt.legend(\"leaf_45\")\n",
    "plt.xlabel('K Neighbors with leaf_45')\n",
    "plt.ylabel('Accuracy')\n",
    "plt.show()"
   ]
  },
  {
   "cell_type": "markdown",
   "metadata": {},
   "source": [
    "### Feature Impact"
   ]
  },
  {
   "cell_type": "code",
   "execution_count": null,
   "metadata": {
    "collapsed": true
   },
   "outputs": [],
   "source": [
    "clf = KNeighborsClassifier(leaf_size=30, n_neighbors=40)\n",
    "modelKNN=model.fit(X_train, y_train)\n",
    "\n",
    "headers = [\"name\", \"score\"]\n",
    "values = sorted(zip(X_train.columns, modelKNN.feature_importances_), key=lambda x: x[1] * -1)\n",
    "print(tabulate(values, headers, tablefmt=\"plain\"))"
   ]
  },
  {
   "cell_type": "code",
   "execution_count": null,
   "metadata": {
    "collapsed": true
   },
   "outputs": [],
   "source": [
    "KNNclf_pred = modelKNN.predict(X_test)"
   ]
  },
  {
   "cell_type": "code",
   "execution_count": null,
   "metadata": {
    "collapsed": true
   },
   "outputs": [],
   "source": [
    "print(\" ***K-Nearest Neighbor Classifier***\",\"\\n\",\n",
    "      \"accuracy\",skm.accuracy_score(y_test, KNNTclf_pred),'\\n',\n",
    "      \"average_precision_score\",skm.average_precision_score(y_test, KNNTclf_pred),'\\n',\n",
    "      \"Kappa\",skm.cohen_kappa_score(y_test, KNNTclf_pred),'\\n',\n",
    "      \"Precision Score\",skm.precision_score(y_test,KNNTclf_pred))"
   ]
  },
  {
   "cell_type": "markdown",
   "metadata": {},
   "source": [
    "##### ***K-Nearest Neighbor Classifier*** \n",
    "accuracy 0.778333333333 \n",
    "\n",
    "average_precision_score 0.23393596816 \n",
    "\n",
    "Kappa 0.0400284863727 \n",
    "\n",
    "Precision Score 0.537878787879"
   ]
  },
  {
   "cell_type": "markdown",
   "metadata": {},
   "source": [
    "# SVM\n",
    "http://scikit-learn.org/stable/modules/svm.html#classification\n",
    "\n",
    "SVC(C=1.0, kernel=’rbf’, degree=3, gamma=’auto’, coef0=0.0, shrinking=True, probability=False, tol=0.001, cache_size=200, class_weight=None, verbose=False, max_iter=-1, decision_function_shape=’ovr’, random_state=None)"
   ]
  },
  {
   "cell_type": "code",
   "execution_count": null,
   "metadata": {
    "collapsed": true
   },
   "outputs": [],
   "source": [
    "parameters = {'kernel':('linear', 'rbf'), 'C':[1, 10]}"
   ]
  },
  {
   "cell_type": "code",
   "execution_count": null,
   "metadata": {
    "collapsed": true
   },
   "outputs": [],
   "source": [
    "svc = svm.SVC()"
   ]
  },
  {
   "cell_type": "code",
   "execution_count": null,
   "metadata": {
    "collapsed": true
   },
   "outputs": [],
   "source": [
    "SVM = GridSearchCV(svc, parameters,cv = 10, scoring = 'accuracy')"
   ]
  },
  {
   "cell_type": "code",
   "execution_count": null,
   "metadata": {
    "collapsed": true
   },
   "outputs": [],
   "source": [
    "SVM_clf=SVM.fit(X_train, y_train)"
   ]
  },
  {
   "cell_type": "code",
   "execution_count": null,
   "metadata": {
    "collapsed": true
   },
   "outputs": [],
   "source": [
    "SVM_clf.get_params()"
   ]
  },
  {
   "cell_type": "code",
   "execution_count": null,
   "metadata": {
    "collapsed": true
   },
   "outputs": [],
   "source": [
    "sorted(SVM_clf.cv_results_.keys())"
   ]
  },
  {
   "cell_type": "code",
   "execution_count": null,
   "metadata": {
    "collapsed": true
   },
   "outputs": [],
   "source": [
    "SVM_clf_pred = SVM_clf.predict(X_test)"
   ]
  },
  {
   "cell_type": "code",
   "execution_count": null,
   "metadata": {
    "collapsed": true
   },
   "outputs": [],
   "source": [
    "# best model\n",
    "\n",
    "print('Score:',SVM_clf.best_score_,'\\n','\\n',\n",
    "'Parameters','\\n',SVM_clf.best_params_,'\\n','\\n',\n",
    "'Estimator:','\\n',SVM_clf.best_estimator_)"
   ]
  },
  {
   "cell_type": "code",
   "execution_count": null,
   "metadata": {
    "collapsed": true
   },
   "outputs": [],
   "source": [
    "print(\" ***K-Nearest Neighbor Classifier***\",\"\\n\",\n",
    "      \"accuracy\",skm.accuracy_score(y_test, SVM_clf_pred),'\\n',\n",
    "      \"average_precision_score\",skm.average_precision_score(y_test, SVM_clf_pred),'\\n',\n",
    "      \"Kappa\",skm.cohen_kappa_score(y_test, SVM_clf_pred),'\\n',\n",
    "      \"Precision Score\",skm.precision_score(y_test,SVM_clf_pred))"
   ]
  }
 ],
 "metadata": {
  "kernelspec": {
   "display_name": "Python 3",
   "language": "python",
   "name": "python3"
  },
  "language_info": {
   "codemirror_mode": {
    "name": "ipython",
    "version": 3
   },
   "file_extension": ".py",
   "mimetype": "text/x-python",
   "name": "python",
   "nbconvert_exporter": "python",
   "pygments_lexer": "ipython3",
   "version": "3.6.3"
  }
 },
 "nbformat": 4,
 "nbformat_minor": 2
}
