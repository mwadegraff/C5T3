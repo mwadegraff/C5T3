{
 "cells": [
  {
   "cell_type": "markdown",
   "metadata": {},
   "source": [
    "# Task 3 Classification project"
   ]
  },
  {
   "cell_type": "code",
   "execution_count": 7,
   "metadata": {
    "collapsed": true
   },
   "outputs": [],
   "source": [
    "#enable auto complete\n",
    "%config IPCompleter.greedy=True"
   ]
  },
  {
   "cell_type": "code",
   "execution_count": 1,
   "metadata": {
    "collapsed": true
   },
   "outputs": [],
   "source": [
    "#import libraries\n",
    "import os, scipy\n",
    "import numpy as np\n",
    "import pandas as pd \n",
    "import matplotlib.pyplot as plt\n",
    "from math import sqrt\n",
    "\n",
    "#sklearn models\n",
    "from sklearn.ensemble import RandomForestClassifier\n",
    "from sklearn.neighbors import KNeighborsClassifier \n",
    "from sklearn.model_selection import train_test_split, GridSearchCV, RandomizedSearchCV\n",
    "from sklearn.svm import SVC\n",
    "\n",
    "#model metrics\n",
    "from sklearn.metrics import mean_squared_error, r2_score, roc_curve, f1_score, confusion_matrix, classification_report\n",
    "from sklearn.model_selection import cross_val_score\n",
    "from sklearn.pipeline import Pipeline, make_pipeline\n",
    "\n",
    "#dimension reduction\n",
    "from sklearn.preprocessing import StandardScaler\n",
    "from sklearn.decomposition import PCA\n"
   ]
  },
  {
   "cell_type": "code",
   "execution_count": 9,
   "metadata": {},
   "outputs": [
    {
     "name": "stdout",
     "output_type": "stream",
     "text": [
      "<class 'pandas.core.frame.DataFrame'>\n",
      "RangeIndex: 30000 entries, 0 to 29999\n",
      "Data columns (total 25 columns):\n",
      "LIMIT_BAL                     30000 non-null int64\n",
      "SEX                           30000 non-null int8\n",
      "EDUCATION                     30000 non-null int8\n",
      "MARRIAGE                      30000 non-null int8\n",
      "AGE                           30000 non-null int64\n",
      "demo_age                      30000 non-null int8\n",
      "Sep_paid_status               30000 non-null int64\n",
      "Aug_paid_status               30000 non-null int8\n",
      "July_paid_status              30000 non-null int8\n",
      "Jun_paid_status               30000 non-null int8\n",
      "May_paid_status               30000 non-null int8\n",
      "Apr_paid_status               30000 non-null int8\n",
      "Sep_bill_amt                  30000 non-null int64\n",
      "Aug_bill_amt                  30000 non-null int64\n",
      "July__bill_amt                30000 non-null int64\n",
      "June__bill_amt                30000 non-null int64\n",
      "May_bill_amt                  30000 non-null int64\n",
      "Apr_bill_amt                  30000 non-null int64\n",
      "Sep_paid_amount               30000 non-null int64\n",
      "Aug_paid_amount               30000 non-null int64\n",
      "July_paid_amount              30000 non-null int64\n",
      "June_paid_amount              30000 non-null int64\n",
      "May_paid_amount               30000 non-null int64\n",
      "Apr_paid_amount               30000 non-null int64\n",
      "default payment next month    30000 non-null int8\n",
      "dtypes: int64(15), int8(10)\n",
      "memory usage: 3.7 MB\n"
     ]
    },
    {
     "data": {
      "text/html": [
       "<div>\n",
       "<style scoped>\n",
       "    .dataframe tbody tr th:only-of-type {\n",
       "        vertical-align: middle;\n",
       "    }\n",
       "\n",
       "    .dataframe tbody tr th {\n",
       "        vertical-align: top;\n",
       "    }\n",
       "\n",
       "    .dataframe thead th {\n",
       "        text-align: right;\n",
       "    }\n",
       "</style>\n",
       "<table border=\"1\" class=\"dataframe\">\n",
       "  <thead>\n",
       "    <tr style=\"text-align: right;\">\n",
       "      <th></th>\n",
       "      <th>LIMIT_BAL</th>\n",
       "      <th>SEX</th>\n",
       "      <th>EDUCATION</th>\n",
       "      <th>MARRIAGE</th>\n",
       "      <th>AGE</th>\n",
       "      <th>demo_age</th>\n",
       "      <th>Sep_paid_status</th>\n",
       "      <th>Aug_paid_status</th>\n",
       "      <th>July_paid_status</th>\n",
       "      <th>Jun_paid_status</th>\n",
       "      <th>...</th>\n",
       "      <th>June__bill_amt</th>\n",
       "      <th>May_bill_amt</th>\n",
       "      <th>Apr_bill_amt</th>\n",
       "      <th>Sep_paid_amount</th>\n",
       "      <th>Aug_paid_amount</th>\n",
       "      <th>July_paid_amount</th>\n",
       "      <th>June_paid_amount</th>\n",
       "      <th>May_paid_amount</th>\n",
       "      <th>Apr_paid_amount</th>\n",
       "      <th>default payment next month</th>\n",
       "    </tr>\n",
       "  </thead>\n",
       "  <tbody>\n",
       "    <tr>\n",
       "      <th>count</th>\n",
       "      <td>30000.000000</td>\n",
       "      <td>30000.000000</td>\n",
       "      <td>30000.000000</td>\n",
       "      <td>30000.000000</td>\n",
       "      <td>30000.000000</td>\n",
       "      <td>30000.000000</td>\n",
       "      <td>30000.000000</td>\n",
       "      <td>30000.000000</td>\n",
       "      <td>30000.000000</td>\n",
       "      <td>30000.000000</td>\n",
       "      <td>...</td>\n",
       "      <td>30000.000000</td>\n",
       "      <td>30000.000000</td>\n",
       "      <td>30000.000000</td>\n",
       "      <td>30000.000000</td>\n",
       "      <td>3.000000e+04</td>\n",
       "      <td>30000.00000</td>\n",
       "      <td>30000.000000</td>\n",
       "      <td>30000.000000</td>\n",
       "      <td>30000.000000</td>\n",
       "      <td>30000.000000</td>\n",
       "    </tr>\n",
       "    <tr>\n",
       "      <th>mean</th>\n",
       "      <td>167484.322667</td>\n",
       "      <td>1.603733</td>\n",
       "      <td>1.842267</td>\n",
       "      <td>1.551867</td>\n",
       "      <td>35.485500</td>\n",
       "      <td>32.049600</td>\n",
       "      <td>-0.016700</td>\n",
       "      <td>-0.133767</td>\n",
       "      <td>-0.166200</td>\n",
       "      <td>-0.220667</td>\n",
       "      <td>...</td>\n",
       "      <td>43262.948967</td>\n",
       "      <td>40311.400967</td>\n",
       "      <td>38871.760400</td>\n",
       "      <td>5663.580500</td>\n",
       "      <td>5.921163e+03</td>\n",
       "      <td>5225.68150</td>\n",
       "      <td>4826.076867</td>\n",
       "      <td>4799.387633</td>\n",
       "      <td>5215.502567</td>\n",
       "      <td>0.221200</td>\n",
       "    </tr>\n",
       "    <tr>\n",
       "      <th>std</th>\n",
       "      <td>129747.661567</td>\n",
       "      <td>0.489129</td>\n",
       "      <td>0.744494</td>\n",
       "      <td>0.521970</td>\n",
       "      <td>9.217904</td>\n",
       "      <td>9.454042</td>\n",
       "      <td>1.123802</td>\n",
       "      <td>1.197186</td>\n",
       "      <td>1.196868</td>\n",
       "      <td>1.169139</td>\n",
       "      <td>...</td>\n",
       "      <td>64332.856134</td>\n",
       "      <td>60797.155770</td>\n",
       "      <td>59554.107537</td>\n",
       "      <td>16563.280354</td>\n",
       "      <td>2.304087e+04</td>\n",
       "      <td>17606.96147</td>\n",
       "      <td>15666.159744</td>\n",
       "      <td>15278.305679</td>\n",
       "      <td>17777.465775</td>\n",
       "      <td>0.415062</td>\n",
       "    </tr>\n",
       "    <tr>\n",
       "      <th>min</th>\n",
       "      <td>10000.000000</td>\n",
       "      <td>1.000000</td>\n",
       "      <td>1.000000</td>\n",
       "      <td>0.000000</td>\n",
       "      <td>21.000000</td>\n",
       "      <td>20.000000</td>\n",
       "      <td>-2.000000</td>\n",
       "      <td>-2.000000</td>\n",
       "      <td>-2.000000</td>\n",
       "      <td>-2.000000</td>\n",
       "      <td>...</td>\n",
       "      <td>-170000.000000</td>\n",
       "      <td>-81334.000000</td>\n",
       "      <td>-339603.000000</td>\n",
       "      <td>0.000000</td>\n",
       "      <td>0.000000e+00</td>\n",
       "      <td>0.00000</td>\n",
       "      <td>0.000000</td>\n",
       "      <td>0.000000</td>\n",
       "      <td>0.000000</td>\n",
       "      <td>0.000000</td>\n",
       "    </tr>\n",
       "    <tr>\n",
       "      <th>25%</th>\n",
       "      <td>50000.000000</td>\n",
       "      <td>1.000000</td>\n",
       "      <td>1.000000</td>\n",
       "      <td>1.000000</td>\n",
       "      <td>28.000000</td>\n",
       "      <td>26.000000</td>\n",
       "      <td>-1.000000</td>\n",
       "      <td>-1.000000</td>\n",
       "      <td>-1.000000</td>\n",
       "      <td>-1.000000</td>\n",
       "      <td>...</td>\n",
       "      <td>2326.750000</td>\n",
       "      <td>1763.000000</td>\n",
       "      <td>1256.000000</td>\n",
       "      <td>1000.000000</td>\n",
       "      <td>8.330000e+02</td>\n",
       "      <td>390.00000</td>\n",
       "      <td>296.000000</td>\n",
       "      <td>252.500000</td>\n",
       "      <td>117.750000</td>\n",
       "      <td>0.000000</td>\n",
       "    </tr>\n",
       "    <tr>\n",
       "      <th>50%</th>\n",
       "      <td>140000.000000</td>\n",
       "      <td>2.000000</td>\n",
       "      <td>2.000000</td>\n",
       "      <td>2.000000</td>\n",
       "      <td>34.000000</td>\n",
       "      <td>32.000000</td>\n",
       "      <td>0.000000</td>\n",
       "      <td>0.000000</td>\n",
       "      <td>0.000000</td>\n",
       "      <td>0.000000</td>\n",
       "      <td>...</td>\n",
       "      <td>19052.000000</td>\n",
       "      <td>18104.500000</td>\n",
       "      <td>17071.000000</td>\n",
       "      <td>2100.000000</td>\n",
       "      <td>2.009000e+03</td>\n",
       "      <td>1800.00000</td>\n",
       "      <td>1500.000000</td>\n",
       "      <td>1500.000000</td>\n",
       "      <td>1500.000000</td>\n",
       "      <td>0.000000</td>\n",
       "    </tr>\n",
       "    <tr>\n",
       "      <th>75%</th>\n",
       "      <td>240000.000000</td>\n",
       "      <td>2.000000</td>\n",
       "      <td>2.000000</td>\n",
       "      <td>2.000000</td>\n",
       "      <td>41.000000</td>\n",
       "      <td>38.000000</td>\n",
       "      <td>0.000000</td>\n",
       "      <td>0.000000</td>\n",
       "      <td>0.000000</td>\n",
       "      <td>0.000000</td>\n",
       "      <td>...</td>\n",
       "      <td>54506.000000</td>\n",
       "      <td>50190.500000</td>\n",
       "      <td>49198.250000</td>\n",
       "      <td>5006.000000</td>\n",
       "      <td>5.000000e+03</td>\n",
       "      <td>4505.00000</td>\n",
       "      <td>4013.250000</td>\n",
       "      <td>4031.500000</td>\n",
       "      <td>4000.000000</td>\n",
       "      <td>0.000000</td>\n",
       "    </tr>\n",
       "    <tr>\n",
       "      <th>max</th>\n",
       "      <td>1000000.000000</td>\n",
       "      <td>2.000000</td>\n",
       "      <td>4.000000</td>\n",
       "      <td>3.000000</td>\n",
       "      <td>79.000000</td>\n",
       "      <td>74.000000</td>\n",
       "      <td>8.000000</td>\n",
       "      <td>8.000000</td>\n",
       "      <td>8.000000</td>\n",
       "      <td>8.000000</td>\n",
       "      <td>...</td>\n",
       "      <td>891586.000000</td>\n",
       "      <td>927171.000000</td>\n",
       "      <td>961664.000000</td>\n",
       "      <td>873552.000000</td>\n",
       "      <td>1.684259e+06</td>\n",
       "      <td>896040.00000</td>\n",
       "      <td>621000.000000</td>\n",
       "      <td>426529.000000</td>\n",
       "      <td>528666.000000</td>\n",
       "      <td>1.000000</td>\n",
       "    </tr>\n",
       "  </tbody>\n",
       "</table>\n",
       "<p>8 rows × 25 columns</p>\n",
       "</div>"
      ],
      "text/plain": [
       "            LIMIT_BAL           SEX     EDUCATION      MARRIAGE           AGE  \\\n",
       "count    30000.000000  30000.000000  30000.000000  30000.000000  30000.000000   \n",
       "mean    167484.322667      1.603733      1.842267      1.551867     35.485500   \n",
       "std     129747.661567      0.489129      0.744494      0.521970      9.217904   \n",
       "min      10000.000000      1.000000      1.000000      0.000000     21.000000   \n",
       "25%      50000.000000      1.000000      1.000000      1.000000     28.000000   \n",
       "50%     140000.000000      2.000000      2.000000      2.000000     34.000000   \n",
       "75%     240000.000000      2.000000      2.000000      2.000000     41.000000   \n",
       "max    1000000.000000      2.000000      4.000000      3.000000     79.000000   \n",
       "\n",
       "           demo_age  Sep_paid_status  Aug_paid_status  July_paid_status  \\\n",
       "count  30000.000000     30000.000000     30000.000000      30000.000000   \n",
       "mean      32.049600        -0.016700        -0.133767         -0.166200   \n",
       "std        9.454042         1.123802         1.197186          1.196868   \n",
       "min       20.000000        -2.000000        -2.000000         -2.000000   \n",
       "25%       26.000000        -1.000000        -1.000000         -1.000000   \n",
       "50%       32.000000         0.000000         0.000000          0.000000   \n",
       "75%       38.000000         0.000000         0.000000          0.000000   \n",
       "max       74.000000         8.000000         8.000000          8.000000   \n",
       "\n",
       "       Jun_paid_status             ...              June__bill_amt  \\\n",
       "count     30000.000000             ...                30000.000000   \n",
       "mean         -0.220667             ...                43262.948967   \n",
       "std           1.169139             ...                64332.856134   \n",
       "min          -2.000000             ...              -170000.000000   \n",
       "25%          -1.000000             ...                 2326.750000   \n",
       "50%           0.000000             ...                19052.000000   \n",
       "75%           0.000000             ...                54506.000000   \n",
       "max           8.000000             ...               891586.000000   \n",
       "\n",
       "        May_bill_amt   Apr_bill_amt  Sep_paid_amount  Aug_paid_amount  \\\n",
       "count   30000.000000   30000.000000     30000.000000     3.000000e+04   \n",
       "mean    40311.400967   38871.760400      5663.580500     5.921163e+03   \n",
       "std     60797.155770   59554.107537     16563.280354     2.304087e+04   \n",
       "min    -81334.000000 -339603.000000         0.000000     0.000000e+00   \n",
       "25%      1763.000000    1256.000000      1000.000000     8.330000e+02   \n",
       "50%     18104.500000   17071.000000      2100.000000     2.009000e+03   \n",
       "75%     50190.500000   49198.250000      5006.000000     5.000000e+03   \n",
       "max    927171.000000  961664.000000    873552.000000     1.684259e+06   \n",
       "\n",
       "       July_paid_amount  June_paid_amount  May_paid_amount  Apr_paid_amount  \\\n",
       "count       30000.00000      30000.000000     30000.000000     30000.000000   \n",
       "mean         5225.68150       4826.076867      4799.387633      5215.502567   \n",
       "std         17606.96147      15666.159744     15278.305679     17777.465775   \n",
       "min             0.00000          0.000000         0.000000         0.000000   \n",
       "25%           390.00000        296.000000       252.500000       117.750000   \n",
       "50%          1800.00000       1500.000000      1500.000000      1500.000000   \n",
       "75%          4505.00000       4013.250000      4031.500000      4000.000000   \n",
       "max        896040.00000     621000.000000    426529.000000    528666.000000   \n",
       "\n",
       "       default payment next month  \n",
       "count                30000.000000  \n",
       "mean                     0.221200  \n",
       "std                      0.415062  \n",
       "min                      0.000000  \n",
       "25%                      0.000000  \n",
       "50%                      0.000000  \n",
       "75%                      0.000000  \n",
       "max                      1.000000  \n",
       "\n",
       "[8 rows x 25 columns]"
      ]
     },
     "execution_count": 9,
     "metadata": {},
     "output_type": "execute_result"
    }
   ],
   "source": [
    "#import dataset\n",
    "df_credit = pd.read_csv('cleaned_bank_data.csv', index_col = False)\n",
    "\n",
    "#fix data types\n",
    "cat_list = [df_credit.SEX, df_credit.EDUCATION, df_credit.MARRIAGE, df_credit.Aug_paid_status, df_credit.July_paid_status, df_credit.Jun_paid_status, df_credit.May_paid_status, df_credit.Apr_paid_status, df_credit['default payment next month'], df_credit.demo_age]\n",
    "df_credit.SEX, df_credit.EDUCATION, df_credit.MARRIAGE, df_credit.Aug_paid_status, df_credit.July_paid_status, df_credit.Jun_paid_status, df_credit.May_paid_status, df_credit.Apr_paid_status, df_credit['default payment next month'], df_credit.demo_age = [x.astype('int8') for x in cat_list]\n",
    "df_credit.info()\n",
    "df_credit.describe()"
   ]
  },
  {
   "cell_type": "code",
   "execution_count": 11,
   "metadata": {},
   "outputs": [
    {
     "data": {
      "text/html": [
       "<div>\n",
       "<style scoped>\n",
       "    .dataframe tbody tr th:only-of-type {\n",
       "        vertical-align: middle;\n",
       "    }\n",
       "\n",
       "    .dataframe tbody tr th {\n",
       "        vertical-align: top;\n",
       "    }\n",
       "\n",
       "    .dataframe thead th {\n",
       "        text-align: right;\n",
       "    }\n",
       "</style>\n",
       "<table border=\"1\" class=\"dataframe\">\n",
       "  <thead>\n",
       "    <tr style=\"text-align: right;\">\n",
       "      <th></th>\n",
       "      <th>LIMIT_BAL</th>\n",
       "      <th>SEX</th>\n",
       "      <th>EDUCATION</th>\n",
       "      <th>MARRIAGE</th>\n",
       "      <th>AGE</th>\n",
       "      <th>demo_age</th>\n",
       "      <th>Sep_paid_status</th>\n",
       "      <th>Aug_paid_status</th>\n",
       "      <th>July_paid_status</th>\n",
       "      <th>Jun_paid_status</th>\n",
       "      <th>...</th>\n",
       "      <th>Apr_paid_status</th>\n",
       "      <th>Sep_bill_amt</th>\n",
       "      <th>Apr_bill_amt</th>\n",
       "      <th>Sep_paid_amount</th>\n",
       "      <th>Aug_paid_amount</th>\n",
       "      <th>July_paid_amount</th>\n",
       "      <th>June_paid_amount</th>\n",
       "      <th>May_paid_amount</th>\n",
       "      <th>Apr_paid_amount</th>\n",
       "      <th>default payment next month</th>\n",
       "    </tr>\n",
       "  </thead>\n",
       "  <tbody>\n",
       "    <tr>\n",
       "      <th>0</th>\n",
       "      <td>20000</td>\n",
       "      <td>2</td>\n",
       "      <td>2</td>\n",
       "      <td>1</td>\n",
       "      <td>24</td>\n",
       "      <td>20</td>\n",
       "      <td>2</td>\n",
       "      <td>2</td>\n",
       "      <td>-1</td>\n",
       "      <td>-1</td>\n",
       "      <td>...</td>\n",
       "      <td>-2</td>\n",
       "      <td>3913</td>\n",
       "      <td>0</td>\n",
       "      <td>0</td>\n",
       "      <td>689</td>\n",
       "      <td>0</td>\n",
       "      <td>0</td>\n",
       "      <td>0</td>\n",
       "      <td>0</td>\n",
       "      <td>1</td>\n",
       "    </tr>\n",
       "  </tbody>\n",
       "</table>\n",
       "<p>1 rows × 21 columns</p>\n",
       "</div>"
      ],
      "text/plain": [
       "   LIMIT_BAL  SEX  EDUCATION  MARRIAGE  AGE  demo_age  Sep_paid_status  \\\n",
       "0      20000    2          2         1   24        20                2   \n",
       "\n",
       "   Aug_paid_status  July_paid_status  Jun_paid_status  \\\n",
       "0                2                -1               -1   \n",
       "\n",
       "              ...              Apr_paid_status  Sep_bill_amt  Apr_bill_amt  \\\n",
       "0             ...                           -2          3913             0   \n",
       "\n",
       "   Sep_paid_amount  Aug_paid_amount  July_paid_amount  June_paid_amount  \\\n",
       "0                0              689                 0                 0   \n",
       "\n",
       "   May_paid_amount  Apr_paid_amount  default payment next month  \n",
       "0                0                0                           1  \n",
       "\n",
       "[1 rows x 21 columns]"
      ]
     },
     "execution_count": 11,
     "metadata": {},
     "output_type": "execute_result"
    }
   ],
   "source": [
    "#removed the following based on correlation matrix generated in T2, all columns below had over 85 % correlation/colinearity with Sep bill amount\n",
    "df_credit = df_credit.drop(columns = ['Aug_bill_amt', 'July__bill_amt', 'June__bill_amt', 'May_bill_amt'])\n",
    "df_credit.head(1)"
   ]
  },
  {
   "cell_type": "code",
   "execution_count": 15,
   "metadata": {},
   "outputs": [
    {
     "name": "stdout",
     "output_type": "stream",
     "text": [
      "   LIMIT_BAL  SEX  EDUCATION  MARRIAGE  AGE  demo_age  Sep_paid_status  \\\n",
      "0      20000    2          2         1   24        20                2   \n",
      "\n",
      "   Aug_paid_status  July_paid_status  Jun_paid_status  May_paid_status  \\\n",
      "0                2                -1               -1               -2   \n",
      "\n",
      "   Apr_paid_status  Sep_bill_amt  Apr_bill_amt  Sep_paid_amount  \\\n",
      "0               -2          3913             0                0   \n",
      "\n",
      "   Aug_paid_amount  July_paid_amount  June_paid_amount  May_paid_amount  \\\n",
      "0              689                 0                 0                0   \n",
      "\n",
      "   Apr_paid_amount  \n",
      "0                0  \n"
     ]
    }
   ],
   "source": [
    "# establish features and dependent variable\n",
    "df_features = df_credit.iloc[:,:-1]\n",
    "print(df_features.head(1))\n",
    "\n",
    "dep_var = df_credit['default payment next month']"
   ]
  },
  {
   "cell_type": "code",
   "execution_count": 16,
   "metadata": {},
   "outputs": [
    {
     "data": {
      "image/png": "[encoded data removed]",
      "text/plain": [
       "<matplotlib.figure.Figure at 0x112171b70>"
      ]
     },
     "metadata": {},
     "output_type": "display_data"
    }
   ],
   "source": [
    "# addition PCA reduction, which requires scaled features\n",
    "X = StandardScaler().fit_transform(df_features)\n",
    "pca = PCA()\n",
    "pca.fit(X)\n",
    "features = range(pca.n_components_)\n",
    "plt.bar(features, pca.explained_variance_)\n",
    "plt.xticks(features)\n",
    "plt.ylabel('variance')\n",
    "plt.xlabel('PCA feature')\n",
    "plt.show()\n",
    "\n",
    "\n",
    "# from graph, pick PCA(n_components = 3)"
   ]
  },
  {
   "cell_type": "code",
   "execution_count": 17,
   "metadata": {
    "collapsed": true
   },
   "outputs": [],
   "source": [
    "#test train split\n",
    "features = df_credit.iloc[:,:-1]\n",
    "y = df_credit['default payment next month']\n",
    "X_train, X_test, y_train, y_test = train_test_split(features, y, test_size = 0.30, random_state =123)"
   ]
  },
  {
   "cell_type": "code",
   "execution_count": 18,
   "metadata": {},
   "outputs": [
    {
     "name": "stdout",
     "output_type": "stream",
     "text": [
      "4.59 s ± 186 ms per loop (mean ± std. dev. of 7 runs, 1 loop each)\n",
      "Tuned knn parameters: {'kneighborsclassifier__n_neighbors': 20}\n",
      "Best score is 0.8032380952380952\n"
     ]
    }
   ],
   "source": [
    "#standardized KNN\n",
    "knn_clf = make_pipeline(StandardScaler(), PCA(n_components=3), KNeighborsClassifier())\n",
    "#print(sorted(knn_clf.get_params().keys()))\n",
    "\n",
    "knn_grid = {'kneighborsclassifier__n_neighbors':np.arange(5,25,5)}\n",
    "knn_cv = GridSearchCV(knn_clf, param_grid = knn_grid, cv = 5)\n",
    "%timeit knn_cv.fit(X_train, y_train)\n",
    "print(\"Tuned knn parameters: {}\".format(knn_cv.best_params_))\n",
    "print(\"Best score is {}\".format(knn_cv.best_score_))"
   ]
  },
  {
   "cell_type": "code",
   "execution_count": 19,
   "metadata": {},
   "outputs": [
    {
     "name": "stdout",
     "output_type": "stream",
     "text": [
      "23.4 s ± 270 ms per loop (mean ± std. dev. of 7 runs, 1 loop each)\n",
      "Tuned rf parameters: {'randomforestclassifier__criterion': 'entropy', 'randomforestclassifier__n_estimators': 16}\n",
      "Best score is 0.7916666666666666\n"
     ]
    }
   ],
   "source": [
    "#prints pipelinekeys\n",
    "#print(sorted(rf_clf.get_params().keys()))\n",
    "\n",
    "#standardized, PCA pipeline\n",
    "\n",
    "rf_clf = make_pipeline(StandardScaler(), PCA(n_components=3),RandomForestClassifier(random_state = 123))\n",
    "param_grid = {'randomforestclassifier__n_estimators': np.arange(1, 25, 5),\n",
    "             'randomforestclassifier__criterion': [\"gini\", \"entropy\"]}\n",
    "rf_cv = GridSearchCV(rf_clf, param_grid, cv = 5)\n",
    "%timeit rf_cv.fit(X_train, y_train)\n",
    "\n",
    "print(\"Tuned rf parameters: {}\".format(rf_cv.best_params_))\n",
    "print(\"Best score is {}\".format(rf_cv.best_score_))"
   ]
  },
  {
   "cell_type": "code",
   "execution_count": 24,
   "metadata": {},
   "outputs": [
    {
     "name": "stdout",
     "output_type": "stream",
     "text": [
      "Tuned svc parameters: {'svc__C': 1, 'svc__kernel': 'rbf'}\n",
      "Best score is 0.8061428571428572\n"
     ]
    }
   ],
   "source": [
    "svc_clf = make_pipeline(StandardScaler(), PCA(n_components=3), SVC(random_state = 123))\n",
    "#print(sorted(svc_clf.get_params().keys()))\n",
    "svc_grid = {'svc__kernel':['linear', 'rbf'],'svc__C':np.arange(1,11, 1)}\n",
    "svc_cv = GridSearchCV(svc_clf, param_grid = svc_grid, cv = 5)\n",
    "svc_cv.fit(X_train,y_train)\n",
    "\n",
    "print(\"Tuned svc parameters: {}\".format(svc_cv.best_params_))\n",
    "print(\"Best score is {}\".format(svc_cv.best_score_))\n",
    "\n"
   ]
  },
  {
   "cell_type": "code",
   "execution_count": 27,
   "metadata": {},
   "outputs": [
    {
     "name": "stdout",
     "output_type": "stream",
     "text": [
      "[0.7986002  0.80671429 0.80282898]\n",
      "0.813047619047619\n",
      "[0.79774318 0.80728571 0.80282898]\n",
      "0.812952380952381\n",
      "[0.79817169 0.807      0.80282898]\n",
      "0.813047619047619\n"
     ]
    }
   ],
   "source": [
    "rf = make_pipeline(StandardScaler(), PCA(n_components=3), RandomForestClassifier(criterion='entropy', n_estimators=16))\n",
    "svc = make_pipeline(StandardScaler(), PCA(n_components=3), SVC(random_state = 123, C = 1, kernel='rbf'))\n",
    "knn = make_pipeline(StandardScaler(), PCA(n_components=3), KNeighborsClassifier(n_neighbors = 20))\n",
    "l_models = [knn, rf, svc]\n",
    "\n",
    "for c,value in enumerate(l_models):\n",
    "    i.fit(X_train,y_train)\n",
    "    print(cross_val_score(i, X_train, y_train))\n",
    "    print(i.score(X_train,y_train))\n"
   ]
  },
  {
   "cell_type": "markdown",
   "metadata": {},
   "source": [
    "# do graph of training vs test accuracy to look for signs of overfit"
   ]
  },
  {
   "cell_type": "markdown",
   "metadata": {},
   "source": [
    "## RF shows signs of overfitting  "
   ]
  },
  {
   "cell_type": "code",
   "execution_count": 29,
   "metadata": {},
   "outputs": [
    {
     "data": {
      "image/png": "[encoded data removed]",
      "text/plain": [
       "<matplotlib.figure.Figure at 0x1a22a13198>"
      ]
     },
     "metadata": {},
     "output_type": "display_data"
    }
   ],
   "source": [
    "estimators = np.arange(1,25, 5)\n",
    "train_acc = np.empty(len(estimators))\n",
    "test_acc = np.empty(len(estimators))\n",
    "\n",
    "for counter, values in enumerate(estimators):\n",
    "    rf = make_pipeline(StandardScaler(),PCA(n_components= 3),RandomForestClassifier(n_estimators=values, criterion='entropy'))\n",
    "    rf.fit(X_train, y_train)\n",
    "    train_acc[counter] = rf.score(X_train, y_train)\n",
    "    test_acc[counter] = rf.score(X_test, y_test)\n",
    "\n",
    "plt.title('RF : Accuracy')\n",
    "plt.plot(estimators, test_acc, label = 'Testing Accuracy')\n",
    "plt.plot(estimators, train_acc, label = 'Training Accuracy')\n",
    "plt.legend()\n",
    "plt.xlabel('Number of Decision trees')\n",
    "plt.ylabel('Accuracy')\n",
    "plt.show()"
   ]
  },
  {
   "cell_type": "markdown",
   "metadata": {},
   "source": [
    "## KNN is the optimal model"
   ]
  },
  {
   "cell_type": "code",
   "execution_count": 22,
   "metadata": {},
   "outputs": [
    {
     "data": {
      "image/png": "[encoded data removed]",
      "text/plain": [
       "<matplotlib.figure.Figure at 0x1a13221550>"
      ]
     },
     "metadata": {},
     "output_type": "display_data"
    }
   ],
   "source": [
    "neighbors = np.arange(5,40, 5)\n",
    "train_acc = np.empty(len(neighbors))\n",
    "test_acc = np.empty(len(neighbors))\n",
    "\n",
    "# test different K values\n",
    "\n",
    "for counter, values in enumerate(neighbors):\n",
    "    knn = make_pipeline(StandardScaler(),PCA(n_components=3),KNeighborsClassifier(n_neighbors=values))\n",
    "    knn.fit(X_train, y_train)\n",
    "    train_acc[counter] = knn.score(X_train, y_train)\n",
    "    test_acc[counter] = knn.score(X_test, y_test)\n",
    "\n",
    "### generate accuracy plot\n",
    "plt.title('KNN: Accuracy')\n",
    "plt.plot(neighbors, test_acc, label = 'Testing Accuracy')\n",
    "plt.plot(neighbors, train_acc, label = 'Training Accuracy')\n",
    "plt.legend()\n",
    "plt.xlabel('Number of Neighbors')\n",
    "plt.ylabel('Accuracy')\n",
    "plt.show()"
   ]
  },
  {
   "cell_type": "code",
   "execution_count": 27,
   "metadata": {},
   "outputs": [
    {
     "data": {
      "image/png": "[encoded data removed]",
      "text/plain": [
       "<matplotlib.figure.Figure at 0x1a137f7940>"
      ]
     },
     "metadata": {},
     "output_type": "display_data"
    }
   ],
   "source": [
    "estimators = np.logspace(-5,1, 10)\n",
    "train_acc = np.empty(len(estimators))\n",
    "test_acc = np.empty(len(estimators))\n",
    "\n",
    "for counter, values in enumerate(estimators):\n",
    "    svc = make_pipeline(StandardScaler(),PCA(n_components= 3),SVC(C=values, kernel='rbf'))\n",
    "    svc.fit(X_train, y_train)\n",
    "    train_acc[counter] = svc.score(X_train, y_train)\n",
    "    test_acc[counter] = svc.score(X_test, y_test)\n",
    "\n",
    "plt.title('SVC : Accuracy')\n",
    "plt.plot(estimators, test_acc, label = 'Testing Accuracy')\n",
    "plt.plot(estimators, train_acc, label = 'Training Accuracy')\n",
    "plt.legend()\n",
    "plt.xlabel('Number of C')\n",
    "plt.ylabel('Accuracy')\n",
    "plt.show()"
   ]
  },
  {
   "cell_type": "code",
   "execution_count": 37,
   "metadata": {},
   "outputs": [
    {
     "data": {
      "image/png": "[encoded data removed]",
      "text/plain": [
       "<matplotlib.figure.Figure at 0x10c19ddd8>"
      ]
     },
     "metadata": {},
     "output_type": "display_data"
    }
   ],
   "source": [
    "estimators = np.arange(.2,1.4, .2)\n",
    "train_acc = np.empty(len(estimators))\n",
    "test_acc = np.empty(len(estimators))\n",
    "\n",
    "for counter, values in enumerate(estimators):\n",
    "    svc = make_pipeline(StandardScaler(),PCA(n_components= 3),SVC(C=values,kernel='rbf'))\n",
    "    svc.fit(X_train, y_train)\n",
    "    train_acc[counter] = svc.score(X_train, y_train)\n",
    "    test_acc[counter] = svc.score(X_test, y_test)\n",
    "\n",
    "plt.title('SVC : Accuracy')\n",
    "plt.plot(estimators, test_acc, label = 'Testing Accuracy')\n",
    "plt.plot(estimators, train_acc, label = 'Training Accuracy')\n",
    "plt.legend()\n",
    "plt.xlabel('Number of C')\n",
    "plt.ylabel('Accuracy')\n",
    "plt.show()"
   ]
  },
  {
   "cell_type": "markdown",
   "metadata": {},
   "source": [
    "## model scoring"
   ]
  },
  {
   "cell_type": "markdown",
   "metadata": {},
   "source": [
    "# KNN with n = 20 is the optimal model.\n",
    "\n",
    "## It does not overfit the model and has better scores the SVC\n",
    "\n",
    "## Model predictions"
   ]
  },
  {
   "cell_type": "code",
   "execution_count": 54,
   "metadata": {},
   "outputs": [
    {
     "name": "stdout",
     "output_type": "stream",
     "text": [
      "F1 score: 0.379\n",
      "[[6672  380]\n",
      " [1403  545]]\n",
      "             precision    recall  f1-score   support\n",
      "\n",
      "          0       0.83      0.95      0.88      7052\n",
      "          1       0.59      0.28      0.38      1948\n",
      "\n",
      "avg / total       0.77      0.80      0.77      9000\n",
      "\n"
     ]
    }
   ],
   "source": [
    "knn = make_pipeline(StandardScaler(), PCA(n_components=3), KNeighborsClassifier(n_neighbors = 20))\n",
    "knn.fit(X_train, y_train)\n",
    "knn_pred = knn.predict(X_test)\n",
    "F1 = f1_score(y_test, knn_pred)\n",
    "\n",
    "print('F1 score: %.3f' % F1)\n",
    "print(confusion_matrix(y_test, knn_pred))\n",
    "print(classification_report(y_test, knn_pred))\n"
   ]
  },
  {
   "cell_type": "code",
   "execution_count": null,
   "metadata": {
    "collapsed": true
   },
   "outputs": [],
   "source": [
    "svc = make_pipeline(StandardScaler(), PCA(n_components=3), KNeighborsClassifier(n_neighbors = 20))\n",
    "knn.fit(X_train, y_train)\n",
    "knn_pred = knn.predict(X_test)\n",
    "F1 = f1_score(y_test, knn_pred)\n",
    "\n",
    "print('F1 score: %.3f' % F1)\n",
    "print(confusion_matrix(y_test, knn_pred))\n",
    "print(classification_report(y_test, knn_pred))\n"
   ]
  }
 ],
 "metadata": {
  "kernelspec": {
   "display_name": "Python 3",
   "language": "python",
   "name": "python3"
  },
  "language_info": {
   "codemirror_mode": {
    "name": "ipython",
    "version": 3
   },
   "file_extension": ".py",
   "mimetype": "text/x-python",
   "name": "python",
   "nbconvert_exporter": "python",
   "pygments_lexer": "ipython3",
   "version": "3.6.3"
  }
 },
 "nbformat": 4,
 "nbformat_minor": 2
}
